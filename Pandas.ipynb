{
 "cells": [
  {
   "cell_type": "markdown",
   "metadata": {
    "colab_type": "text",
    "id": "view-in-github"
   },
   "source": [
    "[![Open In Colab](https://colab.research.google.com/assets/colab-badge.svg)](https://colab.research.google.com/github/MauricioRR-Tec/Machine-Learning/blob/master/Notebooks/Pandas.ipynb)"
   ]
  },
  {
   "cell_type": "markdown",
   "metadata": {
    "colab_type": "text",
    "id": "CcO06esNJc49"
   },
   "source": [
    "# Pandas\n",
    "\n",
    "Pandas es un paquete de Python que provee dos estructuras de datos para el análisis de datos \"relacionales\" de manera rápida, flexible y expresiva. Pandas está construido sobre Numpy, por lo que muchas de las ventajas de utilizar Numpy se trasladan a Pandas.\n",
    "\n",
    "Pandas puede ser utilizado para trabajar con diferentes tipos de datos:\n",
    "\n",
    "* Tabulares, con datos en columnas que comparten un mismo tipo (por ejemplo, tablas de una base de datos y hojas de Excel).\n",
    "* Series de tiempo.\n",
    "* Matrices con columnas y filas etiquetadas.\n",
    "* Datos de experimentos estadísticos en general.\n"
   ]
  },
  {
   "cell_type": "code",
   "execution_count": 2,
   "metadata": {
    "colab": {},
    "colab_type": "code",
    "id": "3PmEICGYLh4Q"
   },
   "outputs": [],
   "source": [
    "#pd es el alias comun de pandas\n",
    "import pandas as pd\n",
    "import numpy as np"
   ]
  },
  {
   "cell_type": "markdown",
   "metadata": {
    "colab_type": "text",
    "id": "OTXIJU1jJoJx"
   },
   "source": [
    "# Estructuras"
   ]
  },
  {
   "cell_type": "markdown",
   "metadata": {
    "colab_type": "text",
    "id": "95kIZu4KJf14"
   },
   "source": [
    "## Series\n",
    "\n",
    "La primera estructura de datos de Pandas son las Series. Una Serie es utilizada para arreglos 1D etiquetados con un mismo tipo de dato en todos sus elementos. Una serie es un arreglo 1D donde cada elemento tiene asignado un índice:\n",
    "\n",
    "\n",
    "| index   || |\n",
    "|---||----|\n",
    "| a || s1 |\n",
    "| b || s2 |\n",
    "| c || s3 |\n",
    "| ... || ... |"
   ]
  },
  {
   "cell_type": "code",
   "execution_count": 3,
   "metadata": {
    "colab": {},
    "colab_type": "code",
    "id": "_lshPHLAJf_f"
   },
   "outputs": [
    {
     "data": {
      "text/plain": [
       "a    1\n",
       "b    1\n",
       "c    2\n",
       "d    3\n",
       "e    5\n",
       "dtype: int64"
      ]
     },
     "execution_count": 3,
     "metadata": {},
     "output_type": "execute_result"
    }
   ],
   "source": [
    "#un objeto series desde una lista\n",
    "s1 = pd.Series(data=[1, 1, 2, 3, 5], index=[\"a\", \"b\", \"c\", \"d\", \"e\"])\n",
    "s1"
   ]
  },
  {
   "cell_type": "markdown",
   "metadata": {
    "colab_type": "text",
    "id": "EIblWSe0JgIb"
   },
   "source": [
    "## Dataframe\n",
    "\n",
    "Los Dataframes son la segunda estructura en Pandas, éstos son utilizados para datos 2D etiquetados (columnas con nombres generalmente). Las columnas de un Dataframe pueden tener tipos de dato diferentes. Puedes pensar en un Dataframe  como un contenedor de Series, donde cada columna es una Serie (arreglo 1D con etiquetas). Un Dataframe puede representarse como una tabla donde cada fila tiene asignado un índice y cada columna un nombre:\n",
    "\n",
    "| index\\columns  || A  | B  | C  | D  |\n",
    "|---||----|----|----|----|\n",
    "| 1 || a1 | b1 | c1 | d1 |\n",
    "| 2 || a2 | b2 | c2 | d2 |\n",
    "| 3 || a3 | b3 | c3 | d3 |"
   ]
  },
  {
   "cell_type": "code",
   "execution_count": 4,
   "metadata": {
    "colab": {},
    "colab_type": "code",
    "id": "6BdTW6AVJgPx"
   },
   "outputs": [
    {
     "data": {
      "text/html": [
       "<div>\n",
       "<style scoped>\n",
       "    .dataframe tbody tr th:only-of-type {\n",
       "        vertical-align: middle;\n",
       "    }\n",
       "\n",
       "    .dataframe tbody tr th {\n",
       "        vertical-align: top;\n",
       "    }\n",
       "\n",
       "    .dataframe thead th {\n",
       "        text-align: right;\n",
       "    }\n",
       "</style>\n",
       "<table border=\"1\" class=\"dataframe\">\n",
       "  <thead>\n",
       "    <tr style=\"text-align: right;\">\n",
       "      <th></th>\n",
       "      <th>A</th>\n",
       "      <th>B</th>\n",
       "      <th>C</th>\n",
       "      <th>D</th>\n",
       "    </tr>\n",
       "  </thead>\n",
       "  <tbody>\n",
       "    <tr>\n",
       "      <th>0</th>\n",
       "      <td>-0.322548</td>\n",
       "      <td>-1.180704</td>\n",
       "      <td>-0.355703</td>\n",
       "      <td>-0.311673</td>\n",
       "    </tr>\n",
       "    <tr>\n",
       "      <th>1</th>\n",
       "      <td>-0.778796</td>\n",
       "      <td>-2.039098</td>\n",
       "      <td>0.691911</td>\n",
       "      <td>0.612186</td>\n",
       "    </tr>\n",
       "    <tr>\n",
       "      <th>2</th>\n",
       "      <td>1.176298</td>\n",
       "      <td>0.660746</td>\n",
       "      <td>0.531959</td>\n",
       "      <td>0.329838</td>\n",
       "    </tr>\n",
       "    <tr>\n",
       "      <th>3</th>\n",
       "      <td>-0.470426</td>\n",
       "      <td>-0.522078</td>\n",
       "      <td>-1.738459</td>\n",
       "      <td>1.195596</td>\n",
       "    </tr>\n",
       "    <tr>\n",
       "      <th>4</th>\n",
       "      <td>0.519461</td>\n",
       "      <td>-0.911834</td>\n",
       "      <td>-0.184067</td>\n",
       "      <td>-0.022148</td>\n",
       "    </tr>\n",
       "    <tr>\n",
       "      <th>5</th>\n",
       "      <td>-0.683584</td>\n",
       "      <td>-1.565465</td>\n",
       "      <td>-0.744061</td>\n",
       "      <td>0.045780</td>\n",
       "    </tr>\n",
       "  </tbody>\n",
       "</table>\n",
       "</div>"
      ],
      "text/plain": [
       "          A         B         C         D\n",
       "0 -0.322548 -1.180704 -0.355703 -0.311673\n",
       "1 -0.778796 -2.039098  0.691911  0.612186\n",
       "2  1.176298  0.660746  0.531959  0.329838\n",
       "3 -0.470426 -0.522078 -1.738459  1.195596\n",
       "4  0.519461 -0.911834 -0.184067 -0.022148\n",
       "5 -0.683584 -1.565465 -0.744061  0.045780"
      ]
     },
     "execution_count": 4,
     "metadata": {},
     "output_type": "execute_result"
    }
   ],
   "source": [
    "#un dataframe aleatorio con numpy random\n",
    "df = pd.DataFrame(np.random.randn(6, 4), columns=[\"A\", \"B\", \"C\", \"D\"])\n",
    "df"
   ]
  },
  {
   "cell_type": "markdown",
   "metadata": {
    "colab_type": "text",
    "id": "YACVLPqmEIgV"
   },
   "source": [
    "### Axes\n",
    "\n",
    "Recuerda que los axes de un Dataframe (una tabla 2D), son los siguientes:\n",
    "\n",
    "![Numpy/Pandas axes](https://raw.githubusercontent.com/jhermosillo/diplomado_CDD2019/master/Programaci%C3%B3n%20en%20Python/images/axes.png)"
   ]
  },
  {
   "cell_type": "markdown",
   "metadata": {
    "colab_type": "text",
    "id": "amSx3Uy5Jgs_"
   },
   "source": [
    "# Creación y almacenamiento"
   ]
  },
  {
   "cell_type": "markdown",
   "metadata": {
    "colab_type": "text",
    "id": "Efe8EN4EUNr6"
   },
   "source": [
    "## Creación desde diccionarios de listas"
   ]
  },
  {
   "cell_type": "code",
   "execution_count": 5,
   "metadata": {
    "colab": {},
    "colab_type": "code",
    "id": "W3sLNcoIKZ5t"
   },
   "outputs": [
    {
     "data": {
      "text/html": [
       "<div>\n",
       "<style scoped>\n",
       "    .dataframe tbody tr th:only-of-type {\n",
       "        vertical-align: middle;\n",
       "    }\n",
       "\n",
       "    .dataframe tbody tr th {\n",
       "        vertical-align: top;\n",
       "    }\n",
       "\n",
       "    .dataframe thead th {\n",
       "        text-align: right;\n",
       "    }\n",
       "</style>\n",
       "<table border=\"1\" class=\"dataframe\">\n",
       "  <thead>\n",
       "    <tr style=\"text-align: right;\">\n",
       "      <th></th>\n",
       "      <th>pais</th>\n",
       "      <th>continente</th>\n",
       "      <th>poblacion</th>\n",
       "    </tr>\n",
       "  </thead>\n",
       "  <tbody>\n",
       "    <tr>\n",
       "      <th>0</th>\n",
       "      <td>Mexico</td>\n",
       "      <td>America</td>\n",
       "      <td>129</td>\n",
       "    </tr>\n",
       "    <tr>\n",
       "      <th>1</th>\n",
       "      <td>EUA</td>\n",
       "      <td>America</td>\n",
       "      <td>325</td>\n",
       "    </tr>\n",
       "    <tr>\n",
       "      <th>2</th>\n",
       "      <td>Francia</td>\n",
       "      <td>Europa</td>\n",
       "      <td>67</td>\n",
       "    </tr>\n",
       "  </tbody>\n",
       "</table>\n",
       "</div>"
      ],
      "text/plain": [
       "      pais continente  poblacion\n",
       "0   Mexico    America        129\n",
       "1      EUA    America        325\n",
       "2  Francia     Europa         67"
      ]
     },
     "execution_count": 5,
     "metadata": {},
     "output_type": "execute_result"
    }
   ],
   "source": [
    "#Un diccionario de python\n",
    "dict1 = {'pais': ['Mexico',\n",
    "'EUA', \"Francia\"], 'continente': [\"America\", \"America\", \"Europa\"], 'poblacion': [129, 325, 67]}\n",
    "\n",
    "paises = pd.DataFrame(dict1)\n",
    "paises"
   ]
  },
  {
   "cell_type": "markdown",
   "metadata": {
    "colab_type": "text",
    "id": "t0IUUYdWKaQ7"
   },
   "source": [
    "## Creación desde diccionario anidado"
   ]
  },
  {
   "cell_type": "code",
   "execution_count": 6,
   "metadata": {
    "colab": {},
    "colab_type": "code",
    "id": "oPN4K2gSMH8U"
   },
   "outputs": [
    {
     "data": {
      "text/html": [
       "<div>\n",
       "<style scoped>\n",
       "    .dataframe tbody tr th:only-of-type {\n",
       "        vertical-align: middle;\n",
       "    }\n",
       "\n",
       "    .dataframe tbody tr th {\n",
       "        vertical-align: top;\n",
       "    }\n",
       "\n",
       "    .dataframe thead th {\n",
       "        text-align: right;\n",
       "    }\n",
       "</style>\n",
       "<table border=\"1\" class=\"dataframe\">\n",
       "  <thead>\n",
       "    <tr style=\"text-align: right;\">\n",
       "      <th></th>\n",
       "      <th>pais</th>\n",
       "      <th>continente</th>\n",
       "      <th>poblacion</th>\n",
       "    </tr>\n",
       "  </thead>\n",
       "  <tbody>\n",
       "    <tr>\n",
       "      <th>p1</th>\n",
       "      <td>Mexico</td>\n",
       "      <td>America</td>\n",
       "      <td>129</td>\n",
       "    </tr>\n",
       "    <tr>\n",
       "      <th>p2</th>\n",
       "      <td>EUA</td>\n",
       "      <td>America</td>\n",
       "      <td>325</td>\n",
       "    </tr>\n",
       "    <tr>\n",
       "      <th>p3</th>\n",
       "      <td>Francia</td>\n",
       "      <td>Europa</td>\n",
       "      <td>67</td>\n",
       "    </tr>\n",
       "  </tbody>\n",
       "</table>\n",
       "</div>"
      ],
      "text/plain": [
       "       pais continente  poblacion\n",
       "p1   Mexico    America        129\n",
       "p2      EUA    America        325\n",
       "p3  Francia     Europa         67"
      ]
     },
     "execution_count": 6,
     "metadata": {},
     "output_type": "execute_result"
    }
   ],
   "source": [
    "#Un diccionario anidado de python\n",
    "#las claves anidadas especifican el indice de las filas\n",
    "dict2 = {'pais': {\"p1\": 'Mexico',\n",
    "\"p2\": 'EUA', \"p3\": \"Francia\"}, 'continente': {\"p1\": \"America\", \"p2\": \"America\", \"p3\": \"Europa\"}, 'poblacion': {\"p1\": 129, \"p2\": 325, \"p3\": 67}}\n",
    "\n",
    "paises = pd.DataFrame(dict2)\n",
    "paises"
   ]
  },
  {
   "cell_type": "markdown",
   "metadata": {
    "colab_type": "text",
    "id": "vEl2HU6hUKBk"
   },
   "source": [
    "## Creación desde archivos csv"
   ]
  },
  {
   "cell_type": "code",
   "execution_count": 0,
   "metadata": {
    "colab": {},
    "colab_type": "code",
    "id": "zYIeBGnrNupt"
   },
   "outputs": [],
   "source": [
    "!ls sample_data/"
   ]
  },
  {
   "cell_type": "code",
   "execution_count": 0,
   "metadata": {
    "colab": {},
    "colab_type": "code",
    "id": "SW7PjbOONhIn"
   },
   "outputs": [],
   "source": [
    "#leamos un archivo csv almacenado por colab\n",
    "cali_housing = pd.read_csv(\"sample_data/california_housing_test.csv\", nrows=10)\n",
    "cali_housing"
   ]
  },
  {
   "cell_type": "markdown",
   "metadata": {
    "colab_type": "text",
    "id": "2elveR7cNUJW"
   },
   "source": [
    "## Creación desde archivos excel"
   ]
  },
  {
   "cell_type": "code",
   "execution_count": 7,
   "metadata": {
    "colab": {},
    "colab_type": "code",
    "id": "UswNxhhtruT6"
   },
   "outputs": [
    {
     "name": "stdout",
     "output_type": "stream",
     "text": [
      "  % Total    % Received % Xferd  Average Speed   Time    Time     Time  Current\n",
      "                                 Dload  Upload   Total   Spent    Left  Speed\n",
      "100   182    0   182    0     0    383      0 --:--:-- --:--:-- --:--:--   383\n",
      "100  170k  100  170k    0     0   174k      0 --:--:-- --:--:-- --:--:-- 1012k\n"
     ]
    }
   ],
   "source": [
    "# Cargar un archivo de excel a colab desde github\n",
    "!curl --remote-name \\\n",
    "     -H 'Accept: application/vnd.github.v3.raw' \\\n",
    "     --location https://github.com/MauricioRR-Tec/Machine-Learning/raw/master/Notebooks/data/california_housing_test.xlsx"
   ]
  },
  {
   "cell_type": "code",
   "execution_count": 12,
   "metadata": {
    "colab": {},
    "colab_type": "code",
    "id": "-13jjqLENhe1"
   },
   "outputs": [
    {
     "data": {
      "text/html": [
       "<div>\n",
       "<style scoped>\n",
       "    .dataframe tbody tr th:only-of-type {\n",
       "        vertical-align: middle;\n",
       "    }\n",
       "\n",
       "    .dataframe tbody tr th {\n",
       "        vertical-align: top;\n",
       "    }\n",
       "\n",
       "    .dataframe thead th {\n",
       "        text-align: right;\n",
       "    }\n",
       "</style>\n",
       "<table border=\"1\" class=\"dataframe\">\n",
       "  <thead>\n",
       "    <tr style=\"text-align: right;\">\n",
       "      <th></th>\n",
       "      <th>longitude</th>\n",
       "      <th>latitude</th>\n",
       "      <th>housing_median_age</th>\n",
       "      <th>total_rooms</th>\n",
       "      <th>total_bedrooms</th>\n",
       "      <th>population</th>\n",
       "      <th>households</th>\n",
       "      <th>median_income</th>\n",
       "      <th>median_house_value</th>\n",
       "    </tr>\n",
       "  </thead>\n",
       "  <tbody>\n",
       "    <tr>\n",
       "      <th>0</th>\n",
       "      <td>-122.05</td>\n",
       "      <td>37.37</td>\n",
       "      <td>27</td>\n",
       "      <td>3885</td>\n",
       "      <td>661</td>\n",
       "      <td>1537</td>\n",
       "      <td>606</td>\n",
       "      <td>6.6085</td>\n",
       "      <td>344700</td>\n",
       "    </tr>\n",
       "    <tr>\n",
       "      <th>1</th>\n",
       "      <td>-118.30</td>\n",
       "      <td>34.26</td>\n",
       "      <td>43</td>\n",
       "      <td>1510</td>\n",
       "      <td>310</td>\n",
       "      <td>809</td>\n",
       "      <td>277</td>\n",
       "      <td>3.5990</td>\n",
       "      <td>176500</td>\n",
       "    </tr>\n",
       "    <tr>\n",
       "      <th>2</th>\n",
       "      <td>-117.81</td>\n",
       "      <td>33.78</td>\n",
       "      <td>27</td>\n",
       "      <td>3589</td>\n",
       "      <td>507</td>\n",
       "      <td>1484</td>\n",
       "      <td>495</td>\n",
       "      <td>5.7934</td>\n",
       "      <td>270500</td>\n",
       "    </tr>\n",
       "    <tr>\n",
       "      <th>3</th>\n",
       "      <td>-118.36</td>\n",
       "      <td>33.82</td>\n",
       "      <td>28</td>\n",
       "      <td>67</td>\n",
       "      <td>15</td>\n",
       "      <td>49</td>\n",
       "      <td>11</td>\n",
       "      <td>6.1359</td>\n",
       "      <td>330000</td>\n",
       "    </tr>\n",
       "    <tr>\n",
       "      <th>4</th>\n",
       "      <td>-119.67</td>\n",
       "      <td>36.33</td>\n",
       "      <td>19</td>\n",
       "      <td>1241</td>\n",
       "      <td>244</td>\n",
       "      <td>850</td>\n",
       "      <td>237</td>\n",
       "      <td>2.9375</td>\n",
       "      <td>81700</td>\n",
       "    </tr>\n",
       "    <tr>\n",
       "      <th>...</th>\n",
       "      <td>...</td>\n",
       "      <td>...</td>\n",
       "      <td>...</td>\n",
       "      <td>...</td>\n",
       "      <td>...</td>\n",
       "      <td>...</td>\n",
       "      <td>...</td>\n",
       "      <td>...</td>\n",
       "      <td>...</td>\n",
       "    </tr>\n",
       "    <tr>\n",
       "      <th>2995</th>\n",
       "      <td>-119.86</td>\n",
       "      <td>34.42</td>\n",
       "      <td>23</td>\n",
       "      <td>1450</td>\n",
       "      <td>642</td>\n",
       "      <td>1258</td>\n",
       "      <td>607</td>\n",
       "      <td>1.1790</td>\n",
       "      <td>225000</td>\n",
       "    </tr>\n",
       "    <tr>\n",
       "      <th>2996</th>\n",
       "      <td>-118.14</td>\n",
       "      <td>34.06</td>\n",
       "      <td>27</td>\n",
       "      <td>5257</td>\n",
       "      <td>1082</td>\n",
       "      <td>3496</td>\n",
       "      <td>1036</td>\n",
       "      <td>3.3906</td>\n",
       "      <td>237200</td>\n",
       "    </tr>\n",
       "    <tr>\n",
       "      <th>2997</th>\n",
       "      <td>-119.70</td>\n",
       "      <td>36.30</td>\n",
       "      <td>10</td>\n",
       "      <td>956</td>\n",
       "      <td>201</td>\n",
       "      <td>693</td>\n",
       "      <td>220</td>\n",
       "      <td>2.2895</td>\n",
       "      <td>62000</td>\n",
       "    </tr>\n",
       "    <tr>\n",
       "      <th>2998</th>\n",
       "      <td>-117.12</td>\n",
       "      <td>34.10</td>\n",
       "      <td>40</td>\n",
       "      <td>96</td>\n",
       "      <td>14</td>\n",
       "      <td>46</td>\n",
       "      <td>14</td>\n",
       "      <td>3.2708</td>\n",
       "      <td>162500</td>\n",
       "    </tr>\n",
       "    <tr>\n",
       "      <th>2999</th>\n",
       "      <td>-119.63</td>\n",
       "      <td>34.42</td>\n",
       "      <td>42</td>\n",
       "      <td>1765</td>\n",
       "      <td>263</td>\n",
       "      <td>753</td>\n",
       "      <td>260</td>\n",
       "      <td>8.5608</td>\n",
       "      <td>500001</td>\n",
       "    </tr>\n",
       "  </tbody>\n",
       "</table>\n",
       "<p>3000 rows × 9 columns</p>\n",
       "</div>"
      ],
      "text/plain": [
       "      longitude  latitude  housing_median_age  total_rooms  total_bedrooms  \\\n",
       "0       -122.05     37.37                  27         3885             661   \n",
       "1       -118.30     34.26                  43         1510             310   \n",
       "2       -117.81     33.78                  27         3589             507   \n",
       "3       -118.36     33.82                  28           67              15   \n",
       "4       -119.67     36.33                  19         1241             244   \n",
       "...         ...       ...                 ...          ...             ...   \n",
       "2995    -119.86     34.42                  23         1450             642   \n",
       "2996    -118.14     34.06                  27         5257            1082   \n",
       "2997    -119.70     36.30                  10          956             201   \n",
       "2998    -117.12     34.10                  40           96              14   \n",
       "2999    -119.63     34.42                  42         1765             263   \n",
       "\n",
       "      population  households  median_income  median_house_value  \n",
       "0           1537         606         6.6085              344700  \n",
       "1            809         277         3.5990              176500  \n",
       "2           1484         495         5.7934              270500  \n",
       "3             49          11         6.1359              330000  \n",
       "4            850         237         2.9375               81700  \n",
       "...          ...         ...            ...                 ...  \n",
       "2995        1258         607         1.1790              225000  \n",
       "2996        3496        1036         3.3906              237200  \n",
       "2997         693         220         2.2895               62000  \n",
       "2998          46          14         3.2708              162500  \n",
       "2999         753         260         8.5608              500001  \n",
       "\n",
       "[3000 rows x 9 columns]"
      ]
     },
     "execution_count": 12,
     "metadata": {},
     "output_type": "execute_result"
    }
   ],
   "source": [
    "#cargar el archivo en formato xls a un pandas dataframe\n",
    "cali_housing = pd.read_excel(\"./california_housing_test.xlsx\", index_col=0)\n",
    "cali_housing"
   ]
  },
  {
   "cell_type": "markdown",
   "metadata": {
    "colab_type": "text",
    "id": "PDkNmW3rUKFD"
   },
   "source": [
    "## Persistencia a disco"
   ]
  },
  {
   "cell_type": "code",
   "execution_count": 0,
   "metadata": {
    "colab": {},
    "colab_type": "code",
    "id": "Tiz6wLPAJgx3"
   },
   "outputs": [],
   "source": [
    "cali_housing.to_csv(\"cali_housing.csv\")\n",
    "#o en formato de excel:\n",
    "cali_housing.to_excel(\"cali_housing.xlsx\")"
   ]
  },
  {
   "cell_type": "markdown",
   "metadata": {
    "colab_type": "text",
    "id": "J9cBi012RwX2"
   },
   "source": [
    "Ahora se crearon dos archivos en colab"
   ]
  },
  {
   "cell_type": "code",
   "execution_count": 0,
   "metadata": {
    "colab": {},
    "colab_type": "code",
    "id": "vA-S4UqPRtaB"
   },
   "outputs": [],
   "source": [
    "!ls"
   ]
  },
  {
   "cell_type": "markdown",
   "metadata": {
    "colab_type": "text",
    "id": "2Aa7Hoa69D2P"
   },
   "source": [
    "## Otros formatos\n",
    "\n",
    "Además de los ya mencionados, Pandas permite leer y escribir en formatos comúnes como:\n",
    "\n",
    "* JSON\n",
    "* HTML\n",
    "* Parquet\n",
    "* SQL\n",
    "* BigQuery\n",
    "\n",
    "Puedes ver la lista completa en la [documentación de Pandas](https://pandas.pydata.org/docs/user_guide/io.html#io-tools-text-csv-hdf5)."
   ]
  },
  {
   "cell_type": "markdown",
   "metadata": {
    "colab_type": "text",
    "id": "BIZpbhUppe62"
   },
   "source": [
    "# Accediendo a los datos"
   ]
  },
  {
   "cell_type": "markdown",
   "metadata": {
    "colab_type": "text",
    "id": "YYvyNYxymZcV"
   },
   "source": [
    "## info()\n",
    "\n",
    "El método info() puede usarse para , mostrar la información general del objeto de Pandas, como el índice y los tipos de datos usados."
   ]
  },
  {
   "cell_type": "code",
   "execution_count": 13,
   "metadata": {
    "colab": {},
    "colab_type": "code",
    "id": "W2IlfVfaQdb4"
   },
   "outputs": [
    {
     "name": "stdout",
     "output_type": "stream",
     "text": [
      "<class 'pandas.core.frame.DataFrame'>\n",
      "Int64Index: 3000 entries, 0 to 2999\n",
      "Data columns (total 9 columns):\n",
      " #   Column              Non-Null Count  Dtype  \n",
      "---  ------              --------------  -----  \n",
      " 0   longitude           3000 non-null   float64\n",
      " 1   latitude            3000 non-null   float64\n",
      " 2   housing_median_age  3000 non-null   int64  \n",
      " 3   total_rooms         3000 non-null   int64  \n",
      " 4   total_bedrooms      3000 non-null   int64  \n",
      " 5   population          3000 non-null   int64  \n",
      " 6   households          3000 non-null   int64  \n",
      " 7   median_income       3000 non-null   float64\n",
      " 8   median_house_value  3000 non-null   int64  \n",
      "dtypes: float64(3), int64(6)\n",
      "memory usage: 234.4 KB\n"
     ]
    }
   ],
   "source": [
    "cali_housing.info()"
   ]
  },
  {
   "cell_type": "markdown",
   "metadata": {
    "colab_type": "text",
    "id": "wboMyaQ4ltYo"
   },
   "source": [
    "## head() y tail()\n",
    "\n",
    "Los métodos head() y tail() devuelven una pequeña muestra de los primeros o últimos elementos de un objeto Series o Dataframe. Ambas pueden recibir como parámetro el número de elementos que se desean visualizar, por defecto es igual a 5."
   ]
  },
  {
   "cell_type": "code",
   "execution_count": 14,
   "metadata": {
    "colab": {},
    "colab_type": "code",
    "id": "8w1nVek4ltdb"
   },
   "outputs": [
    {
     "data": {
      "text/html": [
       "<div>\n",
       "<style scoped>\n",
       "    .dataframe tbody tr th:only-of-type {\n",
       "        vertical-align: middle;\n",
       "    }\n",
       "\n",
       "    .dataframe tbody tr th {\n",
       "        vertical-align: top;\n",
       "    }\n",
       "\n",
       "    .dataframe thead th {\n",
       "        text-align: right;\n",
       "    }\n",
       "</style>\n",
       "<table border=\"1\" class=\"dataframe\">\n",
       "  <thead>\n",
       "    <tr style=\"text-align: right;\">\n",
       "      <th></th>\n",
       "      <th>longitude</th>\n",
       "      <th>latitude</th>\n",
       "      <th>housing_median_age</th>\n",
       "      <th>total_rooms</th>\n",
       "      <th>total_bedrooms</th>\n",
       "      <th>population</th>\n",
       "      <th>households</th>\n",
       "      <th>median_income</th>\n",
       "      <th>median_house_value</th>\n",
       "    </tr>\n",
       "  </thead>\n",
       "  <tbody>\n",
       "    <tr>\n",
       "      <th>0</th>\n",
       "      <td>-122.05</td>\n",
       "      <td>37.37</td>\n",
       "      <td>27</td>\n",
       "      <td>3885</td>\n",
       "      <td>661</td>\n",
       "      <td>1537</td>\n",
       "      <td>606</td>\n",
       "      <td>6.6085</td>\n",
       "      <td>344700</td>\n",
       "    </tr>\n",
       "    <tr>\n",
       "      <th>1</th>\n",
       "      <td>-118.30</td>\n",
       "      <td>34.26</td>\n",
       "      <td>43</td>\n",
       "      <td>1510</td>\n",
       "      <td>310</td>\n",
       "      <td>809</td>\n",
       "      <td>277</td>\n",
       "      <td>3.5990</td>\n",
       "      <td>176500</td>\n",
       "    </tr>\n",
       "    <tr>\n",
       "      <th>2</th>\n",
       "      <td>-117.81</td>\n",
       "      <td>33.78</td>\n",
       "      <td>27</td>\n",
       "      <td>3589</td>\n",
       "      <td>507</td>\n",
       "      <td>1484</td>\n",
       "      <td>495</td>\n",
       "      <td>5.7934</td>\n",
       "      <td>270500</td>\n",
       "    </tr>\n",
       "    <tr>\n",
       "      <th>3</th>\n",
       "      <td>-118.36</td>\n",
       "      <td>33.82</td>\n",
       "      <td>28</td>\n",
       "      <td>67</td>\n",
       "      <td>15</td>\n",
       "      <td>49</td>\n",
       "      <td>11</td>\n",
       "      <td>6.1359</td>\n",
       "      <td>330000</td>\n",
       "    </tr>\n",
       "    <tr>\n",
       "      <th>4</th>\n",
       "      <td>-119.67</td>\n",
       "      <td>36.33</td>\n",
       "      <td>19</td>\n",
       "      <td>1241</td>\n",
       "      <td>244</td>\n",
       "      <td>850</td>\n",
       "      <td>237</td>\n",
       "      <td>2.9375</td>\n",
       "      <td>81700</td>\n",
       "    </tr>\n",
       "  </tbody>\n",
       "</table>\n",
       "</div>"
      ],
      "text/plain": [
       "   longitude  latitude  housing_median_age  total_rooms  total_bedrooms  \\\n",
       "0    -122.05     37.37                  27         3885             661   \n",
       "1    -118.30     34.26                  43         1510             310   \n",
       "2    -117.81     33.78                  27         3589             507   \n",
       "3    -118.36     33.82                  28           67              15   \n",
       "4    -119.67     36.33                  19         1241             244   \n",
       "\n",
       "   population  households  median_income  median_house_value  \n",
       "0        1537         606         6.6085              344700  \n",
       "1         809         277         3.5990              176500  \n",
       "2        1484         495         5.7934              270500  \n",
       "3          49          11         6.1359              330000  \n",
       "4         850         237         2.9375               81700  "
      ]
     },
     "execution_count": 14,
     "metadata": {},
     "output_type": "execute_result"
    }
   ],
   "source": [
    "cali_housing.head()"
   ]
  },
  {
   "cell_type": "code",
   "execution_count": 15,
   "metadata": {
    "colab": {},
    "colab_type": "code",
    "id": "jXLeXz3SmL2g"
   },
   "outputs": [
    {
     "data": {
      "text/html": [
       "<div>\n",
       "<style scoped>\n",
       "    .dataframe tbody tr th:only-of-type {\n",
       "        vertical-align: middle;\n",
       "    }\n",
       "\n",
       "    .dataframe tbody tr th {\n",
       "        vertical-align: top;\n",
       "    }\n",
       "\n",
       "    .dataframe thead th {\n",
       "        text-align: right;\n",
       "    }\n",
       "</style>\n",
       "<table border=\"1\" class=\"dataframe\">\n",
       "  <thead>\n",
       "    <tr style=\"text-align: right;\">\n",
       "      <th></th>\n",
       "      <th>longitude</th>\n",
       "      <th>latitude</th>\n",
       "      <th>housing_median_age</th>\n",
       "      <th>total_rooms</th>\n",
       "      <th>total_bedrooms</th>\n",
       "      <th>population</th>\n",
       "      <th>households</th>\n",
       "      <th>median_income</th>\n",
       "      <th>median_house_value</th>\n",
       "    </tr>\n",
       "  </thead>\n",
       "  <tbody>\n",
       "    <tr>\n",
       "      <th>2997</th>\n",
       "      <td>-119.70</td>\n",
       "      <td>36.30</td>\n",
       "      <td>10</td>\n",
       "      <td>956</td>\n",
       "      <td>201</td>\n",
       "      <td>693</td>\n",
       "      <td>220</td>\n",
       "      <td>2.2895</td>\n",
       "      <td>62000</td>\n",
       "    </tr>\n",
       "    <tr>\n",
       "      <th>2998</th>\n",
       "      <td>-117.12</td>\n",
       "      <td>34.10</td>\n",
       "      <td>40</td>\n",
       "      <td>96</td>\n",
       "      <td>14</td>\n",
       "      <td>46</td>\n",
       "      <td>14</td>\n",
       "      <td>3.2708</td>\n",
       "      <td>162500</td>\n",
       "    </tr>\n",
       "    <tr>\n",
       "      <th>2999</th>\n",
       "      <td>-119.63</td>\n",
       "      <td>34.42</td>\n",
       "      <td>42</td>\n",
       "      <td>1765</td>\n",
       "      <td>263</td>\n",
       "      <td>753</td>\n",
       "      <td>260</td>\n",
       "      <td>8.5608</td>\n",
       "      <td>500001</td>\n",
       "    </tr>\n",
       "  </tbody>\n",
       "</table>\n",
       "</div>"
      ],
      "text/plain": [
       "      longitude  latitude  housing_median_age  total_rooms  total_bedrooms  \\\n",
       "2997    -119.70     36.30                  10          956             201   \n",
       "2998    -117.12     34.10                  40           96              14   \n",
       "2999    -119.63     34.42                  42         1765             263   \n",
       "\n",
       "      population  households  median_income  median_house_value  \n",
       "2997         693         220         2.2895               62000  \n",
       "2998          46          14         3.2708              162500  \n",
       "2999         753         260         8.5608              500001  "
      ]
     },
     "execution_count": 15,
     "metadata": {},
     "output_type": "execute_result"
    }
   ],
   "source": [
    "cali_housing.tail(3)"
   ]
  },
  {
   "cell_type": "markdown",
   "metadata": {
    "colab_type": "text",
    "id": "0noSgAwmbj6S"
   },
   "source": [
    "## df.sample()\n",
    "\n",
    "Para obtener una muestra aleatoria del objeto."
   ]
  },
  {
   "cell_type": "code",
   "execution_count": 16,
   "metadata": {
    "colab": {},
    "colab_type": "code",
    "id": "Zs2159iMbkAL"
   },
   "outputs": [
    {
     "data": {
      "text/html": [
       "<div>\n",
       "<style scoped>\n",
       "    .dataframe tbody tr th:only-of-type {\n",
       "        vertical-align: middle;\n",
       "    }\n",
       "\n",
       "    .dataframe tbody tr th {\n",
       "        vertical-align: top;\n",
       "    }\n",
       "\n",
       "    .dataframe thead th {\n",
       "        text-align: right;\n",
       "    }\n",
       "</style>\n",
       "<table border=\"1\" class=\"dataframe\">\n",
       "  <thead>\n",
       "    <tr style=\"text-align: right;\">\n",
       "      <th></th>\n",
       "      <th>longitude</th>\n",
       "      <th>latitude</th>\n",
       "      <th>housing_median_age</th>\n",
       "      <th>total_rooms</th>\n",
       "      <th>total_bedrooms</th>\n",
       "      <th>population</th>\n",
       "      <th>households</th>\n",
       "      <th>median_income</th>\n",
       "      <th>median_house_value</th>\n",
       "    </tr>\n",
       "  </thead>\n",
       "  <tbody>\n",
       "    <tr>\n",
       "      <th>1983</th>\n",
       "      <td>-120.25</td>\n",
       "      <td>37.93</td>\n",
       "      <td>13</td>\n",
       "      <td>493</td>\n",
       "      <td>76</td>\n",
       "      <td>196</td>\n",
       "      <td>68</td>\n",
       "      <td>3.3750</td>\n",
       "      <td>134100</td>\n",
       "    </tr>\n",
       "    <tr>\n",
       "      <th>90</th>\n",
       "      <td>-118.13</td>\n",
       "      <td>34.15</td>\n",
       "      <td>24</td>\n",
       "      <td>1125</td>\n",
       "      <td>341</td>\n",
       "      <td>579</td>\n",
       "      <td>321</td>\n",
       "      <td>2.8125</td>\n",
       "      <td>141700</td>\n",
       "    </tr>\n",
       "    <tr>\n",
       "      <th>1301</th>\n",
       "      <td>-118.51</td>\n",
       "      <td>34.20</td>\n",
       "      <td>37</td>\n",
       "      <td>2066</td>\n",
       "      <td>434</td>\n",
       "      <td>1031</td>\n",
       "      <td>414</td>\n",
       "      <td>4.0924</td>\n",
       "      <td>188400</td>\n",
       "    </tr>\n",
       "  </tbody>\n",
       "</table>\n",
       "</div>"
      ],
      "text/plain": [
       "      longitude  latitude  housing_median_age  total_rooms  total_bedrooms  \\\n",
       "1983    -120.25     37.93                  13          493              76   \n",
       "90      -118.13     34.15                  24         1125             341   \n",
       "1301    -118.51     34.20                  37         2066             434   \n",
       "\n",
       "      population  households  median_income  median_house_value  \n",
       "1983         196          68         3.3750              134100  \n",
       "90           579         321         2.8125              141700  \n",
       "1301        1031         414         4.0924              188400  "
      ]
     },
     "execution_count": 16,
     "metadata": {},
     "output_type": "execute_result"
    }
   ],
   "source": [
    "cali_housing.sample(n=3)"
   ]
  },
  {
   "cell_type": "markdown",
   "metadata": {
    "colab_type": "text",
    "id": "9rFDtUgonaCT"
   },
   "source": [
    "## df.index\n",
    "\n",
    "El atributo index regresa el índice del objeto de Pandas."
   ]
  },
  {
   "cell_type": "code",
   "execution_count": 17,
   "metadata": {
    "colab": {},
    "colab_type": "code",
    "id": "Apbkp5B-naHD"
   },
   "outputs": [
    {
     "data": {
      "text/plain": [
       "Int64Index([   0,    1,    2,    3,    4,    5,    6,    7,    8,    9,\n",
       "            ...\n",
       "            2990, 2991, 2992, 2993, 2994, 2995, 2996, 2997, 2998, 2999],\n",
       "           dtype='int64', length=3000)"
      ]
     },
     "execution_count": 17,
     "metadata": {},
     "output_type": "execute_result"
    }
   ],
   "source": [
    "cali_housing.index"
   ]
  },
  {
   "cell_type": "markdown",
   "metadata": {
    "colab_type": "text",
    "id": "HDC-5YyqnaOV"
   },
   "source": [
    "## df.columns\n",
    "\n",
    "El atributo columns de un DataFrame devuelve las columnas del mismo."
   ]
  },
  {
   "cell_type": "code",
   "execution_count": 18,
   "metadata": {
    "colab": {},
    "colab_type": "code",
    "id": "sNVXAfLQnaSS"
   },
   "outputs": [
    {
     "data": {
      "text/plain": [
       "Index(['longitude', 'latitude', 'housing_median_age', 'total_rooms',\n",
       "       'total_bedrooms', 'population', 'households', 'median_income',\n",
       "       'median_house_value'],\n",
       "      dtype='object')"
      ]
     },
     "execution_count": 18,
     "metadata": {},
     "output_type": "execute_result"
    }
   ],
   "source": [
    "cali_housing.columns"
   ]
  },
  {
   "cell_type": "markdown",
   "metadata": {
    "colab_type": "text",
    "id": "9WdqAWo7oDwj"
   },
   "source": [
    "## describe()\n",
    "\n",
    "El método describe() regresa un resúmen estadístico del objeto."
   ]
  },
  {
   "cell_type": "code",
   "execution_count": 19,
   "metadata": {
    "colab": {},
    "colab_type": "code",
    "id": "qwaMTDgKoD1D"
   },
   "outputs": [
    {
     "data": {
      "text/html": [
       "<div>\n",
       "<style scoped>\n",
       "    .dataframe tbody tr th:only-of-type {\n",
       "        vertical-align: middle;\n",
       "    }\n",
       "\n",
       "    .dataframe tbody tr th {\n",
       "        vertical-align: top;\n",
       "    }\n",
       "\n",
       "    .dataframe thead th {\n",
       "        text-align: right;\n",
       "    }\n",
       "</style>\n",
       "<table border=\"1\" class=\"dataframe\">\n",
       "  <thead>\n",
       "    <tr style=\"text-align: right;\">\n",
       "      <th></th>\n",
       "      <th>longitude</th>\n",
       "      <th>latitude</th>\n",
       "      <th>housing_median_age</th>\n",
       "      <th>total_rooms</th>\n",
       "      <th>total_bedrooms</th>\n",
       "      <th>population</th>\n",
       "      <th>households</th>\n",
       "      <th>median_income</th>\n",
       "      <th>median_house_value</th>\n",
       "    </tr>\n",
       "  </thead>\n",
       "  <tbody>\n",
       "    <tr>\n",
       "      <th>count</th>\n",
       "      <td>3000.000000</td>\n",
       "      <td>3000.00000</td>\n",
       "      <td>3000.000000</td>\n",
       "      <td>3000.000000</td>\n",
       "      <td>3000.000000</td>\n",
       "      <td>3000.000000</td>\n",
       "      <td>3000.00000</td>\n",
       "      <td>3000.000000</td>\n",
       "      <td>3000.00000</td>\n",
       "    </tr>\n",
       "    <tr>\n",
       "      <th>mean</th>\n",
       "      <td>-119.589200</td>\n",
       "      <td>35.63539</td>\n",
       "      <td>28.845333</td>\n",
       "      <td>2599.578667</td>\n",
       "      <td>529.950667</td>\n",
       "      <td>1402.798667</td>\n",
       "      <td>489.91200</td>\n",
       "      <td>3.807272</td>\n",
       "      <td>205846.27500</td>\n",
       "    </tr>\n",
       "    <tr>\n",
       "      <th>std</th>\n",
       "      <td>1.994936</td>\n",
       "      <td>2.12967</td>\n",
       "      <td>12.555396</td>\n",
       "      <td>2155.593332</td>\n",
       "      <td>415.654368</td>\n",
       "      <td>1030.543012</td>\n",
       "      <td>365.42271</td>\n",
       "      <td>1.854512</td>\n",
       "      <td>113119.68747</td>\n",
       "    </tr>\n",
       "    <tr>\n",
       "      <th>min</th>\n",
       "      <td>-124.180000</td>\n",
       "      <td>32.56000</td>\n",
       "      <td>1.000000</td>\n",
       "      <td>6.000000</td>\n",
       "      <td>2.000000</td>\n",
       "      <td>5.000000</td>\n",
       "      <td>2.00000</td>\n",
       "      <td>0.499900</td>\n",
       "      <td>22500.00000</td>\n",
       "    </tr>\n",
       "    <tr>\n",
       "      <th>25%</th>\n",
       "      <td>-121.810000</td>\n",
       "      <td>33.93000</td>\n",
       "      <td>18.000000</td>\n",
       "      <td>1401.000000</td>\n",
       "      <td>291.000000</td>\n",
       "      <td>780.000000</td>\n",
       "      <td>273.00000</td>\n",
       "      <td>2.544000</td>\n",
       "      <td>121200.00000</td>\n",
       "    </tr>\n",
       "    <tr>\n",
       "      <th>50%</th>\n",
       "      <td>-118.485000</td>\n",
       "      <td>34.27000</td>\n",
       "      <td>29.000000</td>\n",
       "      <td>2106.000000</td>\n",
       "      <td>437.000000</td>\n",
       "      <td>1155.000000</td>\n",
       "      <td>409.50000</td>\n",
       "      <td>3.487150</td>\n",
       "      <td>177650.00000</td>\n",
       "    </tr>\n",
       "    <tr>\n",
       "      <th>75%</th>\n",
       "      <td>-118.020000</td>\n",
       "      <td>37.69000</td>\n",
       "      <td>37.000000</td>\n",
       "      <td>3129.000000</td>\n",
       "      <td>636.000000</td>\n",
       "      <td>1742.750000</td>\n",
       "      <td>597.25000</td>\n",
       "      <td>4.656475</td>\n",
       "      <td>263975.00000</td>\n",
       "    </tr>\n",
       "    <tr>\n",
       "      <th>max</th>\n",
       "      <td>-114.490000</td>\n",
       "      <td>41.92000</td>\n",
       "      <td>52.000000</td>\n",
       "      <td>30450.000000</td>\n",
       "      <td>5419.000000</td>\n",
       "      <td>11935.000000</td>\n",
       "      <td>4930.00000</td>\n",
       "      <td>15.000100</td>\n",
       "      <td>500001.00000</td>\n",
       "    </tr>\n",
       "  </tbody>\n",
       "</table>\n",
       "</div>"
      ],
      "text/plain": [
       "         longitude    latitude  housing_median_age   total_rooms  \\\n",
       "count  3000.000000  3000.00000         3000.000000   3000.000000   \n",
       "mean   -119.589200    35.63539           28.845333   2599.578667   \n",
       "std       1.994936     2.12967           12.555396   2155.593332   \n",
       "min    -124.180000    32.56000            1.000000      6.000000   \n",
       "25%    -121.810000    33.93000           18.000000   1401.000000   \n",
       "50%    -118.485000    34.27000           29.000000   2106.000000   \n",
       "75%    -118.020000    37.69000           37.000000   3129.000000   \n",
       "max    -114.490000    41.92000           52.000000  30450.000000   \n",
       "\n",
       "       total_bedrooms    population  households  median_income  \\\n",
       "count     3000.000000   3000.000000  3000.00000    3000.000000   \n",
       "mean       529.950667   1402.798667   489.91200       3.807272   \n",
       "std        415.654368   1030.543012   365.42271       1.854512   \n",
       "min          2.000000      5.000000     2.00000       0.499900   \n",
       "25%        291.000000    780.000000   273.00000       2.544000   \n",
       "50%        437.000000   1155.000000   409.50000       3.487150   \n",
       "75%        636.000000   1742.750000   597.25000       4.656475   \n",
       "max       5419.000000  11935.000000  4930.00000      15.000100   \n",
       "\n",
       "       median_house_value  \n",
       "count          3000.00000  \n",
       "mean         205846.27500  \n",
       "std          113119.68747  \n",
       "min           22500.00000  \n",
       "25%          121200.00000  \n",
       "50%          177650.00000  \n",
       "75%          263975.00000  \n",
       "max          500001.00000  "
      ]
     },
     "execution_count": 19,
     "metadata": {},
     "output_type": "execute_result"
    }
   ],
   "source": [
    "cali_housing.describe()"
   ]
  },
  {
   "cell_type": "markdown",
   "metadata": {
    "colab_type": "text",
    "id": "AqJUI2dwQdL-"
   },
   "source": [
    "# Selección - asignación"
   ]
  },
  {
   "cell_type": "markdown",
   "metadata": {
    "colab_type": "text",
    "id": "aStR2xhVs5oo"
   },
   "source": [
    "## Seleccionando columnas\n",
    "\n",
    "Puedes usar dos notaciones para seleccionar una columna de un DataFrame, cualquiera de éstas devolverá un objeto Series.\n",
    "\n",
    "\n",
    "\n",
    "```\n",
    "df.[\"A\"]\n",
    "```\n",
    "\n",
    "o\n",
    "\n",
    "\n",
    "\n",
    "```\n",
    "df.A\n",
    "```\n",
    "\n",
    "\n",
    "\n"
   ]
  },
  {
   "cell_type": "code",
   "execution_count": 20,
   "metadata": {
    "colab": {},
    "colab_type": "code",
    "id": "AoTIBTUas5sm"
   },
   "outputs": [
    {
     "data": {
      "text/plain": [
       "0       37.37\n",
       "1       34.26\n",
       "2       33.78\n",
       "3       33.82\n",
       "4       36.33\n",
       "        ...  \n",
       "2995    34.42\n",
       "2996    34.06\n",
       "2997    36.30\n",
       "2998    34.10\n",
       "2999    34.42\n",
       "Name: latitude, Length: 3000, dtype: float64"
      ]
     },
     "execution_count": 20,
     "metadata": {},
     "output_type": "execute_result"
    }
   ],
   "source": [
    "#seleccionar la columna devuelve un objeto Series\n",
    "cali_housing[\"latitude\"]"
   ]
  },
  {
   "cell_type": "code",
   "execution_count": 21,
   "metadata": {
    "colab": {},
    "colab_type": "code",
    "id": "R5__s0jktINE"
   },
   "outputs": [
    {
     "data": {
      "text/plain": [
       "0       37.37\n",
       "1       34.26\n",
       "2       33.78\n",
       "3       33.82\n",
       "4       36.33\n",
       "        ...  \n",
       "2995    34.42\n",
       "2996    34.06\n",
       "2997    36.30\n",
       "2998    34.10\n",
       "2999    34.42\n",
       "Name: latitude, Length: 3000, dtype: float64"
      ]
     },
     "execution_count": 21,
     "metadata": {},
     "output_type": "execute_result"
    }
   ],
   "source": [
    "#usa segunda opcion para seleccionar columnas\n",
    "cali_housing.latitude"
   ]
  },
  {
   "cell_type": "code",
   "execution_count": 22,
   "metadata": {
    "colab": {},
    "colab_type": "code",
    "id": "aL5laUlqKL6F"
   },
   "outputs": [
    {
     "data": {
      "text/html": [
       "<div>\n",
       "<style scoped>\n",
       "    .dataframe tbody tr th:only-of-type {\n",
       "        vertical-align: middle;\n",
       "    }\n",
       "\n",
       "    .dataframe tbody tr th {\n",
       "        vertical-align: top;\n",
       "    }\n",
       "\n",
       "    .dataframe thead th {\n",
       "        text-align: right;\n",
       "    }\n",
       "</style>\n",
       "<table border=\"1\" class=\"dataframe\">\n",
       "  <thead>\n",
       "    <tr style=\"text-align: right;\">\n",
       "      <th></th>\n",
       "      <th>latitude</th>\n",
       "    </tr>\n",
       "  </thead>\n",
       "  <tbody>\n",
       "    <tr>\n",
       "      <th>0</th>\n",
       "      <td>37.37</td>\n",
       "    </tr>\n",
       "    <tr>\n",
       "      <th>1</th>\n",
       "      <td>34.26</td>\n",
       "    </tr>\n",
       "    <tr>\n",
       "      <th>2</th>\n",
       "      <td>33.78</td>\n",
       "    </tr>\n",
       "    <tr>\n",
       "      <th>3</th>\n",
       "      <td>33.82</td>\n",
       "    </tr>\n",
       "    <tr>\n",
       "      <th>4</th>\n",
       "      <td>36.33</td>\n",
       "    </tr>\n",
       "    <tr>\n",
       "      <th>...</th>\n",
       "      <td>...</td>\n",
       "    </tr>\n",
       "    <tr>\n",
       "      <th>2995</th>\n",
       "      <td>34.42</td>\n",
       "    </tr>\n",
       "    <tr>\n",
       "      <th>2996</th>\n",
       "      <td>34.06</td>\n",
       "    </tr>\n",
       "    <tr>\n",
       "      <th>2997</th>\n",
       "      <td>36.30</td>\n",
       "    </tr>\n",
       "    <tr>\n",
       "      <th>2998</th>\n",
       "      <td>34.10</td>\n",
       "    </tr>\n",
       "    <tr>\n",
       "      <th>2999</th>\n",
       "      <td>34.42</td>\n",
       "    </tr>\n",
       "  </tbody>\n",
       "</table>\n",
       "<p>3000 rows × 1 columns</p>\n",
       "</div>"
      ],
      "text/plain": [
       "      latitude\n",
       "0        37.37\n",
       "1        34.26\n",
       "2        33.78\n",
       "3        33.82\n",
       "4        36.33\n",
       "...        ...\n",
       "2995     34.42\n",
       "2996     34.06\n",
       "2997     36.30\n",
       "2998     34.10\n",
       "2999     34.42\n",
       "\n",
       "[3000 rows x 1 columns]"
      ]
     },
     "execution_count": 22,
     "metadata": {},
     "output_type": "execute_result"
    }
   ],
   "source": [
    "#seleccionando una columna como un dataframe\n",
    "cali_housing[[\"latitude\"]]"
   ]
  },
  {
   "cell_type": "markdown",
   "metadata": {
    "colab_type": "text",
    "id": "CjqwQ2SFvO8-"
   },
   "source": [
    "Seleccionando múltiples columnas\n",
    "\n",
    "\n",
    "\n",
    "```\n",
    "df[[\"A\", ...]]\n",
    "```\n",
    "\n"
   ]
  },
  {
   "cell_type": "code",
   "execution_count": 23,
   "metadata": {
    "colab": {},
    "colab_type": "code",
    "id": "VvnPz531vPDZ"
   },
   "outputs": [
    {
     "data": {
      "text/html": [
       "<div>\n",
       "<style scoped>\n",
       "    .dataframe tbody tr th:only-of-type {\n",
       "        vertical-align: middle;\n",
       "    }\n",
       "\n",
       "    .dataframe tbody tr th {\n",
       "        vertical-align: top;\n",
       "    }\n",
       "\n",
       "    .dataframe thead th {\n",
       "        text-align: right;\n",
       "    }\n",
       "</style>\n",
       "<table border=\"1\" class=\"dataframe\">\n",
       "  <thead>\n",
       "    <tr style=\"text-align: right;\">\n",
       "      <th></th>\n",
       "      <th>longitude</th>\n",
       "      <th>latitude</th>\n",
       "    </tr>\n",
       "  </thead>\n",
       "  <tbody>\n",
       "    <tr>\n",
       "      <th>0</th>\n",
       "      <td>-122.05</td>\n",
       "      <td>37.37</td>\n",
       "    </tr>\n",
       "    <tr>\n",
       "      <th>1</th>\n",
       "      <td>-118.30</td>\n",
       "      <td>34.26</td>\n",
       "    </tr>\n",
       "    <tr>\n",
       "      <th>2</th>\n",
       "      <td>-117.81</td>\n",
       "      <td>33.78</td>\n",
       "    </tr>\n",
       "    <tr>\n",
       "      <th>3</th>\n",
       "      <td>-118.36</td>\n",
       "      <td>33.82</td>\n",
       "    </tr>\n",
       "    <tr>\n",
       "      <th>4</th>\n",
       "      <td>-119.67</td>\n",
       "      <td>36.33</td>\n",
       "    </tr>\n",
       "    <tr>\n",
       "      <th>...</th>\n",
       "      <td>...</td>\n",
       "      <td>...</td>\n",
       "    </tr>\n",
       "    <tr>\n",
       "      <th>2995</th>\n",
       "      <td>-119.86</td>\n",
       "      <td>34.42</td>\n",
       "    </tr>\n",
       "    <tr>\n",
       "      <th>2996</th>\n",
       "      <td>-118.14</td>\n",
       "      <td>34.06</td>\n",
       "    </tr>\n",
       "    <tr>\n",
       "      <th>2997</th>\n",
       "      <td>-119.70</td>\n",
       "      <td>36.30</td>\n",
       "    </tr>\n",
       "    <tr>\n",
       "      <th>2998</th>\n",
       "      <td>-117.12</td>\n",
       "      <td>34.10</td>\n",
       "    </tr>\n",
       "    <tr>\n",
       "      <th>2999</th>\n",
       "      <td>-119.63</td>\n",
       "      <td>34.42</td>\n",
       "    </tr>\n",
       "  </tbody>\n",
       "</table>\n",
       "<p>3000 rows × 2 columns</p>\n",
       "</div>"
      ],
      "text/plain": [
       "      longitude  latitude\n",
       "0       -122.05     37.37\n",
       "1       -118.30     34.26\n",
       "2       -117.81     33.78\n",
       "3       -118.36     33.82\n",
       "4       -119.67     36.33\n",
       "...         ...       ...\n",
       "2995    -119.86     34.42\n",
       "2996    -118.14     34.06\n",
       "2997    -119.70     36.30\n",
       "2998    -117.12     34.10\n",
       "2999    -119.63     34.42\n",
       "\n",
       "[3000 rows x 2 columns]"
      ]
     },
     "execution_count": 23,
     "metadata": {},
     "output_type": "execute_result"
    }
   ],
   "source": [
    "cali_housing[[\"longitude\", \"latitude\"]]"
   ]
  },
  {
   "cell_type": "markdown",
   "metadata": {
    "colab_type": "text",
    "id": "CxB5qTZys52B"
   },
   "source": [
    "## Seleccionando filas con slicing"
   ]
  },
  {
   "cell_type": "code",
   "execution_count": 24,
   "metadata": {
    "colab": {},
    "colab_type": "code",
    "id": "t10uKI8Ss56d"
   },
   "outputs": [
    {
     "data": {
      "text/html": [
       "<div>\n",
       "<style scoped>\n",
       "    .dataframe tbody tr th:only-of-type {\n",
       "        vertical-align: middle;\n",
       "    }\n",
       "\n",
       "    .dataframe tbody tr th {\n",
       "        vertical-align: top;\n",
       "    }\n",
       "\n",
       "    .dataframe thead th {\n",
       "        text-align: right;\n",
       "    }\n",
       "</style>\n",
       "<table border=\"1\" class=\"dataframe\">\n",
       "  <thead>\n",
       "    <tr style=\"text-align: right;\">\n",
       "      <th></th>\n",
       "      <th>longitude</th>\n",
       "      <th>latitude</th>\n",
       "      <th>housing_median_age</th>\n",
       "      <th>total_rooms</th>\n",
       "      <th>total_bedrooms</th>\n",
       "      <th>population</th>\n",
       "      <th>households</th>\n",
       "      <th>median_income</th>\n",
       "      <th>median_house_value</th>\n",
       "    </tr>\n",
       "  </thead>\n",
       "  <tbody>\n",
       "    <tr>\n",
       "      <th>0</th>\n",
       "      <td>-122.05</td>\n",
       "      <td>37.37</td>\n",
       "      <td>27</td>\n",
       "      <td>3885</td>\n",
       "      <td>661</td>\n",
       "      <td>1537</td>\n",
       "      <td>606</td>\n",
       "      <td>6.6085</td>\n",
       "      <td>344700</td>\n",
       "    </tr>\n",
       "    <tr>\n",
       "      <th>1</th>\n",
       "      <td>-118.30</td>\n",
       "      <td>34.26</td>\n",
       "      <td>43</td>\n",
       "      <td>1510</td>\n",
       "      <td>310</td>\n",
       "      <td>809</td>\n",
       "      <td>277</td>\n",
       "      <td>3.5990</td>\n",
       "      <td>176500</td>\n",
       "    </tr>\n",
       "    <tr>\n",
       "      <th>2</th>\n",
       "      <td>-117.81</td>\n",
       "      <td>33.78</td>\n",
       "      <td>27</td>\n",
       "      <td>3589</td>\n",
       "      <td>507</td>\n",
       "      <td>1484</td>\n",
       "      <td>495</td>\n",
       "      <td>5.7934</td>\n",
       "      <td>270500</td>\n",
       "    </tr>\n",
       "  </tbody>\n",
       "</table>\n",
       "</div>"
      ],
      "text/plain": [
       "   longitude  latitude  housing_median_age  total_rooms  total_bedrooms  \\\n",
       "0    -122.05     37.37                  27         3885             661   \n",
       "1    -118.30     34.26                  43         1510             310   \n",
       "2    -117.81     33.78                  27         3589             507   \n",
       "\n",
       "   population  households  median_income  median_house_value  \n",
       "0        1537         606         6.6085              344700  \n",
       "1         809         277         3.5990              176500  \n",
       "2        1484         495         5.7934              270500  "
      ]
     },
     "execution_count": 24,
     "metadata": {},
     "output_type": "execute_result"
    }
   ],
   "source": [
    "cali_housing[0:3]"
   ]
  },
  {
   "cell_type": "markdown",
   "metadata": {
    "colab_type": "text",
    "id": "jsZdWJbmu55Y"
   },
   "source": [
    "## Selección con etiquetas loc"
   ]
  },
  {
   "cell_type": "code",
   "execution_count": 25,
   "metadata": {
    "colab": {},
    "colab_type": "code",
    "id": "cAFiM2puu5-4"
   },
   "outputs": [
    {
     "data": {
      "text/html": [
       "<div>\n",
       "<style scoped>\n",
       "    .dataframe tbody tr th:only-of-type {\n",
       "        vertical-align: middle;\n",
       "    }\n",
       "\n",
       "    .dataframe tbody tr th {\n",
       "        vertical-align: top;\n",
       "    }\n",
       "\n",
       "    .dataframe thead th {\n",
       "        text-align: right;\n",
       "    }\n",
       "</style>\n",
       "<table border=\"1\" class=\"dataframe\">\n",
       "  <thead>\n",
       "    <tr style=\"text-align: right;\">\n",
       "      <th></th>\n",
       "      <th>total_rooms</th>\n",
       "      <th>total_bedrooms</th>\n",
       "      <th>population</th>\n",
       "      <th>households</th>\n",
       "    </tr>\n",
       "  </thead>\n",
       "  <tbody>\n",
       "    <tr>\n",
       "      <th>0</th>\n",
       "      <td>3885</td>\n",
       "      <td>661</td>\n",
       "      <td>1537</td>\n",
       "      <td>606</td>\n",
       "    </tr>\n",
       "    <tr>\n",
       "      <th>1</th>\n",
       "      <td>1510</td>\n",
       "      <td>310</td>\n",
       "      <td>809</td>\n",
       "      <td>277</td>\n",
       "    </tr>\n",
       "    <tr>\n",
       "      <th>2</th>\n",
       "      <td>3589</td>\n",
       "      <td>507</td>\n",
       "      <td>1484</td>\n",
       "      <td>495</td>\n",
       "    </tr>\n",
       "    <tr>\n",
       "      <th>3</th>\n",
       "      <td>67</td>\n",
       "      <td>15</td>\n",
       "      <td>49</td>\n",
       "      <td>11</td>\n",
       "    </tr>\n",
       "    <tr>\n",
       "      <th>4</th>\n",
       "      <td>1241</td>\n",
       "      <td>244</td>\n",
       "      <td>850</td>\n",
       "      <td>237</td>\n",
       "    </tr>\n",
       "    <tr>\n",
       "      <th>...</th>\n",
       "      <td>...</td>\n",
       "      <td>...</td>\n",
       "      <td>...</td>\n",
       "      <td>...</td>\n",
       "    </tr>\n",
       "    <tr>\n",
       "      <th>2995</th>\n",
       "      <td>1450</td>\n",
       "      <td>642</td>\n",
       "      <td>1258</td>\n",
       "      <td>607</td>\n",
       "    </tr>\n",
       "    <tr>\n",
       "      <th>2996</th>\n",
       "      <td>5257</td>\n",
       "      <td>1082</td>\n",
       "      <td>3496</td>\n",
       "      <td>1036</td>\n",
       "    </tr>\n",
       "    <tr>\n",
       "      <th>2997</th>\n",
       "      <td>956</td>\n",
       "      <td>201</td>\n",
       "      <td>693</td>\n",
       "      <td>220</td>\n",
       "    </tr>\n",
       "    <tr>\n",
       "      <th>2998</th>\n",
       "      <td>96</td>\n",
       "      <td>14</td>\n",
       "      <td>46</td>\n",
       "      <td>14</td>\n",
       "    </tr>\n",
       "    <tr>\n",
       "      <th>2999</th>\n",
       "      <td>1765</td>\n",
       "      <td>263</td>\n",
       "      <td>753</td>\n",
       "      <td>260</td>\n",
       "    </tr>\n",
       "  </tbody>\n",
       "</table>\n",
       "<p>3000 rows × 4 columns</p>\n",
       "</div>"
      ],
      "text/plain": [
       "      total_rooms  total_bedrooms  population  households\n",
       "0            3885             661        1537         606\n",
       "1            1510             310         809         277\n",
       "2            3589             507        1484         495\n",
       "3              67              15          49          11\n",
       "4            1241             244         850         237\n",
       "...           ...             ...         ...         ...\n",
       "2995         1450             642        1258         607\n",
       "2996         5257            1082        3496        1036\n",
       "2997          956             201         693         220\n",
       "2998           96              14          46          14\n",
       "2999         1765             263         753         260\n",
       "\n",
       "[3000 rows x 4 columns]"
      ]
     },
     "execution_count": 25,
     "metadata": {},
     "output_type": "execute_result"
    }
   ],
   "source": [
    "cali_housing.loc[:, \"total_rooms\":\"households\"]"
   ]
  },
  {
   "cell_type": "markdown",
   "metadata": {
    "colab_type": "text",
    "id": "oCHwl3yuvCch"
   },
   "source": [
    "## Selección con enteros iloc"
   ]
  },
  {
   "cell_type": "code",
   "execution_count": 26,
   "metadata": {
    "colab": {},
    "colab_type": "code",
    "id": "zYt4MKkUvCi2"
   },
   "outputs": [
    {
     "data": {
      "text/html": [
       "<div>\n",
       "<style scoped>\n",
       "    .dataframe tbody tr th:only-of-type {\n",
       "        vertical-align: middle;\n",
       "    }\n",
       "\n",
       "    .dataframe tbody tr th {\n",
       "        vertical-align: top;\n",
       "    }\n",
       "\n",
       "    .dataframe thead th {\n",
       "        text-align: right;\n",
       "    }\n",
       "</style>\n",
       "<table border=\"1\" class=\"dataframe\">\n",
       "  <thead>\n",
       "    <tr style=\"text-align: right;\">\n",
       "      <th></th>\n",
       "      <th>households</th>\n",
       "      <th>median_income</th>\n",
       "      <th>median_house_value</th>\n",
       "    </tr>\n",
       "  </thead>\n",
       "  <tbody>\n",
       "    <tr>\n",
       "      <th>0</th>\n",
       "      <td>606</td>\n",
       "      <td>6.6085</td>\n",
       "      <td>344700</td>\n",
       "    </tr>\n",
       "    <tr>\n",
       "      <th>1</th>\n",
       "      <td>277</td>\n",
       "      <td>3.5990</td>\n",
       "      <td>176500</td>\n",
       "    </tr>\n",
       "    <tr>\n",
       "      <th>2</th>\n",
       "      <td>495</td>\n",
       "      <td>5.7934</td>\n",
       "      <td>270500</td>\n",
       "    </tr>\n",
       "    <tr>\n",
       "      <th>3</th>\n",
       "      <td>11</td>\n",
       "      <td>6.1359</td>\n",
       "      <td>330000</td>\n",
       "    </tr>\n",
       "    <tr>\n",
       "      <th>4</th>\n",
       "      <td>237</td>\n",
       "      <td>2.9375</td>\n",
       "      <td>81700</td>\n",
       "    </tr>\n",
       "    <tr>\n",
       "      <th>...</th>\n",
       "      <td>...</td>\n",
       "      <td>...</td>\n",
       "      <td>...</td>\n",
       "    </tr>\n",
       "    <tr>\n",
       "      <th>2995</th>\n",
       "      <td>607</td>\n",
       "      <td>1.1790</td>\n",
       "      <td>225000</td>\n",
       "    </tr>\n",
       "    <tr>\n",
       "      <th>2996</th>\n",
       "      <td>1036</td>\n",
       "      <td>3.3906</td>\n",
       "      <td>237200</td>\n",
       "    </tr>\n",
       "    <tr>\n",
       "      <th>2997</th>\n",
       "      <td>220</td>\n",
       "      <td>2.2895</td>\n",
       "      <td>62000</td>\n",
       "    </tr>\n",
       "    <tr>\n",
       "      <th>2998</th>\n",
       "      <td>14</td>\n",
       "      <td>3.2708</td>\n",
       "      <td>162500</td>\n",
       "    </tr>\n",
       "    <tr>\n",
       "      <th>2999</th>\n",
       "      <td>260</td>\n",
       "      <td>8.5608</td>\n",
       "      <td>500001</td>\n",
       "    </tr>\n",
       "  </tbody>\n",
       "</table>\n",
       "<p>3000 rows × 3 columns</p>\n",
       "</div>"
      ],
      "text/plain": [
       "      households  median_income  median_house_value\n",
       "0            606         6.6085              344700\n",
       "1            277         3.5990              176500\n",
       "2            495         5.7934              270500\n",
       "3             11         6.1359              330000\n",
       "4            237         2.9375               81700\n",
       "...          ...            ...                 ...\n",
       "2995         607         1.1790              225000\n",
       "2996        1036         3.3906              237200\n",
       "2997         220         2.2895               62000\n",
       "2998          14         3.2708              162500\n",
       "2999         260         8.5608              500001\n",
       "\n",
       "[3000 rows x 3 columns]"
      ]
     },
     "execution_count": 26,
     "metadata": {},
     "output_type": "execute_result"
    }
   ],
   "source": [
    "cali_housing.iloc[:, 6:]"
   ]
  },
  {
   "cell_type": "markdown",
   "metadata": {
    "colab_type": "text",
    "id": "dj7r1S5_o7Mw"
   },
   "source": [
    "## Asignación por rango"
   ]
  },
  {
   "cell_type": "code",
   "execution_count": 27,
   "metadata": {
    "colab": {},
    "colab_type": "code",
    "id": "MRN2Ykxzo_Rv"
   },
   "outputs": [
    {
     "data": {
      "text/html": [
       "<div>\n",
       "<style scoped>\n",
       "    .dataframe tbody tr th:only-of-type {\n",
       "        vertical-align: middle;\n",
       "    }\n",
       "\n",
       "    .dataframe tbody tr th {\n",
       "        vertical-align: top;\n",
       "    }\n",
       "\n",
       "    .dataframe thead th {\n",
       "        text-align: right;\n",
       "    }\n",
       "</style>\n",
       "<table border=\"1\" class=\"dataframe\">\n",
       "  <thead>\n",
       "    <tr style=\"text-align: right;\">\n",
       "      <th></th>\n",
       "      <th>longitude</th>\n",
       "      <th>latitude</th>\n",
       "      <th>housing_median_age</th>\n",
       "      <th>total_rooms</th>\n",
       "      <th>total_bedrooms</th>\n",
       "      <th>population</th>\n",
       "      <th>households</th>\n",
       "      <th>median_income</th>\n",
       "      <th>median_house_value</th>\n",
       "      <th>random</th>\n",
       "    </tr>\n",
       "  </thead>\n",
       "  <tbody>\n",
       "    <tr>\n",
       "      <th>0</th>\n",
       "      <td>-122.05</td>\n",
       "      <td>37.37</td>\n",
       "      <td>27</td>\n",
       "      <td>3885</td>\n",
       "      <td>661</td>\n",
       "      <td>1537</td>\n",
       "      <td>606</td>\n",
       "      <td>6.6085</td>\n",
       "      <td>344700</td>\n",
       "      <td>0.125489</td>\n",
       "    </tr>\n",
       "    <tr>\n",
       "      <th>1</th>\n",
       "      <td>-118.30</td>\n",
       "      <td>34.26</td>\n",
       "      <td>43</td>\n",
       "      <td>1510</td>\n",
       "      <td>310</td>\n",
       "      <td>809</td>\n",
       "      <td>277</td>\n",
       "      <td>3.5990</td>\n",
       "      <td>176500</td>\n",
       "      <td>-0.341393</td>\n",
       "    </tr>\n",
       "    <tr>\n",
       "      <th>2</th>\n",
       "      <td>-117.81</td>\n",
       "      <td>33.78</td>\n",
       "      <td>27</td>\n",
       "      <td>3589</td>\n",
       "      <td>507</td>\n",
       "      <td>1484</td>\n",
       "      <td>495</td>\n",
       "      <td>5.7934</td>\n",
       "      <td>270500</td>\n",
       "      <td>0.369411</td>\n",
       "    </tr>\n",
       "    <tr>\n",
       "      <th>3</th>\n",
       "      <td>-118.36</td>\n",
       "      <td>33.82</td>\n",
       "      <td>28</td>\n",
       "      <td>67</td>\n",
       "      <td>15</td>\n",
       "      <td>49</td>\n",
       "      <td>11</td>\n",
       "      <td>6.1359</td>\n",
       "      <td>330000</td>\n",
       "      <td>1.507175</td>\n",
       "    </tr>\n",
       "    <tr>\n",
       "      <th>4</th>\n",
       "      <td>-119.67</td>\n",
       "      <td>36.33</td>\n",
       "      <td>19</td>\n",
       "      <td>1241</td>\n",
       "      <td>244</td>\n",
       "      <td>850</td>\n",
       "      <td>237</td>\n",
       "      <td>2.9375</td>\n",
       "      <td>81700</td>\n",
       "      <td>3.024871</td>\n",
       "    </tr>\n",
       "    <tr>\n",
       "      <th>...</th>\n",
       "      <td>...</td>\n",
       "      <td>...</td>\n",
       "      <td>...</td>\n",
       "      <td>...</td>\n",
       "      <td>...</td>\n",
       "      <td>...</td>\n",
       "      <td>...</td>\n",
       "      <td>...</td>\n",
       "      <td>...</td>\n",
       "      <td>...</td>\n",
       "    </tr>\n",
       "    <tr>\n",
       "      <th>2995</th>\n",
       "      <td>-119.86</td>\n",
       "      <td>34.42</td>\n",
       "      <td>23</td>\n",
       "      <td>1450</td>\n",
       "      <td>642</td>\n",
       "      <td>1258</td>\n",
       "      <td>607</td>\n",
       "      <td>1.1790</td>\n",
       "      <td>225000</td>\n",
       "      <td>1.077911</td>\n",
       "    </tr>\n",
       "    <tr>\n",
       "      <th>2996</th>\n",
       "      <td>-118.14</td>\n",
       "      <td>34.06</td>\n",
       "      <td>27</td>\n",
       "      <td>5257</td>\n",
       "      <td>1082</td>\n",
       "      <td>3496</td>\n",
       "      <td>1036</td>\n",
       "      <td>3.3906</td>\n",
       "      <td>237200</td>\n",
       "      <td>-0.028796</td>\n",
       "    </tr>\n",
       "    <tr>\n",
       "      <th>2997</th>\n",
       "      <td>-119.70</td>\n",
       "      <td>36.30</td>\n",
       "      <td>10</td>\n",
       "      <td>956</td>\n",
       "      <td>201</td>\n",
       "      <td>693</td>\n",
       "      <td>220</td>\n",
       "      <td>2.2895</td>\n",
       "      <td>62000</td>\n",
       "      <td>-0.024242</td>\n",
       "    </tr>\n",
       "    <tr>\n",
       "      <th>2998</th>\n",
       "      <td>-117.12</td>\n",
       "      <td>34.10</td>\n",
       "      <td>40</td>\n",
       "      <td>96</td>\n",
       "      <td>14</td>\n",
       "      <td>46</td>\n",
       "      <td>14</td>\n",
       "      <td>3.2708</td>\n",
       "      <td>162500</td>\n",
       "      <td>-0.694059</td>\n",
       "    </tr>\n",
       "    <tr>\n",
       "      <th>2999</th>\n",
       "      <td>-119.63</td>\n",
       "      <td>34.42</td>\n",
       "      <td>42</td>\n",
       "      <td>1765</td>\n",
       "      <td>263</td>\n",
       "      <td>753</td>\n",
       "      <td>260</td>\n",
       "      <td>8.5608</td>\n",
       "      <td>500001</td>\n",
       "      <td>-1.414512</td>\n",
       "    </tr>\n",
       "  </tbody>\n",
       "</table>\n",
       "<p>3000 rows × 10 columns</p>\n",
       "</div>"
      ],
      "text/plain": [
       "      longitude  latitude  housing_median_age  total_rooms  total_bedrooms  \\\n",
       "0       -122.05     37.37                  27         3885             661   \n",
       "1       -118.30     34.26                  43         1510             310   \n",
       "2       -117.81     33.78                  27         3589             507   \n",
       "3       -118.36     33.82                  28           67              15   \n",
       "4       -119.67     36.33                  19         1241             244   \n",
       "...         ...       ...                 ...          ...             ...   \n",
       "2995    -119.86     34.42                  23         1450             642   \n",
       "2996    -118.14     34.06                  27         5257            1082   \n",
       "2997    -119.70     36.30                  10          956             201   \n",
       "2998    -117.12     34.10                  40           96              14   \n",
       "2999    -119.63     34.42                  42         1765             263   \n",
       "\n",
       "      population  households  median_income  median_house_value    random  \n",
       "0           1537         606         6.6085              344700  0.125489  \n",
       "1            809         277         3.5990              176500 -0.341393  \n",
       "2           1484         495         5.7934              270500  0.369411  \n",
       "3             49          11         6.1359              330000  1.507175  \n",
       "4            850         237         2.9375               81700  3.024871  \n",
       "...          ...         ...            ...                 ...       ...  \n",
       "2995        1258         607         1.1790              225000  1.077911  \n",
       "2996        3496        1036         3.3906              237200 -0.028796  \n",
       "2997         693         220         2.2895               62000 -0.024242  \n",
       "2998          46          14         3.2708              162500 -0.694059  \n",
       "2999         753         260         8.5608              500001 -1.414512  \n",
       "\n",
       "[3000 rows x 10 columns]"
      ]
     },
     "execution_count": 27,
     "metadata": {},
     "output_type": "execute_result"
    }
   ],
   "source": [
    "#primero agregamos una columna random inicializada a 0\n",
    "cali_housing[\"random\"] = 0.0\n",
    "#reasignamos usando np.random\n",
    "cali_housing.loc[:, \"random\"] = np.random.randn(cali_housing.shape[0])\n",
    "cali_housing"
   ]
  },
  {
   "cell_type": "markdown",
   "metadata": {
    "colab_type": "text",
    "id": "CHV9n0JBAUr_"
   },
   "source": [
    "## Selección con indexación booleana"
   ]
  },
  {
   "cell_type": "code",
   "execution_count": 28,
   "metadata": {
    "colab": {},
    "colab_type": "code",
    "id": "jT8B09O6AUwh"
   },
   "outputs": [
    {
     "data": {
      "text/html": [
       "<div>\n",
       "<style scoped>\n",
       "    .dataframe tbody tr th:only-of-type {\n",
       "        vertical-align: middle;\n",
       "    }\n",
       "\n",
       "    .dataframe tbody tr th {\n",
       "        vertical-align: top;\n",
       "    }\n",
       "\n",
       "    .dataframe thead th {\n",
       "        text-align: right;\n",
       "    }\n",
       "</style>\n",
       "<table border=\"1\" class=\"dataframe\">\n",
       "  <thead>\n",
       "    <tr style=\"text-align: right;\">\n",
       "      <th></th>\n",
       "      <th>longitude</th>\n",
       "      <th>latitude</th>\n",
       "      <th>housing_median_age</th>\n",
       "      <th>total_rooms</th>\n",
       "      <th>total_bedrooms</th>\n",
       "      <th>population</th>\n",
       "      <th>households</th>\n",
       "      <th>median_income</th>\n",
       "      <th>median_house_value</th>\n",
       "      <th>random</th>\n",
       "    </tr>\n",
       "  </thead>\n",
       "  <tbody>\n",
       "    <tr>\n",
       "      <th>0</th>\n",
       "      <td>-122.05</td>\n",
       "      <td>37.37</td>\n",
       "      <td>27</td>\n",
       "      <td>3885</td>\n",
       "      <td>661</td>\n",
       "      <td>1537</td>\n",
       "      <td>606</td>\n",
       "      <td>6.6085</td>\n",
       "      <td>344700</td>\n",
       "      <td>0.125489</td>\n",
       "    </tr>\n",
       "    <tr>\n",
       "      <th>2</th>\n",
       "      <td>-117.81</td>\n",
       "      <td>33.78</td>\n",
       "      <td>27</td>\n",
       "      <td>3589</td>\n",
       "      <td>507</td>\n",
       "      <td>1484</td>\n",
       "      <td>495</td>\n",
       "      <td>5.7934</td>\n",
       "      <td>270500</td>\n",
       "      <td>0.369411</td>\n",
       "    </tr>\n",
       "    <tr>\n",
       "      <th>7</th>\n",
       "      <td>-120.65</td>\n",
       "      <td>35.48</td>\n",
       "      <td>19</td>\n",
       "      <td>2310</td>\n",
       "      <td>471</td>\n",
       "      <td>1341</td>\n",
       "      <td>441</td>\n",
       "      <td>3.2250</td>\n",
       "      <td>166900</td>\n",
       "      <td>-0.465242</td>\n",
       "    </tr>\n",
       "    <tr>\n",
       "      <th>8</th>\n",
       "      <td>-122.84</td>\n",
       "      <td>38.40</td>\n",
       "      <td>15</td>\n",
       "      <td>3080</td>\n",
       "      <td>617</td>\n",
       "      <td>1446</td>\n",
       "      <td>599</td>\n",
       "      <td>3.6696</td>\n",
       "      <td>194400</td>\n",
       "      <td>-0.079038</td>\n",
       "    </tr>\n",
       "    <tr>\n",
       "      <th>9</th>\n",
       "      <td>-118.02</td>\n",
       "      <td>34.08</td>\n",
       "      <td>31</td>\n",
       "      <td>2402</td>\n",
       "      <td>632</td>\n",
       "      <td>2830</td>\n",
       "      <td>603</td>\n",
       "      <td>2.3333</td>\n",
       "      <td>164200</td>\n",
       "      <td>0.433597</td>\n",
       "    </tr>\n",
       "    <tr>\n",
       "      <th>...</th>\n",
       "      <td>...</td>\n",
       "      <td>...</td>\n",
       "      <td>...</td>\n",
       "      <td>...</td>\n",
       "      <td>...</td>\n",
       "      <td>...</td>\n",
       "      <td>...</td>\n",
       "      <td>...</td>\n",
       "      <td>...</td>\n",
       "      <td>...</td>\n",
       "    </tr>\n",
       "    <tr>\n",
       "      <th>2988</th>\n",
       "      <td>-122.01</td>\n",
       "      <td>36.97</td>\n",
       "      <td>43</td>\n",
       "      <td>2162</td>\n",
       "      <td>509</td>\n",
       "      <td>1208</td>\n",
       "      <td>464</td>\n",
       "      <td>2.5417</td>\n",
       "      <td>260900</td>\n",
       "      <td>-1.141455</td>\n",
       "    </tr>\n",
       "    <tr>\n",
       "      <th>2989</th>\n",
       "      <td>-122.02</td>\n",
       "      <td>37.60</td>\n",
       "      <td>32</td>\n",
       "      <td>1295</td>\n",
       "      <td>295</td>\n",
       "      <td>1097</td>\n",
       "      <td>328</td>\n",
       "      <td>3.2386</td>\n",
       "      <td>149600</td>\n",
       "      <td>1.048335</td>\n",
       "    </tr>\n",
       "    <tr>\n",
       "      <th>2990</th>\n",
       "      <td>-118.23</td>\n",
       "      <td>34.09</td>\n",
       "      <td>49</td>\n",
       "      <td>1638</td>\n",
       "      <td>456</td>\n",
       "      <td>1500</td>\n",
       "      <td>430</td>\n",
       "      <td>2.6923</td>\n",
       "      <td>150000</td>\n",
       "      <td>0.222278</td>\n",
       "    </tr>\n",
       "    <tr>\n",
       "      <th>2995</th>\n",
       "      <td>-119.86</td>\n",
       "      <td>34.42</td>\n",
       "      <td>23</td>\n",
       "      <td>1450</td>\n",
       "      <td>642</td>\n",
       "      <td>1258</td>\n",
       "      <td>607</td>\n",
       "      <td>1.1790</td>\n",
       "      <td>225000</td>\n",
       "      <td>1.077911</td>\n",
       "    </tr>\n",
       "    <tr>\n",
       "      <th>2996</th>\n",
       "      <td>-118.14</td>\n",
       "      <td>34.06</td>\n",
       "      <td>27</td>\n",
       "      <td>5257</td>\n",
       "      <td>1082</td>\n",
       "      <td>3496</td>\n",
       "      <td>1036</td>\n",
       "      <td>3.3906</td>\n",
       "      <td>237200</td>\n",
       "      <td>-0.028796</td>\n",
       "    </tr>\n",
       "  </tbody>\n",
       "</table>\n",
       "<p>1798 rows × 10 columns</p>\n",
       "</div>"
      ],
      "text/plain": [
       "      longitude  latitude  housing_median_age  total_rooms  total_bedrooms  \\\n",
       "0       -122.05     37.37                  27         3885             661   \n",
       "2       -117.81     33.78                  27         3589             507   \n",
       "7       -120.65     35.48                  19         2310             471   \n",
       "8       -122.84     38.40                  15         3080             617   \n",
       "9       -118.02     34.08                  31         2402             632   \n",
       "...         ...       ...                 ...          ...             ...   \n",
       "2988    -122.01     36.97                  43         2162             509   \n",
       "2989    -122.02     37.60                  32         1295             295   \n",
       "2990    -118.23     34.09                  49         1638             456   \n",
       "2995    -119.86     34.42                  23         1450             642   \n",
       "2996    -118.14     34.06                  27         5257            1082   \n",
       "\n",
       "      population  households  median_income  median_house_value    random  \n",
       "0           1537         606         6.6085              344700  0.125489  \n",
       "2           1484         495         5.7934              270500  0.369411  \n",
       "7           1341         441         3.2250              166900 -0.465242  \n",
       "8           1446         599         3.6696              194400 -0.079038  \n",
       "9           2830         603         2.3333              164200  0.433597  \n",
       "...          ...         ...            ...                 ...       ...  \n",
       "2988        1208         464         2.5417              260900 -1.141455  \n",
       "2989        1097         328         3.2386              149600  1.048335  \n",
       "2990        1500         430         2.6923              150000  0.222278  \n",
       "2995        1258         607         1.1790              225000  1.077911  \n",
       "2996        3496        1036         3.3906              237200 -0.028796  \n",
       "\n",
       "[1798 rows x 10 columns]"
      ]
     },
     "execution_count": 28,
     "metadata": {},
     "output_type": "execute_result"
    }
   ],
   "source": [
    "cali_housing[cali_housing[\"population\"] > 1000]"
   ]
  },
  {
   "cell_type": "markdown",
   "metadata": {
    "colab_type": "text",
    "id": "PDy5UYHRDQQ9"
   },
   "source": [
    "## Selección de celdas con at y iat"
   ]
  },
  {
   "cell_type": "markdown",
   "metadata": {
    "colab_type": "text",
    "id": "TXG-TXOBKiWz"
   },
   "source": [
    "**at** utiliza etiquetas para seleccionar elementos:"
   ]
  },
  {
   "cell_type": "code",
   "execution_count": 29,
   "metadata": {
    "colab": {},
    "colab_type": "code",
    "id": "is4bKkN9DQYE"
   },
   "outputs": [
    {
     "data": {
      "text/plain": [
       "27"
      ]
     },
     "execution_count": 29,
     "metadata": {},
     "output_type": "execute_result"
    }
   ],
   "source": [
    "cali_housing.at[0, \"housing_median_age\"]"
   ]
  },
  {
   "cell_type": "markdown",
   "metadata": {
    "colab_type": "text",
    "id": "QvT-XktzKjHr"
   },
   "source": [
    "**iat** utiliza enteros para seleccionar elementos:"
   ]
  },
  {
   "cell_type": "code",
   "execution_count": 30,
   "metadata": {
    "colab": {},
    "colab_type": "code",
    "id": "LdKMvBAHKrtI"
   },
   "outputs": [
    {
     "data": {
      "text/plain": [
       "310"
      ]
     },
     "execution_count": 30,
     "metadata": {},
     "output_type": "execute_result"
    }
   ],
   "source": [
    "cali_housing.iat[1, 4]"
   ]
  },
  {
   "cell_type": "markdown",
   "metadata": {
    "colab_type": "text",
    "id": "-KhyFcrLo102"
   },
   "source": [
    "## Asignación elemento"
   ]
  },
  {
   "cell_type": "markdown",
   "metadata": {
    "colab_type": "text",
    "id": "mbKBHIY1Pvc2"
   },
   "source": [
    "También puedes cambir el contenido de las celdas directamente mediante asignación:"
   ]
  },
  {
   "cell_type": "code",
   "execution_count": 31,
   "metadata": {
    "colab": {},
    "colab_type": "code",
    "id": "B-pJidvUP5BL"
   },
   "outputs": [
    {
     "data": {
      "text/html": [
       "<div>\n",
       "<style scoped>\n",
       "    .dataframe tbody tr th:only-of-type {\n",
       "        vertical-align: middle;\n",
       "    }\n",
       "\n",
       "    .dataframe tbody tr th {\n",
       "        vertical-align: top;\n",
       "    }\n",
       "\n",
       "    .dataframe thead th {\n",
       "        text-align: right;\n",
       "    }\n",
       "</style>\n",
       "<table border=\"1\" class=\"dataframe\">\n",
       "  <thead>\n",
       "    <tr style=\"text-align: right;\">\n",
       "      <th></th>\n",
       "      <th>longitude</th>\n",
       "      <th>latitude</th>\n",
       "      <th>housing_median_age</th>\n",
       "      <th>total_rooms</th>\n",
       "      <th>total_bedrooms</th>\n",
       "      <th>population</th>\n",
       "      <th>households</th>\n",
       "      <th>median_income</th>\n",
       "      <th>median_house_value</th>\n",
       "      <th>random</th>\n",
       "    </tr>\n",
       "  </thead>\n",
       "  <tbody>\n",
       "    <tr>\n",
       "      <th>0</th>\n",
       "      <td>-122.05</td>\n",
       "      <td>37.37</td>\n",
       "      <td>27</td>\n",
       "      <td>3885</td>\n",
       "      <td>661</td>\n",
       "      <td>1537</td>\n",
       "      <td>606</td>\n",
       "      <td>6.6085</td>\n",
       "      <td>344700</td>\n",
       "      <td>0.125489</td>\n",
       "    </tr>\n",
       "    <tr>\n",
       "      <th>1</th>\n",
       "      <td>-118.30</td>\n",
       "      <td>34.26</td>\n",
       "      <td>43</td>\n",
       "      <td>1510</td>\n",
       "      <td>200</td>\n",
       "      <td>809</td>\n",
       "      <td>277</td>\n",
       "      <td>3.5990</td>\n",
       "      <td>176500</td>\n",
       "      <td>-0.341393</td>\n",
       "    </tr>\n",
       "    <tr>\n",
       "      <th>2</th>\n",
       "      <td>-117.81</td>\n",
       "      <td>33.78</td>\n",
       "      <td>27</td>\n",
       "      <td>3589</td>\n",
       "      <td>507</td>\n",
       "      <td>1484</td>\n",
       "      <td>495</td>\n",
       "      <td>5.7934</td>\n",
       "      <td>270500</td>\n",
       "      <td>0.369411</td>\n",
       "    </tr>\n",
       "    <tr>\n",
       "      <th>3</th>\n",
       "      <td>-118.36</td>\n",
       "      <td>33.82</td>\n",
       "      <td>28</td>\n",
       "      <td>67</td>\n",
       "      <td>15</td>\n",
       "      <td>49</td>\n",
       "      <td>11</td>\n",
       "      <td>6.1359</td>\n",
       "      <td>330000</td>\n",
       "      <td>1.507175</td>\n",
       "    </tr>\n",
       "    <tr>\n",
       "      <th>4</th>\n",
       "      <td>-119.67</td>\n",
       "      <td>36.33</td>\n",
       "      <td>19</td>\n",
       "      <td>1241</td>\n",
       "      <td>244</td>\n",
       "      <td>850</td>\n",
       "      <td>237</td>\n",
       "      <td>2.9375</td>\n",
       "      <td>81700</td>\n",
       "      <td>3.024871</td>\n",
       "    </tr>\n",
       "    <tr>\n",
       "      <th>...</th>\n",
       "      <td>...</td>\n",
       "      <td>...</td>\n",
       "      <td>...</td>\n",
       "      <td>...</td>\n",
       "      <td>...</td>\n",
       "      <td>...</td>\n",
       "      <td>...</td>\n",
       "      <td>...</td>\n",
       "      <td>...</td>\n",
       "      <td>...</td>\n",
       "    </tr>\n",
       "    <tr>\n",
       "      <th>2995</th>\n",
       "      <td>-119.86</td>\n",
       "      <td>34.42</td>\n",
       "      <td>23</td>\n",
       "      <td>1450</td>\n",
       "      <td>642</td>\n",
       "      <td>1258</td>\n",
       "      <td>607</td>\n",
       "      <td>1.1790</td>\n",
       "      <td>225000</td>\n",
       "      <td>1.077911</td>\n",
       "    </tr>\n",
       "    <tr>\n",
       "      <th>2996</th>\n",
       "      <td>-118.14</td>\n",
       "      <td>34.06</td>\n",
       "      <td>27</td>\n",
       "      <td>5257</td>\n",
       "      <td>1082</td>\n",
       "      <td>3496</td>\n",
       "      <td>1036</td>\n",
       "      <td>3.3906</td>\n",
       "      <td>237200</td>\n",
       "      <td>-0.028796</td>\n",
       "    </tr>\n",
       "    <tr>\n",
       "      <th>2997</th>\n",
       "      <td>-119.70</td>\n",
       "      <td>36.30</td>\n",
       "      <td>10</td>\n",
       "      <td>956</td>\n",
       "      <td>201</td>\n",
       "      <td>693</td>\n",
       "      <td>220</td>\n",
       "      <td>2.2895</td>\n",
       "      <td>62000</td>\n",
       "      <td>-0.024242</td>\n",
       "    </tr>\n",
       "    <tr>\n",
       "      <th>2998</th>\n",
       "      <td>-117.12</td>\n",
       "      <td>34.10</td>\n",
       "      <td>40</td>\n",
       "      <td>96</td>\n",
       "      <td>14</td>\n",
       "      <td>46</td>\n",
       "      <td>14</td>\n",
       "      <td>3.2708</td>\n",
       "      <td>162500</td>\n",
       "      <td>-0.694059</td>\n",
       "    </tr>\n",
       "    <tr>\n",
       "      <th>2999</th>\n",
       "      <td>-119.63</td>\n",
       "      <td>34.42</td>\n",
       "      <td>42</td>\n",
       "      <td>1765</td>\n",
       "      <td>263</td>\n",
       "      <td>753</td>\n",
       "      <td>260</td>\n",
       "      <td>8.5608</td>\n",
       "      <td>500001</td>\n",
       "      <td>-1.414512</td>\n",
       "    </tr>\n",
       "  </tbody>\n",
       "</table>\n",
       "<p>3000 rows × 10 columns</p>\n",
       "</div>"
      ],
      "text/plain": [
       "      longitude  latitude  housing_median_age  total_rooms  total_bedrooms  \\\n",
       "0       -122.05     37.37                  27         3885             661   \n",
       "1       -118.30     34.26                  43         1510             200   \n",
       "2       -117.81     33.78                  27         3589             507   \n",
       "3       -118.36     33.82                  28           67              15   \n",
       "4       -119.67     36.33                  19         1241             244   \n",
       "...         ...       ...                 ...          ...             ...   \n",
       "2995    -119.86     34.42                  23         1450             642   \n",
       "2996    -118.14     34.06                  27         5257            1082   \n",
       "2997    -119.70     36.30                  10          956             201   \n",
       "2998    -117.12     34.10                  40           96              14   \n",
       "2999    -119.63     34.42                  42         1765             263   \n",
       "\n",
       "      population  households  median_income  median_house_value    random  \n",
       "0           1537         606         6.6085              344700  0.125489  \n",
       "1            809         277         3.5990              176500 -0.341393  \n",
       "2           1484         495         5.7934              270500  0.369411  \n",
       "3             49          11         6.1359              330000  1.507175  \n",
       "4            850         237         2.9375               81700  3.024871  \n",
       "...          ...         ...            ...                 ...       ...  \n",
       "2995        1258         607         1.1790              225000  1.077911  \n",
       "2996        3496        1036         3.3906              237200 -0.028796  \n",
       "2997         693         220         2.2895               62000 -0.024242  \n",
       "2998          46          14         3.2708              162500 -0.694059  \n",
       "2999         753         260         8.5608              500001 -1.414512  \n",
       "\n",
       "[3000 rows x 10 columns]"
      ]
     },
     "execution_count": 31,
     "metadata": {},
     "output_type": "execute_result"
    }
   ],
   "source": [
    "cali_housing.iat[1, 4] = 200.0\n",
    "cali_housing"
   ]
  },
  {
   "cell_type": "markdown",
   "metadata": {
    "colab_type": "text",
    "id": "I9ok7Tv_9_Fo"
   },
   "source": [
    "## Otros\n",
    "Otros métodos que podrían ser útiles:\n",
    "\n",
    "* idxmax()\n",
    "* idxmin()\n",
    "* filter()\n",
    "* take()\n",
    "* truncate()\n",
    "\n",
    "Puedes ver la lista completa de métodos para la selección, re-indexado y manipulación de etiquetas en la [documentación de Pandas](https://pandas.pydata.org/docs/reference/frame.html#reindexing-selection-label-manipulation)."
   ]
  },
  {
   "cell_type": "markdown",
   "metadata": {
    "colab_type": "text",
    "id": "XS-y991zSHto"
   },
   "source": [
    "# Atributos\n",
    "\n",
    "* df.T\n",
    "* df.axes\n",
    "* df.dtypes\n",
    "* df.shape\n",
    "* df.size\n",
    "* df.values"
   ]
  },
  {
   "cell_type": "markdown",
   "metadata": {
    "colab_type": "text",
    "id": "Od7ystmNLEZ2"
   },
   "source": [
    "## df.T\n",
    "\n",
    "La transpuesta de df (filas y columnas intercambiadas):"
   ]
  },
  {
   "cell_type": "code",
   "execution_count": 32,
   "metadata": {
    "colab": {},
    "colab_type": "code",
    "id": "T-geuTelA-kY"
   },
   "outputs": [
    {
     "data": {
      "text/html": [
       "<div>\n",
       "<style scoped>\n",
       "    .dataframe tbody tr th:only-of-type {\n",
       "        vertical-align: middle;\n",
       "    }\n",
       "\n",
       "    .dataframe tbody tr th {\n",
       "        vertical-align: top;\n",
       "    }\n",
       "\n",
       "    .dataframe thead th {\n",
       "        text-align: right;\n",
       "    }\n",
       "</style>\n",
       "<table border=\"1\" class=\"dataframe\">\n",
       "  <thead>\n",
       "    <tr style=\"text-align: right;\">\n",
       "      <th></th>\n",
       "      <th>0</th>\n",
       "      <th>1</th>\n",
       "      <th>2</th>\n",
       "      <th>3</th>\n",
       "      <th>4</th>\n",
       "      <th>5</th>\n",
       "      <th>6</th>\n",
       "      <th>7</th>\n",
       "      <th>8</th>\n",
       "      <th>9</th>\n",
       "      <th>...</th>\n",
       "      <th>2990</th>\n",
       "      <th>2991</th>\n",
       "      <th>2992</th>\n",
       "      <th>2993</th>\n",
       "      <th>2994</th>\n",
       "      <th>2995</th>\n",
       "      <th>2996</th>\n",
       "      <th>2997</th>\n",
       "      <th>2998</th>\n",
       "      <th>2999</th>\n",
       "    </tr>\n",
       "  </thead>\n",
       "  <tbody>\n",
       "    <tr>\n",
       "      <th>longitude</th>\n",
       "      <td>-122.050000</td>\n",
       "      <td>-118.300000</td>\n",
       "      <td>-117.810000</td>\n",
       "      <td>-118.360000</td>\n",
       "      <td>-119.670000</td>\n",
       "      <td>-119.560000</td>\n",
       "      <td>-121.430000</td>\n",
       "      <td>-120.650000</td>\n",
       "      <td>-122.840000</td>\n",
       "      <td>-118.020000</td>\n",
       "      <td>...</td>\n",
       "      <td>-118.230000</td>\n",
       "      <td>-117.170000</td>\n",
       "      <td>-122.330000</td>\n",
       "      <td>-117.9100</td>\n",
       "      <td>-117.930000</td>\n",
       "      <td>-119.860000</td>\n",
       "      <td>-118.140000</td>\n",
       "      <td>-119.700000</td>\n",
       "      <td>-117.120000</td>\n",
       "      <td>-119.630000</td>\n",
       "    </tr>\n",
       "    <tr>\n",
       "      <th>latitude</th>\n",
       "      <td>37.370000</td>\n",
       "      <td>34.260000</td>\n",
       "      <td>33.780000</td>\n",
       "      <td>33.820000</td>\n",
       "      <td>36.330000</td>\n",
       "      <td>36.510000</td>\n",
       "      <td>38.630000</td>\n",
       "      <td>35.480000</td>\n",
       "      <td>38.400000</td>\n",
       "      <td>34.080000</td>\n",
       "      <td>...</td>\n",
       "      <td>34.090000</td>\n",
       "      <td>34.280000</td>\n",
       "      <td>37.390000</td>\n",
       "      <td>33.6000</td>\n",
       "      <td>33.860000</td>\n",
       "      <td>34.420000</td>\n",
       "      <td>34.060000</td>\n",
       "      <td>36.300000</td>\n",
       "      <td>34.100000</td>\n",
       "      <td>34.420000</td>\n",
       "    </tr>\n",
       "    <tr>\n",
       "      <th>housing_median_age</th>\n",
       "      <td>27.000000</td>\n",
       "      <td>43.000000</td>\n",
       "      <td>27.000000</td>\n",
       "      <td>28.000000</td>\n",
       "      <td>19.000000</td>\n",
       "      <td>37.000000</td>\n",
       "      <td>43.000000</td>\n",
       "      <td>19.000000</td>\n",
       "      <td>15.000000</td>\n",
       "      <td>31.000000</td>\n",
       "      <td>...</td>\n",
       "      <td>49.000000</td>\n",
       "      <td>13.000000</td>\n",
       "      <td>52.000000</td>\n",
       "      <td>37.0000</td>\n",
       "      <td>35.000000</td>\n",
       "      <td>23.000000</td>\n",
       "      <td>27.000000</td>\n",
       "      <td>10.000000</td>\n",
       "      <td>40.000000</td>\n",
       "      <td>42.000000</td>\n",
       "    </tr>\n",
       "    <tr>\n",
       "      <th>total_rooms</th>\n",
       "      <td>3885.000000</td>\n",
       "      <td>1510.000000</td>\n",
       "      <td>3589.000000</td>\n",
       "      <td>67.000000</td>\n",
       "      <td>1241.000000</td>\n",
       "      <td>1018.000000</td>\n",
       "      <td>1009.000000</td>\n",
       "      <td>2310.000000</td>\n",
       "      <td>3080.000000</td>\n",
       "      <td>2402.000000</td>\n",
       "      <td>...</td>\n",
       "      <td>1638.000000</td>\n",
       "      <td>4867.000000</td>\n",
       "      <td>573.000000</td>\n",
       "      <td>2088.0000</td>\n",
       "      <td>931.000000</td>\n",
       "      <td>1450.000000</td>\n",
       "      <td>5257.000000</td>\n",
       "      <td>956.000000</td>\n",
       "      <td>96.000000</td>\n",
       "      <td>1765.000000</td>\n",
       "    </tr>\n",
       "    <tr>\n",
       "      <th>total_bedrooms</th>\n",
       "      <td>661.000000</td>\n",
       "      <td>200.000000</td>\n",
       "      <td>507.000000</td>\n",
       "      <td>15.000000</td>\n",
       "      <td>244.000000</td>\n",
       "      <td>213.000000</td>\n",
       "      <td>225.000000</td>\n",
       "      <td>471.000000</td>\n",
       "      <td>617.000000</td>\n",
       "      <td>632.000000</td>\n",
       "      <td>...</td>\n",
       "      <td>456.000000</td>\n",
       "      <td>718.000000</td>\n",
       "      <td>102.000000</td>\n",
       "      <td>510.0000</td>\n",
       "      <td>181.000000</td>\n",
       "      <td>642.000000</td>\n",
       "      <td>1082.000000</td>\n",
       "      <td>201.000000</td>\n",
       "      <td>14.000000</td>\n",
       "      <td>263.000000</td>\n",
       "    </tr>\n",
       "    <tr>\n",
       "      <th>population</th>\n",
       "      <td>1537.000000</td>\n",
       "      <td>809.000000</td>\n",
       "      <td>1484.000000</td>\n",
       "      <td>49.000000</td>\n",
       "      <td>850.000000</td>\n",
       "      <td>663.000000</td>\n",
       "      <td>604.000000</td>\n",
       "      <td>1341.000000</td>\n",
       "      <td>1446.000000</td>\n",
       "      <td>2830.000000</td>\n",
       "      <td>...</td>\n",
       "      <td>1500.000000</td>\n",
       "      <td>780.000000</td>\n",
       "      <td>232.000000</td>\n",
       "      <td>673.0000</td>\n",
       "      <td>516.000000</td>\n",
       "      <td>1258.000000</td>\n",
       "      <td>3496.000000</td>\n",
       "      <td>693.000000</td>\n",
       "      <td>46.000000</td>\n",
       "      <td>753.000000</td>\n",
       "    </tr>\n",
       "    <tr>\n",
       "      <th>households</th>\n",
       "      <td>606.000000</td>\n",
       "      <td>277.000000</td>\n",
       "      <td>495.000000</td>\n",
       "      <td>11.000000</td>\n",
       "      <td>237.000000</td>\n",
       "      <td>204.000000</td>\n",
       "      <td>218.000000</td>\n",
       "      <td>441.000000</td>\n",
       "      <td>599.000000</td>\n",
       "      <td>603.000000</td>\n",
       "      <td>...</td>\n",
       "      <td>430.000000</td>\n",
       "      <td>250.000000</td>\n",
       "      <td>92.000000</td>\n",
       "      <td>390.0000</td>\n",
       "      <td>174.000000</td>\n",
       "      <td>607.000000</td>\n",
       "      <td>1036.000000</td>\n",
       "      <td>220.000000</td>\n",
       "      <td>14.000000</td>\n",
       "      <td>260.000000</td>\n",
       "    </tr>\n",
       "    <tr>\n",
       "      <th>median_income</th>\n",
       "      <td>6.608500</td>\n",
       "      <td>3.599000</td>\n",
       "      <td>5.793400</td>\n",
       "      <td>6.135900</td>\n",
       "      <td>2.937500</td>\n",
       "      <td>1.663500</td>\n",
       "      <td>1.664100</td>\n",
       "      <td>3.225000</td>\n",
       "      <td>3.669600</td>\n",
       "      <td>2.333300</td>\n",
       "      <td>...</td>\n",
       "      <td>2.692300</td>\n",
       "      <td>7.199700</td>\n",
       "      <td>6.226300</td>\n",
       "      <td>5.1048</td>\n",
       "      <td>5.586700</td>\n",
       "      <td>1.179000</td>\n",
       "      <td>3.390600</td>\n",
       "      <td>2.289500</td>\n",
       "      <td>3.270800</td>\n",
       "      <td>8.560800</td>\n",
       "    </tr>\n",
       "    <tr>\n",
       "      <th>median_house_value</th>\n",
       "      <td>344700.000000</td>\n",
       "      <td>176500.000000</td>\n",
       "      <td>270500.000000</td>\n",
       "      <td>330000.000000</td>\n",
       "      <td>81700.000000</td>\n",
       "      <td>67000.000000</td>\n",
       "      <td>67000.000000</td>\n",
       "      <td>166900.000000</td>\n",
       "      <td>194400.000000</td>\n",
       "      <td>164200.000000</td>\n",
       "      <td>...</td>\n",
       "      <td>150000.000000</td>\n",
       "      <td>253800.000000</td>\n",
       "      <td>500001.000000</td>\n",
       "      <td>500001.0000</td>\n",
       "      <td>182500.000000</td>\n",
       "      <td>225000.000000</td>\n",
       "      <td>237200.000000</td>\n",
       "      <td>62000.000000</td>\n",
       "      <td>162500.000000</td>\n",
       "      <td>500001.000000</td>\n",
       "    </tr>\n",
       "    <tr>\n",
       "      <th>random</th>\n",
       "      <td>0.125489</td>\n",
       "      <td>-0.341393</td>\n",
       "      <td>0.369411</td>\n",
       "      <td>1.507175</td>\n",
       "      <td>3.024871</td>\n",
       "      <td>0.900276</td>\n",
       "      <td>-0.624903</td>\n",
       "      <td>-0.465242</td>\n",
       "      <td>-0.079038</td>\n",
       "      <td>0.433597</td>\n",
       "      <td>...</td>\n",
       "      <td>0.222278</td>\n",
       "      <td>0.506745</td>\n",
       "      <td>-0.741658</td>\n",
       "      <td>0.2376</td>\n",
       "      <td>2.760538</td>\n",
       "      <td>1.077911</td>\n",
       "      <td>-0.028796</td>\n",
       "      <td>-0.024242</td>\n",
       "      <td>-0.694059</td>\n",
       "      <td>-1.414512</td>\n",
       "    </tr>\n",
       "  </tbody>\n",
       "</table>\n",
       "<p>10 rows × 3000 columns</p>\n",
       "</div>"
      ],
      "text/plain": [
       "                             0              1              2     \\\n",
       "longitude             -122.050000    -118.300000    -117.810000   \n",
       "latitude                37.370000      34.260000      33.780000   \n",
       "housing_median_age      27.000000      43.000000      27.000000   \n",
       "total_rooms           3885.000000    1510.000000    3589.000000   \n",
       "total_bedrooms         661.000000     200.000000     507.000000   \n",
       "population            1537.000000     809.000000    1484.000000   \n",
       "households             606.000000     277.000000     495.000000   \n",
       "median_income            6.608500       3.599000       5.793400   \n",
       "median_house_value  344700.000000  176500.000000  270500.000000   \n",
       "random                   0.125489      -0.341393       0.369411   \n",
       "\n",
       "                             3             4             5             6     \\\n",
       "longitude             -118.360000   -119.670000   -119.560000   -121.430000   \n",
       "latitude                33.820000     36.330000     36.510000     38.630000   \n",
       "housing_median_age      28.000000     19.000000     37.000000     43.000000   \n",
       "total_rooms             67.000000   1241.000000   1018.000000   1009.000000   \n",
       "total_bedrooms          15.000000    244.000000    213.000000    225.000000   \n",
       "population              49.000000    850.000000    663.000000    604.000000   \n",
       "households              11.000000    237.000000    204.000000    218.000000   \n",
       "median_income            6.135900      2.937500      1.663500      1.664100   \n",
       "median_house_value  330000.000000  81700.000000  67000.000000  67000.000000   \n",
       "random                   1.507175      3.024871      0.900276     -0.624903   \n",
       "\n",
       "                             7              8              9     ...  \\\n",
       "longitude             -120.650000    -122.840000    -118.020000  ...   \n",
       "latitude                35.480000      38.400000      34.080000  ...   \n",
       "housing_median_age      19.000000      15.000000      31.000000  ...   \n",
       "total_rooms           2310.000000    3080.000000    2402.000000  ...   \n",
       "total_bedrooms         471.000000     617.000000     632.000000  ...   \n",
       "population            1341.000000    1446.000000    2830.000000  ...   \n",
       "households             441.000000     599.000000     603.000000  ...   \n",
       "median_income            3.225000       3.669600       2.333300  ...   \n",
       "median_house_value  166900.000000  194400.000000  164200.000000  ...   \n",
       "random                  -0.465242      -0.079038       0.433597  ...   \n",
       "\n",
       "                             2990           2991           2992         2993  \\\n",
       "longitude             -118.230000    -117.170000    -122.330000    -117.9100   \n",
       "latitude                34.090000      34.280000      37.390000      33.6000   \n",
       "housing_median_age      49.000000      13.000000      52.000000      37.0000   \n",
       "total_rooms           1638.000000    4867.000000     573.000000    2088.0000   \n",
       "total_bedrooms         456.000000     718.000000     102.000000     510.0000   \n",
       "population            1500.000000     780.000000     232.000000     673.0000   \n",
       "households             430.000000     250.000000      92.000000     390.0000   \n",
       "median_income            2.692300       7.199700       6.226300       5.1048   \n",
       "median_house_value  150000.000000  253800.000000  500001.000000  500001.0000   \n",
       "random                   0.222278       0.506745      -0.741658       0.2376   \n",
       "\n",
       "                             2994           2995           2996          2997  \\\n",
       "longitude             -117.930000    -119.860000    -118.140000   -119.700000   \n",
       "latitude                33.860000      34.420000      34.060000     36.300000   \n",
       "housing_median_age      35.000000      23.000000      27.000000     10.000000   \n",
       "total_rooms            931.000000    1450.000000    5257.000000    956.000000   \n",
       "total_bedrooms         181.000000     642.000000    1082.000000    201.000000   \n",
       "population             516.000000    1258.000000    3496.000000    693.000000   \n",
       "households             174.000000     607.000000    1036.000000    220.000000   \n",
       "median_income            5.586700       1.179000       3.390600      2.289500   \n",
       "median_house_value  182500.000000  225000.000000  237200.000000  62000.000000   \n",
       "random                   2.760538       1.077911      -0.028796     -0.024242   \n",
       "\n",
       "                             2998           2999  \n",
       "longitude             -117.120000    -119.630000  \n",
       "latitude                34.100000      34.420000  \n",
       "housing_median_age      40.000000      42.000000  \n",
       "total_rooms             96.000000    1765.000000  \n",
       "total_bedrooms          14.000000     263.000000  \n",
       "population              46.000000     753.000000  \n",
       "households              14.000000     260.000000  \n",
       "median_income            3.270800       8.560800  \n",
       "median_house_value  162500.000000  500001.000000  \n",
       "random                  -0.694059      -1.414512  \n",
       "\n",
       "[10 rows x 3000 columns]"
      ]
     },
     "execution_count": 32,
     "metadata": {},
     "output_type": "execute_result"
    }
   ],
   "source": [
    "#Los indices pasan a ser los nombres de las columnas, las columnas a indices\n",
    "cali_housing.T"
   ]
  },
  {
   "cell_type": "markdown",
   "metadata": {
    "colab_type": "text",
    "id": "7jTK7OIILPGv"
   },
   "source": [
    "## df.axes\n",
    "\n",
    "Retorna información sobre los axes que componen al objeto:\n"
   ]
  },
  {
   "cell_type": "code",
   "execution_count": 33,
   "metadata": {
    "colab": {},
    "colab_type": "code",
    "id": "DFBm4zEvLezZ"
   },
   "outputs": [
    {
     "data": {
      "text/plain": [
       "[Int64Index([   0,    1,    2,    3,    4,    5,    6,    7,    8,    9,\n",
       "             ...\n",
       "             2990, 2991, 2992, 2993, 2994, 2995, 2996, 2997, 2998, 2999],\n",
       "            dtype='int64', length=3000),\n",
       " Index(['longitude', 'latitude', 'housing_median_age', 'total_rooms',\n",
       "        'total_bedrooms', 'population', 'households', 'median_income',\n",
       "        'median_house_value', 'random'],\n",
       "       dtype='object')]"
      ]
     },
     "execution_count": 33,
     "metadata": {},
     "output_type": "execute_result"
    }
   ],
   "source": [
    "cali_housing.axes"
   ]
  },
  {
   "cell_type": "markdown",
   "metadata": {
    "colab_type": "text",
    "id": "yWLJ_QrBLPNg"
   },
   "source": [
    "## df.dtypes\n",
    "\n",
    "Retorna los tipos de datos utilizados por el objeto:"
   ]
  },
  {
   "cell_type": "code",
   "execution_count": 34,
   "metadata": {
    "colab": {},
    "colab_type": "code",
    "id": "VmixPgzyLw2s"
   },
   "outputs": [
    {
     "data": {
      "text/plain": [
       "longitude             float64\n",
       "latitude              float64\n",
       "housing_median_age      int64\n",
       "total_rooms             int64\n",
       "total_bedrooms          int64\n",
       "population              int64\n",
       "households              int64\n",
       "median_income         float64\n",
       "median_house_value      int64\n",
       "random                float64\n",
       "dtype: object"
      ]
     },
     "execution_count": 34,
     "metadata": {},
     "output_type": "execute_result"
    }
   ],
   "source": [
    "cali_housing.dtypes"
   ]
  },
  {
   "cell_type": "markdown",
   "metadata": {
    "colab_type": "text",
    "id": "UM0jUGlRLUIi"
   },
   "source": [
    "## df.shape\n",
    "\n",
    "La forma del objeto (número de filas y columnas en un DataFrame):"
   ]
  },
  {
   "cell_type": "code",
   "execution_count": 35,
   "metadata": {
    "colab": {},
    "colab_type": "code",
    "id": "W8GN4lewL48N"
   },
   "outputs": [
    {
     "data": {
      "text/plain": [
       "(3000, 10)"
      ]
     },
     "execution_count": 35,
     "metadata": {},
     "output_type": "execute_result"
    }
   ],
   "source": [
    "cali_housing.shape"
   ]
  },
  {
   "cell_type": "markdown",
   "metadata": {
    "colab_type": "text",
    "id": "FfWUXPnoLUM0"
   },
   "source": [
    "## df.size\n",
    "\n",
    "El número de elementos en el objeto (número de celdas en un DataFrame):"
   ]
  },
  {
   "cell_type": "code",
   "execution_count": 36,
   "metadata": {
    "colab": {},
    "colab_type": "code",
    "id": "g094BaXSL73J"
   },
   "outputs": [
    {
     "data": {
      "text/plain": [
       "30000"
      ]
     },
     "execution_count": 36,
     "metadata": {},
     "output_type": "execute_result"
    }
   ],
   "source": [
    "cali_housing.size"
   ]
  },
  {
   "cell_type": "markdown",
   "metadata": {
    "colab_type": "text",
    "id": "W3JaXU6jLcnB"
   },
   "source": [
    "## df.values\n",
    "\n",
    "Retorna el objeto de Pandas como un arreglo de Numpy:"
   ]
  },
  {
   "cell_type": "code",
   "execution_count": 42,
   "metadata": {
    "colab": {},
    "colab_type": "code",
    "id": "zkLZjQPnL-Vo"
   },
   "outputs": [
    {
     "data": {
      "text/plain": [
       "array([[-0.32254832, -1.18070435, -0.35570339, -0.31167262],\n",
       "       [-0.77879601, -2.03909804,  0.6919108 ,  0.61218611],\n",
       "       [ 1.17629802,  0.6607462 ,  0.53195904,  0.32983754],\n",
       "       [-0.47042571, -0.52207816, -1.73845927,  1.19559553],\n",
       "       [ 0.5194611 , -0.91183448, -0.18406692, -0.02214822],\n",
       "       [-0.6835838 , -1.56546545, -0.74406144,  0.04578044]])"
      ]
     },
     "execution_count": 42,
     "metadata": {},
     "output_type": "execute_result"
    }
   ],
   "source": [
    "df.values"
   ]
  },
  {
   "cell_type": "markdown",
   "metadata": {
    "colab_type": "text",
    "id": "xhUkS2LaQgJb"
   },
   "source": [
    "# Eliminación\n"
   ]
  },
  {
   "cell_type": "markdown",
   "metadata": {
    "colab_type": "text",
    "id": "RQqR-sPNRM-t"
   },
   "source": [
    "## Remover filas o columnas con df.drop()\n",
    "\n",
    "El método drop() permite eliminar filas o columnas al especificar el axis correspondiente, puedes eliminar más de una usando una lista como parámetro:"
   ]
  },
  {
   "cell_type": "code",
   "execution_count": 43,
   "metadata": {
    "colab": {},
    "colab_type": "code",
    "id": "9P80knKTRNLQ"
   },
   "outputs": [
    {
     "data": {
      "text/html": [
       "<div>\n",
       "<style scoped>\n",
       "    .dataframe tbody tr th:only-of-type {\n",
       "        vertical-align: middle;\n",
       "    }\n",
       "\n",
       "    .dataframe tbody tr th {\n",
       "        vertical-align: top;\n",
       "    }\n",
       "\n",
       "    .dataframe thead th {\n",
       "        text-align: right;\n",
       "    }\n",
       "</style>\n",
       "<table border=\"1\" class=\"dataframe\">\n",
       "  <thead>\n",
       "    <tr style=\"text-align: right;\">\n",
       "      <th></th>\n",
       "      <th>longitude</th>\n",
       "      <th>latitude</th>\n",
       "      <th>housing_median_age</th>\n",
       "      <th>total_rooms</th>\n",
       "      <th>total_bedrooms</th>\n",
       "      <th>population</th>\n",
       "      <th>households</th>\n",
       "      <th>median_income</th>\n",
       "      <th>median_house_value</th>\n",
       "      <th>random</th>\n",
       "      <th>temp</th>\n",
       "      <th>temp2</th>\n",
       "    </tr>\n",
       "  </thead>\n",
       "  <tbody>\n",
       "    <tr>\n",
       "      <th>0</th>\n",
       "      <td>-122.05</td>\n",
       "      <td>37.37</td>\n",
       "      <td>27</td>\n",
       "      <td>3885</td>\n",
       "      <td>661</td>\n",
       "      <td>1537</td>\n",
       "      <td>606</td>\n",
       "      <td>6.6085</td>\n",
       "      <td>344700</td>\n",
       "      <td>0.125489</td>\n",
       "      <td>temp</td>\n",
       "      <td>temp2</td>\n",
       "    </tr>\n",
       "    <tr>\n",
       "      <th>1</th>\n",
       "      <td>-118.30</td>\n",
       "      <td>34.26</td>\n",
       "      <td>43</td>\n",
       "      <td>1510</td>\n",
       "      <td>200</td>\n",
       "      <td>809</td>\n",
       "      <td>277</td>\n",
       "      <td>3.5990</td>\n",
       "      <td>176500</td>\n",
       "      <td>-0.341393</td>\n",
       "      <td>temp</td>\n",
       "      <td>temp2</td>\n",
       "    </tr>\n",
       "    <tr>\n",
       "      <th>2</th>\n",
       "      <td>-117.81</td>\n",
       "      <td>33.78</td>\n",
       "      <td>27</td>\n",
       "      <td>3589</td>\n",
       "      <td>507</td>\n",
       "      <td>1484</td>\n",
       "      <td>495</td>\n",
       "      <td>5.7934</td>\n",
       "      <td>270500</td>\n",
       "      <td>0.369411</td>\n",
       "      <td>temp</td>\n",
       "      <td>temp2</td>\n",
       "    </tr>\n",
       "    <tr>\n",
       "      <th>3</th>\n",
       "      <td>-118.36</td>\n",
       "      <td>33.82</td>\n",
       "      <td>28</td>\n",
       "      <td>67</td>\n",
       "      <td>15</td>\n",
       "      <td>49</td>\n",
       "      <td>11</td>\n",
       "      <td>6.1359</td>\n",
       "      <td>330000</td>\n",
       "      <td>1.507175</td>\n",
       "      <td>temp</td>\n",
       "      <td>temp2</td>\n",
       "    </tr>\n",
       "    <tr>\n",
       "      <th>4</th>\n",
       "      <td>-119.67</td>\n",
       "      <td>36.33</td>\n",
       "      <td>19</td>\n",
       "      <td>1241</td>\n",
       "      <td>244</td>\n",
       "      <td>850</td>\n",
       "      <td>237</td>\n",
       "      <td>2.9375</td>\n",
       "      <td>81700</td>\n",
       "      <td>3.024871</td>\n",
       "      <td>temp</td>\n",
       "      <td>temp2</td>\n",
       "    </tr>\n",
       "    <tr>\n",
       "      <th>...</th>\n",
       "      <td>...</td>\n",
       "      <td>...</td>\n",
       "      <td>...</td>\n",
       "      <td>...</td>\n",
       "      <td>...</td>\n",
       "      <td>...</td>\n",
       "      <td>...</td>\n",
       "      <td>...</td>\n",
       "      <td>...</td>\n",
       "      <td>...</td>\n",
       "      <td>...</td>\n",
       "      <td>...</td>\n",
       "    </tr>\n",
       "    <tr>\n",
       "      <th>2995</th>\n",
       "      <td>-119.86</td>\n",
       "      <td>34.42</td>\n",
       "      <td>23</td>\n",
       "      <td>1450</td>\n",
       "      <td>642</td>\n",
       "      <td>1258</td>\n",
       "      <td>607</td>\n",
       "      <td>1.1790</td>\n",
       "      <td>225000</td>\n",
       "      <td>1.077911</td>\n",
       "      <td>temp</td>\n",
       "      <td>temp2</td>\n",
       "    </tr>\n",
       "    <tr>\n",
       "      <th>2996</th>\n",
       "      <td>-118.14</td>\n",
       "      <td>34.06</td>\n",
       "      <td>27</td>\n",
       "      <td>5257</td>\n",
       "      <td>1082</td>\n",
       "      <td>3496</td>\n",
       "      <td>1036</td>\n",
       "      <td>3.3906</td>\n",
       "      <td>237200</td>\n",
       "      <td>-0.028796</td>\n",
       "      <td>temp</td>\n",
       "      <td>temp2</td>\n",
       "    </tr>\n",
       "    <tr>\n",
       "      <th>2997</th>\n",
       "      <td>-119.70</td>\n",
       "      <td>36.30</td>\n",
       "      <td>10</td>\n",
       "      <td>956</td>\n",
       "      <td>201</td>\n",
       "      <td>693</td>\n",
       "      <td>220</td>\n",
       "      <td>2.2895</td>\n",
       "      <td>62000</td>\n",
       "      <td>-0.024242</td>\n",
       "      <td>temp</td>\n",
       "      <td>temp2</td>\n",
       "    </tr>\n",
       "    <tr>\n",
       "      <th>2998</th>\n",
       "      <td>-117.12</td>\n",
       "      <td>34.10</td>\n",
       "      <td>40</td>\n",
       "      <td>96</td>\n",
       "      <td>14</td>\n",
       "      <td>46</td>\n",
       "      <td>14</td>\n",
       "      <td>3.2708</td>\n",
       "      <td>162500</td>\n",
       "      <td>-0.694059</td>\n",
       "      <td>temp</td>\n",
       "      <td>temp2</td>\n",
       "    </tr>\n",
       "    <tr>\n",
       "      <th>2999</th>\n",
       "      <td>-119.63</td>\n",
       "      <td>34.42</td>\n",
       "      <td>42</td>\n",
       "      <td>1765</td>\n",
       "      <td>263</td>\n",
       "      <td>753</td>\n",
       "      <td>260</td>\n",
       "      <td>8.5608</td>\n",
       "      <td>500001</td>\n",
       "      <td>-1.414512</td>\n",
       "      <td>temp</td>\n",
       "      <td>temp2</td>\n",
       "    </tr>\n",
       "  </tbody>\n",
       "</table>\n",
       "<p>3000 rows × 12 columns</p>\n",
       "</div>"
      ],
      "text/plain": [
       "      longitude  latitude  housing_median_age  total_rooms  total_bedrooms  \\\n",
       "0       -122.05     37.37                  27         3885             661   \n",
       "1       -118.30     34.26                  43         1510             200   \n",
       "2       -117.81     33.78                  27         3589             507   \n",
       "3       -118.36     33.82                  28           67              15   \n",
       "4       -119.67     36.33                  19         1241             244   \n",
       "...         ...       ...                 ...          ...             ...   \n",
       "2995    -119.86     34.42                  23         1450             642   \n",
       "2996    -118.14     34.06                  27         5257            1082   \n",
       "2997    -119.70     36.30                  10          956             201   \n",
       "2998    -117.12     34.10                  40           96              14   \n",
       "2999    -119.63     34.42                  42         1765             263   \n",
       "\n",
       "      population  households  median_income  median_house_value    random  \\\n",
       "0           1537         606         6.6085              344700  0.125489   \n",
       "1            809         277         3.5990              176500 -0.341393   \n",
       "2           1484         495         5.7934              270500  0.369411   \n",
       "3             49          11         6.1359              330000  1.507175   \n",
       "4            850         237         2.9375               81700  3.024871   \n",
       "...          ...         ...            ...                 ...       ...   \n",
       "2995        1258         607         1.1790              225000  1.077911   \n",
       "2996        3496        1036         3.3906              237200 -0.028796   \n",
       "2997         693         220         2.2895               62000 -0.024242   \n",
       "2998          46          14         3.2708              162500 -0.694059   \n",
       "2999         753         260         8.5608              500001 -1.414512   \n",
       "\n",
       "      temp  temp2  \n",
       "0     temp  temp2  \n",
       "1     temp  temp2  \n",
       "2     temp  temp2  \n",
       "3     temp  temp2  \n",
       "4     temp  temp2  \n",
       "...    ...    ...  \n",
       "2995  temp  temp2  \n",
       "2996  temp  temp2  \n",
       "2997  temp  temp2  \n",
       "2998  temp  temp2  \n",
       "2999  temp  temp2  \n",
       "\n",
       "[3000 rows x 12 columns]"
      ]
     },
     "execution_count": 43,
     "metadata": {},
     "output_type": "execute_result"
    }
   ],
   "source": [
    "#primero agregamos dos nuevas columnas\n",
    "cali_housing[\"temp\"] = \"temp\"\n",
    "cali_housing[\"temp2\"] = cali_housing[\"temp\"] + \"2\"\n",
    "cali_housing"
   ]
  },
  {
   "cell_type": "markdown",
   "metadata": {
    "colab_type": "text",
    "id": "ZZ2h7ayddnQ-"
   },
   "source": [
    "Eliminar columnas con axis = 1"
   ]
  },
  {
   "cell_type": "code",
   "execution_count": 45,
   "metadata": {
    "colab": {},
    "colab_type": "code",
    "id": "5jwbMO9Xdnen"
   },
   "outputs": [
    {
     "data": {
      "text/html": [
       "<div>\n",
       "<style scoped>\n",
       "    .dataframe tbody tr th:only-of-type {\n",
       "        vertical-align: middle;\n",
       "    }\n",
       "\n",
       "    .dataframe tbody tr th {\n",
       "        vertical-align: top;\n",
       "    }\n",
       "\n",
       "    .dataframe thead th {\n",
       "        text-align: right;\n",
       "    }\n",
       "</style>\n",
       "<table border=\"1\" class=\"dataframe\">\n",
       "  <thead>\n",
       "    <tr style=\"text-align: right;\">\n",
       "      <th></th>\n",
       "      <th>longitude</th>\n",
       "      <th>latitude</th>\n",
       "      <th>housing_median_age</th>\n",
       "      <th>total_rooms</th>\n",
       "      <th>total_bedrooms</th>\n",
       "      <th>population</th>\n",
       "      <th>households</th>\n",
       "      <th>median_income</th>\n",
       "      <th>median_house_value</th>\n",
       "      <th>random</th>\n",
       "    </tr>\n",
       "  </thead>\n",
       "  <tbody>\n",
       "    <tr>\n",
       "      <th>0</th>\n",
       "      <td>-122.05</td>\n",
       "      <td>37.37</td>\n",
       "      <td>27</td>\n",
       "      <td>3885</td>\n",
       "      <td>661</td>\n",
       "      <td>1537</td>\n",
       "      <td>606</td>\n",
       "      <td>6.6085</td>\n",
       "      <td>344700</td>\n",
       "      <td>0.125489</td>\n",
       "    </tr>\n",
       "    <tr>\n",
       "      <th>1</th>\n",
       "      <td>-118.30</td>\n",
       "      <td>34.26</td>\n",
       "      <td>43</td>\n",
       "      <td>1510</td>\n",
       "      <td>200</td>\n",
       "      <td>809</td>\n",
       "      <td>277</td>\n",
       "      <td>3.5990</td>\n",
       "      <td>176500</td>\n",
       "      <td>-0.341393</td>\n",
       "    </tr>\n",
       "    <tr>\n",
       "      <th>2</th>\n",
       "      <td>-117.81</td>\n",
       "      <td>33.78</td>\n",
       "      <td>27</td>\n",
       "      <td>3589</td>\n",
       "      <td>507</td>\n",
       "      <td>1484</td>\n",
       "      <td>495</td>\n",
       "      <td>5.7934</td>\n",
       "      <td>270500</td>\n",
       "      <td>0.369411</td>\n",
       "    </tr>\n",
       "    <tr>\n",
       "      <th>3</th>\n",
       "      <td>-118.36</td>\n",
       "      <td>33.82</td>\n",
       "      <td>28</td>\n",
       "      <td>67</td>\n",
       "      <td>15</td>\n",
       "      <td>49</td>\n",
       "      <td>11</td>\n",
       "      <td>6.1359</td>\n",
       "      <td>330000</td>\n",
       "      <td>1.507175</td>\n",
       "    </tr>\n",
       "    <tr>\n",
       "      <th>4</th>\n",
       "      <td>-119.67</td>\n",
       "      <td>36.33</td>\n",
       "      <td>19</td>\n",
       "      <td>1241</td>\n",
       "      <td>244</td>\n",
       "      <td>850</td>\n",
       "      <td>237</td>\n",
       "      <td>2.9375</td>\n",
       "      <td>81700</td>\n",
       "      <td>3.024871</td>\n",
       "    </tr>\n",
       "    <tr>\n",
       "      <th>...</th>\n",
       "      <td>...</td>\n",
       "      <td>...</td>\n",
       "      <td>...</td>\n",
       "      <td>...</td>\n",
       "      <td>...</td>\n",
       "      <td>...</td>\n",
       "      <td>...</td>\n",
       "      <td>...</td>\n",
       "      <td>...</td>\n",
       "      <td>...</td>\n",
       "    </tr>\n",
       "    <tr>\n",
       "      <th>2995</th>\n",
       "      <td>-119.86</td>\n",
       "      <td>34.42</td>\n",
       "      <td>23</td>\n",
       "      <td>1450</td>\n",
       "      <td>642</td>\n",
       "      <td>1258</td>\n",
       "      <td>607</td>\n",
       "      <td>1.1790</td>\n",
       "      <td>225000</td>\n",
       "      <td>1.077911</td>\n",
       "    </tr>\n",
       "    <tr>\n",
       "      <th>2996</th>\n",
       "      <td>-118.14</td>\n",
       "      <td>34.06</td>\n",
       "      <td>27</td>\n",
       "      <td>5257</td>\n",
       "      <td>1082</td>\n",
       "      <td>3496</td>\n",
       "      <td>1036</td>\n",
       "      <td>3.3906</td>\n",
       "      <td>237200</td>\n",
       "      <td>-0.028796</td>\n",
       "    </tr>\n",
       "    <tr>\n",
       "      <th>2997</th>\n",
       "      <td>-119.70</td>\n",
       "      <td>36.30</td>\n",
       "      <td>10</td>\n",
       "      <td>956</td>\n",
       "      <td>201</td>\n",
       "      <td>693</td>\n",
       "      <td>220</td>\n",
       "      <td>2.2895</td>\n",
       "      <td>62000</td>\n",
       "      <td>-0.024242</td>\n",
       "    </tr>\n",
       "    <tr>\n",
       "      <th>2998</th>\n",
       "      <td>-117.12</td>\n",
       "      <td>34.10</td>\n",
       "      <td>40</td>\n",
       "      <td>96</td>\n",
       "      <td>14</td>\n",
       "      <td>46</td>\n",
       "      <td>14</td>\n",
       "      <td>3.2708</td>\n",
       "      <td>162500</td>\n",
       "      <td>-0.694059</td>\n",
       "    </tr>\n",
       "    <tr>\n",
       "      <th>2999</th>\n",
       "      <td>-119.63</td>\n",
       "      <td>34.42</td>\n",
       "      <td>42</td>\n",
       "      <td>1765</td>\n",
       "      <td>263</td>\n",
       "      <td>753</td>\n",
       "      <td>260</td>\n",
       "      <td>8.5608</td>\n",
       "      <td>500001</td>\n",
       "      <td>-1.414512</td>\n",
       "    </tr>\n",
       "  </tbody>\n",
       "</table>\n",
       "<p>3000 rows × 10 columns</p>\n",
       "</div>"
      ],
      "text/plain": [
       "      longitude  latitude  housing_median_age  total_rooms  total_bedrooms  \\\n",
       "0       -122.05     37.37                  27         3885             661   \n",
       "1       -118.30     34.26                  43         1510             200   \n",
       "2       -117.81     33.78                  27         3589             507   \n",
       "3       -118.36     33.82                  28           67              15   \n",
       "4       -119.67     36.33                  19         1241             244   \n",
       "...         ...       ...                 ...          ...             ...   \n",
       "2995    -119.86     34.42                  23         1450             642   \n",
       "2996    -118.14     34.06                  27         5257            1082   \n",
       "2997    -119.70     36.30                  10          956             201   \n",
       "2998    -117.12     34.10                  40           96              14   \n",
       "2999    -119.63     34.42                  42         1765             263   \n",
       "\n",
       "      population  households  median_income  median_house_value    random  \n",
       "0           1537         606         6.6085              344700  0.125489  \n",
       "1            809         277         3.5990              176500 -0.341393  \n",
       "2           1484         495         5.7934              270500  0.369411  \n",
       "3             49          11         6.1359              330000  1.507175  \n",
       "4            850         237         2.9375               81700  3.024871  \n",
       "...          ...         ...            ...                 ...       ...  \n",
       "2995        1258         607         1.1790              225000  1.077911  \n",
       "2996        3496        1036         3.3906              237200 -0.028796  \n",
       "2997         693         220         2.2895               62000 -0.024242  \n",
       "2998          46          14         3.2708              162500 -0.694059  \n",
       "2999         753         260         8.5608              500001 -1.414512  \n",
       "\n",
       "[3000 rows x 10 columns]"
      ]
     },
     "execution_count": 45,
     "metadata": {},
     "output_type": "execute_result"
    }
   ],
   "source": [
    "#drop devuelve un nuevo dataframe sin la columna\n",
    "df = cali_housing.drop([\"temp\", \"temp2\"], axis=1)\n",
    "df"
   ]
  },
  {
   "cell_type": "markdown",
   "metadata": {
    "colab_type": "text",
    "id": "4skGg56odnlF"
   },
   "source": [
    "Eliminar filas con axis = 0"
   ]
  },
  {
   "cell_type": "code",
   "execution_count": 46,
   "metadata": {
    "colab": {},
    "colab_type": "code",
    "id": "8ygP00w8dnsS"
   },
   "outputs": [
    {
     "data": {
      "text/html": [
       "<div>\n",
       "<style scoped>\n",
       "    .dataframe tbody tr th:only-of-type {\n",
       "        vertical-align: middle;\n",
       "    }\n",
       "\n",
       "    .dataframe tbody tr th {\n",
       "        vertical-align: top;\n",
       "    }\n",
       "\n",
       "    .dataframe thead th {\n",
       "        text-align: right;\n",
       "    }\n",
       "</style>\n",
       "<table border=\"1\" class=\"dataframe\">\n",
       "  <thead>\n",
       "    <tr style=\"text-align: right;\">\n",
       "      <th></th>\n",
       "      <th>longitude</th>\n",
       "      <th>latitude</th>\n",
       "      <th>housing_median_age</th>\n",
       "      <th>total_rooms</th>\n",
       "      <th>total_bedrooms</th>\n",
       "      <th>population</th>\n",
       "      <th>households</th>\n",
       "      <th>median_income</th>\n",
       "      <th>median_house_value</th>\n",
       "      <th>random</th>\n",
       "      <th>temp</th>\n",
       "      <th>temp2</th>\n",
       "    </tr>\n",
       "  </thead>\n",
       "  <tbody>\n",
       "    <tr>\n",
       "      <th>0</th>\n",
       "      <td>-122.05</td>\n",
       "      <td>37.37</td>\n",
       "      <td>27</td>\n",
       "      <td>3885</td>\n",
       "      <td>661</td>\n",
       "      <td>1537</td>\n",
       "      <td>606</td>\n",
       "      <td>6.6085</td>\n",
       "      <td>344700</td>\n",
       "      <td>0.125489</td>\n",
       "      <td>temp</td>\n",
       "      <td>temp2</td>\n",
       "    </tr>\n",
       "    <tr>\n",
       "      <th>1</th>\n",
       "      <td>-118.30</td>\n",
       "      <td>34.26</td>\n",
       "      <td>43</td>\n",
       "      <td>1510</td>\n",
       "      <td>200</td>\n",
       "      <td>809</td>\n",
       "      <td>277</td>\n",
       "      <td>3.5990</td>\n",
       "      <td>176500</td>\n",
       "      <td>-0.341393</td>\n",
       "      <td>temp</td>\n",
       "      <td>temp2</td>\n",
       "    </tr>\n",
       "    <tr>\n",
       "      <th>2</th>\n",
       "      <td>-117.81</td>\n",
       "      <td>33.78</td>\n",
       "      <td>27</td>\n",
       "      <td>3589</td>\n",
       "      <td>507</td>\n",
       "      <td>1484</td>\n",
       "      <td>495</td>\n",
       "      <td>5.7934</td>\n",
       "      <td>270500</td>\n",
       "      <td>0.369411</td>\n",
       "      <td>temp</td>\n",
       "      <td>temp2</td>\n",
       "    </tr>\n",
       "    <tr>\n",
       "      <th>3</th>\n",
       "      <td>-118.36</td>\n",
       "      <td>33.82</td>\n",
       "      <td>28</td>\n",
       "      <td>67</td>\n",
       "      <td>15</td>\n",
       "      <td>49</td>\n",
       "      <td>11</td>\n",
       "      <td>6.1359</td>\n",
       "      <td>330000</td>\n",
       "      <td>1.507175</td>\n",
       "      <td>temp</td>\n",
       "      <td>temp2</td>\n",
       "    </tr>\n",
       "    <tr>\n",
       "      <th>4</th>\n",
       "      <td>-119.67</td>\n",
       "      <td>36.33</td>\n",
       "      <td>19</td>\n",
       "      <td>1241</td>\n",
       "      <td>244</td>\n",
       "      <td>850</td>\n",
       "      <td>237</td>\n",
       "      <td>2.9375</td>\n",
       "      <td>81700</td>\n",
       "      <td>3.024871</td>\n",
       "      <td>temp</td>\n",
       "      <td>temp2</td>\n",
       "    </tr>\n",
       "    <tr>\n",
       "      <th>...</th>\n",
       "      <td>...</td>\n",
       "      <td>...</td>\n",
       "      <td>...</td>\n",
       "      <td>...</td>\n",
       "      <td>...</td>\n",
       "      <td>...</td>\n",
       "      <td>...</td>\n",
       "      <td>...</td>\n",
       "      <td>...</td>\n",
       "      <td>...</td>\n",
       "      <td>...</td>\n",
       "      <td>...</td>\n",
       "    </tr>\n",
       "    <tr>\n",
       "      <th>2995</th>\n",
       "      <td>-119.86</td>\n",
       "      <td>34.42</td>\n",
       "      <td>23</td>\n",
       "      <td>1450</td>\n",
       "      <td>642</td>\n",
       "      <td>1258</td>\n",
       "      <td>607</td>\n",
       "      <td>1.1790</td>\n",
       "      <td>225000</td>\n",
       "      <td>1.077911</td>\n",
       "      <td>temp</td>\n",
       "      <td>temp2</td>\n",
       "    </tr>\n",
       "    <tr>\n",
       "      <th>2996</th>\n",
       "      <td>-118.14</td>\n",
       "      <td>34.06</td>\n",
       "      <td>27</td>\n",
       "      <td>5257</td>\n",
       "      <td>1082</td>\n",
       "      <td>3496</td>\n",
       "      <td>1036</td>\n",
       "      <td>3.3906</td>\n",
       "      <td>237200</td>\n",
       "      <td>-0.028796</td>\n",
       "      <td>temp</td>\n",
       "      <td>temp2</td>\n",
       "    </tr>\n",
       "    <tr>\n",
       "      <th>2997</th>\n",
       "      <td>-119.70</td>\n",
       "      <td>36.30</td>\n",
       "      <td>10</td>\n",
       "      <td>956</td>\n",
       "      <td>201</td>\n",
       "      <td>693</td>\n",
       "      <td>220</td>\n",
       "      <td>2.2895</td>\n",
       "      <td>62000</td>\n",
       "      <td>-0.024242</td>\n",
       "      <td>temp</td>\n",
       "      <td>temp2</td>\n",
       "    </tr>\n",
       "    <tr>\n",
       "      <th>2998</th>\n",
       "      <td>-117.12</td>\n",
       "      <td>34.10</td>\n",
       "      <td>40</td>\n",
       "      <td>96</td>\n",
       "      <td>14</td>\n",
       "      <td>46</td>\n",
       "      <td>14</td>\n",
       "      <td>3.2708</td>\n",
       "      <td>162500</td>\n",
       "      <td>-0.694059</td>\n",
       "      <td>temp</td>\n",
       "      <td>temp2</td>\n",
       "    </tr>\n",
       "    <tr>\n",
       "      <th>2999</th>\n",
       "      <td>-119.63</td>\n",
       "      <td>34.42</td>\n",
       "      <td>42</td>\n",
       "      <td>1765</td>\n",
       "      <td>263</td>\n",
       "      <td>753</td>\n",
       "      <td>260</td>\n",
       "      <td>8.5608</td>\n",
       "      <td>500001</td>\n",
       "      <td>-1.414512</td>\n",
       "      <td>temp</td>\n",
       "      <td>temp2</td>\n",
       "    </tr>\n",
       "  </tbody>\n",
       "</table>\n",
       "<p>2997 rows × 12 columns</p>\n",
       "</div>"
      ],
      "text/plain": [
       "      longitude  latitude  housing_median_age  total_rooms  total_bedrooms  \\\n",
       "0       -122.05     37.37                  27         3885             661   \n",
       "1       -118.30     34.26                  43         1510             200   \n",
       "2       -117.81     33.78                  27         3589             507   \n",
       "3       -118.36     33.82                  28           67              15   \n",
       "4       -119.67     36.33                  19         1241             244   \n",
       "...         ...       ...                 ...          ...             ...   \n",
       "2995    -119.86     34.42                  23         1450             642   \n",
       "2996    -118.14     34.06                  27         5257            1082   \n",
       "2997    -119.70     36.30                  10          956             201   \n",
       "2998    -117.12     34.10                  40           96              14   \n",
       "2999    -119.63     34.42                  42         1765             263   \n",
       "\n",
       "      population  households  median_income  median_house_value    random  \\\n",
       "0           1537         606         6.6085              344700  0.125489   \n",
       "1            809         277         3.5990              176500 -0.341393   \n",
       "2           1484         495         5.7934              270500  0.369411   \n",
       "3             49          11         6.1359              330000  1.507175   \n",
       "4            850         237         2.9375               81700  3.024871   \n",
       "...          ...         ...            ...                 ...       ...   \n",
       "2995        1258         607         1.1790              225000  1.077911   \n",
       "2996        3496        1036         3.3906              237200 -0.028796   \n",
       "2997         693         220         2.2895               62000 -0.024242   \n",
       "2998          46          14         3.2708              162500 -0.694059   \n",
       "2999         753         260         8.5608              500001 -1.414512   \n",
       "\n",
       "      temp  temp2  \n",
       "0     temp  temp2  \n",
       "1     temp  temp2  \n",
       "2     temp  temp2  \n",
       "3     temp  temp2  \n",
       "4     temp  temp2  \n",
       "...    ...    ...  \n",
       "2995  temp  temp2  \n",
       "2996  temp  temp2  \n",
       "2997  temp  temp2  \n",
       "2998  temp  temp2  \n",
       "2999  temp  temp2  \n",
       "\n",
       "[2997 rows x 12 columns]"
      ]
     },
     "execution_count": 46,
     "metadata": {},
     "output_type": "execute_result"
    }
   ],
   "source": [
    "#drop devuelve un nuevo dataframe sin la fila\n",
    "df = cali_housing.drop([5,7,9], axis=0)\n",
    "df"
   ]
  },
  {
   "cell_type": "markdown",
   "metadata": {
    "colab_type": "text",
    "id": "93ha10yDA-fF"
   },
   "source": [
    "## Remover columnas con ```del```\n",
    "\n",
    "Puedes usar la notación _del df[col_name]_ para eliminar una columna directamente de un DataFrame:"
   ]
  },
  {
   "cell_type": "code",
   "execution_count": 47,
   "metadata": {
    "colab": {},
    "colab_type": "code",
    "id": "bwpoq_9TQgPF"
   },
   "outputs": [
    {
     "data": {
      "text/html": [
       "<div>\n",
       "<style scoped>\n",
       "    .dataframe tbody tr th:only-of-type {\n",
       "        vertical-align: middle;\n",
       "    }\n",
       "\n",
       "    .dataframe tbody tr th {\n",
       "        vertical-align: top;\n",
       "    }\n",
       "\n",
       "    .dataframe thead th {\n",
       "        text-align: right;\n",
       "    }\n",
       "</style>\n",
       "<table border=\"1\" class=\"dataframe\">\n",
       "  <thead>\n",
       "    <tr style=\"text-align: right;\">\n",
       "      <th></th>\n",
       "      <th>longitude</th>\n",
       "      <th>latitude</th>\n",
       "      <th>housing_median_age</th>\n",
       "      <th>total_rooms</th>\n",
       "      <th>total_bedrooms</th>\n",
       "      <th>population</th>\n",
       "      <th>households</th>\n",
       "      <th>median_income</th>\n",
       "      <th>median_house_value</th>\n",
       "      <th>random</th>\n",
       "      <th>temp</th>\n",
       "      <th>temp2</th>\n",
       "    </tr>\n",
       "  </thead>\n",
       "  <tbody>\n",
       "    <tr>\n",
       "      <th>0</th>\n",
       "      <td>-122.05</td>\n",
       "      <td>37.37</td>\n",
       "      <td>27</td>\n",
       "      <td>3885</td>\n",
       "      <td>661</td>\n",
       "      <td>1537</td>\n",
       "      <td>606</td>\n",
       "      <td>6.6085</td>\n",
       "      <td>344700</td>\n",
       "      <td>0.125489</td>\n",
       "      <td>temp</td>\n",
       "      <td>temp2</td>\n",
       "    </tr>\n",
       "    <tr>\n",
       "      <th>1</th>\n",
       "      <td>-118.30</td>\n",
       "      <td>34.26</td>\n",
       "      <td>43</td>\n",
       "      <td>1510</td>\n",
       "      <td>200</td>\n",
       "      <td>809</td>\n",
       "      <td>277</td>\n",
       "      <td>3.5990</td>\n",
       "      <td>176500</td>\n",
       "      <td>-0.341393</td>\n",
       "      <td>temp</td>\n",
       "      <td>temp2</td>\n",
       "    </tr>\n",
       "    <tr>\n",
       "      <th>2</th>\n",
       "      <td>-117.81</td>\n",
       "      <td>33.78</td>\n",
       "      <td>27</td>\n",
       "      <td>3589</td>\n",
       "      <td>507</td>\n",
       "      <td>1484</td>\n",
       "      <td>495</td>\n",
       "      <td>5.7934</td>\n",
       "      <td>270500</td>\n",
       "      <td>0.369411</td>\n",
       "      <td>temp</td>\n",
       "      <td>temp2</td>\n",
       "    </tr>\n",
       "    <tr>\n",
       "      <th>3</th>\n",
       "      <td>-118.36</td>\n",
       "      <td>33.82</td>\n",
       "      <td>28</td>\n",
       "      <td>67</td>\n",
       "      <td>15</td>\n",
       "      <td>49</td>\n",
       "      <td>11</td>\n",
       "      <td>6.1359</td>\n",
       "      <td>330000</td>\n",
       "      <td>1.507175</td>\n",
       "      <td>temp</td>\n",
       "      <td>temp2</td>\n",
       "    </tr>\n",
       "    <tr>\n",
       "      <th>4</th>\n",
       "      <td>-119.67</td>\n",
       "      <td>36.33</td>\n",
       "      <td>19</td>\n",
       "      <td>1241</td>\n",
       "      <td>244</td>\n",
       "      <td>850</td>\n",
       "      <td>237</td>\n",
       "      <td>2.9375</td>\n",
       "      <td>81700</td>\n",
       "      <td>3.024871</td>\n",
       "      <td>temp</td>\n",
       "      <td>temp2</td>\n",
       "    </tr>\n",
       "    <tr>\n",
       "      <th>...</th>\n",
       "      <td>...</td>\n",
       "      <td>...</td>\n",
       "      <td>...</td>\n",
       "      <td>...</td>\n",
       "      <td>...</td>\n",
       "      <td>...</td>\n",
       "      <td>...</td>\n",
       "      <td>...</td>\n",
       "      <td>...</td>\n",
       "      <td>...</td>\n",
       "      <td>...</td>\n",
       "      <td>...</td>\n",
       "    </tr>\n",
       "    <tr>\n",
       "      <th>2995</th>\n",
       "      <td>-119.86</td>\n",
       "      <td>34.42</td>\n",
       "      <td>23</td>\n",
       "      <td>1450</td>\n",
       "      <td>642</td>\n",
       "      <td>1258</td>\n",
       "      <td>607</td>\n",
       "      <td>1.1790</td>\n",
       "      <td>225000</td>\n",
       "      <td>1.077911</td>\n",
       "      <td>temp</td>\n",
       "      <td>temp2</td>\n",
       "    </tr>\n",
       "    <tr>\n",
       "      <th>2996</th>\n",
       "      <td>-118.14</td>\n",
       "      <td>34.06</td>\n",
       "      <td>27</td>\n",
       "      <td>5257</td>\n",
       "      <td>1082</td>\n",
       "      <td>3496</td>\n",
       "      <td>1036</td>\n",
       "      <td>3.3906</td>\n",
       "      <td>237200</td>\n",
       "      <td>-0.028796</td>\n",
       "      <td>temp</td>\n",
       "      <td>temp2</td>\n",
       "    </tr>\n",
       "    <tr>\n",
       "      <th>2997</th>\n",
       "      <td>-119.70</td>\n",
       "      <td>36.30</td>\n",
       "      <td>10</td>\n",
       "      <td>956</td>\n",
       "      <td>201</td>\n",
       "      <td>693</td>\n",
       "      <td>220</td>\n",
       "      <td>2.2895</td>\n",
       "      <td>62000</td>\n",
       "      <td>-0.024242</td>\n",
       "      <td>temp</td>\n",
       "      <td>temp2</td>\n",
       "    </tr>\n",
       "    <tr>\n",
       "      <th>2998</th>\n",
       "      <td>-117.12</td>\n",
       "      <td>34.10</td>\n",
       "      <td>40</td>\n",
       "      <td>96</td>\n",
       "      <td>14</td>\n",
       "      <td>46</td>\n",
       "      <td>14</td>\n",
       "      <td>3.2708</td>\n",
       "      <td>162500</td>\n",
       "      <td>-0.694059</td>\n",
       "      <td>temp</td>\n",
       "      <td>temp2</td>\n",
       "    </tr>\n",
       "    <tr>\n",
       "      <th>2999</th>\n",
       "      <td>-119.63</td>\n",
       "      <td>34.42</td>\n",
       "      <td>42</td>\n",
       "      <td>1765</td>\n",
       "      <td>263</td>\n",
       "      <td>753</td>\n",
       "      <td>260</td>\n",
       "      <td>8.5608</td>\n",
       "      <td>500001</td>\n",
       "      <td>-1.414512</td>\n",
       "      <td>temp</td>\n",
       "      <td>temp2</td>\n",
       "    </tr>\n",
       "  </tbody>\n",
       "</table>\n",
       "<p>3000 rows × 12 columns</p>\n",
       "</div>"
      ],
      "text/plain": [
       "      longitude  latitude  housing_median_age  total_rooms  total_bedrooms  \\\n",
       "0       -122.05     37.37                  27         3885             661   \n",
       "1       -118.30     34.26                  43         1510             200   \n",
       "2       -117.81     33.78                  27         3589             507   \n",
       "3       -118.36     33.82                  28           67              15   \n",
       "4       -119.67     36.33                  19         1241             244   \n",
       "...         ...       ...                 ...          ...             ...   \n",
       "2995    -119.86     34.42                  23         1450             642   \n",
       "2996    -118.14     34.06                  27         5257            1082   \n",
       "2997    -119.70     36.30                  10          956             201   \n",
       "2998    -117.12     34.10                  40           96              14   \n",
       "2999    -119.63     34.42                  42         1765             263   \n",
       "\n",
       "      population  households  median_income  median_house_value    random  \\\n",
       "0           1537         606         6.6085              344700  0.125489   \n",
       "1            809         277         3.5990              176500 -0.341393   \n",
       "2           1484         495         5.7934              270500  0.369411   \n",
       "3             49          11         6.1359              330000  1.507175   \n",
       "4            850         237         2.9375               81700  3.024871   \n",
       "...          ...         ...            ...                 ...       ...   \n",
       "2995        1258         607         1.1790              225000  1.077911   \n",
       "2996        3496        1036         3.3906              237200 -0.028796   \n",
       "2997         693         220         2.2895               62000 -0.024242   \n",
       "2998          46          14         3.2708              162500 -0.694059   \n",
       "2999         753         260         8.5608              500001 -1.414512   \n",
       "\n",
       "      temp  temp2  \n",
       "0     temp  temp2  \n",
       "1     temp  temp2  \n",
       "2     temp  temp2  \n",
       "3     temp  temp2  \n",
       "4     temp  temp2  \n",
       "...    ...    ...  \n",
       "2995  temp  temp2  \n",
       "2996  temp  temp2  \n",
       "2997  temp  temp2  \n",
       "2998  temp  temp2  \n",
       "2999  temp  temp2  \n",
       "\n",
       "[3000 rows x 12 columns]"
      ]
     },
     "execution_count": 47,
     "metadata": {},
     "output_type": "execute_result"
    }
   ],
   "source": [
    "#el dataframe original no ha sido alterado\n",
    "#aun contiene las columnas temporales\n",
    "cali_housing"
   ]
  },
  {
   "cell_type": "code",
   "execution_count": 48,
   "metadata": {
    "colab": {},
    "colab_type": "code",
    "id": "pmVacTmiQg-j"
   },
   "outputs": [
    {
     "data": {
      "text/html": [
       "<div>\n",
       "<style scoped>\n",
       "    .dataframe tbody tr th:only-of-type {\n",
       "        vertical-align: middle;\n",
       "    }\n",
       "\n",
       "    .dataframe tbody tr th {\n",
       "        vertical-align: top;\n",
       "    }\n",
       "\n",
       "    .dataframe thead th {\n",
       "        text-align: right;\n",
       "    }\n",
       "</style>\n",
       "<table border=\"1\" class=\"dataframe\">\n",
       "  <thead>\n",
       "    <tr style=\"text-align: right;\">\n",
       "      <th></th>\n",
       "      <th>longitude</th>\n",
       "      <th>latitude</th>\n",
       "      <th>housing_median_age</th>\n",
       "      <th>total_rooms</th>\n",
       "      <th>total_bedrooms</th>\n",
       "      <th>population</th>\n",
       "      <th>households</th>\n",
       "      <th>median_income</th>\n",
       "      <th>median_house_value</th>\n",
       "      <th>random</th>\n",
       "      <th>temp2</th>\n",
       "    </tr>\n",
       "  </thead>\n",
       "  <tbody>\n",
       "    <tr>\n",
       "      <th>0</th>\n",
       "      <td>-122.05</td>\n",
       "      <td>37.37</td>\n",
       "      <td>27</td>\n",
       "      <td>3885</td>\n",
       "      <td>661</td>\n",
       "      <td>1537</td>\n",
       "      <td>606</td>\n",
       "      <td>6.6085</td>\n",
       "      <td>344700</td>\n",
       "      <td>0.125489</td>\n",
       "      <td>temp2</td>\n",
       "    </tr>\n",
       "    <tr>\n",
       "      <th>1</th>\n",
       "      <td>-118.30</td>\n",
       "      <td>34.26</td>\n",
       "      <td>43</td>\n",
       "      <td>1510</td>\n",
       "      <td>200</td>\n",
       "      <td>809</td>\n",
       "      <td>277</td>\n",
       "      <td>3.5990</td>\n",
       "      <td>176500</td>\n",
       "      <td>-0.341393</td>\n",
       "      <td>temp2</td>\n",
       "    </tr>\n",
       "    <tr>\n",
       "      <th>2</th>\n",
       "      <td>-117.81</td>\n",
       "      <td>33.78</td>\n",
       "      <td>27</td>\n",
       "      <td>3589</td>\n",
       "      <td>507</td>\n",
       "      <td>1484</td>\n",
       "      <td>495</td>\n",
       "      <td>5.7934</td>\n",
       "      <td>270500</td>\n",
       "      <td>0.369411</td>\n",
       "      <td>temp2</td>\n",
       "    </tr>\n",
       "    <tr>\n",
       "      <th>3</th>\n",
       "      <td>-118.36</td>\n",
       "      <td>33.82</td>\n",
       "      <td>28</td>\n",
       "      <td>67</td>\n",
       "      <td>15</td>\n",
       "      <td>49</td>\n",
       "      <td>11</td>\n",
       "      <td>6.1359</td>\n",
       "      <td>330000</td>\n",
       "      <td>1.507175</td>\n",
       "      <td>temp2</td>\n",
       "    </tr>\n",
       "    <tr>\n",
       "      <th>4</th>\n",
       "      <td>-119.67</td>\n",
       "      <td>36.33</td>\n",
       "      <td>19</td>\n",
       "      <td>1241</td>\n",
       "      <td>244</td>\n",
       "      <td>850</td>\n",
       "      <td>237</td>\n",
       "      <td>2.9375</td>\n",
       "      <td>81700</td>\n",
       "      <td>3.024871</td>\n",
       "      <td>temp2</td>\n",
       "    </tr>\n",
       "    <tr>\n",
       "      <th>...</th>\n",
       "      <td>...</td>\n",
       "      <td>...</td>\n",
       "      <td>...</td>\n",
       "      <td>...</td>\n",
       "      <td>...</td>\n",
       "      <td>...</td>\n",
       "      <td>...</td>\n",
       "      <td>...</td>\n",
       "      <td>...</td>\n",
       "      <td>...</td>\n",
       "      <td>...</td>\n",
       "    </tr>\n",
       "    <tr>\n",
       "      <th>2995</th>\n",
       "      <td>-119.86</td>\n",
       "      <td>34.42</td>\n",
       "      <td>23</td>\n",
       "      <td>1450</td>\n",
       "      <td>642</td>\n",
       "      <td>1258</td>\n",
       "      <td>607</td>\n",
       "      <td>1.1790</td>\n",
       "      <td>225000</td>\n",
       "      <td>1.077911</td>\n",
       "      <td>temp2</td>\n",
       "    </tr>\n",
       "    <tr>\n",
       "      <th>2996</th>\n",
       "      <td>-118.14</td>\n",
       "      <td>34.06</td>\n",
       "      <td>27</td>\n",
       "      <td>5257</td>\n",
       "      <td>1082</td>\n",
       "      <td>3496</td>\n",
       "      <td>1036</td>\n",
       "      <td>3.3906</td>\n",
       "      <td>237200</td>\n",
       "      <td>-0.028796</td>\n",
       "      <td>temp2</td>\n",
       "    </tr>\n",
       "    <tr>\n",
       "      <th>2997</th>\n",
       "      <td>-119.70</td>\n",
       "      <td>36.30</td>\n",
       "      <td>10</td>\n",
       "      <td>956</td>\n",
       "      <td>201</td>\n",
       "      <td>693</td>\n",
       "      <td>220</td>\n",
       "      <td>2.2895</td>\n",
       "      <td>62000</td>\n",
       "      <td>-0.024242</td>\n",
       "      <td>temp2</td>\n",
       "    </tr>\n",
       "    <tr>\n",
       "      <th>2998</th>\n",
       "      <td>-117.12</td>\n",
       "      <td>34.10</td>\n",
       "      <td>40</td>\n",
       "      <td>96</td>\n",
       "      <td>14</td>\n",
       "      <td>46</td>\n",
       "      <td>14</td>\n",
       "      <td>3.2708</td>\n",
       "      <td>162500</td>\n",
       "      <td>-0.694059</td>\n",
       "      <td>temp2</td>\n",
       "    </tr>\n",
       "    <tr>\n",
       "      <th>2999</th>\n",
       "      <td>-119.63</td>\n",
       "      <td>34.42</td>\n",
       "      <td>42</td>\n",
       "      <td>1765</td>\n",
       "      <td>263</td>\n",
       "      <td>753</td>\n",
       "      <td>260</td>\n",
       "      <td>8.5608</td>\n",
       "      <td>500001</td>\n",
       "      <td>-1.414512</td>\n",
       "      <td>temp2</td>\n",
       "    </tr>\n",
       "  </tbody>\n",
       "</table>\n",
       "<p>3000 rows × 11 columns</p>\n",
       "</div>"
      ],
      "text/plain": [
       "      longitude  latitude  housing_median_age  total_rooms  total_bedrooms  \\\n",
       "0       -122.05     37.37                  27         3885             661   \n",
       "1       -118.30     34.26                  43         1510             200   \n",
       "2       -117.81     33.78                  27         3589             507   \n",
       "3       -118.36     33.82                  28           67              15   \n",
       "4       -119.67     36.33                  19         1241             244   \n",
       "...         ...       ...                 ...          ...             ...   \n",
       "2995    -119.86     34.42                  23         1450             642   \n",
       "2996    -118.14     34.06                  27         5257            1082   \n",
       "2997    -119.70     36.30                  10          956             201   \n",
       "2998    -117.12     34.10                  40           96              14   \n",
       "2999    -119.63     34.42                  42         1765             263   \n",
       "\n",
       "      population  households  median_income  median_house_value    random  \\\n",
       "0           1537         606         6.6085              344700  0.125489   \n",
       "1            809         277         3.5990              176500 -0.341393   \n",
       "2           1484         495         5.7934              270500  0.369411   \n",
       "3             49          11         6.1359              330000  1.507175   \n",
       "4            850         237         2.9375               81700  3.024871   \n",
       "...          ...         ...            ...                 ...       ...   \n",
       "2995        1258         607         1.1790              225000  1.077911   \n",
       "2996        3496        1036         3.3906              237200 -0.028796   \n",
       "2997         693         220         2.2895               62000 -0.024242   \n",
       "2998          46          14         3.2708              162500 -0.694059   \n",
       "2999         753         260         8.5608              500001 -1.414512   \n",
       "\n",
       "      temp2  \n",
       "0     temp2  \n",
       "1     temp2  \n",
       "2     temp2  \n",
       "3     temp2  \n",
       "4     temp2  \n",
       "...     ...  \n",
       "2995  temp2  \n",
       "2996  temp2  \n",
       "2997  temp2  \n",
       "2998  temp2  \n",
       "2999  temp2  \n",
       "\n",
       "[3000 rows x 11 columns]"
      ]
     },
     "execution_count": 48,
     "metadata": {},
     "output_type": "execute_result"
    }
   ],
   "source": [
    "#eliminamos la nueva columna temp con del directamente en el df\n",
    "del cali_housing[\"temp\"]\n",
    "cali_housing"
   ]
  },
  {
   "cell_type": "code",
   "execution_count": 49,
   "metadata": {
    "colab": {},
    "colab_type": "code",
    "id": "sr9fkAPWhwhd"
   },
   "outputs": [
    {
     "data": {
      "text/html": [
       "<div>\n",
       "<style scoped>\n",
       "    .dataframe tbody tr th:only-of-type {\n",
       "        vertical-align: middle;\n",
       "    }\n",
       "\n",
       "    .dataframe tbody tr th {\n",
       "        vertical-align: top;\n",
       "    }\n",
       "\n",
       "    .dataframe thead th {\n",
       "        text-align: right;\n",
       "    }\n",
       "</style>\n",
       "<table border=\"1\" class=\"dataframe\">\n",
       "  <thead>\n",
       "    <tr style=\"text-align: right;\">\n",
       "      <th></th>\n",
       "      <th>longitude</th>\n",
       "      <th>latitude</th>\n",
       "      <th>housing_median_age</th>\n",
       "      <th>total_rooms</th>\n",
       "      <th>total_bedrooms</th>\n",
       "      <th>population</th>\n",
       "      <th>households</th>\n",
       "      <th>median_income</th>\n",
       "      <th>median_house_value</th>\n",
       "      <th>random</th>\n",
       "    </tr>\n",
       "  </thead>\n",
       "  <tbody>\n",
       "    <tr>\n",
       "      <th>0</th>\n",
       "      <td>-122.05</td>\n",
       "      <td>37.37</td>\n",
       "      <td>27</td>\n",
       "      <td>3885</td>\n",
       "      <td>661</td>\n",
       "      <td>1537</td>\n",
       "      <td>606</td>\n",
       "      <td>6.6085</td>\n",
       "      <td>344700</td>\n",
       "      <td>0.125489</td>\n",
       "    </tr>\n",
       "    <tr>\n",
       "      <th>1</th>\n",
       "      <td>-118.30</td>\n",
       "      <td>34.26</td>\n",
       "      <td>43</td>\n",
       "      <td>1510</td>\n",
       "      <td>200</td>\n",
       "      <td>809</td>\n",
       "      <td>277</td>\n",
       "      <td>3.5990</td>\n",
       "      <td>176500</td>\n",
       "      <td>-0.341393</td>\n",
       "    </tr>\n",
       "    <tr>\n",
       "      <th>2</th>\n",
       "      <td>-117.81</td>\n",
       "      <td>33.78</td>\n",
       "      <td>27</td>\n",
       "      <td>3589</td>\n",
       "      <td>507</td>\n",
       "      <td>1484</td>\n",
       "      <td>495</td>\n",
       "      <td>5.7934</td>\n",
       "      <td>270500</td>\n",
       "      <td>0.369411</td>\n",
       "    </tr>\n",
       "    <tr>\n",
       "      <th>3</th>\n",
       "      <td>-118.36</td>\n",
       "      <td>33.82</td>\n",
       "      <td>28</td>\n",
       "      <td>67</td>\n",
       "      <td>15</td>\n",
       "      <td>49</td>\n",
       "      <td>11</td>\n",
       "      <td>6.1359</td>\n",
       "      <td>330000</td>\n",
       "      <td>1.507175</td>\n",
       "    </tr>\n",
       "    <tr>\n",
       "      <th>4</th>\n",
       "      <td>-119.67</td>\n",
       "      <td>36.33</td>\n",
       "      <td>19</td>\n",
       "      <td>1241</td>\n",
       "      <td>244</td>\n",
       "      <td>850</td>\n",
       "      <td>237</td>\n",
       "      <td>2.9375</td>\n",
       "      <td>81700</td>\n",
       "      <td>3.024871</td>\n",
       "    </tr>\n",
       "    <tr>\n",
       "      <th>...</th>\n",
       "      <td>...</td>\n",
       "      <td>...</td>\n",
       "      <td>...</td>\n",
       "      <td>...</td>\n",
       "      <td>...</td>\n",
       "      <td>...</td>\n",
       "      <td>...</td>\n",
       "      <td>...</td>\n",
       "      <td>...</td>\n",
       "      <td>...</td>\n",
       "    </tr>\n",
       "    <tr>\n",
       "      <th>2995</th>\n",
       "      <td>-119.86</td>\n",
       "      <td>34.42</td>\n",
       "      <td>23</td>\n",
       "      <td>1450</td>\n",
       "      <td>642</td>\n",
       "      <td>1258</td>\n",
       "      <td>607</td>\n",
       "      <td>1.1790</td>\n",
       "      <td>225000</td>\n",
       "      <td>1.077911</td>\n",
       "    </tr>\n",
       "    <tr>\n",
       "      <th>2996</th>\n",
       "      <td>-118.14</td>\n",
       "      <td>34.06</td>\n",
       "      <td>27</td>\n",
       "      <td>5257</td>\n",
       "      <td>1082</td>\n",
       "      <td>3496</td>\n",
       "      <td>1036</td>\n",
       "      <td>3.3906</td>\n",
       "      <td>237200</td>\n",
       "      <td>-0.028796</td>\n",
       "    </tr>\n",
       "    <tr>\n",
       "      <th>2997</th>\n",
       "      <td>-119.70</td>\n",
       "      <td>36.30</td>\n",
       "      <td>10</td>\n",
       "      <td>956</td>\n",
       "      <td>201</td>\n",
       "      <td>693</td>\n",
       "      <td>220</td>\n",
       "      <td>2.2895</td>\n",
       "      <td>62000</td>\n",
       "      <td>-0.024242</td>\n",
       "    </tr>\n",
       "    <tr>\n",
       "      <th>2998</th>\n",
       "      <td>-117.12</td>\n",
       "      <td>34.10</td>\n",
       "      <td>40</td>\n",
       "      <td>96</td>\n",
       "      <td>14</td>\n",
       "      <td>46</td>\n",
       "      <td>14</td>\n",
       "      <td>3.2708</td>\n",
       "      <td>162500</td>\n",
       "      <td>-0.694059</td>\n",
       "    </tr>\n",
       "    <tr>\n",
       "      <th>2999</th>\n",
       "      <td>-119.63</td>\n",
       "      <td>34.42</td>\n",
       "      <td>42</td>\n",
       "      <td>1765</td>\n",
       "      <td>263</td>\n",
       "      <td>753</td>\n",
       "      <td>260</td>\n",
       "      <td>8.5608</td>\n",
       "      <td>500001</td>\n",
       "      <td>-1.414512</td>\n",
       "    </tr>\n",
       "  </tbody>\n",
       "</table>\n",
       "<p>3000 rows × 10 columns</p>\n",
       "</div>"
      ],
      "text/plain": [
       "      longitude  latitude  housing_median_age  total_rooms  total_bedrooms  \\\n",
       "0       -122.05     37.37                  27         3885             661   \n",
       "1       -118.30     34.26                  43         1510             200   \n",
       "2       -117.81     33.78                  27         3589             507   \n",
       "3       -118.36     33.82                  28           67              15   \n",
       "4       -119.67     36.33                  19         1241             244   \n",
       "...         ...       ...                 ...          ...             ...   \n",
       "2995    -119.86     34.42                  23         1450             642   \n",
       "2996    -118.14     34.06                  27         5257            1082   \n",
       "2997    -119.70     36.30                  10          956             201   \n",
       "2998    -117.12     34.10                  40           96              14   \n",
       "2999    -119.63     34.42                  42         1765             263   \n",
       "\n",
       "      population  households  median_income  median_house_value    random  \n",
       "0           1537         606         6.6085              344700  0.125489  \n",
       "1            809         277         3.5990              176500 -0.341393  \n",
       "2           1484         495         5.7934              270500  0.369411  \n",
       "3             49          11         6.1359              330000  1.507175  \n",
       "4            850         237         2.9375               81700  3.024871  \n",
       "...          ...         ...            ...                 ...       ...  \n",
       "2995        1258         607         1.1790              225000  1.077911  \n",
       "2996        3496        1036         3.3906              237200 -0.028796  \n",
       "2997         693         220         2.2895               62000 -0.024242  \n",
       "2998          46          14         3.2708              162500 -0.694059  \n",
       "2999         753         260         8.5608              500001 -1.414512  \n",
       "\n",
       "[3000 rows x 10 columns]"
      ]
     },
     "execution_count": 49,
     "metadata": {},
     "output_type": "execute_result"
    }
   ],
   "source": [
    "#del elimina una columna a la vez\n",
    "# llamemos del una segunda vez para eliminar temp2\n",
    "del cali_housing[\"temp2\"]\n",
    "cali_housing"
   ]
  },
  {
   "cell_type": "markdown",
   "metadata": {
    "colab_type": "text",
    "id": "Dkzdjyk3VZL_"
   },
   "source": [
    "# Datos faltantes"
   ]
  },
  {
   "cell_type": "markdown",
   "metadata": {
    "colab_type": "text",
    "id": "ySNj8BT8qkI0"
   },
   "source": [
    "En Pandas, los valores faltantes son representado con el valor NaN (de Not a Number). Cuando existen valores faltantes, muchas veces es necesario eliminarlar las entradas que los contienen o reemplazarlos por valores antes de empezar a trabajar con los datos. Pandas provee algunos métodos para realizar este tipo de tareas."
   ]
  },
  {
   "cell_type": "code",
   "execution_count": 50,
   "metadata": {
    "colab": {},
    "colab_type": "code",
    "id": "iymXcdS3uvTB"
   },
   "outputs": [
    {
     "data": {
      "text/html": [
       "<div>\n",
       "<style scoped>\n",
       "    .dataframe tbody tr th:only-of-type {\n",
       "        vertical-align: middle;\n",
       "    }\n",
       "\n",
       "    .dataframe tbody tr th {\n",
       "        vertical-align: top;\n",
       "    }\n",
       "\n",
       "    .dataframe thead th {\n",
       "        text-align: right;\n",
       "    }\n",
       "</style>\n",
       "<table border=\"1\" class=\"dataframe\">\n",
       "  <thead>\n",
       "    <tr style=\"text-align: right;\">\n",
       "      <th></th>\n",
       "      <th>A</th>\n",
       "      <th>B</th>\n",
       "      <th>C</th>\n",
       "      <th>D</th>\n",
       "    </tr>\n",
       "  </thead>\n",
       "  <tbody>\n",
       "    <tr>\n",
       "      <th>a</th>\n",
       "      <td>-0.332011</td>\n",
       "      <td>0.374582</td>\n",
       "      <td>0.658237</td>\n",
       "      <td>False</td>\n",
       "    </tr>\n",
       "    <tr>\n",
       "      <th>b</th>\n",
       "      <td>NaN</td>\n",
       "      <td>NaN</td>\n",
       "      <td>NaN</td>\n",
       "      <td>NaN</td>\n",
       "    </tr>\n",
       "    <tr>\n",
       "      <th>c</th>\n",
       "      <td>-1.526914</td>\n",
       "      <td>1.161073</td>\n",
       "      <td>-0.110272</td>\n",
       "      <td>False</td>\n",
       "    </tr>\n",
       "    <tr>\n",
       "      <th>d</th>\n",
       "      <td>NaN</td>\n",
       "      <td>NaN</td>\n",
       "      <td>NaN</td>\n",
       "      <td>NaN</td>\n",
       "    </tr>\n",
       "    <tr>\n",
       "      <th>e</th>\n",
       "      <td>-0.972856</td>\n",
       "      <td>0.701986</td>\n",
       "      <td>1.241333</td>\n",
       "      <td>False</td>\n",
       "    </tr>\n",
       "    <tr>\n",
       "      <th>f</th>\n",
       "      <td>-0.792308</td>\n",
       "      <td>0.648368</td>\n",
       "      <td>-0.501019</td>\n",
       "      <td>False</td>\n",
       "    </tr>\n",
       "    <tr>\n",
       "      <th>g</th>\n",
       "      <td>NaN</td>\n",
       "      <td>NaN</td>\n",
       "      <td>NaN</td>\n",
       "      <td>NaN</td>\n",
       "    </tr>\n",
       "    <tr>\n",
       "      <th>h</th>\n",
       "      <td>1.015217</td>\n",
       "      <td>-0.504605</td>\n",
       "      <td>-1.377006</td>\n",
       "      <td>True</td>\n",
       "    </tr>\n",
       "  </tbody>\n",
       "</table>\n",
       "</div>"
      ],
      "text/plain": [
       "          A         B         C      D\n",
       "a -0.332011  0.374582  0.658237  False\n",
       "b       NaN       NaN       NaN    NaN\n",
       "c -1.526914  1.161073 -0.110272  False\n",
       "d       NaN       NaN       NaN    NaN\n",
       "e -0.972856  0.701986  1.241333  False\n",
       "f -0.792308  0.648368 -0.501019  False\n",
       "g       NaN       NaN       NaN    NaN\n",
       "h  1.015217 -0.504605 -1.377006   True"
      ]
     },
     "execution_count": 50,
     "metadata": {},
     "output_type": "execute_result"
    }
   ],
   "source": [
    "#creando un dataframe con datos faltantes\n",
    "df = pd.DataFrame(np.random.randn(5, 3), index=['a', 'c', 'e', 'f', 'h'], columns=['A', 'B', 'C'])\n",
    "df['D'] = df['A'] > 0\n",
    "df = df.reindex(['a', 'b', 'c', 'd', 'e', 'f', 'g', 'h'])\n",
    "df"
   ]
  },
  {
   "cell_type": "markdown",
   "metadata": {
    "colab_type": "text",
    "id": "JOQ6eWscx3Zm"
   },
   "source": [
    "## df.isna()\n",
    "\n",
    "El método isna() funciona para conocer si el objeto contiene valores faltantes. Regresa un objeto con elementos booleanos que indican la existencia de datos faltantes."
   ]
  },
  {
   "cell_type": "code",
   "execution_count": 51,
   "metadata": {
    "colab": {},
    "colab_type": "code",
    "id": "Cvk6XMVSx3eN"
   },
   "outputs": [
    {
     "data": {
      "text/html": [
       "<div>\n",
       "<style scoped>\n",
       "    .dataframe tbody tr th:only-of-type {\n",
       "        vertical-align: middle;\n",
       "    }\n",
       "\n",
       "    .dataframe tbody tr th {\n",
       "        vertical-align: top;\n",
       "    }\n",
       "\n",
       "    .dataframe thead th {\n",
       "        text-align: right;\n",
       "    }\n",
       "</style>\n",
       "<table border=\"1\" class=\"dataframe\">\n",
       "  <thead>\n",
       "    <tr style=\"text-align: right;\">\n",
       "      <th></th>\n",
       "      <th>A</th>\n",
       "      <th>B</th>\n",
       "      <th>C</th>\n",
       "      <th>D</th>\n",
       "    </tr>\n",
       "  </thead>\n",
       "  <tbody>\n",
       "    <tr>\n",
       "      <th>a</th>\n",
       "      <td>False</td>\n",
       "      <td>False</td>\n",
       "      <td>False</td>\n",
       "      <td>False</td>\n",
       "    </tr>\n",
       "    <tr>\n",
       "      <th>b</th>\n",
       "      <td>True</td>\n",
       "      <td>True</td>\n",
       "      <td>True</td>\n",
       "      <td>True</td>\n",
       "    </tr>\n",
       "    <tr>\n",
       "      <th>c</th>\n",
       "      <td>False</td>\n",
       "      <td>False</td>\n",
       "      <td>False</td>\n",
       "      <td>False</td>\n",
       "    </tr>\n",
       "    <tr>\n",
       "      <th>d</th>\n",
       "      <td>True</td>\n",
       "      <td>True</td>\n",
       "      <td>True</td>\n",
       "      <td>True</td>\n",
       "    </tr>\n",
       "    <tr>\n",
       "      <th>e</th>\n",
       "      <td>False</td>\n",
       "      <td>False</td>\n",
       "      <td>False</td>\n",
       "      <td>False</td>\n",
       "    </tr>\n",
       "    <tr>\n",
       "      <th>f</th>\n",
       "      <td>False</td>\n",
       "      <td>False</td>\n",
       "      <td>False</td>\n",
       "      <td>False</td>\n",
       "    </tr>\n",
       "    <tr>\n",
       "      <th>g</th>\n",
       "      <td>True</td>\n",
       "      <td>True</td>\n",
       "      <td>True</td>\n",
       "      <td>True</td>\n",
       "    </tr>\n",
       "    <tr>\n",
       "      <th>h</th>\n",
       "      <td>False</td>\n",
       "      <td>False</td>\n",
       "      <td>False</td>\n",
       "      <td>False</td>\n",
       "    </tr>\n",
       "  </tbody>\n",
       "</table>\n",
       "</div>"
      ],
      "text/plain": [
       "       A      B      C      D\n",
       "a  False  False  False  False\n",
       "b   True   True   True   True\n",
       "c  False  False  False  False\n",
       "d   True   True   True   True\n",
       "e  False  False  False  False\n",
       "f  False  False  False  False\n",
       "g   True   True   True   True\n",
       "h  False  False  False  False"
      ]
     },
     "execution_count": 51,
     "metadata": {},
     "output_type": "execute_result"
    }
   ],
   "source": [
    "df.isna()"
   ]
  },
  {
   "cell_type": "markdown",
   "metadata": {
    "colab_type": "text",
    "id": "4k7fCgEYqkav"
   },
   "source": [
    "## df.dropna()\n",
    "\n",
    "El método dropna() permite eliminar del DataFrame las filas o columnas que contienen uno o más elementos NaN.\n",
    "\n",
    "Los principales parámetros de dropna():\n",
    "\n",
    "```\n",
    "axis : {0 o 'index', 1 o 'columns'}, por defecto 0\n",
    "        Determina si elimina filas o columnas que contienen\n",
    "        valores faltantes.\n",
    "    \n",
    "how : {'any', 'all'}, por defecto 'any'\n",
    "    Determina si se elimina la fila o columna cuando contiene al menos un valor faltante o solo si todos sus valores son faltantes.\n",
    "\n",
    "    * 'any' : Si hay un valor faltante, elimina la fila o columna.\n",
    "    * 'all' : Si todos los valores son faltantes, elimina la fila o columna.\n",
    "    \n",
    "thresh : int, opcional\n",
    "    Requirir al menos ese número de valores faltantes para eliminar la fila o columna.\n",
    "```\n",
    "\n"
   ]
  },
  {
   "cell_type": "code",
   "execution_count": 53,
   "metadata": {
    "colab": {},
    "colab_type": "code",
    "id": "FlsVq2-fBpXE"
   },
   "outputs": [
    {
     "data": {
      "text/html": [
       "<div>\n",
       "<style scoped>\n",
       "    .dataframe tbody tr th:only-of-type {\n",
       "        vertical-align: middle;\n",
       "    }\n",
       "\n",
       "    .dataframe tbody tr th {\n",
       "        vertical-align: top;\n",
       "    }\n",
       "\n",
       "    .dataframe thead th {\n",
       "        text-align: right;\n",
       "    }\n",
       "</style>\n",
       "<table border=\"1\" class=\"dataframe\">\n",
       "  <thead>\n",
       "    <tr style=\"text-align: right;\">\n",
       "      <th></th>\n",
       "      <th>A</th>\n",
       "      <th>B</th>\n",
       "      <th>C</th>\n",
       "      <th>D</th>\n",
       "    </tr>\n",
       "  </thead>\n",
       "  <tbody>\n",
       "    <tr>\n",
       "      <th>c</th>\n",
       "      <td>-1.526914</td>\n",
       "      <td>1.161073</td>\n",
       "      <td>-0.110272</td>\n",
       "      <td>False</td>\n",
       "    </tr>\n",
       "    <tr>\n",
       "      <th>e</th>\n",
       "      <td>-0.972856</td>\n",
       "      <td>0.701986</td>\n",
       "      <td>1.241333</td>\n",
       "      <td>False</td>\n",
       "    </tr>\n",
       "    <tr>\n",
       "      <th>f</th>\n",
       "      <td>-0.792308</td>\n",
       "      <td>0.648368</td>\n",
       "      <td>-0.501019</td>\n",
       "      <td>False</td>\n",
       "    </tr>\n",
       "    <tr>\n",
       "      <th>h</th>\n",
       "      <td>1.015217</td>\n",
       "      <td>-0.504605</td>\n",
       "      <td>-1.377006</td>\n",
       "      <td>True</td>\n",
       "    </tr>\n",
       "  </tbody>\n",
       "</table>\n",
       "</div>"
      ],
      "text/plain": [
       "          A         B         C      D\n",
       "c -1.526914  1.161073 -0.110272  False\n",
       "e -0.972856  0.701986  1.241333  False\n",
       "f -0.792308  0.648368 -0.501019  False\n",
       "h  1.015217 -0.504605 -1.377006   True"
      ]
     },
     "execution_count": 53,
     "metadata": {},
     "output_type": "execute_result"
    }
   ],
   "source": [
    "df.dropna(axis=0, how='any')"
   ]
  },
  {
   "cell_type": "code",
   "execution_count": 56,
   "metadata": {
    "colab": {},
    "colab_type": "code",
    "id": "efPiUeddzm4H"
   },
   "outputs": [
    {
     "data": {
      "text/html": [
       "<div>\n",
       "<style scoped>\n",
       "    .dataframe tbody tr th:only-of-type {\n",
       "        vertical-align: middle;\n",
       "    }\n",
       "\n",
       "    .dataframe tbody tr th {\n",
       "        vertical-align: top;\n",
       "    }\n",
       "\n",
       "    .dataframe thead th {\n",
       "        text-align: right;\n",
       "    }\n",
       "</style>\n",
       "<table border=\"1\" class=\"dataframe\">\n",
       "  <thead>\n",
       "    <tr style=\"text-align: right;\">\n",
       "      <th></th>\n",
       "      <th>A</th>\n",
       "      <th>B</th>\n",
       "      <th>C</th>\n",
       "      <th>D</th>\n",
       "    </tr>\n",
       "  </thead>\n",
       "  <tbody>\n",
       "    <tr>\n",
       "      <th>a</th>\n",
       "      <td>NaN</td>\n",
       "      <td>0.374582</td>\n",
       "      <td>0.658237</td>\n",
       "      <td>False</td>\n",
       "    </tr>\n",
       "    <tr>\n",
       "      <th>b</th>\n",
       "      <td>NaN</td>\n",
       "      <td>NaN</td>\n",
       "      <td>NaN</td>\n",
       "      <td>NaN</td>\n",
       "    </tr>\n",
       "    <tr>\n",
       "      <th>c</th>\n",
       "      <td>-1.526914</td>\n",
       "      <td>1.161073</td>\n",
       "      <td>-0.110272</td>\n",
       "      <td>False</td>\n",
       "    </tr>\n",
       "    <tr>\n",
       "      <th>d</th>\n",
       "      <td>NaN</td>\n",
       "      <td>NaN</td>\n",
       "      <td>NaN</td>\n",
       "      <td>NaN</td>\n",
       "    </tr>\n",
       "    <tr>\n",
       "      <th>e</th>\n",
       "      <td>-0.972856</td>\n",
       "      <td>0.701986</td>\n",
       "      <td>1.241333</td>\n",
       "      <td>False</td>\n",
       "    </tr>\n",
       "    <tr>\n",
       "      <th>f</th>\n",
       "      <td>-0.792308</td>\n",
       "      <td>0.648368</td>\n",
       "      <td>-0.501019</td>\n",
       "      <td>False</td>\n",
       "    </tr>\n",
       "    <tr>\n",
       "      <th>g</th>\n",
       "      <td>NaN</td>\n",
       "      <td>NaN</td>\n",
       "      <td>NaN</td>\n",
       "      <td>NaN</td>\n",
       "    </tr>\n",
       "    <tr>\n",
       "      <th>h</th>\n",
       "      <td>1.015217</td>\n",
       "      <td>-0.504605</td>\n",
       "      <td>-1.377006</td>\n",
       "      <td>True</td>\n",
       "    </tr>\n",
       "  </tbody>\n",
       "</table>\n",
       "</div>"
      ],
      "text/plain": [
       "          A         B         C      D\n",
       "a       NaN  0.374582  0.658237  False\n",
       "b       NaN       NaN       NaN    NaN\n",
       "c -1.526914  1.161073 -0.110272  False\n",
       "d       NaN       NaN       NaN    NaN\n",
       "e -0.972856  0.701986  1.241333  False\n",
       "f -0.792308  0.648368 -0.501019  False\n",
       "g       NaN       NaN       NaN    NaN\n",
       "h  1.015217 -0.504605 -1.377006   True"
      ]
     },
     "execution_count": 56,
     "metadata": {},
     "output_type": "execute_result"
    }
   ],
   "source": [
    "#insertando un nuevo nan\n",
    "df.iat[0, 0] = np.nan\n",
    "df"
   ]
  },
  {
   "cell_type": "markdown",
   "metadata": {
    "colab_type": "text",
    "id": "_zrR_L4g7r_5"
   },
   "source": [
    "Usando ```all``` con ```axis=0``` elimina filas donde todos los elementos faltan:"
   ]
  },
  {
   "cell_type": "code",
   "execution_count": 57,
   "metadata": {
    "colab": {},
    "colab_type": "code",
    "id": "byjfnMF0zkyG"
   },
   "outputs": [
    {
     "data": {
      "text/html": [
       "<div>\n",
       "<style scoped>\n",
       "    .dataframe tbody tr th:only-of-type {\n",
       "        vertical-align: middle;\n",
       "    }\n",
       "\n",
       "    .dataframe tbody tr th {\n",
       "        vertical-align: top;\n",
       "    }\n",
       "\n",
       "    .dataframe thead th {\n",
       "        text-align: right;\n",
       "    }\n",
       "</style>\n",
       "<table border=\"1\" class=\"dataframe\">\n",
       "  <thead>\n",
       "    <tr style=\"text-align: right;\">\n",
       "      <th></th>\n",
       "      <th>A</th>\n",
       "      <th>B</th>\n",
       "      <th>C</th>\n",
       "      <th>D</th>\n",
       "    </tr>\n",
       "  </thead>\n",
       "  <tbody>\n",
       "    <tr>\n",
       "      <th>a</th>\n",
       "      <td>NaN</td>\n",
       "      <td>0.374582</td>\n",
       "      <td>0.658237</td>\n",
       "      <td>False</td>\n",
       "    </tr>\n",
       "    <tr>\n",
       "      <th>c</th>\n",
       "      <td>-1.526914</td>\n",
       "      <td>1.161073</td>\n",
       "      <td>-0.110272</td>\n",
       "      <td>False</td>\n",
       "    </tr>\n",
       "    <tr>\n",
       "      <th>e</th>\n",
       "      <td>-0.972856</td>\n",
       "      <td>0.701986</td>\n",
       "      <td>1.241333</td>\n",
       "      <td>False</td>\n",
       "    </tr>\n",
       "    <tr>\n",
       "      <th>f</th>\n",
       "      <td>-0.792308</td>\n",
       "      <td>0.648368</td>\n",
       "      <td>-0.501019</td>\n",
       "      <td>False</td>\n",
       "    </tr>\n",
       "    <tr>\n",
       "      <th>h</th>\n",
       "      <td>1.015217</td>\n",
       "      <td>-0.504605</td>\n",
       "      <td>-1.377006</td>\n",
       "      <td>True</td>\n",
       "    </tr>\n",
       "  </tbody>\n",
       "</table>\n",
       "</div>"
      ],
      "text/plain": [
       "          A         B         C      D\n",
       "a       NaN  0.374582  0.658237  False\n",
       "c -1.526914  1.161073 -0.110272  False\n",
       "e -0.972856  0.701986  1.241333  False\n",
       "f -0.792308  0.648368 -0.501019  False\n",
       "h  1.015217 -0.504605 -1.377006   True"
      ]
     },
     "execution_count": 57,
     "metadata": {},
     "output_type": "execute_result"
    }
   ],
   "source": [
    "df.dropna(axis = 0, how='all')"
   ]
  },
  {
   "cell_type": "markdown",
   "metadata": {
    "colab_type": "text",
    "id": "hQPlZclY7iLP"
   },
   "source": [
    "Usando ```any``` con axis=0, elimina las filas con uno o más faltantes:"
   ]
  },
  {
   "cell_type": "code",
   "execution_count": 58,
   "metadata": {
    "colab": {},
    "colab_type": "code",
    "id": "uBrcxqKn7lMM"
   },
   "outputs": [
    {
     "data": {
      "text/html": [
       "<div>\n",
       "<style scoped>\n",
       "    .dataframe tbody tr th:only-of-type {\n",
       "        vertical-align: middle;\n",
       "    }\n",
       "\n",
       "    .dataframe tbody tr th {\n",
       "        vertical-align: top;\n",
       "    }\n",
       "\n",
       "    .dataframe thead th {\n",
       "        text-align: right;\n",
       "    }\n",
       "</style>\n",
       "<table border=\"1\" class=\"dataframe\">\n",
       "  <thead>\n",
       "    <tr style=\"text-align: right;\">\n",
       "      <th></th>\n",
       "      <th>A</th>\n",
       "      <th>B</th>\n",
       "      <th>C</th>\n",
       "      <th>D</th>\n",
       "    </tr>\n",
       "  </thead>\n",
       "  <tbody>\n",
       "    <tr>\n",
       "      <th>c</th>\n",
       "      <td>-1.526914</td>\n",
       "      <td>1.161073</td>\n",
       "      <td>-0.110272</td>\n",
       "      <td>False</td>\n",
       "    </tr>\n",
       "    <tr>\n",
       "      <th>e</th>\n",
       "      <td>-0.972856</td>\n",
       "      <td>0.701986</td>\n",
       "      <td>1.241333</td>\n",
       "      <td>False</td>\n",
       "    </tr>\n",
       "    <tr>\n",
       "      <th>f</th>\n",
       "      <td>-0.792308</td>\n",
       "      <td>0.648368</td>\n",
       "      <td>-0.501019</td>\n",
       "      <td>False</td>\n",
       "    </tr>\n",
       "    <tr>\n",
       "      <th>h</th>\n",
       "      <td>1.015217</td>\n",
       "      <td>-0.504605</td>\n",
       "      <td>-1.377006</td>\n",
       "      <td>True</td>\n",
       "    </tr>\n",
       "  </tbody>\n",
       "</table>\n",
       "</div>"
      ],
      "text/plain": [
       "          A         B         C      D\n",
       "c -1.526914  1.161073 -0.110272  False\n",
       "e -0.972856  0.701986  1.241333  False\n",
       "f -0.792308  0.648368 -0.501019  False\n",
       "h  1.015217 -0.504605 -1.377006   True"
      ]
     },
     "execution_count": 58,
     "metadata": {},
     "output_type": "execute_result"
    }
   ],
   "source": [
    "df.dropna(axis=0, how=\"any\")"
   ]
  },
  {
   "cell_type": "markdown",
   "metadata": {
    "colab_type": "text",
    "id": "UKjCKWaO8Avy"
   },
   "source": [
    "Agregamos una nueva columna con todos los elementos ```NaN```:"
   ]
  },
  {
   "cell_type": "code",
   "execution_count": 59,
   "metadata": {
    "colab": {},
    "colab_type": "code",
    "id": "DWBwmsi58BYR"
   },
   "outputs": [
    {
     "data": {
      "text/html": [
       "<div>\n",
       "<style scoped>\n",
       "    .dataframe tbody tr th:only-of-type {\n",
       "        vertical-align: middle;\n",
       "    }\n",
       "\n",
       "    .dataframe tbody tr th {\n",
       "        vertical-align: top;\n",
       "    }\n",
       "\n",
       "    .dataframe thead th {\n",
       "        text-align: right;\n",
       "    }\n",
       "</style>\n",
       "<table border=\"1\" class=\"dataframe\">\n",
       "  <thead>\n",
       "    <tr style=\"text-align: right;\">\n",
       "      <th></th>\n",
       "      <th>A</th>\n",
       "      <th>B</th>\n",
       "      <th>C</th>\n",
       "      <th>D</th>\n",
       "      <th>empty_col</th>\n",
       "    </tr>\n",
       "  </thead>\n",
       "  <tbody>\n",
       "    <tr>\n",
       "      <th>a</th>\n",
       "      <td>NaN</td>\n",
       "      <td>0.374582</td>\n",
       "      <td>0.658237</td>\n",
       "      <td>False</td>\n",
       "      <td>NaN</td>\n",
       "    </tr>\n",
       "    <tr>\n",
       "      <th>b</th>\n",
       "      <td>NaN</td>\n",
       "      <td>NaN</td>\n",
       "      <td>NaN</td>\n",
       "      <td>NaN</td>\n",
       "      <td>NaN</td>\n",
       "    </tr>\n",
       "    <tr>\n",
       "      <th>c</th>\n",
       "      <td>-1.526914</td>\n",
       "      <td>1.161073</td>\n",
       "      <td>-0.110272</td>\n",
       "      <td>False</td>\n",
       "      <td>NaN</td>\n",
       "    </tr>\n",
       "    <tr>\n",
       "      <th>d</th>\n",
       "      <td>NaN</td>\n",
       "      <td>NaN</td>\n",
       "      <td>NaN</td>\n",
       "      <td>NaN</td>\n",
       "      <td>NaN</td>\n",
       "    </tr>\n",
       "    <tr>\n",
       "      <th>e</th>\n",
       "      <td>-0.972856</td>\n",
       "      <td>0.701986</td>\n",
       "      <td>1.241333</td>\n",
       "      <td>False</td>\n",
       "      <td>NaN</td>\n",
       "    </tr>\n",
       "    <tr>\n",
       "      <th>f</th>\n",
       "      <td>-0.792308</td>\n",
       "      <td>0.648368</td>\n",
       "      <td>-0.501019</td>\n",
       "      <td>False</td>\n",
       "      <td>NaN</td>\n",
       "    </tr>\n",
       "    <tr>\n",
       "      <th>g</th>\n",
       "      <td>NaN</td>\n",
       "      <td>NaN</td>\n",
       "      <td>NaN</td>\n",
       "      <td>NaN</td>\n",
       "      <td>NaN</td>\n",
       "    </tr>\n",
       "    <tr>\n",
       "      <th>h</th>\n",
       "      <td>1.015217</td>\n",
       "      <td>-0.504605</td>\n",
       "      <td>-1.377006</td>\n",
       "      <td>True</td>\n",
       "      <td>NaN</td>\n",
       "    </tr>\n",
       "  </tbody>\n",
       "</table>\n",
       "</div>"
      ],
      "text/plain": [
       "          A         B         C      D  empty_col\n",
       "a       NaN  0.374582  0.658237  False        NaN\n",
       "b       NaN       NaN       NaN    NaN        NaN\n",
       "c -1.526914  1.161073 -0.110272  False        NaN\n",
       "d       NaN       NaN       NaN    NaN        NaN\n",
       "e -0.972856  0.701986  1.241333  False        NaN\n",
       "f -0.792308  0.648368 -0.501019  False        NaN\n",
       "g       NaN       NaN       NaN    NaN        NaN\n",
       "h  1.015217 -0.504605 -1.377006   True        NaN"
      ]
     },
     "execution_count": 59,
     "metadata": {},
     "output_type": "execute_result"
    }
   ],
   "source": [
    "df[\"empty_col\"] = np.nan\n",
    "df"
   ]
  },
  {
   "cell_type": "markdown",
   "metadata": {
    "colab_type": "text",
    "id": "VPZBTo1-8SFj"
   },
   "source": [
    "Eliminando la columna con ```axis=1``` y ```how=all```:"
   ]
  },
  {
   "cell_type": "code",
   "execution_count": 60,
   "metadata": {
    "colab": {},
    "colab_type": "code",
    "id": "0hnbfM_G8aZ_"
   },
   "outputs": [
    {
     "data": {
      "text/html": [
       "<div>\n",
       "<style scoped>\n",
       "    .dataframe tbody tr th:only-of-type {\n",
       "        vertical-align: middle;\n",
       "    }\n",
       "\n",
       "    .dataframe tbody tr th {\n",
       "        vertical-align: top;\n",
       "    }\n",
       "\n",
       "    .dataframe thead th {\n",
       "        text-align: right;\n",
       "    }\n",
       "</style>\n",
       "<table border=\"1\" class=\"dataframe\">\n",
       "  <thead>\n",
       "    <tr style=\"text-align: right;\">\n",
       "      <th></th>\n",
       "      <th>A</th>\n",
       "      <th>B</th>\n",
       "      <th>C</th>\n",
       "      <th>D</th>\n",
       "    </tr>\n",
       "  </thead>\n",
       "  <tbody>\n",
       "    <tr>\n",
       "      <th>a</th>\n",
       "      <td>NaN</td>\n",
       "      <td>0.374582</td>\n",
       "      <td>0.658237</td>\n",
       "      <td>False</td>\n",
       "    </tr>\n",
       "    <tr>\n",
       "      <th>b</th>\n",
       "      <td>NaN</td>\n",
       "      <td>NaN</td>\n",
       "      <td>NaN</td>\n",
       "      <td>NaN</td>\n",
       "    </tr>\n",
       "    <tr>\n",
       "      <th>c</th>\n",
       "      <td>-1.526914</td>\n",
       "      <td>1.161073</td>\n",
       "      <td>-0.110272</td>\n",
       "      <td>False</td>\n",
       "    </tr>\n",
       "    <tr>\n",
       "      <th>d</th>\n",
       "      <td>NaN</td>\n",
       "      <td>NaN</td>\n",
       "      <td>NaN</td>\n",
       "      <td>NaN</td>\n",
       "    </tr>\n",
       "    <tr>\n",
       "      <th>e</th>\n",
       "      <td>-0.972856</td>\n",
       "      <td>0.701986</td>\n",
       "      <td>1.241333</td>\n",
       "      <td>False</td>\n",
       "    </tr>\n",
       "    <tr>\n",
       "      <th>f</th>\n",
       "      <td>-0.792308</td>\n",
       "      <td>0.648368</td>\n",
       "      <td>-0.501019</td>\n",
       "      <td>False</td>\n",
       "    </tr>\n",
       "    <tr>\n",
       "      <th>g</th>\n",
       "      <td>NaN</td>\n",
       "      <td>NaN</td>\n",
       "      <td>NaN</td>\n",
       "      <td>NaN</td>\n",
       "    </tr>\n",
       "    <tr>\n",
       "      <th>h</th>\n",
       "      <td>1.015217</td>\n",
       "      <td>-0.504605</td>\n",
       "      <td>-1.377006</td>\n",
       "      <td>True</td>\n",
       "    </tr>\n",
       "  </tbody>\n",
       "</table>\n",
       "</div>"
      ],
      "text/plain": [
       "          A         B         C      D\n",
       "a       NaN  0.374582  0.658237  False\n",
       "b       NaN       NaN       NaN    NaN\n",
       "c -1.526914  1.161073 -0.110272  False\n",
       "d       NaN       NaN       NaN    NaN\n",
       "e -0.972856  0.701986  1.241333  False\n",
       "f -0.792308  0.648368 -0.501019  False\n",
       "g       NaN       NaN       NaN    NaN\n",
       "h  1.015217 -0.504605 -1.377006   True"
      ]
     },
     "execution_count": 60,
     "metadata": {},
     "output_type": "execute_result"
    }
   ],
   "source": [
    "# La columna con solo ```NaN``` sera eliminada por completo\n",
    "df.dropna(axis=1, how=\"all\")"
   ]
  },
  {
   "cell_type": "markdown",
   "metadata": {
    "colab_type": "text",
    "id": "NHj2kDTSqk35"
   },
   "source": [
    "## df.fillna()\n",
    "\n",
    "El método fillna() permite reemplazar los valores faltantes en un DataFrame por otro valor.\n",
    "\n",
    "Los principales parámetros de fillna():\n",
    "\n",
    "```\n",
    "value : escalar, diccionario, Series, o un DataFrame\n",
    "    El valor utilizado para reemplazar los faltantes.\n",
    "    Si es un diccionario, una serie o un dataframe, entonces\n",
    "    se utiliza el valor asociado a la clave, indice o columna asociada.\n",
    "\n",
    "method : {'backfill', 'bfill', 'pad', 'ffill', None}, por defecto None\n",
    "    El método utilizado para rellenar los espacios vacios.\n",
    "    * pad / ffill: usa el ultimo valor valido para rellenar \n",
    "    hacia adelante hasta el siguiente valor valido.\n",
    "    * backfill / bfill: utilizar la siguiente observacion \n",
    "    valida para rellenar.\n",
    "\n",
    "axis : {0 or 'index', 1 or 'columns'}\n",
    "```\n",
    "\n"
   ]
  },
  {
   "cell_type": "markdown",
   "metadata": {
    "colab_type": "text",
    "id": "k6qhxeg1_Lg3"
   },
   "source": [
    "Reemplazar todos los faltantes por un escalar:"
   ]
  },
  {
   "cell_type": "code",
   "execution_count": 61,
   "metadata": {
    "colab": {},
    "colab_type": "code",
    "id": "_jBS1p9SqlHi"
   },
   "outputs": [
    {
     "data": {
      "text/html": [
       "<div>\n",
       "<style scoped>\n",
       "    .dataframe tbody tr th:only-of-type {\n",
       "        vertical-align: middle;\n",
       "    }\n",
       "\n",
       "    .dataframe tbody tr th {\n",
       "        vertical-align: top;\n",
       "    }\n",
       "\n",
       "    .dataframe thead th {\n",
       "        text-align: right;\n",
       "    }\n",
       "</style>\n",
       "<table border=\"1\" class=\"dataframe\">\n",
       "  <thead>\n",
       "    <tr style=\"text-align: right;\">\n",
       "      <th></th>\n",
       "      <th>A</th>\n",
       "      <th>B</th>\n",
       "      <th>C</th>\n",
       "      <th>D</th>\n",
       "      <th>empty_col</th>\n",
       "    </tr>\n",
       "  </thead>\n",
       "  <tbody>\n",
       "    <tr>\n",
       "      <th>a</th>\n",
       "      <td>0.000000</td>\n",
       "      <td>0.374582</td>\n",
       "      <td>0.658237</td>\n",
       "      <td>False</td>\n",
       "      <td>0.0</td>\n",
       "    </tr>\n",
       "    <tr>\n",
       "      <th>b</th>\n",
       "      <td>0.000000</td>\n",
       "      <td>0.000000</td>\n",
       "      <td>0.000000</td>\n",
       "      <td>0</td>\n",
       "      <td>0.0</td>\n",
       "    </tr>\n",
       "    <tr>\n",
       "      <th>c</th>\n",
       "      <td>-1.526914</td>\n",
       "      <td>1.161073</td>\n",
       "      <td>-0.110272</td>\n",
       "      <td>False</td>\n",
       "      <td>0.0</td>\n",
       "    </tr>\n",
       "    <tr>\n",
       "      <th>d</th>\n",
       "      <td>0.000000</td>\n",
       "      <td>0.000000</td>\n",
       "      <td>0.000000</td>\n",
       "      <td>0</td>\n",
       "      <td>0.0</td>\n",
       "    </tr>\n",
       "    <tr>\n",
       "      <th>e</th>\n",
       "      <td>-0.972856</td>\n",
       "      <td>0.701986</td>\n",
       "      <td>1.241333</td>\n",
       "      <td>False</td>\n",
       "      <td>0.0</td>\n",
       "    </tr>\n",
       "    <tr>\n",
       "      <th>f</th>\n",
       "      <td>-0.792308</td>\n",
       "      <td>0.648368</td>\n",
       "      <td>-0.501019</td>\n",
       "      <td>False</td>\n",
       "      <td>0.0</td>\n",
       "    </tr>\n",
       "    <tr>\n",
       "      <th>g</th>\n",
       "      <td>0.000000</td>\n",
       "      <td>0.000000</td>\n",
       "      <td>0.000000</td>\n",
       "      <td>0</td>\n",
       "      <td>0.0</td>\n",
       "    </tr>\n",
       "    <tr>\n",
       "      <th>h</th>\n",
       "      <td>1.015217</td>\n",
       "      <td>-0.504605</td>\n",
       "      <td>-1.377006</td>\n",
       "      <td>True</td>\n",
       "      <td>0.0</td>\n",
       "    </tr>\n",
       "  </tbody>\n",
       "</table>\n",
       "</div>"
      ],
      "text/plain": [
       "          A         B         C      D  empty_col\n",
       "a  0.000000  0.374582  0.658237  False        0.0\n",
       "b  0.000000  0.000000  0.000000      0        0.0\n",
       "c -1.526914  1.161073 -0.110272  False        0.0\n",
       "d  0.000000  0.000000  0.000000      0        0.0\n",
       "e -0.972856  0.701986  1.241333  False        0.0\n",
       "f -0.792308  0.648368 -0.501019  False        0.0\n",
       "g  0.000000  0.000000  0.000000      0        0.0\n",
       "h  1.015217 -0.504605 -1.377006   True        0.0"
      ]
     },
     "execution_count": 61,
     "metadata": {},
     "output_type": "execute_result"
    }
   ],
   "source": [
    "# fillna con escalar\n",
    "df.fillna(0.0)"
   ]
  },
  {
   "cell_type": "markdown",
   "metadata": {
    "colab_type": "text",
    "id": "uP56VW9L_QPm"
   },
   "source": [
    "Reemplazar usando un dicccionario para las columnas de un Dataframe:"
   ]
  },
  {
   "cell_type": "code",
   "execution_count": 63,
   "metadata": {
    "colab": {},
    "colab_type": "code",
    "id": "ijAQd576yuK6"
   },
   "outputs": [
    {
     "data": {
      "text/html": [
       "<div>\n",
       "<style scoped>\n",
       "    .dataframe tbody tr th:only-of-type {\n",
       "        vertical-align: middle;\n",
       "    }\n",
       "\n",
       "    .dataframe tbody tr th {\n",
       "        vertical-align: top;\n",
       "    }\n",
       "\n",
       "    .dataframe thead th {\n",
       "        text-align: right;\n",
       "    }\n",
       "</style>\n",
       "<table border=\"1\" class=\"dataframe\">\n",
       "  <thead>\n",
       "    <tr style=\"text-align: right;\">\n",
       "      <th></th>\n",
       "      <th>A</th>\n",
       "      <th>B</th>\n",
       "      <th>C</th>\n",
       "      <th>D</th>\n",
       "      <th>empty_col</th>\n",
       "    </tr>\n",
       "  </thead>\n",
       "  <tbody>\n",
       "    <tr>\n",
       "      <th>a</th>\n",
       "      <td>0.000000</td>\n",
       "      <td>0.374582</td>\n",
       "      <td>0.658237</td>\n",
       "      <td>False</td>\n",
       "      <td>NaN</td>\n",
       "    </tr>\n",
       "    <tr>\n",
       "      <th>b</th>\n",
       "      <td>0.000000</td>\n",
       "      <td>9.000000</td>\n",
       "      <td>0.000000</td>\n",
       "      <td>False</td>\n",
       "      <td>NaN</td>\n",
       "    </tr>\n",
       "    <tr>\n",
       "      <th>c</th>\n",
       "      <td>-1.526914</td>\n",
       "      <td>1.161073</td>\n",
       "      <td>-0.110272</td>\n",
       "      <td>False</td>\n",
       "      <td>NaN</td>\n",
       "    </tr>\n",
       "    <tr>\n",
       "      <th>d</th>\n",
       "      <td>0.000000</td>\n",
       "      <td>9.000000</td>\n",
       "      <td>0.000000</td>\n",
       "      <td>False</td>\n",
       "      <td>NaN</td>\n",
       "    </tr>\n",
       "    <tr>\n",
       "      <th>e</th>\n",
       "      <td>-0.972856</td>\n",
       "      <td>0.701986</td>\n",
       "      <td>1.241333</td>\n",
       "      <td>False</td>\n",
       "      <td>NaN</td>\n",
       "    </tr>\n",
       "    <tr>\n",
       "      <th>f</th>\n",
       "      <td>-0.792308</td>\n",
       "      <td>0.648368</td>\n",
       "      <td>-0.501019</td>\n",
       "      <td>False</td>\n",
       "      <td>NaN</td>\n",
       "    </tr>\n",
       "    <tr>\n",
       "      <th>g</th>\n",
       "      <td>0.000000</td>\n",
       "      <td>9.000000</td>\n",
       "      <td>0.000000</td>\n",
       "      <td>False</td>\n",
       "      <td>NaN</td>\n",
       "    </tr>\n",
       "    <tr>\n",
       "      <th>h</th>\n",
       "      <td>1.015217</td>\n",
       "      <td>-0.504605</td>\n",
       "      <td>-1.377006</td>\n",
       "      <td>True</td>\n",
       "      <td>NaN</td>\n",
       "    </tr>\n",
       "  </tbody>\n",
       "</table>\n",
       "</div>"
      ],
      "text/plain": [
       "          A         B         C      D  empty_col\n",
       "a  0.000000  0.374582  0.658237  False        NaN\n",
       "b  0.000000  9.000000  0.000000  False        NaN\n",
       "c -1.526914  1.161073 -0.110272  False        NaN\n",
       "d  0.000000  9.000000  0.000000  False        NaN\n",
       "e -0.972856  0.701986  1.241333  False        NaN\n",
       "f -0.792308  0.648368 -0.501019  False        NaN\n",
       "g  0.000000  9.000000  0.000000  False        NaN\n",
       "h  1.015217 -0.504605 -1.377006   True        NaN"
      ]
     },
     "execution_count": 63,
     "metadata": {},
     "output_type": "execute_result"
    }
   ],
   "source": [
    "# usando un diccionario para reemplazar con un valor diferente cada columna\n",
    "df.fillna({'A': 0.0, 'B': 9.0, 'C': 0.0, 'D': False})"
   ]
  },
  {
   "cell_type": "markdown",
   "metadata": {
    "colab_type": "text",
    "id": "yFhnS9mT_VRM"
   },
   "source": [
    "Con un diccionario para los índices de una Serie:"
   ]
  },
  {
   "cell_type": "code",
   "execution_count": 64,
   "metadata": {
    "colab": {},
    "colab_type": "code",
    "id": "VgD276Pt_XWA"
   },
   "outputs": [
    {
     "data": {
      "text/plain": [
       "a    0.000000\n",
       "b    1.000000\n",
       "c   -1.526914\n",
       "d         NaN\n",
       "e   -0.972856\n",
       "f   -0.792308\n",
       "g         NaN\n",
       "h    1.015217\n",
       "Name: A, dtype: float64"
      ]
     },
     "execution_count": 64,
     "metadata": {},
     "output_type": "execute_result"
    }
   ],
   "source": [
    "df[\"A\"].fillna({'a':0.0, 'b':1.0, 'c':2.0})"
   ]
  },
  {
   "cell_type": "markdown",
   "metadata": {
    "colab_type": "text",
    "id": "fBPVGWfIBbgC"
   },
   "source": [
    "Forward Fill:"
   ]
  },
  {
   "cell_type": "markdown",
   "metadata": {
    "colab_type": "text",
    "id": "Vp8Q7xQKBi4-"
   },
   "source": [
    "```axis = 0``` por defecto (por columnas, siguiendo el index):"
   ]
  },
  {
   "cell_type": "code",
   "execution_count": 65,
   "metadata": {
    "colab": {},
    "colab_type": "code",
    "id": "QVYrcfyTBhcc"
   },
   "outputs": [
    {
     "data": {
      "text/html": [
       "<div>\n",
       "<style scoped>\n",
       "    .dataframe tbody tr th:only-of-type {\n",
       "        vertical-align: middle;\n",
       "    }\n",
       "\n",
       "    .dataframe tbody tr th {\n",
       "        vertical-align: top;\n",
       "    }\n",
       "\n",
       "    .dataframe thead th {\n",
       "        text-align: right;\n",
       "    }\n",
       "</style>\n",
       "<table border=\"1\" class=\"dataframe\">\n",
       "  <thead>\n",
       "    <tr style=\"text-align: right;\">\n",
       "      <th></th>\n",
       "      <th>A</th>\n",
       "      <th>B</th>\n",
       "      <th>C</th>\n",
       "      <th>D</th>\n",
       "      <th>empty_col</th>\n",
       "    </tr>\n",
       "  </thead>\n",
       "  <tbody>\n",
       "    <tr>\n",
       "      <th>a</th>\n",
       "      <td>NaN</td>\n",
       "      <td>0.374582</td>\n",
       "      <td>0.658237</td>\n",
       "      <td>False</td>\n",
       "      <td>NaN</td>\n",
       "    </tr>\n",
       "    <tr>\n",
       "      <th>b</th>\n",
       "      <td>NaN</td>\n",
       "      <td>0.374582</td>\n",
       "      <td>0.658237</td>\n",
       "      <td>False</td>\n",
       "      <td>NaN</td>\n",
       "    </tr>\n",
       "    <tr>\n",
       "      <th>c</th>\n",
       "      <td>-1.526914</td>\n",
       "      <td>1.161073</td>\n",
       "      <td>-0.110272</td>\n",
       "      <td>False</td>\n",
       "      <td>NaN</td>\n",
       "    </tr>\n",
       "    <tr>\n",
       "      <th>d</th>\n",
       "      <td>-1.526914</td>\n",
       "      <td>1.161073</td>\n",
       "      <td>-0.110272</td>\n",
       "      <td>False</td>\n",
       "      <td>NaN</td>\n",
       "    </tr>\n",
       "    <tr>\n",
       "      <th>e</th>\n",
       "      <td>-0.972856</td>\n",
       "      <td>0.701986</td>\n",
       "      <td>1.241333</td>\n",
       "      <td>False</td>\n",
       "      <td>NaN</td>\n",
       "    </tr>\n",
       "    <tr>\n",
       "      <th>f</th>\n",
       "      <td>-0.792308</td>\n",
       "      <td>0.648368</td>\n",
       "      <td>-0.501019</td>\n",
       "      <td>False</td>\n",
       "      <td>NaN</td>\n",
       "    </tr>\n",
       "    <tr>\n",
       "      <th>g</th>\n",
       "      <td>-0.792308</td>\n",
       "      <td>0.648368</td>\n",
       "      <td>-0.501019</td>\n",
       "      <td>False</td>\n",
       "      <td>NaN</td>\n",
       "    </tr>\n",
       "    <tr>\n",
       "      <th>h</th>\n",
       "      <td>1.015217</td>\n",
       "      <td>-0.504605</td>\n",
       "      <td>-1.377006</td>\n",
       "      <td>True</td>\n",
       "      <td>NaN</td>\n",
       "    </tr>\n",
       "  </tbody>\n",
       "</table>\n",
       "</div>"
      ],
      "text/plain": [
       "          A         B         C      D  empty_col\n",
       "a       NaN  0.374582  0.658237  False        NaN\n",
       "b       NaN  0.374582  0.658237  False        NaN\n",
       "c -1.526914  1.161073 -0.110272  False        NaN\n",
       "d -1.526914  1.161073 -0.110272  False        NaN\n",
       "e -0.972856  0.701986  1.241333  False        NaN\n",
       "f -0.792308  0.648368 -0.501019  False        NaN\n",
       "g -0.792308  0.648368 -0.501019  False        NaN\n",
       "h  1.015217 -0.504605 -1.377006   True        NaN"
      ]
     },
     "execution_count": 65,
     "metadata": {},
     "output_type": "execute_result"
    }
   ],
   "source": [
    "df.fillna(method='ffill',)"
   ]
  },
  {
   "cell_type": "markdown",
   "metadata": {
    "colab_type": "text",
    "id": "KtUz5njNBjVv"
   },
   "source": [
    "```axis=1``` (por filas):"
   ]
  },
  {
   "cell_type": "code",
   "execution_count": 66,
   "metadata": {
    "colab": {},
    "colab_type": "code",
    "id": "fXk8JZpHCDGr"
   },
   "outputs": [
    {
     "data": {
      "text/html": [
       "<div>\n",
       "<style scoped>\n",
       "    .dataframe tbody tr th:only-of-type {\n",
       "        vertical-align: middle;\n",
       "    }\n",
       "\n",
       "    .dataframe tbody tr th {\n",
       "        vertical-align: top;\n",
       "    }\n",
       "\n",
       "    .dataframe thead th {\n",
       "        text-align: right;\n",
       "    }\n",
       "</style>\n",
       "<table border=\"1\" class=\"dataframe\">\n",
       "  <thead>\n",
       "    <tr style=\"text-align: right;\">\n",
       "      <th></th>\n",
       "      <th>A</th>\n",
       "      <th>B</th>\n",
       "      <th>C</th>\n",
       "      <th>D</th>\n",
       "      <th>empty_col</th>\n",
       "    </tr>\n",
       "  </thead>\n",
       "  <tbody>\n",
       "    <tr>\n",
       "      <th>a</th>\n",
       "      <td>NaN</td>\n",
       "      <td>0.374582</td>\n",
       "      <td>0.658237</td>\n",
       "      <td>False</td>\n",
       "      <td>NaN</td>\n",
       "    </tr>\n",
       "    <tr>\n",
       "      <th>b</th>\n",
       "      <td>NaN</td>\n",
       "      <td>NaN</td>\n",
       "      <td>NaN</td>\n",
       "      <td>NaN</td>\n",
       "      <td>NaN</td>\n",
       "    </tr>\n",
       "    <tr>\n",
       "      <th>c</th>\n",
       "      <td>-1.526914</td>\n",
       "      <td>1.161073</td>\n",
       "      <td>NaN</td>\n",
       "      <td>False</td>\n",
       "      <td>NaN</td>\n",
       "    </tr>\n",
       "    <tr>\n",
       "      <th>d</th>\n",
       "      <td>NaN</td>\n",
       "      <td>NaN</td>\n",
       "      <td>NaN</td>\n",
       "      <td>NaN</td>\n",
       "      <td>NaN</td>\n",
       "    </tr>\n",
       "    <tr>\n",
       "      <th>e</th>\n",
       "      <td>-0.972856</td>\n",
       "      <td>0.701986</td>\n",
       "      <td>1.241333</td>\n",
       "      <td>False</td>\n",
       "      <td>NaN</td>\n",
       "    </tr>\n",
       "    <tr>\n",
       "      <th>f</th>\n",
       "      <td>-0.792308</td>\n",
       "      <td>0.648368</td>\n",
       "      <td>-0.501019</td>\n",
       "      <td>False</td>\n",
       "      <td>NaN</td>\n",
       "    </tr>\n",
       "    <tr>\n",
       "      <th>g</th>\n",
       "      <td>NaN</td>\n",
       "      <td>NaN</td>\n",
       "      <td>NaN</td>\n",
       "      <td>NaN</td>\n",
       "      <td>NaN</td>\n",
       "    </tr>\n",
       "    <tr>\n",
       "      <th>h</th>\n",
       "      <td>1.015217</td>\n",
       "      <td>-0.504605</td>\n",
       "      <td>-1.377006</td>\n",
       "      <td>True</td>\n",
       "      <td>NaN</td>\n",
       "    </tr>\n",
       "  </tbody>\n",
       "</table>\n",
       "</div>"
      ],
      "text/plain": [
       "          A         B         C      D  empty_col\n",
       "a       NaN  0.374582  0.658237  False        NaN\n",
       "b       NaN       NaN       NaN    NaN        NaN\n",
       "c -1.526914  1.161073       NaN  False        NaN\n",
       "d       NaN       NaN       NaN    NaN        NaN\n",
       "e -0.972856  0.701986  1.241333  False        NaN\n",
       "f -0.792308  0.648368 -0.501019  False        NaN\n",
       "g       NaN       NaN       NaN    NaN        NaN\n",
       "h  1.015217 -0.504605 -1.377006   True        NaN"
      ]
     },
     "execution_count": 66,
     "metadata": {},
     "output_type": "execute_result"
    }
   ],
   "source": [
    "# un nuevo elemento faltante en la fila c columnas C\n",
    "df.iat[2, 2] = np.NaN\n",
    "df"
   ]
  },
  {
   "cell_type": "code",
   "execution_count": 67,
   "metadata": {
    "colab": {},
    "colab_type": "code",
    "id": "qiJaI1CCxnU0"
   },
   "outputs": [
    {
     "data": {
      "text/html": [
       "<div>\n",
       "<style scoped>\n",
       "    .dataframe tbody tr th:only-of-type {\n",
       "        vertical-align: middle;\n",
       "    }\n",
       "\n",
       "    .dataframe tbody tr th {\n",
       "        vertical-align: top;\n",
       "    }\n",
       "\n",
       "    .dataframe thead th {\n",
       "        text-align: right;\n",
       "    }\n",
       "</style>\n",
       "<table border=\"1\" class=\"dataframe\">\n",
       "  <thead>\n",
       "    <tr style=\"text-align: right;\">\n",
       "      <th></th>\n",
       "      <th>A</th>\n",
       "      <th>B</th>\n",
       "      <th>C</th>\n",
       "      <th>D</th>\n",
       "      <th>empty_col</th>\n",
       "    </tr>\n",
       "  </thead>\n",
       "  <tbody>\n",
       "    <tr>\n",
       "      <th>a</th>\n",
       "      <td>NaN</td>\n",
       "      <td>0.374582</td>\n",
       "      <td>0.658237</td>\n",
       "      <td>False</td>\n",
       "      <td>False</td>\n",
       "    </tr>\n",
       "    <tr>\n",
       "      <th>b</th>\n",
       "      <td>NaN</td>\n",
       "      <td>NaN</td>\n",
       "      <td>NaN</td>\n",
       "      <td>NaN</td>\n",
       "      <td>NaN</td>\n",
       "    </tr>\n",
       "    <tr>\n",
       "      <th>c</th>\n",
       "      <td>-1.52691</td>\n",
       "      <td>1.16107</td>\n",
       "      <td>1.16107</td>\n",
       "      <td>False</td>\n",
       "      <td>False</td>\n",
       "    </tr>\n",
       "    <tr>\n",
       "      <th>d</th>\n",
       "      <td>NaN</td>\n",
       "      <td>NaN</td>\n",
       "      <td>NaN</td>\n",
       "      <td>NaN</td>\n",
       "      <td>NaN</td>\n",
       "    </tr>\n",
       "    <tr>\n",
       "      <th>e</th>\n",
       "      <td>-0.972856</td>\n",
       "      <td>0.701986</td>\n",
       "      <td>1.24133</td>\n",
       "      <td>False</td>\n",
       "      <td>False</td>\n",
       "    </tr>\n",
       "    <tr>\n",
       "      <th>f</th>\n",
       "      <td>-0.792308</td>\n",
       "      <td>0.648368</td>\n",
       "      <td>-0.501019</td>\n",
       "      <td>False</td>\n",
       "      <td>False</td>\n",
       "    </tr>\n",
       "    <tr>\n",
       "      <th>g</th>\n",
       "      <td>NaN</td>\n",
       "      <td>NaN</td>\n",
       "      <td>NaN</td>\n",
       "      <td>NaN</td>\n",
       "      <td>NaN</td>\n",
       "    </tr>\n",
       "    <tr>\n",
       "      <th>h</th>\n",
       "      <td>1.01522</td>\n",
       "      <td>-0.504605</td>\n",
       "      <td>-1.37701</td>\n",
       "      <td>True</td>\n",
       "      <td>True</td>\n",
       "    </tr>\n",
       "  </tbody>\n",
       "</table>\n",
       "</div>"
      ],
      "text/plain": [
       "          A         B         C      D empty_col\n",
       "a       NaN  0.374582  0.658237  False     False\n",
       "b       NaN       NaN       NaN    NaN       NaN\n",
       "c  -1.52691   1.16107   1.16107  False     False\n",
       "d       NaN       NaN       NaN    NaN       NaN\n",
       "e -0.972856  0.701986   1.24133  False     False\n",
       "f -0.792308  0.648368 -0.501019  False     False\n",
       "g       NaN       NaN       NaN    NaN       NaN\n",
       "h   1.01522 -0.504605  -1.37701   True      True"
      ]
     },
     "execution_count": 67,
     "metadata": {},
     "output_type": "execute_result"
    }
   ],
   "source": [
    "# rellenando de izq a der por filas\n",
    "df.fillna(method='ffill', axis=1)"
   ]
  },
  {
   "cell_type": "markdown",
   "metadata": {
    "colab_type": "text",
    "id": "ZQZk68YQBeNa"
   },
   "source": [
    "Back Fill:"
   ]
  },
  {
   "cell_type": "markdown",
   "metadata": {
    "colab_type": "text",
    "id": "aXncjc8ECcFK"
   },
   "source": [
    "```axis=0``` por defecto (por columnas):"
   ]
  },
  {
   "cell_type": "code",
   "execution_count": 68,
   "metadata": {
    "colab": {},
    "colab_type": "code",
    "id": "-jsnbmSbxncu"
   },
   "outputs": [
    {
     "data": {
      "text/html": [
       "<div>\n",
       "<style scoped>\n",
       "    .dataframe tbody tr th:only-of-type {\n",
       "        vertical-align: middle;\n",
       "    }\n",
       "\n",
       "    .dataframe tbody tr th {\n",
       "        vertical-align: top;\n",
       "    }\n",
       "\n",
       "    .dataframe thead th {\n",
       "        text-align: right;\n",
       "    }\n",
       "</style>\n",
       "<table border=\"1\" class=\"dataframe\">\n",
       "  <thead>\n",
       "    <tr style=\"text-align: right;\">\n",
       "      <th></th>\n",
       "      <th>A</th>\n",
       "      <th>B</th>\n",
       "      <th>C</th>\n",
       "      <th>D</th>\n",
       "      <th>empty_col</th>\n",
       "    </tr>\n",
       "  </thead>\n",
       "  <tbody>\n",
       "    <tr>\n",
       "      <th>a</th>\n",
       "      <td>-1.526914</td>\n",
       "      <td>0.374582</td>\n",
       "      <td>0.658237</td>\n",
       "      <td>False</td>\n",
       "      <td>NaN</td>\n",
       "    </tr>\n",
       "    <tr>\n",
       "      <th>b</th>\n",
       "      <td>-1.526914</td>\n",
       "      <td>1.161073</td>\n",
       "      <td>1.241333</td>\n",
       "      <td>False</td>\n",
       "      <td>NaN</td>\n",
       "    </tr>\n",
       "    <tr>\n",
       "      <th>c</th>\n",
       "      <td>-1.526914</td>\n",
       "      <td>1.161073</td>\n",
       "      <td>1.241333</td>\n",
       "      <td>False</td>\n",
       "      <td>NaN</td>\n",
       "    </tr>\n",
       "    <tr>\n",
       "      <th>d</th>\n",
       "      <td>-0.972856</td>\n",
       "      <td>0.701986</td>\n",
       "      <td>1.241333</td>\n",
       "      <td>False</td>\n",
       "      <td>NaN</td>\n",
       "    </tr>\n",
       "    <tr>\n",
       "      <th>e</th>\n",
       "      <td>-0.972856</td>\n",
       "      <td>0.701986</td>\n",
       "      <td>1.241333</td>\n",
       "      <td>False</td>\n",
       "      <td>NaN</td>\n",
       "    </tr>\n",
       "    <tr>\n",
       "      <th>f</th>\n",
       "      <td>-0.792308</td>\n",
       "      <td>0.648368</td>\n",
       "      <td>-0.501019</td>\n",
       "      <td>False</td>\n",
       "      <td>NaN</td>\n",
       "    </tr>\n",
       "    <tr>\n",
       "      <th>g</th>\n",
       "      <td>1.015217</td>\n",
       "      <td>-0.504605</td>\n",
       "      <td>-1.377006</td>\n",
       "      <td>True</td>\n",
       "      <td>NaN</td>\n",
       "    </tr>\n",
       "    <tr>\n",
       "      <th>h</th>\n",
       "      <td>1.015217</td>\n",
       "      <td>-0.504605</td>\n",
       "      <td>-1.377006</td>\n",
       "      <td>True</td>\n",
       "      <td>NaN</td>\n",
       "    </tr>\n",
       "  </tbody>\n",
       "</table>\n",
       "</div>"
      ],
      "text/plain": [
       "          A         B         C      D  empty_col\n",
       "a -1.526914  0.374582  0.658237  False        NaN\n",
       "b -1.526914  1.161073  1.241333  False        NaN\n",
       "c -1.526914  1.161073  1.241333  False        NaN\n",
       "d -0.972856  0.701986  1.241333  False        NaN\n",
       "e -0.972856  0.701986  1.241333  False        NaN\n",
       "f -0.792308  0.648368 -0.501019  False        NaN\n",
       "g  1.015217 -0.504605 -1.377006   True        NaN\n",
       "h  1.015217 -0.504605 -1.377006   True        NaN"
      ]
     },
     "execution_count": 68,
     "metadata": {},
     "output_type": "execute_result"
    }
   ],
   "source": [
    "# rellena de abajo hacia arriba por columnas\n",
    "df.fillna(method='bfill')"
   ]
  },
  {
   "cell_type": "markdown",
   "metadata": {
    "colab_type": "text",
    "id": "Dal0eOCkCj5s"
   },
   "source": [
    "```axis=1``` (por filas):"
   ]
  },
  {
   "cell_type": "code",
   "execution_count": 69,
   "metadata": {
    "colab": {},
    "colab_type": "code",
    "id": "XieYa65XCkYN"
   },
   "outputs": [
    {
     "data": {
      "text/html": [
       "<div>\n",
       "<style scoped>\n",
       "    .dataframe tbody tr th:only-of-type {\n",
       "        vertical-align: middle;\n",
       "    }\n",
       "\n",
       "    .dataframe tbody tr th {\n",
       "        vertical-align: top;\n",
       "    }\n",
       "\n",
       "    .dataframe thead th {\n",
       "        text-align: right;\n",
       "    }\n",
       "</style>\n",
       "<table border=\"1\" class=\"dataframe\">\n",
       "  <thead>\n",
       "    <tr style=\"text-align: right;\">\n",
       "      <th></th>\n",
       "      <th>A</th>\n",
       "      <th>B</th>\n",
       "      <th>C</th>\n",
       "      <th>D</th>\n",
       "      <th>empty_col</th>\n",
       "    </tr>\n",
       "  </thead>\n",
       "  <tbody>\n",
       "    <tr>\n",
       "      <th>a</th>\n",
       "      <td>0.374582</td>\n",
       "      <td>0.374582</td>\n",
       "      <td>0.658237</td>\n",
       "      <td>False</td>\n",
       "      <td>NaN</td>\n",
       "    </tr>\n",
       "    <tr>\n",
       "      <th>b</th>\n",
       "      <td>NaN</td>\n",
       "      <td>NaN</td>\n",
       "      <td>NaN</td>\n",
       "      <td>NaN</td>\n",
       "      <td>NaN</td>\n",
       "    </tr>\n",
       "    <tr>\n",
       "      <th>c</th>\n",
       "      <td>-1.52691</td>\n",
       "      <td>1.16107</td>\n",
       "      <td>False</td>\n",
       "      <td>False</td>\n",
       "      <td>NaN</td>\n",
       "    </tr>\n",
       "    <tr>\n",
       "      <th>d</th>\n",
       "      <td>NaN</td>\n",
       "      <td>NaN</td>\n",
       "      <td>NaN</td>\n",
       "      <td>NaN</td>\n",
       "      <td>NaN</td>\n",
       "    </tr>\n",
       "    <tr>\n",
       "      <th>e</th>\n",
       "      <td>-0.972856</td>\n",
       "      <td>0.701986</td>\n",
       "      <td>1.24133</td>\n",
       "      <td>False</td>\n",
       "      <td>NaN</td>\n",
       "    </tr>\n",
       "    <tr>\n",
       "      <th>f</th>\n",
       "      <td>-0.792308</td>\n",
       "      <td>0.648368</td>\n",
       "      <td>-0.501019</td>\n",
       "      <td>False</td>\n",
       "      <td>NaN</td>\n",
       "    </tr>\n",
       "    <tr>\n",
       "      <th>g</th>\n",
       "      <td>NaN</td>\n",
       "      <td>NaN</td>\n",
       "      <td>NaN</td>\n",
       "      <td>NaN</td>\n",
       "      <td>NaN</td>\n",
       "    </tr>\n",
       "    <tr>\n",
       "      <th>h</th>\n",
       "      <td>1.01522</td>\n",
       "      <td>-0.504605</td>\n",
       "      <td>-1.37701</td>\n",
       "      <td>True</td>\n",
       "      <td>NaN</td>\n",
       "    </tr>\n",
       "  </tbody>\n",
       "</table>\n",
       "</div>"
      ],
      "text/plain": [
       "          A         B         C      D empty_col\n",
       "a  0.374582  0.374582  0.658237  False       NaN\n",
       "b       NaN       NaN       NaN    NaN       NaN\n",
       "c  -1.52691   1.16107     False  False       NaN\n",
       "d       NaN       NaN       NaN    NaN       NaN\n",
       "e -0.972856  0.701986   1.24133  False       NaN\n",
       "f -0.792308  0.648368 -0.501019  False       NaN\n",
       "g       NaN       NaN       NaN    NaN       NaN\n",
       "h   1.01522 -0.504605  -1.37701   True       NaN"
      ]
     },
     "execution_count": 69,
     "metadata": {},
     "output_type": "execute_result"
    }
   ],
   "source": [
    "# rellena de der a izq por filas\n",
    "df.fillna(method='bfill', axis=1)"
   ]
  },
  {
   "cell_type": "markdown",
   "metadata": {
    "colab_type": "text",
    "id": "7orBVhvQSHzT"
   },
   "source": [
    "# Métodos Utilitarios\n",
    "\n",
    "* df.copy()\n",
    "* df.sort_values([ascending=True|False])\n",
    "* df.sort_index([ascending=True|False])"
   ]
  },
  {
   "cell_type": "markdown",
   "metadata": {
    "colab_type": "text",
    "id": "aUdj9iOdjSsF"
   },
   "source": [
    "## df.copy()\n",
    "\n",
    "Crea una copia profunda (por defecto) del objeto:"
   ]
  },
  {
   "cell_type": "code",
   "execution_count": 70,
   "metadata": {
    "colab": {},
    "colab_type": "code",
    "id": "_ylxot4wjMrA"
   },
   "outputs": [
    {
     "data": {
      "text/html": [
       "<div>\n",
       "<style scoped>\n",
       "    .dataframe tbody tr th:only-of-type {\n",
       "        vertical-align: middle;\n",
       "    }\n",
       "\n",
       "    .dataframe tbody tr th {\n",
       "        vertical-align: top;\n",
       "    }\n",
       "\n",
       "    .dataframe thead th {\n",
       "        text-align: right;\n",
       "    }\n",
       "</style>\n",
       "<table border=\"1\" class=\"dataframe\">\n",
       "  <thead>\n",
       "    <tr style=\"text-align: right;\">\n",
       "      <th></th>\n",
       "      <th>longitude</th>\n",
       "      <th>latitude</th>\n",
       "      <th>housing_median_age</th>\n",
       "      <th>total_rooms</th>\n",
       "      <th>total_bedrooms</th>\n",
       "      <th>population</th>\n",
       "      <th>households</th>\n",
       "      <th>median_income</th>\n",
       "      <th>median_house_value</th>\n",
       "      <th>random</th>\n",
       "    </tr>\n",
       "  </thead>\n",
       "  <tbody>\n",
       "    <tr>\n",
       "      <th>0</th>\n",
       "      <td>-122.05</td>\n",
       "      <td>37.37</td>\n",
       "      <td>27</td>\n",
       "      <td>3885</td>\n",
       "      <td>661</td>\n",
       "      <td>1537</td>\n",
       "      <td>606</td>\n",
       "      <td>6.6085</td>\n",
       "      <td>344700</td>\n",
       "      <td>0.125489</td>\n",
       "    </tr>\n",
       "    <tr>\n",
       "      <th>1</th>\n",
       "      <td>-118.30</td>\n",
       "      <td>34.26</td>\n",
       "      <td>43</td>\n",
       "      <td>1510</td>\n",
       "      <td>200</td>\n",
       "      <td>809</td>\n",
       "      <td>277</td>\n",
       "      <td>3.5990</td>\n",
       "      <td>176500</td>\n",
       "      <td>-0.341393</td>\n",
       "    </tr>\n",
       "    <tr>\n",
       "      <th>2</th>\n",
       "      <td>-117.81</td>\n",
       "      <td>33.78</td>\n",
       "      <td>27</td>\n",
       "      <td>3589</td>\n",
       "      <td>507</td>\n",
       "      <td>1484</td>\n",
       "      <td>495</td>\n",
       "      <td>5.7934</td>\n",
       "      <td>270500</td>\n",
       "      <td>0.369411</td>\n",
       "    </tr>\n",
       "    <tr>\n",
       "      <th>3</th>\n",
       "      <td>-118.36</td>\n",
       "      <td>33.82</td>\n",
       "      <td>28</td>\n",
       "      <td>67</td>\n",
       "      <td>15</td>\n",
       "      <td>49</td>\n",
       "      <td>11</td>\n",
       "      <td>6.1359</td>\n",
       "      <td>330000</td>\n",
       "      <td>1.507175</td>\n",
       "    </tr>\n",
       "    <tr>\n",
       "      <th>4</th>\n",
       "      <td>-119.67</td>\n",
       "      <td>36.33</td>\n",
       "      <td>19</td>\n",
       "      <td>1241</td>\n",
       "      <td>244</td>\n",
       "      <td>850</td>\n",
       "      <td>237</td>\n",
       "      <td>2.9375</td>\n",
       "      <td>81700</td>\n",
       "      <td>3.024871</td>\n",
       "    </tr>\n",
       "  </tbody>\n",
       "</table>\n",
       "</div>"
      ],
      "text/plain": [
       "   longitude  latitude  housing_median_age  total_rooms  total_bedrooms  \\\n",
       "0    -122.05     37.37                  27         3885             661   \n",
       "1    -118.30     34.26                  43         1510             200   \n",
       "2    -117.81     33.78                  27         3589             507   \n",
       "3    -118.36     33.82                  28           67              15   \n",
       "4    -119.67     36.33                  19         1241             244   \n",
       "\n",
       "   population  households  median_income  median_house_value    random  \n",
       "0        1537         606         6.6085              344700  0.125489  \n",
       "1         809         277         3.5990              176500 -0.341393  \n",
       "2        1484         495         5.7934              270500  0.369411  \n",
       "3          49          11         6.1359              330000  1.507175  \n",
       "4         850         237         2.9375               81700  3.024871  "
      ]
     },
     "execution_count": 70,
     "metadata": {},
     "output_type": "execute_result"
    }
   ],
   "source": [
    "df = cali_housing.copy()\n",
    "df.head()"
   ]
  },
  {
   "cell_type": "markdown",
   "metadata": {
    "colab_type": "text",
    "id": "FEV5a_-5DEZg"
   },
   "source": [
    "Ahora modificar ```df``` no afectará a ```cali_housing``` y viceversa."
   ]
  },
  {
   "cell_type": "markdown",
   "metadata": {
    "colab_type": "text",
    "id": "5W8QRU4ajQCl"
   },
   "source": [
    "## df.sort_values()\n",
    "\n",
    "Ordenar usando los valores en el Dataframe:"
   ]
  },
  {
   "cell_type": "code",
   "execution_count": 71,
   "metadata": {
    "colab": {},
    "colab_type": "code",
    "id": "I5dyrY1xjQLY"
   },
   "outputs": [
    {
     "data": {
      "text/html": [
       "<div>\n",
       "<style scoped>\n",
       "    .dataframe tbody tr th:only-of-type {\n",
       "        vertical-align: middle;\n",
       "    }\n",
       "\n",
       "    .dataframe tbody tr th {\n",
       "        vertical-align: top;\n",
       "    }\n",
       "\n",
       "    .dataframe thead th {\n",
       "        text-align: right;\n",
       "    }\n",
       "</style>\n",
       "<table border=\"1\" class=\"dataframe\">\n",
       "  <thead>\n",
       "    <tr style=\"text-align: right;\">\n",
       "      <th></th>\n",
       "      <th>longitude</th>\n",
       "      <th>latitude</th>\n",
       "      <th>housing_median_age</th>\n",
       "      <th>total_rooms</th>\n",
       "      <th>total_bedrooms</th>\n",
       "      <th>population</th>\n",
       "      <th>households</th>\n",
       "      <th>median_income</th>\n",
       "      <th>median_house_value</th>\n",
       "      <th>random</th>\n",
       "    </tr>\n",
       "  </thead>\n",
       "  <tbody>\n",
       "    <tr>\n",
       "      <th>842</th>\n",
       "      <td>-117.95</td>\n",
       "      <td>35.08</td>\n",
       "      <td>1</td>\n",
       "      <td>83</td>\n",
       "      <td>15</td>\n",
       "      <td>32</td>\n",
       "      <td>15</td>\n",
       "      <td>4.8750</td>\n",
       "      <td>141700</td>\n",
       "      <td>0.208481</td>\n",
       "    </tr>\n",
       "    <tr>\n",
       "      <th>1115</th>\n",
       "      <td>-116.95</td>\n",
       "      <td>33.86</td>\n",
       "      <td>1</td>\n",
       "      <td>6</td>\n",
       "      <td>2</td>\n",
       "      <td>8</td>\n",
       "      <td>2</td>\n",
       "      <td>1.6250</td>\n",
       "      <td>55000</td>\n",
       "      <td>-0.792863</td>\n",
       "    </tr>\n",
       "    <tr>\n",
       "      <th>2117</th>\n",
       "      <td>-117.51</td>\n",
       "      <td>34.16</td>\n",
       "      <td>2</td>\n",
       "      <td>718</td>\n",
       "      <td>98</td>\n",
       "      <td>119</td>\n",
       "      <td>50</td>\n",
       "      <td>4.1000</td>\n",
       "      <td>315000</td>\n",
       "      <td>-0.135946</td>\n",
       "    </tr>\n",
       "    <tr>\n",
       "      <th>2429</th>\n",
       "      <td>-117.20</td>\n",
       "      <td>33.58</td>\n",
       "      <td>2</td>\n",
       "      <td>30450</td>\n",
       "      <td>5033</td>\n",
       "      <td>9419</td>\n",
       "      <td>3197</td>\n",
       "      <td>4.5936</td>\n",
       "      <td>174300</td>\n",
       "      <td>0.047544</td>\n",
       "    </tr>\n",
       "    <tr>\n",
       "      <th>495</th>\n",
       "      <td>-122.29</td>\n",
       "      <td>37.82</td>\n",
       "      <td>2</td>\n",
       "      <td>158</td>\n",
       "      <td>43</td>\n",
       "      <td>94</td>\n",
       "      <td>57</td>\n",
       "      <td>2.5625</td>\n",
       "      <td>60000</td>\n",
       "      <td>0.356873</td>\n",
       "    </tr>\n",
       "    <tr>\n",
       "      <th>...</th>\n",
       "      <td>...</td>\n",
       "      <td>...</td>\n",
       "      <td>...</td>\n",
       "      <td>...</td>\n",
       "      <td>...</td>\n",
       "      <td>...</td>\n",
       "      <td>...</td>\n",
       "      <td>...</td>\n",
       "      <td>...</td>\n",
       "      <td>...</td>\n",
       "    </tr>\n",
       "    <tr>\n",
       "      <th>717</th>\n",
       "      <td>-122.27</td>\n",
       "      <td>37.86</td>\n",
       "      <td>52</td>\n",
       "      <td>2307</td>\n",
       "      <td>583</td>\n",
       "      <td>1127</td>\n",
       "      <td>548</td>\n",
       "      <td>1.8447</td>\n",
       "      <td>198200</td>\n",
       "      <td>-0.734697</td>\n",
       "    </tr>\n",
       "    <tr>\n",
       "      <th>708</th>\n",
       "      <td>-118.21</td>\n",
       "      <td>33.97</td>\n",
       "      <td>52</td>\n",
       "      <td>4220</td>\n",
       "      <td>908</td>\n",
       "      <td>3731</td>\n",
       "      <td>892</td>\n",
       "      <td>3.1901</td>\n",
       "      <td>167600</td>\n",
       "      <td>0.050916</td>\n",
       "    </tr>\n",
       "    <tr>\n",
       "      <th>1826</th>\n",
       "      <td>-122.04</td>\n",
       "      <td>37.00</td>\n",
       "      <td>52</td>\n",
       "      <td>3365</td>\n",
       "      <td>644</td>\n",
       "      <td>796</td>\n",
       "      <td>333</td>\n",
       "      <td>2.9712</td>\n",
       "      <td>116600</td>\n",
       "      <td>1.370777</td>\n",
       "    </tr>\n",
       "    <tr>\n",
       "      <th>754</th>\n",
       "      <td>-121.49</td>\n",
       "      <td>38.56</td>\n",
       "      <td>52</td>\n",
       "      <td>1777</td>\n",
       "      <td>368</td>\n",
       "      <td>624</td>\n",
       "      <td>350</td>\n",
       "      <td>3.6729</td>\n",
       "      <td>137800</td>\n",
       "      <td>0.918347</td>\n",
       "    </tr>\n",
       "    <tr>\n",
       "      <th>1499</th>\n",
       "      <td>-122.21</td>\n",
       "      <td>37.79</td>\n",
       "      <td>52</td>\n",
       "      <td>762</td>\n",
       "      <td>190</td>\n",
       "      <td>600</td>\n",
       "      <td>195</td>\n",
       "      <td>3.0893</td>\n",
       "      <td>125000</td>\n",
       "      <td>0.268027</td>\n",
       "    </tr>\n",
       "  </tbody>\n",
       "</table>\n",
       "<p>3000 rows × 10 columns</p>\n",
       "</div>"
      ],
      "text/plain": [
       "      longitude  latitude  housing_median_age  total_rooms  total_bedrooms  \\\n",
       "842     -117.95     35.08                   1           83              15   \n",
       "1115    -116.95     33.86                   1            6               2   \n",
       "2117    -117.51     34.16                   2          718              98   \n",
       "2429    -117.20     33.58                   2        30450            5033   \n",
       "495     -122.29     37.82                   2          158              43   \n",
       "...         ...       ...                 ...          ...             ...   \n",
       "717     -122.27     37.86                  52         2307             583   \n",
       "708     -118.21     33.97                  52         4220             908   \n",
       "1826    -122.04     37.00                  52         3365             644   \n",
       "754     -121.49     38.56                  52         1777             368   \n",
       "1499    -122.21     37.79                  52          762             190   \n",
       "\n",
       "      population  households  median_income  median_house_value    random  \n",
       "842           32          15         4.8750              141700  0.208481  \n",
       "1115           8           2         1.6250               55000 -0.792863  \n",
       "2117         119          50         4.1000              315000 -0.135946  \n",
       "2429        9419        3197         4.5936              174300  0.047544  \n",
       "495           94          57         2.5625               60000  0.356873  \n",
       "...          ...         ...            ...                 ...       ...  \n",
       "717         1127         548         1.8447              198200 -0.734697  \n",
       "708         3731         892         3.1901              167600  0.050916  \n",
       "1826         796         333         2.9712              116600  1.370777  \n",
       "754          624         350         3.6729              137800  0.918347  \n",
       "1499         600         195         3.0893              125000  0.268027  \n",
       "\n",
       "[3000 rows x 10 columns]"
      ]
     },
     "execution_count": 71,
     "metadata": {},
     "output_type": "execute_result"
    }
   ],
   "source": [
    "df.sort_values(\"housing_median_age\")"
   ]
  },
  {
   "cell_type": "markdown",
   "metadata": {
    "colab_type": "text",
    "id": "-VLNFaxjC3F3"
   },
   "source": [
    "Ordenar usando más de una columna:"
   ]
  },
  {
   "cell_type": "code",
   "execution_count": 72,
   "metadata": {
    "colab": {},
    "colab_type": "code",
    "id": "y0yV-eAvC3eo"
   },
   "outputs": [
    {
     "data": {
      "text/html": [
       "<div>\n",
       "<style scoped>\n",
       "    .dataframe tbody tr th:only-of-type {\n",
       "        vertical-align: middle;\n",
       "    }\n",
       "\n",
       "    .dataframe tbody tr th {\n",
       "        vertical-align: top;\n",
       "    }\n",
       "\n",
       "    .dataframe thead th {\n",
       "        text-align: right;\n",
       "    }\n",
       "</style>\n",
       "<table border=\"1\" class=\"dataframe\">\n",
       "  <thead>\n",
       "    <tr style=\"text-align: right;\">\n",
       "      <th></th>\n",
       "      <th>longitude</th>\n",
       "      <th>latitude</th>\n",
       "      <th>housing_median_age</th>\n",
       "      <th>total_rooms</th>\n",
       "      <th>total_bedrooms</th>\n",
       "      <th>population</th>\n",
       "      <th>households</th>\n",
       "      <th>median_income</th>\n",
       "      <th>median_house_value</th>\n",
       "      <th>random</th>\n",
       "    </tr>\n",
       "  </thead>\n",
       "  <tbody>\n",
       "    <tr>\n",
       "      <th>1115</th>\n",
       "      <td>-116.95</td>\n",
       "      <td>33.86</td>\n",
       "      <td>1</td>\n",
       "      <td>6</td>\n",
       "      <td>2</td>\n",
       "      <td>8</td>\n",
       "      <td>2</td>\n",
       "      <td>1.6250</td>\n",
       "      <td>55000</td>\n",
       "      <td>-0.792863</td>\n",
       "    </tr>\n",
       "    <tr>\n",
       "      <th>842</th>\n",
       "      <td>-117.95</td>\n",
       "      <td>35.08</td>\n",
       "      <td>1</td>\n",
       "      <td>83</td>\n",
       "      <td>15</td>\n",
       "      <td>32</td>\n",
       "      <td>15</td>\n",
       "      <td>4.8750</td>\n",
       "      <td>141700</td>\n",
       "      <td>0.208481</td>\n",
       "    </tr>\n",
       "    <tr>\n",
       "      <th>1050</th>\n",
       "      <td>-121.96</td>\n",
       "      <td>37.74</td>\n",
       "      <td>2</td>\n",
       "      <td>200</td>\n",
       "      <td>20</td>\n",
       "      <td>25</td>\n",
       "      <td>9</td>\n",
       "      <td>15.0001</td>\n",
       "      <td>350000</td>\n",
       "      <td>0.717848</td>\n",
       "    </tr>\n",
       "    <tr>\n",
       "      <th>2117</th>\n",
       "      <td>-117.51</td>\n",
       "      <td>34.16</td>\n",
       "      <td>2</td>\n",
       "      <td>718</td>\n",
       "      <td>98</td>\n",
       "      <td>119</td>\n",
       "      <td>50</td>\n",
       "      <td>4.1000</td>\n",
       "      <td>315000</td>\n",
       "      <td>-0.135946</td>\n",
       "    </tr>\n",
       "    <tr>\n",
       "      <th>495</th>\n",
       "      <td>-122.29</td>\n",
       "      <td>37.82</td>\n",
       "      <td>2</td>\n",
       "      <td>158</td>\n",
       "      <td>43</td>\n",
       "      <td>94</td>\n",
       "      <td>57</td>\n",
       "      <td>2.5625</td>\n",
       "      <td>60000</td>\n",
       "      <td>0.356873</td>\n",
       "    </tr>\n",
       "    <tr>\n",
       "      <th>...</th>\n",
       "      <td>...</td>\n",
       "      <td>...</td>\n",
       "      <td>...</td>\n",
       "      <td>...</td>\n",
       "      <td>...</td>\n",
       "      <td>...</td>\n",
       "      <td>...</td>\n",
       "      <td>...</td>\n",
       "      <td>...</td>\n",
       "      <td>...</td>\n",
       "    </tr>\n",
       "    <tr>\n",
       "      <th>26</th>\n",
       "      <td>-122.42</td>\n",
       "      <td>37.76</td>\n",
       "      <td>52</td>\n",
       "      <td>3587</td>\n",
       "      <td>1030</td>\n",
       "      <td>2259</td>\n",
       "      <td>979</td>\n",
       "      <td>2.5403</td>\n",
       "      <td>250000</td>\n",
       "      <td>1.584592</td>\n",
       "    </tr>\n",
       "    <tr>\n",
       "      <th>2950</th>\n",
       "      <td>-122.42</td>\n",
       "      <td>37.79</td>\n",
       "      <td>52</td>\n",
       "      <td>3364</td>\n",
       "      <td>1100</td>\n",
       "      <td>2112</td>\n",
       "      <td>1045</td>\n",
       "      <td>2.1343</td>\n",
       "      <td>400000</td>\n",
       "      <td>-0.161851</td>\n",
       "    </tr>\n",
       "    <tr>\n",
       "      <th>1780</th>\n",
       "      <td>-122.42</td>\n",
       "      <td>37.76</td>\n",
       "      <td>52</td>\n",
       "      <td>4407</td>\n",
       "      <td>1192</td>\n",
       "      <td>2280</td>\n",
       "      <td>1076</td>\n",
       "      <td>3.3937</td>\n",
       "      <td>270000</td>\n",
       "      <td>-1.181062</td>\n",
       "    </tr>\n",
       "    <tr>\n",
       "      <th>1346</th>\n",
       "      <td>-122.44</td>\n",
       "      <td>37.77</td>\n",
       "      <td>52</td>\n",
       "      <td>5604</td>\n",
       "      <td>1268</td>\n",
       "      <td>2023</td>\n",
       "      <td>1196</td>\n",
       "      <td>4.4085</td>\n",
       "      <td>400000</td>\n",
       "      <td>-1.265871</td>\n",
       "    </tr>\n",
       "    <tr>\n",
       "      <th>1510</th>\n",
       "      <td>-122.43</td>\n",
       "      <td>37.79</td>\n",
       "      <td>52</td>\n",
       "      <td>6186</td>\n",
       "      <td>1566</td>\n",
       "      <td>2065</td>\n",
       "      <td>1374</td>\n",
       "      <td>5.8543</td>\n",
       "      <td>500001</td>\n",
       "      <td>1.803456</td>\n",
       "    </tr>\n",
       "  </tbody>\n",
       "</table>\n",
       "<p>3000 rows × 10 columns</p>\n",
       "</div>"
      ],
      "text/plain": [
       "      longitude  latitude  housing_median_age  total_rooms  total_bedrooms  \\\n",
       "1115    -116.95     33.86                   1            6               2   \n",
       "842     -117.95     35.08                   1           83              15   \n",
       "1050    -121.96     37.74                   2          200              20   \n",
       "2117    -117.51     34.16                   2          718              98   \n",
       "495     -122.29     37.82                   2          158              43   \n",
       "...         ...       ...                 ...          ...             ...   \n",
       "26      -122.42     37.76                  52         3587            1030   \n",
       "2950    -122.42     37.79                  52         3364            1100   \n",
       "1780    -122.42     37.76                  52         4407            1192   \n",
       "1346    -122.44     37.77                  52         5604            1268   \n",
       "1510    -122.43     37.79                  52         6186            1566   \n",
       "\n",
       "      population  households  median_income  median_house_value    random  \n",
       "1115           8           2         1.6250               55000 -0.792863  \n",
       "842           32          15         4.8750              141700  0.208481  \n",
       "1050          25           9        15.0001              350000  0.717848  \n",
       "2117         119          50         4.1000              315000 -0.135946  \n",
       "495           94          57         2.5625               60000  0.356873  \n",
       "...          ...         ...            ...                 ...       ...  \n",
       "26          2259         979         2.5403              250000  1.584592  \n",
       "2950        2112        1045         2.1343              400000 -0.161851  \n",
       "1780        2280        1076         3.3937              270000 -1.181062  \n",
       "1346        2023        1196         4.4085              400000 -1.265871  \n",
       "1510        2065        1374         5.8543              500001  1.803456  \n",
       "\n",
       "[3000 rows x 10 columns]"
      ]
     },
     "execution_count": 72,
     "metadata": {},
     "output_type": "execute_result"
    }
   ],
   "source": [
    "df.sort_values([\"housing_median_age\", \"households\"])"
   ]
  },
  {
   "cell_type": "markdown",
   "metadata": {
    "colab_type": "text",
    "id": "Zet4Wt7DjQaP"
   },
   "source": [
    "## df.sort_index()\n",
    "\n",
    "Ordenar usando los índices del Dataframe/Series:"
   ]
  },
  {
   "cell_type": "code",
   "execution_count": 73,
   "metadata": {
    "colab": {},
    "colab_type": "code",
    "id": "E0eodMQRjQgb"
   },
   "outputs": [
    {
     "data": {
      "text/html": [
       "<div>\n",
       "<style scoped>\n",
       "    .dataframe tbody tr th:only-of-type {\n",
       "        vertical-align: middle;\n",
       "    }\n",
       "\n",
       "    .dataframe tbody tr th {\n",
       "        vertical-align: top;\n",
       "    }\n",
       "\n",
       "    .dataframe thead th {\n",
       "        text-align: right;\n",
       "    }\n",
       "</style>\n",
       "<table border=\"1\" class=\"dataframe\">\n",
       "  <thead>\n",
       "    <tr style=\"text-align: right;\">\n",
       "      <th></th>\n",
       "      <th>longitude</th>\n",
       "      <th>latitude</th>\n",
       "      <th>housing_median_age</th>\n",
       "      <th>total_rooms</th>\n",
       "      <th>total_bedrooms</th>\n",
       "      <th>population</th>\n",
       "      <th>households</th>\n",
       "      <th>median_income</th>\n",
       "      <th>median_house_value</th>\n",
       "      <th>random</th>\n",
       "    </tr>\n",
       "  </thead>\n",
       "  <tbody>\n",
       "    <tr>\n",
       "      <th>215</th>\n",
       "      <td>-122.26</td>\n",
       "      <td>37.55</td>\n",
       "      <td>17</td>\n",
       "      <td>4576</td>\n",
       "      <td>814</td>\n",
       "      <td>1941</td>\n",
       "      <td>807</td>\n",
       "      <td>5.9572</td>\n",
       "      <td>443800</td>\n",
       "      <td>-1.382888</td>\n",
       "    </tr>\n",
       "    <tr>\n",
       "      <th>1733</th>\n",
       "      <td>-118.27</td>\n",
       "      <td>33.79</td>\n",
       "      <td>39</td>\n",
       "      <td>1513</td>\n",
       "      <td>365</td>\n",
       "      <td>1227</td>\n",
       "      <td>354</td>\n",
       "      <td>3.3929</td>\n",
       "      <td>184600</td>\n",
       "      <td>0.046583</td>\n",
       "    </tr>\n",
       "    <tr>\n",
       "      <th>18</th>\n",
       "      <td>-118.88</td>\n",
       "      <td>34.21</td>\n",
       "      <td>26</td>\n",
       "      <td>1590</td>\n",
       "      <td>196</td>\n",
       "      <td>654</td>\n",
       "      <td>199</td>\n",
       "      <td>6.5851</td>\n",
       "      <td>300000</td>\n",
       "      <td>1.014472</td>\n",
       "    </tr>\n",
       "    <tr>\n",
       "      <th>689</th>\n",
       "      <td>-117.70</td>\n",
       "      <td>33.68</td>\n",
       "      <td>29</td>\n",
       "      <td>5650</td>\n",
       "      <td>1084</td>\n",
       "      <td>3985</td>\n",
       "      <td>1056</td>\n",
       "      <td>2.8192</td>\n",
       "      <td>162500</td>\n",
       "      <td>0.623996</td>\n",
       "    </tr>\n",
       "    <tr>\n",
       "      <th>2082</th>\n",
       "      <td>-116.95</td>\n",
       "      <td>33.79</td>\n",
       "      <td>20</td>\n",
       "      <td>2399</td>\n",
       "      <td>546</td>\n",
       "      <td>1726</td>\n",
       "      <td>542</td>\n",
       "      <td>1.8845</td>\n",
       "      <td>77700</td>\n",
       "      <td>-2.126157</td>\n",
       "    </tr>\n",
       "  </tbody>\n",
       "</table>\n",
       "</div>"
      ],
      "text/plain": [
       "      longitude  latitude  housing_median_age  total_rooms  total_bedrooms  \\\n",
       "215     -122.26     37.55                  17         4576             814   \n",
       "1733    -118.27     33.79                  39         1513             365   \n",
       "18      -118.88     34.21                  26         1590             196   \n",
       "689     -117.70     33.68                  29         5650            1084   \n",
       "2082    -116.95     33.79                  20         2399             546   \n",
       "\n",
       "      population  households  median_income  median_house_value    random  \n",
       "215         1941         807         5.9572              443800 -1.382888  \n",
       "1733        1227         354         3.3929              184600  0.046583  \n",
       "18           654         199         6.5851              300000  1.014472  \n",
       "689         3985        1056         2.8192              162500  0.623996  \n",
       "2082        1726         542         1.8845               77700 -2.126157  "
      ]
     },
     "execution_count": 73,
     "metadata": {},
     "output_type": "execute_result"
    }
   ],
   "source": [
    "#una muestra aleatoria\n",
    "df = cali_housing.sample(5)\n",
    "df"
   ]
  },
  {
   "cell_type": "code",
   "execution_count": 74,
   "metadata": {
    "colab": {},
    "colab_type": "code",
    "id": "z5hZDIeATSuy"
   },
   "outputs": [
    {
     "data": {
      "text/html": [
       "<div>\n",
       "<style scoped>\n",
       "    .dataframe tbody tr th:only-of-type {\n",
       "        vertical-align: middle;\n",
       "    }\n",
       "\n",
       "    .dataframe tbody tr th {\n",
       "        vertical-align: top;\n",
       "    }\n",
       "\n",
       "    .dataframe thead th {\n",
       "        text-align: right;\n",
       "    }\n",
       "</style>\n",
       "<table border=\"1\" class=\"dataframe\">\n",
       "  <thead>\n",
       "    <tr style=\"text-align: right;\">\n",
       "      <th></th>\n",
       "      <th>longitude</th>\n",
       "      <th>latitude</th>\n",
       "      <th>housing_median_age</th>\n",
       "      <th>total_rooms</th>\n",
       "      <th>total_bedrooms</th>\n",
       "      <th>population</th>\n",
       "      <th>households</th>\n",
       "      <th>median_income</th>\n",
       "      <th>median_house_value</th>\n",
       "      <th>random</th>\n",
       "    </tr>\n",
       "  </thead>\n",
       "  <tbody>\n",
       "    <tr>\n",
       "      <th>18</th>\n",
       "      <td>-118.88</td>\n",
       "      <td>34.21</td>\n",
       "      <td>26</td>\n",
       "      <td>1590</td>\n",
       "      <td>196</td>\n",
       "      <td>654</td>\n",
       "      <td>199</td>\n",
       "      <td>6.5851</td>\n",
       "      <td>300000</td>\n",
       "      <td>1.014472</td>\n",
       "    </tr>\n",
       "    <tr>\n",
       "      <th>215</th>\n",
       "      <td>-122.26</td>\n",
       "      <td>37.55</td>\n",
       "      <td>17</td>\n",
       "      <td>4576</td>\n",
       "      <td>814</td>\n",
       "      <td>1941</td>\n",
       "      <td>807</td>\n",
       "      <td>5.9572</td>\n",
       "      <td>443800</td>\n",
       "      <td>-1.382888</td>\n",
       "    </tr>\n",
       "    <tr>\n",
       "      <th>689</th>\n",
       "      <td>-117.70</td>\n",
       "      <td>33.68</td>\n",
       "      <td>29</td>\n",
       "      <td>5650</td>\n",
       "      <td>1084</td>\n",
       "      <td>3985</td>\n",
       "      <td>1056</td>\n",
       "      <td>2.8192</td>\n",
       "      <td>162500</td>\n",
       "      <td>0.623996</td>\n",
       "    </tr>\n",
       "    <tr>\n",
       "      <th>1733</th>\n",
       "      <td>-118.27</td>\n",
       "      <td>33.79</td>\n",
       "      <td>39</td>\n",
       "      <td>1513</td>\n",
       "      <td>365</td>\n",
       "      <td>1227</td>\n",
       "      <td>354</td>\n",
       "      <td>3.3929</td>\n",
       "      <td>184600</td>\n",
       "      <td>0.046583</td>\n",
       "    </tr>\n",
       "    <tr>\n",
       "      <th>2082</th>\n",
       "      <td>-116.95</td>\n",
       "      <td>33.79</td>\n",
       "      <td>20</td>\n",
       "      <td>2399</td>\n",
       "      <td>546</td>\n",
       "      <td>1726</td>\n",
       "      <td>542</td>\n",
       "      <td>1.8845</td>\n",
       "      <td>77700</td>\n",
       "      <td>-2.126157</td>\n",
       "    </tr>\n",
       "  </tbody>\n",
       "</table>\n",
       "</div>"
      ],
      "text/plain": [
       "      longitude  latitude  housing_median_age  total_rooms  total_bedrooms  \\\n",
       "18      -118.88     34.21                  26         1590             196   \n",
       "215     -122.26     37.55                  17         4576             814   \n",
       "689     -117.70     33.68                  29         5650            1084   \n",
       "1733    -118.27     33.79                  39         1513             365   \n",
       "2082    -116.95     33.79                  20         2399             546   \n",
       "\n",
       "      population  households  median_income  median_house_value    random  \n",
       "18           654         199         6.5851              300000  1.014472  \n",
       "215         1941         807         5.9572              443800 -1.382888  \n",
       "689         3985        1056         2.8192              162500  0.623996  \n",
       "1733        1227         354         3.3929              184600  0.046583  \n",
       "2082        1726         542         1.8845               77700 -2.126157  "
      ]
     },
     "execution_count": 74,
     "metadata": {},
     "output_type": "execute_result"
    }
   ],
   "source": [
    "# ordenar por index\n",
    "df.sort_index()"
   ]
  },
  {
   "cell_type": "markdown",
   "metadata": {
    "colab_type": "text",
    "id": "zjvZYHkIDzR3"
   },
   "source": [
    "Para un objeto Series:"
   ]
  },
  {
   "cell_type": "code",
   "execution_count": 77,
   "metadata": {
    "colab": {},
    "colab_type": "code",
    "id": "hml6pB_gD1xM"
   },
   "outputs": [
    {
     "data": {
      "text/plain": [
       "685     1271\n",
       "93      6755\n",
       "2083    2134\n",
       "742       95\n",
       "1928    3782\n",
       "Name: total_rooms, dtype: int64"
      ]
     },
     "execution_count": 77,
     "metadata": {},
     "output_type": "execute_result"
    }
   ],
   "source": [
    "s = cali_housing[\"total_rooms\"].sample(5)\n",
    "s"
   ]
  },
  {
   "cell_type": "code",
   "execution_count": 78,
   "metadata": {
    "colab": {},
    "colab_type": "code",
    "id": "6dbg9193EBua"
   },
   "outputs": [
    {
     "data": {
      "text/plain": [
       "93      6755\n",
       "685     1271\n",
       "742       95\n",
       "1928    3782\n",
       "2083    2134\n",
       "Name: total_rooms, dtype: int64"
      ]
     },
     "execution_count": 78,
     "metadata": {},
     "output_type": "execute_result"
    }
   ],
   "source": [
    "s.sort_index()"
   ]
  },
  {
   "cell_type": "markdown",
   "metadata": {
    "colab_type": "text",
    "id": "WpFJKTtLSH6q"
   },
   "source": [
    "# Métodos matemáticos\n",
    "\n",
    "[Operaciones binarias](https://pandas.pydata.org/docs/reference/frame.html#binary-operator-functions):\n",
    "\n",
    "* add(other), suma elemento por elemento un DataFrames/Series y other.\n",
    "* sub(other), resta elemento por elemento un DataFrames/Series y other.\n",
    "* mul(other), multiplicación elemento por elemento de un DataFrames/Series por other.\n",
    "* div(other), divide elemento por elemento un DataFrames/Series entre other.\n",
    "* mod(other), calcula el módulo de un DataFrame/Series usando other.\n",
    "* pow(other), calcula el exponente elemento por elemento de un DataFrame/Series elevado a la potencia de other.\n",
    "* dot(other), producto punto o de matrices entre dos Series/DataFrames respectivamente.\n",
    "\n",
    "_Las operaciones binarias pueden utilizar broadcasting, entonces pueden recibir escalares, Dataframes o Series._\n",
    "\n",
    "\n",
    "[Operaciones estadísticas](https://pandas.pydata.org/docs/reference/frame.html#computations-descriptive-stats):\n",
    "* abs(), valor absoluto de los elementos.\n",
    "* count(axis), cuenta el número de elementos no-nulos en las filas o columnas. \n",
    "* max(axis), retorna el valor máximo encontrado por filas o columnas.\n",
    "* min(axis), retorna el valor mínimo encontrado por filas o columnas.\n",
    "* mean(axis), retorna la media de los elementos por filas o columnas.\n",
    "* median(axis), retorna la mediana de los elementos de las filas o columnas.\n",
    "* sum(axis), retorna la suma de todos los elementos de las filas o columnas.\n",
    "* std(axis), retorna la desviación estándar de las filas o columnas.\n",
    "* var(axis),retorna la varianza de las filas o columnas."
   ]
  },
  {
   "cell_type": "markdown",
   "metadata": {
    "colab_type": "text",
    "id": "GIymgx0GKjyI"
   },
   "source": [
    "## Operaciones binarias"
   ]
  },
  {
   "cell_type": "code",
   "execution_count": 79,
   "metadata": {
    "colab": {},
    "colab_type": "code",
    "id": "t8jB4PTpLlwL"
   },
   "outputs": [
    {
     "data": {
      "text/html": [
       "<div>\n",
       "<style scoped>\n",
       "    .dataframe tbody tr th:only-of-type {\n",
       "        vertical-align: middle;\n",
       "    }\n",
       "\n",
       "    .dataframe tbody tr th {\n",
       "        vertical-align: top;\n",
       "    }\n",
       "\n",
       "    .dataframe thead th {\n",
       "        text-align: right;\n",
       "    }\n",
       "</style>\n",
       "<table border=\"1\" class=\"dataframe\">\n",
       "  <thead>\n",
       "    <tr style=\"text-align: right;\">\n",
       "      <th></th>\n",
       "      <th>angles</th>\n",
       "      <th>degrees</th>\n",
       "    </tr>\n",
       "  </thead>\n",
       "  <tbody>\n",
       "    <tr>\n",
       "      <th>circle</th>\n",
       "      <td>0</td>\n",
       "      <td>360</td>\n",
       "    </tr>\n",
       "    <tr>\n",
       "      <th>triangle</th>\n",
       "      <td>3</td>\n",
       "      <td>180</td>\n",
       "    </tr>\n",
       "    <tr>\n",
       "      <th>rectangle</th>\n",
       "      <td>4</td>\n",
       "      <td>360</td>\n",
       "    </tr>\n",
       "  </tbody>\n",
       "</table>\n",
       "</div>"
      ],
      "text/plain": [
       "           angles  degrees\n",
       "circle          0      360\n",
       "triangle        3      180\n",
       "rectangle       4      360"
      ]
     },
     "execution_count": 79,
     "metadata": {},
     "output_type": "execute_result"
    }
   ],
   "source": [
    "#creamos un dataframe para ejemplificar las funciones\n",
    "df = pd.DataFrame({'angles': [0, 3, 4], 'degrees': [360, 180, 360]}, index=['circle', 'triangle', 'rectangle'])\n",
    "df"
   ]
  },
  {
   "cell_type": "markdown",
   "metadata": {
    "colab_type": "text",
    "id": "kYiT5W6xKsVt"
   },
   "source": [
    "### add(), sub(), mul() y div()"
   ]
  },
  {
   "cell_type": "code",
   "execution_count": 80,
   "metadata": {
    "colab": {},
    "colab_type": "code",
    "id": "IEyrVIZ1hLEY"
   },
   "outputs": [
    {
     "data": {
      "text/html": [
       "<div>\n",
       "<style scoped>\n",
       "    .dataframe tbody tr th:only-of-type {\n",
       "        vertical-align: middle;\n",
       "    }\n",
       "\n",
       "    .dataframe tbody tr th {\n",
       "        vertical-align: top;\n",
       "    }\n",
       "\n",
       "    .dataframe thead th {\n",
       "        text-align: right;\n",
       "    }\n",
       "</style>\n",
       "<table border=\"1\" class=\"dataframe\">\n",
       "  <thead>\n",
       "    <tr style=\"text-align: right;\">\n",
       "      <th></th>\n",
       "      <th>angles</th>\n",
       "      <th>degrees</th>\n",
       "    </tr>\n",
       "  </thead>\n",
       "  <tbody>\n",
       "    <tr>\n",
       "      <th>circle</th>\n",
       "      <td>1</td>\n",
       "      <td>361</td>\n",
       "    </tr>\n",
       "    <tr>\n",
       "      <th>triangle</th>\n",
       "      <td>4</td>\n",
       "      <td>181</td>\n",
       "    </tr>\n",
       "    <tr>\n",
       "      <th>rectangle</th>\n",
       "      <td>5</td>\n",
       "      <td>361</td>\n",
       "    </tr>\n",
       "  </tbody>\n",
       "</table>\n",
       "</div>"
      ],
      "text/plain": [
       "           angles  degrees\n",
       "circle          1      361\n",
       "triangle        4      181\n",
       "rectangle       5      361"
      ]
     },
     "execution_count": 80,
     "metadata": {},
     "output_type": "execute_result"
    }
   ],
   "source": [
    "df.add(1)"
   ]
  },
  {
   "cell_type": "markdown",
   "metadata": {
    "colab_type": "text",
    "id": "w0ALFEcSx5RJ"
   },
   "source": [
    "o"
   ]
  },
  {
   "cell_type": "code",
   "execution_count": 81,
   "metadata": {
    "colab": {},
    "colab_type": "code",
    "id": "cONCG3nlxfaB"
   },
   "outputs": [
    {
     "data": {
      "text/html": [
       "<div>\n",
       "<style scoped>\n",
       "    .dataframe tbody tr th:only-of-type {\n",
       "        vertical-align: middle;\n",
       "    }\n",
       "\n",
       "    .dataframe tbody tr th {\n",
       "        vertical-align: top;\n",
       "    }\n",
       "\n",
       "    .dataframe thead th {\n",
       "        text-align: right;\n",
       "    }\n",
       "</style>\n",
       "<table border=\"1\" class=\"dataframe\">\n",
       "  <thead>\n",
       "    <tr style=\"text-align: right;\">\n",
       "      <th></th>\n",
       "      <th>angles</th>\n",
       "      <th>degrees</th>\n",
       "    </tr>\n",
       "  </thead>\n",
       "  <tbody>\n",
       "    <tr>\n",
       "      <th>circle</th>\n",
       "      <td>1</td>\n",
       "      <td>361</td>\n",
       "    </tr>\n",
       "    <tr>\n",
       "      <th>triangle</th>\n",
       "      <td>4</td>\n",
       "      <td>181</td>\n",
       "    </tr>\n",
       "    <tr>\n",
       "      <th>rectangle</th>\n",
       "      <td>5</td>\n",
       "      <td>361</td>\n",
       "    </tr>\n",
       "  </tbody>\n",
       "</table>\n",
       "</div>"
      ],
      "text/plain": [
       "           angles  degrees\n",
       "circle          1      361\n",
       "triangle        4      181\n",
       "rectangle       5      361"
      ]
     },
     "execution_count": 81,
     "metadata": {},
     "output_type": "execute_result"
    }
   ],
   "source": [
    "df + 1"
   ]
  },
  {
   "cell_type": "code",
   "execution_count": 82,
   "metadata": {
    "colab": {},
    "colab_type": "code",
    "id": "VdD5jMxxL9UO"
   },
   "outputs": [
    {
     "data": {
      "text/html": [
       "<div>\n",
       "<style scoped>\n",
       "    .dataframe tbody tr th:only-of-type {\n",
       "        vertical-align: middle;\n",
       "    }\n",
       "\n",
       "    .dataframe tbody tr th {\n",
       "        vertical-align: top;\n",
       "    }\n",
       "\n",
       "    .dataframe thead th {\n",
       "        text-align: right;\n",
       "    }\n",
       "</style>\n",
       "<table border=\"1\" class=\"dataframe\">\n",
       "  <thead>\n",
       "    <tr style=\"text-align: right;\">\n",
       "      <th></th>\n",
       "      <th>angles</th>\n",
       "      <th>degrees</th>\n",
       "    </tr>\n",
       "  </thead>\n",
       "  <tbody>\n",
       "    <tr>\n",
       "      <th>circle</th>\n",
       "      <td>0</td>\n",
       "      <td>720</td>\n",
       "    </tr>\n",
       "    <tr>\n",
       "      <th>triangle</th>\n",
       "      <td>6</td>\n",
       "      <td>360</td>\n",
       "    </tr>\n",
       "    <tr>\n",
       "      <th>rectangle</th>\n",
       "      <td>8</td>\n",
       "      <td>720</td>\n",
       "    </tr>\n",
       "  </tbody>\n",
       "</table>\n",
       "</div>"
      ],
      "text/plain": [
       "           angles  degrees\n",
       "circle          0      720\n",
       "triangle        6      360\n",
       "rectangle       8      720"
      ]
     },
     "execution_count": 82,
     "metadata": {},
     "output_type": "execute_result"
    }
   ],
   "source": [
    "df.mul(2)"
   ]
  },
  {
   "cell_type": "markdown",
   "metadata": {
    "colab_type": "text",
    "id": "XrvVPJtkx7a7"
   },
   "source": [
    "o"
   ]
  },
  {
   "cell_type": "code",
   "execution_count": 83,
   "metadata": {
    "colab": {},
    "colab_type": "code",
    "id": "J0T9xkxbx9Q2"
   },
   "outputs": [
    {
     "data": {
      "text/html": [
       "<div>\n",
       "<style scoped>\n",
       "    .dataframe tbody tr th:only-of-type {\n",
       "        vertical-align: middle;\n",
       "    }\n",
       "\n",
       "    .dataframe tbody tr th {\n",
       "        vertical-align: top;\n",
       "    }\n",
       "\n",
       "    .dataframe thead th {\n",
       "        text-align: right;\n",
       "    }\n",
       "</style>\n",
       "<table border=\"1\" class=\"dataframe\">\n",
       "  <thead>\n",
       "    <tr style=\"text-align: right;\">\n",
       "      <th></th>\n",
       "      <th>angles</th>\n",
       "      <th>degrees</th>\n",
       "    </tr>\n",
       "  </thead>\n",
       "  <tbody>\n",
       "    <tr>\n",
       "      <th>circle</th>\n",
       "      <td>0</td>\n",
       "      <td>720</td>\n",
       "    </tr>\n",
       "    <tr>\n",
       "      <th>triangle</th>\n",
       "      <td>6</td>\n",
       "      <td>360</td>\n",
       "    </tr>\n",
       "    <tr>\n",
       "      <th>rectangle</th>\n",
       "      <td>8</td>\n",
       "      <td>720</td>\n",
       "    </tr>\n",
       "  </tbody>\n",
       "</table>\n",
       "</div>"
      ],
      "text/plain": [
       "           angles  degrees\n",
       "circle          0      720\n",
       "triangle        6      360\n",
       "rectangle       8      720"
      ]
     },
     "execution_count": 83,
     "metadata": {},
     "output_type": "execute_result"
    }
   ],
   "source": [
    "df * 2"
   ]
  },
  {
   "cell_type": "code",
   "execution_count": 84,
   "metadata": {
    "colab": {},
    "colab_type": "code",
    "id": "uYU8Nj9HL-ys"
   },
   "outputs": [
    {
     "data": {
      "text/html": [
       "<div>\n",
       "<style scoped>\n",
       "    .dataframe tbody tr th:only-of-type {\n",
       "        vertical-align: middle;\n",
       "    }\n",
       "\n",
       "    .dataframe tbody tr th {\n",
       "        vertical-align: top;\n",
       "    }\n",
       "\n",
       "    .dataframe thead th {\n",
       "        text-align: right;\n",
       "    }\n",
       "</style>\n",
       "<table border=\"1\" class=\"dataframe\">\n",
       "  <thead>\n",
       "    <tr style=\"text-align: right;\">\n",
       "      <th></th>\n",
       "      <th>angles</th>\n",
       "      <th>degrees</th>\n",
       "    </tr>\n",
       "  </thead>\n",
       "  <tbody>\n",
       "    <tr>\n",
       "      <th>circle</th>\n",
       "      <td>0.0</td>\n",
       "      <td>180.0</td>\n",
       "    </tr>\n",
       "    <tr>\n",
       "      <th>triangle</th>\n",
       "      <td>1.5</td>\n",
       "      <td>90.0</td>\n",
       "    </tr>\n",
       "    <tr>\n",
       "      <th>rectangle</th>\n",
       "      <td>2.0</td>\n",
       "      <td>180.0</td>\n",
       "    </tr>\n",
       "  </tbody>\n",
       "</table>\n",
       "</div>"
      ],
      "text/plain": [
       "           angles  degrees\n",
       "circle        0.0    180.0\n",
       "triangle      1.5     90.0\n",
       "rectangle     2.0    180.0"
      ]
     },
     "execution_count": 84,
     "metadata": {},
     "output_type": "execute_result"
    }
   ],
   "source": [
    "df.div(2)"
   ]
  },
  {
   "cell_type": "markdown",
   "metadata": {
    "colab_type": "text",
    "id": "8IC8hg-tx_x_"
   },
   "source": [
    "o"
   ]
  },
  {
   "cell_type": "code",
   "execution_count": 85,
   "metadata": {
    "colab": {},
    "colab_type": "code",
    "id": "SnIJAbm2yAuh"
   },
   "outputs": [
    {
     "data": {
      "text/html": [
       "<div>\n",
       "<style scoped>\n",
       "    .dataframe tbody tr th:only-of-type {\n",
       "        vertical-align: middle;\n",
       "    }\n",
       "\n",
       "    .dataframe tbody tr th {\n",
       "        vertical-align: top;\n",
       "    }\n",
       "\n",
       "    .dataframe thead th {\n",
       "        text-align: right;\n",
       "    }\n",
       "</style>\n",
       "<table border=\"1\" class=\"dataframe\">\n",
       "  <thead>\n",
       "    <tr style=\"text-align: right;\">\n",
       "      <th></th>\n",
       "      <th>angles</th>\n",
       "      <th>degrees</th>\n",
       "    </tr>\n",
       "  </thead>\n",
       "  <tbody>\n",
       "    <tr>\n",
       "      <th>circle</th>\n",
       "      <td>0.0</td>\n",
       "      <td>180.0</td>\n",
       "    </tr>\n",
       "    <tr>\n",
       "      <th>triangle</th>\n",
       "      <td>1.5</td>\n",
       "      <td>90.0</td>\n",
       "    </tr>\n",
       "    <tr>\n",
       "      <th>rectangle</th>\n",
       "      <td>2.0</td>\n",
       "      <td>180.0</td>\n",
       "    </tr>\n",
       "  </tbody>\n",
       "</table>\n",
       "</div>"
      ],
      "text/plain": [
       "           angles  degrees\n",
       "circle        0.0    180.0\n",
       "triangle      1.5     90.0\n",
       "rectangle     2.0    180.0"
      ]
     },
     "execution_count": 85,
     "metadata": {},
     "output_type": "execute_result"
    }
   ],
   "source": [
    "df / 2"
   ]
  },
  {
   "cell_type": "markdown",
   "metadata": {
    "colab_type": "text",
    "id": "X0eCoCPzKwTT"
   },
   "source": [
    "### mod() y pow()"
   ]
  },
  {
   "cell_type": "code",
   "execution_count": 86,
   "metadata": {
    "colab": {},
    "colab_type": "code",
    "id": "N2LKPhushLmc"
   },
   "outputs": [
    {
     "data": {
      "text/html": [
       "<div>\n",
       "<style scoped>\n",
       "    .dataframe tbody tr th:only-of-type {\n",
       "        vertical-align: middle;\n",
       "    }\n",
       "\n",
       "    .dataframe tbody tr th {\n",
       "        vertical-align: top;\n",
       "    }\n",
       "\n",
       "    .dataframe thead th {\n",
       "        text-align: right;\n",
       "    }\n",
       "</style>\n",
       "<table border=\"1\" class=\"dataframe\">\n",
       "  <thead>\n",
       "    <tr style=\"text-align: right;\">\n",
       "      <th></th>\n",
       "      <th>angles</th>\n",
       "      <th>degrees</th>\n",
       "    </tr>\n",
       "  </thead>\n",
       "  <tbody>\n",
       "    <tr>\n",
       "      <th>circle</th>\n",
       "      <td>0</td>\n",
       "      <td>0</td>\n",
       "    </tr>\n",
       "    <tr>\n",
       "      <th>triangle</th>\n",
       "      <td>1</td>\n",
       "      <td>0</td>\n",
       "    </tr>\n",
       "    <tr>\n",
       "      <th>rectangle</th>\n",
       "      <td>0</td>\n",
       "      <td>0</td>\n",
       "    </tr>\n",
       "  </tbody>\n",
       "</table>\n",
       "</div>"
      ],
      "text/plain": [
       "           angles  degrees\n",
       "circle          0        0\n",
       "triangle        1        0\n",
       "rectangle       0        0"
      ]
     },
     "execution_count": 86,
     "metadata": {},
     "output_type": "execute_result"
    }
   ],
   "source": [
    "df.mod(2)"
   ]
  },
  {
   "cell_type": "markdown",
   "metadata": {
    "colab_type": "text",
    "id": "gmHFy-Wiyii-"
   },
   "source": [
    "o"
   ]
  },
  {
   "cell_type": "code",
   "execution_count": 0,
   "metadata": {
    "colab": {},
    "colab_type": "code",
    "id": "YGa471AJyjqk"
   },
   "outputs": [],
   "source": [
    "df % 2"
   ]
  },
  {
   "cell_type": "code",
   "execution_count": 0,
   "metadata": {
    "colab": {},
    "colab_type": "code",
    "id": "ZtqiK_x9MP9z"
   },
   "outputs": [],
   "source": [
    "df.pow(3)"
   ]
  },
  {
   "cell_type": "markdown",
   "metadata": {
    "colab_type": "text",
    "id": "1z_r3MsVyndb"
   },
   "source": [
    "o"
   ]
  },
  {
   "cell_type": "code",
   "execution_count": 87,
   "metadata": {
    "colab": {},
    "colab_type": "code",
    "id": "uCadw7BxynvV"
   },
   "outputs": [
    {
     "data": {
      "text/html": [
       "<div>\n",
       "<style scoped>\n",
       "    .dataframe tbody tr th:only-of-type {\n",
       "        vertical-align: middle;\n",
       "    }\n",
       "\n",
       "    .dataframe tbody tr th {\n",
       "        vertical-align: top;\n",
       "    }\n",
       "\n",
       "    .dataframe thead th {\n",
       "        text-align: right;\n",
       "    }\n",
       "</style>\n",
       "<table border=\"1\" class=\"dataframe\">\n",
       "  <thead>\n",
       "    <tr style=\"text-align: right;\">\n",
       "      <th></th>\n",
       "      <th>angles</th>\n",
       "      <th>degrees</th>\n",
       "    </tr>\n",
       "  </thead>\n",
       "  <tbody>\n",
       "    <tr>\n",
       "      <th>circle</th>\n",
       "      <td>0</td>\n",
       "      <td>46656000</td>\n",
       "    </tr>\n",
       "    <tr>\n",
       "      <th>triangle</th>\n",
       "      <td>27</td>\n",
       "      <td>5832000</td>\n",
       "    </tr>\n",
       "    <tr>\n",
       "      <th>rectangle</th>\n",
       "      <td>64</td>\n",
       "      <td>46656000</td>\n",
       "    </tr>\n",
       "  </tbody>\n",
       "</table>\n",
       "</div>"
      ],
      "text/plain": [
       "           angles   degrees\n",
       "circle          0  46656000\n",
       "triangle       27   5832000\n",
       "rectangle      64  46656000"
      ]
     },
     "execution_count": 87,
     "metadata": {},
     "output_type": "execute_result"
    }
   ],
   "source": [
    "df ** 3"
   ]
  },
  {
   "cell_type": "markdown",
   "metadata": {
    "colab_type": "text",
    "id": "d9BNaw_GK01I"
   },
   "source": [
    "### dot()"
   ]
  },
  {
   "cell_type": "code",
   "execution_count": 88,
   "metadata": {
    "colab": {},
    "colab_type": "code",
    "id": "7CjDky-LMcQN"
   },
   "outputs": [
    {
     "data": {
      "text/html": [
       "<div>\n",
       "<style scoped>\n",
       "    .dataframe tbody tr th:only-of-type {\n",
       "        vertical-align: middle;\n",
       "    }\n",
       "\n",
       "    .dataframe tbody tr th {\n",
       "        vertical-align: top;\n",
       "    }\n",
       "\n",
       "    .dataframe thead th {\n",
       "        text-align: right;\n",
       "    }\n",
       "</style>\n",
       "<table border=\"1\" class=\"dataframe\">\n",
       "  <thead>\n",
       "    <tr style=\"text-align: right;\">\n",
       "      <th></th>\n",
       "      <th>0</th>\n",
       "      <th>1</th>\n",
       "      <th>2</th>\n",
       "      <th>3</th>\n",
       "    </tr>\n",
       "  </thead>\n",
       "  <tbody>\n",
       "    <tr>\n",
       "      <th>0</th>\n",
       "      <td>0</td>\n",
       "      <td>1</td>\n",
       "      <td>-2</td>\n",
       "      <td>-1</td>\n",
       "    </tr>\n",
       "    <tr>\n",
       "      <th>1</th>\n",
       "      <td>1</td>\n",
       "      <td>1</td>\n",
       "      <td>1</td>\n",
       "      <td>1</td>\n",
       "    </tr>\n",
       "  </tbody>\n",
       "</table>\n",
       "</div>"
      ],
      "text/plain": [
       "   0  1  2  3\n",
       "0  0  1 -2 -1\n",
       "1  1  1  1  1"
      ]
     },
     "execution_count": 88,
     "metadata": {},
     "output_type": "execute_result"
    }
   ],
   "source": [
    "#un nuevo dataframe para ejemplificar dot\n",
    "df = pd.DataFrame([[0, 1, -2, -1], [1, 1, 1, 1]])\n",
    "df"
   ]
  },
  {
   "cell_type": "code",
   "execution_count": 89,
   "metadata": {
    "colab": {},
    "colab_type": "code",
    "id": "GdKKQyURK08h"
   },
   "outputs": [
    {
     "data": {
      "text/plain": [
       "0   -4\n",
       "1    5\n",
       "dtype: int64"
      ]
     },
     "execution_count": 89,
     "metadata": {},
     "output_type": "execute_result"
    }
   ],
   "source": [
    "#dot usando una serie\n",
    "s = pd.Series([1, 1, 2, 1])\n",
    "df.dot(s)"
   ]
  },
  {
   "cell_type": "code",
   "execution_count": 90,
   "metadata": {
    "colab": {},
    "colab_type": "code",
    "id": "jLvzQjZOMuJR"
   },
   "outputs": [
    {
     "data": {
      "text/html": [
       "<div>\n",
       "<style scoped>\n",
       "    .dataframe tbody tr th:only-of-type {\n",
       "        vertical-align: middle;\n",
       "    }\n",
       "\n",
       "    .dataframe tbody tr th {\n",
       "        vertical-align: top;\n",
       "    }\n",
       "\n",
       "    .dataframe thead th {\n",
       "        text-align: right;\n",
       "    }\n",
       "</style>\n",
       "<table border=\"1\" class=\"dataframe\">\n",
       "  <thead>\n",
       "    <tr style=\"text-align: right;\">\n",
       "      <th></th>\n",
       "      <th>0</th>\n",
       "      <th>1</th>\n",
       "    </tr>\n",
       "  </thead>\n",
       "  <tbody>\n",
       "    <tr>\n",
       "      <th>0</th>\n",
       "      <td>1</td>\n",
       "      <td>4</td>\n",
       "    </tr>\n",
       "    <tr>\n",
       "      <th>1</th>\n",
       "      <td>2</td>\n",
       "      <td>2</td>\n",
       "    </tr>\n",
       "  </tbody>\n",
       "</table>\n",
       "</div>"
      ],
      "text/plain": [
       "   0  1\n",
       "0  1  4\n",
       "1  2  2"
      ]
     },
     "execution_count": 90,
     "metadata": {},
     "output_type": "execute_result"
    }
   ],
   "source": [
    "#dot de dos matrices\n",
    "other = pd.DataFrame([[0, 1], [1, 2], [-1, -1], [2, 0]])\n",
    "df.dot(other)"
   ]
  },
  {
   "cell_type": "markdown",
   "metadata": {
    "colab_type": "text",
    "id": "gW9WU9a4yCsT"
   },
   "source": [
    "*Nota: Las operaciones binarias pueden aplicarse usando escalares, series u otros dataframes.*"
   ]
  },
  {
   "cell_type": "markdown",
   "metadata": {
    "colab_type": "text",
    "id": "hN3IC4dlKnUI"
   },
   "source": [
    "## Operaciones estadísticas"
   ]
  },
  {
   "cell_type": "markdown",
   "metadata": {
    "colab_type": "text",
    "id": "giITZgImLK05"
   },
   "source": [
    "### abs()"
   ]
  },
  {
   "cell_type": "code",
   "execution_count": 91,
   "metadata": {
    "colab": {},
    "colab_type": "code",
    "id": "qR_CH7C6jMFk"
   },
   "outputs": [
    {
     "data": {
      "text/html": [
       "<div>\n",
       "<style scoped>\n",
       "    .dataframe tbody tr th:only-of-type {\n",
       "        vertical-align: middle;\n",
       "    }\n",
       "\n",
       "    .dataframe tbody tr th {\n",
       "        vertical-align: top;\n",
       "    }\n",
       "\n",
       "    .dataframe thead th {\n",
       "        text-align: right;\n",
       "    }\n",
       "</style>\n",
       "<table border=\"1\" class=\"dataframe\">\n",
       "  <thead>\n",
       "    <tr style=\"text-align: right;\">\n",
       "      <th></th>\n",
       "      <th>a</th>\n",
       "      <th>b</th>\n",
       "      <th>c</th>\n",
       "    </tr>\n",
       "  </thead>\n",
       "  <tbody>\n",
       "    <tr>\n",
       "      <th>0</th>\n",
       "      <td>4</td>\n",
       "      <td>-10</td>\n",
       "      <td>100</td>\n",
       "    </tr>\n",
       "    <tr>\n",
       "      <th>1</th>\n",
       "      <td>-5</td>\n",
       "      <td>20</td>\n",
       "      <td>50</td>\n",
       "    </tr>\n",
       "    <tr>\n",
       "      <th>2</th>\n",
       "      <td>-6</td>\n",
       "      <td>30</td>\n",
       "      <td>-30</td>\n",
       "    </tr>\n",
       "    <tr>\n",
       "      <th>3</th>\n",
       "      <td>7</td>\n",
       "      <td>-40</td>\n",
       "      <td>-50</td>\n",
       "    </tr>\n",
       "  </tbody>\n",
       "</table>\n",
       "</div>"
      ],
      "text/plain": [
       "   a   b    c\n",
       "0  4 -10  100\n",
       "1 -5  20   50\n",
       "2 -6  30  -30\n",
       "3  7 -40  -50"
      ]
     },
     "execution_count": 91,
     "metadata": {},
     "output_type": "execute_result"
    }
   ],
   "source": [
    "#un df con valores negativos\n",
    "df = pd.DataFrame({'a': [4, -5, -6, 7], 'b': [-10, 20, 30, -40], 'c': [100, 50, -30, -50]})\n",
    "df"
   ]
  },
  {
   "cell_type": "code",
   "execution_count": 92,
   "metadata": {
    "colab": {},
    "colab_type": "code",
    "id": "6Fvi1UeOmQZI"
   },
   "outputs": [
    {
     "data": {
      "text/html": [
       "<div>\n",
       "<style scoped>\n",
       "    .dataframe tbody tr th:only-of-type {\n",
       "        vertical-align: middle;\n",
       "    }\n",
       "\n",
       "    .dataframe tbody tr th {\n",
       "        vertical-align: top;\n",
       "    }\n",
       "\n",
       "    .dataframe thead th {\n",
       "        text-align: right;\n",
       "    }\n",
       "</style>\n",
       "<table border=\"1\" class=\"dataframe\">\n",
       "  <thead>\n",
       "    <tr style=\"text-align: right;\">\n",
       "      <th></th>\n",
       "      <th>a</th>\n",
       "      <th>b</th>\n",
       "      <th>c</th>\n",
       "    </tr>\n",
       "  </thead>\n",
       "  <tbody>\n",
       "    <tr>\n",
       "      <th>0</th>\n",
       "      <td>4</td>\n",
       "      <td>10</td>\n",
       "      <td>100</td>\n",
       "    </tr>\n",
       "    <tr>\n",
       "      <th>1</th>\n",
       "      <td>5</td>\n",
       "      <td>20</td>\n",
       "      <td>50</td>\n",
       "    </tr>\n",
       "    <tr>\n",
       "      <th>2</th>\n",
       "      <td>6</td>\n",
       "      <td>30</td>\n",
       "      <td>30</td>\n",
       "    </tr>\n",
       "    <tr>\n",
       "      <th>3</th>\n",
       "      <td>7</td>\n",
       "      <td>40</td>\n",
       "      <td>50</td>\n",
       "    </tr>\n",
       "  </tbody>\n",
       "</table>\n",
       "</div>"
      ],
      "text/plain": [
       "   a   b    c\n",
       "0  4  10  100\n",
       "1  5  20   50\n",
       "2  6  30   30\n",
       "3  7  40   50"
      ]
     },
     "execution_count": 92,
     "metadata": {},
     "output_type": "execute_result"
    }
   ],
   "source": [
    "df.abs()"
   ]
  },
  {
   "cell_type": "markdown",
   "metadata": {
    "colab_type": "text",
    "id": "1Qpx3o7tLO2L"
   },
   "source": [
    "### count()"
   ]
  },
  {
   "cell_type": "code",
   "execution_count": 93,
   "metadata": {
    "colab": {},
    "colab_type": "code",
    "id": "TRQ1-i_MLO6R"
   },
   "outputs": [
    {
     "data": {
      "text/html": [
       "<div>\n",
       "<style scoped>\n",
       "    .dataframe tbody tr th:only-of-type {\n",
       "        vertical-align: middle;\n",
       "    }\n",
       "\n",
       "    .dataframe tbody tr th {\n",
       "        vertical-align: top;\n",
       "    }\n",
       "\n",
       "    .dataframe thead th {\n",
       "        text-align: right;\n",
       "    }\n",
       "</style>\n",
       "<table border=\"1\" class=\"dataframe\">\n",
       "  <thead>\n",
       "    <tr style=\"text-align: right;\">\n",
       "      <th></th>\n",
       "      <th>Person</th>\n",
       "      <th>Age</th>\n",
       "      <th>Single</th>\n",
       "    </tr>\n",
       "  </thead>\n",
       "  <tbody>\n",
       "    <tr>\n",
       "      <th>0</th>\n",
       "      <td>John</td>\n",
       "      <td>24.0</td>\n",
       "      <td>False</td>\n",
       "    </tr>\n",
       "    <tr>\n",
       "      <th>1</th>\n",
       "      <td>Myla</td>\n",
       "      <td>NaN</td>\n",
       "      <td>True</td>\n",
       "    </tr>\n",
       "    <tr>\n",
       "      <th>2</th>\n",
       "      <td>Lewis</td>\n",
       "      <td>21.0</td>\n",
       "      <td>True</td>\n",
       "    </tr>\n",
       "    <tr>\n",
       "      <th>3</th>\n",
       "      <td>John</td>\n",
       "      <td>33.0</td>\n",
       "      <td>NaN</td>\n",
       "    </tr>\n",
       "    <tr>\n",
       "      <th>4</th>\n",
       "      <td>Myla</td>\n",
       "      <td>26.0</td>\n",
       "      <td>NaN</td>\n",
       "    </tr>\n",
       "  </tbody>\n",
       "</table>\n",
       "</div>"
      ],
      "text/plain": [
       "  Person   Age Single\n",
       "0   John  24.0  False\n",
       "1   Myla   NaN   True\n",
       "2  Lewis  21.0   True\n",
       "3   John  33.0    NaN\n",
       "4   Myla  26.0    NaN"
      ]
     },
     "execution_count": 93,
     "metadata": {},
     "output_type": "execute_result"
    }
   ],
   "source": [
    "#un dataframe con valores no-nulos y nuelos\n",
    "df = pd.DataFrame({\"Person\":[\"John\", \"Myla\", \"Lewis\", \"John\", \"Myla\"],\n",
    "                    \"Age\": [24., np.nan, 21., 33, 26],\n",
    "                    \"Single\": [False, True, True, np.nan, np.nan]})\n",
    "df"
   ]
  },
  {
   "cell_type": "markdown",
   "metadata": {
    "colab_type": "text",
    "id": "bhRjhAwsoc3i"
   },
   "source": [
    "Por columna (por defecto axis=0):"
   ]
  },
  {
   "cell_type": "code",
   "execution_count": 94,
   "metadata": {
    "colab": {},
    "colab_type": "code",
    "id": "b9UZfmFrmuxM"
   },
   "outputs": [
    {
     "data": {
      "text/plain": [
       "Person    5\n",
       "Age       4\n",
       "Single    3\n",
       "dtype: int64"
      ]
     },
     "execution_count": 94,
     "metadata": {},
     "output_type": "execute_result"
    }
   ],
   "source": [
    "df.count()"
   ]
  },
  {
   "cell_type": "markdown",
   "metadata": {
    "colab_type": "text",
    "id": "rm_XPyieodTa"
   },
   "source": [
    "Por fila (axis=1)"
   ]
  },
  {
   "cell_type": "code",
   "execution_count": 95,
   "metadata": {
    "colab": {},
    "colab_type": "code",
    "id": "xIecQd5aodY3"
   },
   "outputs": [
    {
     "data": {
      "text/plain": [
       "0    3\n",
       "1    2\n",
       "2    3\n",
       "3    2\n",
       "4    2\n",
       "dtype: int64"
      ]
     },
     "execution_count": 95,
     "metadata": {},
     "output_type": "execute_result"
    }
   ],
   "source": [
    "df.count(axis=1)"
   ]
  },
  {
   "cell_type": "markdown",
   "metadata": {
    "colab_type": "text",
    "id": "sYkKe0CeLQj9"
   },
   "source": [
    "### max() y min()"
   ]
  },
  {
   "cell_type": "code",
   "execution_count": 96,
   "metadata": {
    "colab": {},
    "colab_type": "code",
    "id": "i8ASz2GHm0oN"
   },
   "outputs": [
    {
     "data": {
      "text/html": [
       "<div>\n",
       "<style scoped>\n",
       "    .dataframe tbody tr th:only-of-type {\n",
       "        vertical-align: middle;\n",
       "    }\n",
       "\n",
       "    .dataframe tbody tr th {\n",
       "        vertical-align: top;\n",
       "    }\n",
       "\n",
       "    .dataframe thead th {\n",
       "        text-align: right;\n",
       "    }\n",
       "</style>\n",
       "<table border=\"1\" class=\"dataframe\">\n",
       "  <thead>\n",
       "    <tr style=\"text-align: right;\">\n",
       "      <th></th>\n",
       "      <th>angles</th>\n",
       "      <th>degrees</th>\n",
       "    </tr>\n",
       "  </thead>\n",
       "  <tbody>\n",
       "    <tr>\n",
       "      <th>circle</th>\n",
       "      <td>0</td>\n",
       "      <td>360</td>\n",
       "    </tr>\n",
       "    <tr>\n",
       "      <th>triangle</th>\n",
       "      <td>3</td>\n",
       "      <td>180</td>\n",
       "    </tr>\n",
       "    <tr>\n",
       "      <th>rectangle</th>\n",
       "      <td>4</td>\n",
       "      <td>360</td>\n",
       "    </tr>\n",
       "  </tbody>\n",
       "</table>\n",
       "</div>"
      ],
      "text/plain": [
       "           angles  degrees\n",
       "circle          0      360\n",
       "triangle        3      180\n",
       "rectangle       4      360"
      ]
     },
     "execution_count": 96,
     "metadata": {},
     "output_type": "execute_result"
    }
   ],
   "source": [
    "#creamos un dataframe para ejemplificar las funciones\n",
    "df = pd.DataFrame({'angles': [0, 3, 4], 'degrees': [360, 180, 360]}, index=['circle', 'triangle', 'rectangle'])\n",
    "df"
   ]
  },
  {
   "cell_type": "markdown",
   "metadata": {
    "colab_type": "text",
    "id": "bQavGGrFnH1l"
   },
   "source": [
    "Por columna (por defecto ```axis=0```):"
   ]
  },
  {
   "cell_type": "code",
   "execution_count": 97,
   "metadata": {
    "colab": {},
    "colab_type": "code",
    "id": "voNH4Yf5csuy"
   },
   "outputs": [
    {
     "data": {
      "text/plain": [
       "angles       4\n",
       "degrees    360\n",
       "dtype: int64"
      ]
     },
     "execution_count": 97,
     "metadata": {},
     "output_type": "execute_result"
    }
   ],
   "source": [
    "df.max(axis=0)"
   ]
  },
  {
   "cell_type": "code",
   "execution_count": 98,
   "metadata": {
    "colab": {},
    "colab_type": "code",
    "id": "LtId7n9PnEyr"
   },
   "outputs": [
    {
     "data": {
      "text/plain": [
       "angles       0\n",
       "degrees    180\n",
       "dtype: int64"
      ]
     },
     "execution_count": 98,
     "metadata": {},
     "output_type": "execute_result"
    }
   ],
   "source": [
    "# axis = 0 por defecto\n",
    "df.min()"
   ]
  },
  {
   "cell_type": "markdown",
   "metadata": {
    "colab_type": "text",
    "id": "e4JTvqUnnMr8"
   },
   "source": [
    "Por filas (```axis=1```):"
   ]
  },
  {
   "cell_type": "code",
   "execution_count": 0,
   "metadata": {
    "colab": {},
    "colab_type": "code",
    "id": "6D5arL57nO43"
   },
   "outputs": [],
   "source": [
    "df.max(axis=1)"
   ]
  },
  {
   "cell_type": "code",
   "execution_count": 0,
   "metadata": {
    "colab": {},
    "colab_type": "code",
    "id": "ZGo4traHnPTu"
   },
   "outputs": [],
   "source": [
    "df.min(axis=1)"
   ]
  },
  {
   "cell_type": "markdown",
   "metadata": {
    "colab_type": "text",
    "id": "rN6bfSoILUzq"
   },
   "source": [
    "### mean() y median()"
   ]
  },
  {
   "cell_type": "markdown",
   "metadata": {
    "colab_type": "text",
    "id": "2VYzRogro2FS"
   },
   "source": [
    "Por columnas (por defecto axis=0)"
   ]
  },
  {
   "cell_type": "code",
   "execution_count": 99,
   "metadata": {
    "colab": {},
    "colab_type": "code",
    "id": "mzy5zOQ5o22-"
   },
   "outputs": [
    {
     "data": {
      "text/plain": [
       "angles       2.333333\n",
       "degrees    300.000000\n",
       "dtype: float64"
      ]
     },
     "execution_count": 99,
     "metadata": {},
     "output_type": "execute_result"
    }
   ],
   "source": [
    "df.mean()"
   ]
  },
  {
   "cell_type": "code",
   "execution_count": 100,
   "metadata": {
    "colab": {},
    "colab_type": "code",
    "id": "aVCiWZimpA01"
   },
   "outputs": [
    {
     "data": {
      "text/plain": [
       "angles       3.0\n",
       "degrees    360.0\n",
       "dtype: float64"
      ]
     },
     "execution_count": 100,
     "metadata": {},
     "output_type": "execute_result"
    }
   ],
   "source": [
    "df.median()"
   ]
  },
  {
   "cell_type": "markdown",
   "metadata": {
    "colab_type": "text",
    "id": "zaBNhyVWo2-v"
   },
   "source": [
    "Por filas (axis=1):"
   ]
  },
  {
   "cell_type": "code",
   "execution_count": 101,
   "metadata": {
    "colab": {},
    "colab_type": "code",
    "id": "KfQwjwIYLakL"
   },
   "outputs": [
    {
     "data": {
      "text/plain": [
       "circle       180.0\n",
       "triangle      91.5\n",
       "rectangle    182.0\n",
       "dtype: float64"
      ]
     },
     "execution_count": 101,
     "metadata": {},
     "output_type": "execute_result"
    }
   ],
   "source": [
    "df.mean(axis=1)"
   ]
  },
  {
   "cell_type": "code",
   "execution_count": 102,
   "metadata": {
    "colab": {},
    "colab_type": "code",
    "id": "2Hfdph4hpQ_c"
   },
   "outputs": [
    {
     "data": {
      "text/plain": [
       "circle       180.0\n",
       "triangle      91.5\n",
       "rectangle    182.0\n",
       "dtype: float64"
      ]
     },
     "execution_count": 102,
     "metadata": {},
     "output_type": "execute_result"
    }
   ],
   "source": [
    "df.median(axis=1)"
   ]
  },
  {
   "cell_type": "markdown",
   "metadata": {
    "colab_type": "text",
    "id": "HPTgv9gBLaqN"
   },
   "source": [
    "### sum()"
   ]
  },
  {
   "cell_type": "markdown",
   "metadata": {
    "colab_type": "text",
    "id": "44usShNUpbb3"
   },
   "source": [
    "Por columnas (por defecto axis=0):"
   ]
  },
  {
   "cell_type": "code",
   "execution_count": 103,
   "metadata": {
    "colab": {},
    "colab_type": "code",
    "id": "cGGOiXdwLawP"
   },
   "outputs": [
    {
     "data": {
      "text/plain": [
       "angles       7\n",
       "degrees    900\n",
       "dtype: int64"
      ]
     },
     "execution_count": 103,
     "metadata": {},
     "output_type": "execute_result"
    }
   ],
   "source": [
    "df.sum()"
   ]
  },
  {
   "cell_type": "markdown",
   "metadata": {
    "colab_type": "text",
    "id": "8Wkp93t_pb75"
   },
   "source": [
    "Por filas (axis=1):"
   ]
  },
  {
   "cell_type": "code",
   "execution_count": 104,
   "metadata": {
    "colab": {},
    "colab_type": "code",
    "id": "g_fIp2cXpcA-"
   },
   "outputs": [
    {
     "data": {
      "text/plain": [
       "circle       360\n",
       "triangle     183\n",
       "rectangle    364\n",
       "dtype: int64"
      ]
     },
     "execution_count": 104,
     "metadata": {},
     "output_type": "execute_result"
    }
   ],
   "source": [
    "df.sum(axis=1)"
   ]
  },
  {
   "cell_type": "markdown",
   "metadata": {
    "colab_type": "text",
    "id": "Ep_iABKeLcN2"
   },
   "source": [
    "### std() y var()"
   ]
  },
  {
   "cell_type": "markdown",
   "metadata": {
    "colab_type": "text",
    "id": "cqDKnpRlpzD4"
   },
   "source": [
    "Por columnas (por defecto axis=0):"
   ]
  },
  {
   "cell_type": "code",
   "execution_count": 0,
   "metadata": {
    "colab": {},
    "colab_type": "code",
    "id": "wvQx0krDLcUZ"
   },
   "outputs": [],
   "source": [
    "df.std()"
   ]
  },
  {
   "cell_type": "code",
   "execution_count": 0,
   "metadata": {
    "colab": {},
    "colab_type": "code",
    "id": "ZMP8viIvp-54"
   },
   "outputs": [],
   "source": [
    "df.var()"
   ]
  },
  {
   "cell_type": "markdown",
   "metadata": {
    "colab_type": "text",
    "id": "wk7PNbHnpzoY"
   },
   "source": [
    "Por filas (axis=1):"
   ]
  },
  {
   "cell_type": "code",
   "execution_count": 0,
   "metadata": {
    "colab": {},
    "colab_type": "code",
    "id": "ePFAQ62DpztQ"
   },
   "outputs": [],
   "source": [
    "df.std(axis=1)"
   ]
  },
  {
   "cell_type": "code",
   "execution_count": 0,
   "metadata": {
    "colab": {},
    "colab_type": "code",
    "id": "0dzqX_njqDGZ"
   },
   "outputs": [],
   "source": [
    "df.var(axis=1)"
   ]
  },
  {
   "cell_type": "markdown",
   "metadata": {
    "colab_type": "text",
    "id": "Z4ZjI7Xzcr91"
   },
   "source": [
    "# Aplicando funciones propias"
   ]
  },
  {
   "cell_type": "markdown",
   "metadata": {
    "colab_type": "text",
    "id": "rLqL8hxHcvhp"
   },
   "source": [
    "## apply()\n",
    "\n",
    "Recibe una función y la aplica a todas las filas o columnas según el axis indicado."
   ]
  },
  {
   "cell_type": "markdown",
   "metadata": {
    "colab_type": "text",
    "id": "YOn9rei70eoL"
   },
   "source": [
    "```axis=0``` aplica la función por columnas:"
   ]
  },
  {
   "cell_type": "code",
   "execution_count": 105,
   "metadata": {
    "colab": {},
    "colab_type": "code",
    "id": "ik_aP1hjT-PU"
   },
   "outputs": [
    {
     "data": {
      "text/html": [
       "<div>\n",
       "<style scoped>\n",
       "    .dataframe tbody tr th:only-of-type {\n",
       "        vertical-align: middle;\n",
       "    }\n",
       "\n",
       "    .dataframe tbody tr th {\n",
       "        vertical-align: top;\n",
       "    }\n",
       "\n",
       "    .dataframe thead th {\n",
       "        text-align: right;\n",
       "    }\n",
       "</style>\n",
       "<table border=\"1\" class=\"dataframe\">\n",
       "  <thead>\n",
       "    <tr style=\"text-align: right;\">\n",
       "      <th></th>\n",
       "      <th>longitude</th>\n",
       "      <th>latitude</th>\n",
       "      <th>housing_median_age</th>\n",
       "      <th>total_rooms</th>\n",
       "      <th>total_bedrooms</th>\n",
       "      <th>population</th>\n",
       "      <th>households</th>\n",
       "      <th>median_income</th>\n",
       "      <th>median_house_value</th>\n",
       "      <th>random</th>\n",
       "    </tr>\n",
       "  </thead>\n",
       "  <tbody>\n",
       "    <tr>\n",
       "      <th>0</th>\n",
       "      <td>-0.618327</td>\n",
       "      <td>0.382452</td>\n",
       "      <td>-0.011706</td>\n",
       "      <td>0.000277</td>\n",
       "      <td>0.000759</td>\n",
       "      <td>0.000126</td>\n",
       "      <td>0.000869</td>\n",
       "      <td>0.814497</td>\n",
       "      <td>0.000011</td>\n",
       "      <td>0.100176</td>\n",
       "    </tr>\n",
       "    <tr>\n",
       "      <th>1</th>\n",
       "      <td>0.323938</td>\n",
       "      <td>-0.303250</td>\n",
       "      <td>0.089792</td>\n",
       "      <td>-0.000234</td>\n",
       "      <td>-0.001909</td>\n",
       "      <td>-0.000559</td>\n",
       "      <td>-0.001594</td>\n",
       "      <td>-0.060558</td>\n",
       "      <td>-0.000002</td>\n",
       "      <td>-0.359944</td>\n",
       "    </tr>\n",
       "    <tr>\n",
       "      <th>2</th>\n",
       "      <td>0.447061</td>\n",
       "      <td>-0.409082</td>\n",
       "      <td>-0.011706</td>\n",
       "      <td>0.000213</td>\n",
       "      <td>-0.000133</td>\n",
       "      <td>0.000076</td>\n",
       "      <td>0.000038</td>\n",
       "      <td>0.577495</td>\n",
       "      <td>0.000005</td>\n",
       "      <td>0.340566</td>\n",
       "    </tr>\n",
       "    <tr>\n",
       "      <th>3</th>\n",
       "      <td>0.308862</td>\n",
       "      <td>-0.400263</td>\n",
       "      <td>-0.005362</td>\n",
       "      <td>-0.000545</td>\n",
       "      <td>-0.002980</td>\n",
       "      <td>-0.001275</td>\n",
       "      <td>-0.003586</td>\n",
       "      <td>0.677082</td>\n",
       "      <td>0.000010</td>\n",
       "      <td>1.461851</td>\n",
       "    </tr>\n",
       "    <tr>\n",
       "      <th>4</th>\n",
       "      <td>-0.020303</td>\n",
       "      <td>0.153150</td>\n",
       "      <td>-0.062455</td>\n",
       "      <td>-0.000292</td>\n",
       "      <td>-0.001655</td>\n",
       "      <td>-0.000521</td>\n",
       "      <td>-0.001894</td>\n",
       "      <td>-0.252898</td>\n",
       "      <td>-0.000010</td>\n",
       "      <td>2.957566</td>\n",
       "    </tr>\n",
       "    <tr>\n",
       "      <th>...</th>\n",
       "      <td>...</td>\n",
       "      <td>...</td>\n",
       "      <td>...</td>\n",
       "      <td>...</td>\n",
       "      <td>...</td>\n",
       "      <td>...</td>\n",
       "      <td>...</td>\n",
       "      <td>...</td>\n",
       "      <td>...</td>\n",
       "      <td>...</td>\n",
       "    </tr>\n",
       "    <tr>\n",
       "      <th>2995</th>\n",
       "      <td>-0.068044</td>\n",
       "      <td>-0.267973</td>\n",
       "      <td>-0.037081</td>\n",
       "      <td>-0.000247</td>\n",
       "      <td>0.000649</td>\n",
       "      <td>-0.000136</td>\n",
       "      <td>0.000877</td>\n",
       "      <td>-0.764207</td>\n",
       "      <td>0.000001</td>\n",
       "      <td>1.038805</td>\n",
       "    </tr>\n",
       "    <tr>\n",
       "      <th>2996</th>\n",
       "      <td>0.364142</td>\n",
       "      <td>-0.347347</td>\n",
       "      <td>-0.011706</td>\n",
       "      <td>0.000572</td>\n",
       "      <td>0.003195</td>\n",
       "      <td>0.001971</td>\n",
       "      <td>0.004090</td>\n",
       "      <td>-0.121153</td>\n",
       "      <td>0.000002</td>\n",
       "      <td>-0.051874</td>\n",
       "    </tr>\n",
       "    <tr>\n",
       "      <th>2997</th>\n",
       "      <td>-0.027841</td>\n",
       "      <td>0.146535</td>\n",
       "      <td>-0.119548</td>\n",
       "      <td>-0.000354</td>\n",
       "      <td>-0.001904</td>\n",
       "      <td>-0.000668</td>\n",
       "      <td>-0.002021</td>\n",
       "      <td>-0.441314</td>\n",
       "      <td>-0.000011</td>\n",
       "      <td>-0.047386</td>\n",
       "    </tr>\n",
       "    <tr>\n",
       "      <th>2998</th>\n",
       "      <td>0.620438</td>\n",
       "      <td>-0.338528</td>\n",
       "      <td>0.070761</td>\n",
       "      <td>-0.000539</td>\n",
       "      <td>-0.002986</td>\n",
       "      <td>-0.001278</td>\n",
       "      <td>-0.003564</td>\n",
       "      <td>-0.155987</td>\n",
       "      <td>-0.000003</td>\n",
       "      <td>-0.707502</td>\n",
       "    </tr>\n",
       "    <tr>\n",
       "      <th>2999</th>\n",
       "      <td>-0.010252</td>\n",
       "      <td>-0.267973</td>\n",
       "      <td>0.083449</td>\n",
       "      <td>-0.000180</td>\n",
       "      <td>-0.001545</td>\n",
       "      <td>-0.000612</td>\n",
       "      <td>-0.001722</td>\n",
       "      <td>1.382155</td>\n",
       "      <td>0.000023</td>\n",
       "      <td>-1.417521</td>\n",
       "    </tr>\n",
       "  </tbody>\n",
       "</table>\n",
       "<p>3000 rows × 10 columns</p>\n",
       "</div>"
      ],
      "text/plain": [
       "      longitude  latitude  housing_median_age  total_rooms  total_bedrooms  \\\n",
       "0     -0.618327  0.382452           -0.011706     0.000277        0.000759   \n",
       "1      0.323938 -0.303250            0.089792    -0.000234       -0.001909   \n",
       "2      0.447061 -0.409082           -0.011706     0.000213       -0.000133   \n",
       "3      0.308862 -0.400263           -0.005362    -0.000545       -0.002980   \n",
       "4     -0.020303  0.153150           -0.062455    -0.000292       -0.001655   \n",
       "...         ...       ...                 ...          ...             ...   \n",
       "2995  -0.068044 -0.267973           -0.037081    -0.000247        0.000649   \n",
       "2996   0.364142 -0.347347           -0.011706     0.000572        0.003195   \n",
       "2997  -0.027841  0.146535           -0.119548    -0.000354       -0.001904   \n",
       "2998   0.620438 -0.338528            0.070761    -0.000539       -0.002986   \n",
       "2999  -0.010252 -0.267973            0.083449    -0.000180       -0.001545   \n",
       "\n",
       "      population  households  median_income  median_house_value    random  \n",
       "0       0.000126    0.000869       0.814497            0.000011  0.100176  \n",
       "1      -0.000559   -0.001594      -0.060558           -0.000002 -0.359944  \n",
       "2       0.000076    0.000038       0.577495            0.000005  0.340566  \n",
       "3      -0.001275   -0.003586       0.677082            0.000010  1.461851  \n",
       "4      -0.000521   -0.001894      -0.252898           -0.000010  2.957566  \n",
       "...          ...         ...            ...                 ...       ...  \n",
       "2995   -0.000136    0.000877      -0.764207            0.000001  1.038805  \n",
       "2996    0.001971    0.004090      -0.121153            0.000002 -0.051874  \n",
       "2997   -0.000668   -0.002021      -0.441314           -0.000011 -0.047386  \n",
       "2998   -0.001278   -0.003564      -0.155987           -0.000003 -0.707502  \n",
       "2999   -0.000612   -0.001722       1.382155            0.000023 -1.417521  \n",
       "\n",
       "[3000 rows x 10 columns]"
      ]
     },
     "execution_count": 105,
     "metadata": {},
     "output_type": "execute_result"
    }
   ],
   "source": [
    "f = lambda x: (x - x.mean())/x.var()\n",
    "\n",
    "#aplica la funcion a todas las columnas\n",
    "cali_housing.apply(f, axis=0)"
   ]
  },
  {
   "cell_type": "markdown",
   "metadata": {
    "colab_type": "text",
    "id": "r0nPxa8k0nJ7"
   },
   "source": [
    "```axis = 1``` aplica la función por filas:"
   ]
  },
  {
   "cell_type": "code",
   "execution_count": 106,
   "metadata": {
    "colab": {},
    "colab_type": "code",
    "id": "YicJc0p2hGTw"
   },
   "outputs": [
    {
     "data": {
      "text/html": [
       "<div>\n",
       "<style scoped>\n",
       "    .dataframe tbody tr th:only-of-type {\n",
       "        vertical-align: middle;\n",
       "    }\n",
       "\n",
       "    .dataframe tbody tr th {\n",
       "        vertical-align: top;\n",
       "    }\n",
       "\n",
       "    .dataframe thead th {\n",
       "        text-align: right;\n",
       "    }\n",
       "</style>\n",
       "<table border=\"1\" class=\"dataframe\">\n",
       "  <thead>\n",
       "    <tr style=\"text-align: right;\">\n",
       "      <th></th>\n",
       "      <th>longitude</th>\n",
       "      <th>latitude</th>\n",
       "      <th>housing_median_age</th>\n",
       "      <th>total_rooms</th>\n",
       "      <th>total_bedrooms</th>\n",
       "      <th>population</th>\n",
       "      <th>households</th>\n",
       "      <th>median_income</th>\n",
       "      <th>median_house_value</th>\n",
       "      <th>random</th>\n",
       "    </tr>\n",
       "  </thead>\n",
       "  <tbody>\n",
       "    <tr>\n",
       "      <th>0</th>\n",
       "      <td>-0.000003</td>\n",
       "      <td>-0.000003</td>\n",
       "      <td>-0.000003</td>\n",
       "      <td>-0.000003</td>\n",
       "      <td>-0.000003</td>\n",
       "      <td>-0.000003</td>\n",
       "      <td>-0.000003</td>\n",
       "      <td>-0.000003</td>\n",
       "      <td>0.000026</td>\n",
       "      <td>-0.000003</td>\n",
       "    </tr>\n",
       "    <tr>\n",
       "      <th>1</th>\n",
       "      <td>-0.000006</td>\n",
       "      <td>-0.000006</td>\n",
       "      <td>-0.000006</td>\n",
       "      <td>-0.000005</td>\n",
       "      <td>-0.000006</td>\n",
       "      <td>-0.000006</td>\n",
       "      <td>-0.000006</td>\n",
       "      <td>-0.000006</td>\n",
       "      <td>0.000051</td>\n",
       "      <td>-0.000006</td>\n",
       "    </tr>\n",
       "    <tr>\n",
       "      <th>2</th>\n",
       "      <td>-0.000004</td>\n",
       "      <td>-0.000004</td>\n",
       "      <td>-0.000004</td>\n",
       "      <td>-0.000003</td>\n",
       "      <td>-0.000004</td>\n",
       "      <td>-0.000004</td>\n",
       "      <td>-0.000004</td>\n",
       "      <td>-0.000004</td>\n",
       "      <td>0.000033</td>\n",
       "      <td>-0.000004</td>\n",
       "    </tr>\n",
       "    <tr>\n",
       "      <th>3</th>\n",
       "      <td>-0.000003</td>\n",
       "      <td>-0.000003</td>\n",
       "      <td>-0.000003</td>\n",
       "      <td>-0.000003</td>\n",
       "      <td>-0.000003</td>\n",
       "      <td>-0.000003</td>\n",
       "      <td>-0.000003</td>\n",
       "      <td>-0.000003</td>\n",
       "      <td>0.000027</td>\n",
       "      <td>-0.000003</td>\n",
       "    </tr>\n",
       "    <tr>\n",
       "      <th>4</th>\n",
       "      <td>-0.000013</td>\n",
       "      <td>-0.000013</td>\n",
       "      <td>-0.000013</td>\n",
       "      <td>-0.000011</td>\n",
       "      <td>-0.000012</td>\n",
       "      <td>-0.000011</td>\n",
       "      <td>-0.000012</td>\n",
       "      <td>-0.000013</td>\n",
       "      <td>0.000111</td>\n",
       "      <td>-0.000013</td>\n",
       "    </tr>\n",
       "    <tr>\n",
       "      <th>...</th>\n",
       "      <td>...</td>\n",
       "      <td>...</td>\n",
       "      <td>...</td>\n",
       "      <td>...</td>\n",
       "      <td>...</td>\n",
       "      <td>...</td>\n",
       "      <td>...</td>\n",
       "      <td>...</td>\n",
       "      <td>...</td>\n",
       "      <td>...</td>\n",
       "    </tr>\n",
       "    <tr>\n",
       "      <th>2995</th>\n",
       "      <td>-0.000005</td>\n",
       "      <td>-0.000005</td>\n",
       "      <td>-0.000005</td>\n",
       "      <td>-0.000004</td>\n",
       "      <td>-0.000004</td>\n",
       "      <td>-0.000004</td>\n",
       "      <td>-0.000004</td>\n",
       "      <td>-0.000005</td>\n",
       "      <td>0.000040</td>\n",
       "      <td>-0.000005</td>\n",
       "    </tr>\n",
       "    <tr>\n",
       "      <th>2996</th>\n",
       "      <td>-0.000004</td>\n",
       "      <td>-0.000004</td>\n",
       "      <td>-0.000004</td>\n",
       "      <td>-0.000004</td>\n",
       "      <td>-0.000004</td>\n",
       "      <td>-0.000004</td>\n",
       "      <td>-0.000004</td>\n",
       "      <td>-0.000004</td>\n",
       "      <td>0.000038</td>\n",
       "      <td>-0.000004</td>\n",
       "    </tr>\n",
       "    <tr>\n",
       "      <th>2997</th>\n",
       "      <td>-0.000017</td>\n",
       "      <td>-0.000017</td>\n",
       "      <td>-0.000017</td>\n",
       "      <td>-0.000014</td>\n",
       "      <td>-0.000016</td>\n",
       "      <td>-0.000015</td>\n",
       "      <td>-0.000016</td>\n",
       "      <td>-0.000017</td>\n",
       "      <td>0.000146</td>\n",
       "      <td>-0.000017</td>\n",
       "    </tr>\n",
       "    <tr>\n",
       "      <th>2998</th>\n",
       "      <td>-0.000006</td>\n",
       "      <td>-0.000006</td>\n",
       "      <td>-0.000006</td>\n",
       "      <td>-0.000006</td>\n",
       "      <td>-0.000006</td>\n",
       "      <td>-0.000006</td>\n",
       "      <td>-0.000006</td>\n",
       "      <td>-0.000006</td>\n",
       "      <td>0.000055</td>\n",
       "      <td>-0.000006</td>\n",
       "    </tr>\n",
       "    <tr>\n",
       "      <th>2999</th>\n",
       "      <td>-0.000002</td>\n",
       "      <td>-0.000002</td>\n",
       "      <td>-0.000002</td>\n",
       "      <td>-0.000002</td>\n",
       "      <td>-0.000002</td>\n",
       "      <td>-0.000002</td>\n",
       "      <td>-0.000002</td>\n",
       "      <td>-0.000002</td>\n",
       "      <td>0.000018</td>\n",
       "      <td>-0.000002</td>\n",
       "    </tr>\n",
       "  </tbody>\n",
       "</table>\n",
       "<p>3000 rows × 10 columns</p>\n",
       "</div>"
      ],
      "text/plain": [
       "      longitude  latitude  housing_median_age  total_rooms  total_bedrooms  \\\n",
       "0     -0.000003 -0.000003           -0.000003    -0.000003       -0.000003   \n",
       "1     -0.000006 -0.000006           -0.000006    -0.000005       -0.000006   \n",
       "2     -0.000004 -0.000004           -0.000004    -0.000003       -0.000004   \n",
       "3     -0.000003 -0.000003           -0.000003    -0.000003       -0.000003   \n",
       "4     -0.000013 -0.000013           -0.000013    -0.000011       -0.000012   \n",
       "...         ...       ...                 ...          ...             ...   \n",
       "2995  -0.000005 -0.000005           -0.000005    -0.000004       -0.000004   \n",
       "2996  -0.000004 -0.000004           -0.000004    -0.000004       -0.000004   \n",
       "2997  -0.000017 -0.000017           -0.000017    -0.000014       -0.000016   \n",
       "2998  -0.000006 -0.000006           -0.000006    -0.000006       -0.000006   \n",
       "2999  -0.000002 -0.000002           -0.000002    -0.000002       -0.000002   \n",
       "\n",
       "      population  households  median_income  median_house_value    random  \n",
       "0      -0.000003   -0.000003      -0.000003            0.000026 -0.000003  \n",
       "1      -0.000006   -0.000006      -0.000006            0.000051 -0.000006  \n",
       "2      -0.000004   -0.000004      -0.000004            0.000033 -0.000004  \n",
       "3      -0.000003   -0.000003      -0.000003            0.000027 -0.000003  \n",
       "4      -0.000011   -0.000012      -0.000013            0.000111 -0.000013  \n",
       "...          ...         ...            ...                 ...       ...  \n",
       "2995   -0.000004   -0.000004      -0.000005            0.000040 -0.000005  \n",
       "2996   -0.000004   -0.000004      -0.000004            0.000038 -0.000004  \n",
       "2997   -0.000015   -0.000016      -0.000017            0.000146 -0.000017  \n",
       "2998   -0.000006   -0.000006      -0.000006            0.000055 -0.000006  \n",
       "2999   -0.000002   -0.000002      -0.000002            0.000018 -0.000002  \n",
       "\n",
       "[3000 rows x 10 columns]"
      ]
     },
     "execution_count": 106,
     "metadata": {},
     "output_type": "execute_result"
    }
   ],
   "source": [
    "#aplica la funcion a todas las filas\n",
    "cali_housing.apply(f, axis=1)"
   ]
  },
  {
   "cell_type": "markdown",
   "metadata": {
    "colab_type": "text",
    "id": "874C05ZNcwDB"
   },
   "source": [
    "## applymap()\n",
    "\n",
    "Aplica una función elemento por elemento al objeto de Pandas."
   ]
  },
  {
   "cell_type": "code",
   "execution_count": 107,
   "metadata": {
    "colab": {},
    "colab_type": "code",
    "id": "GOaAV64ncwKT"
   },
   "outputs": [
    {
     "data": {
      "text/html": [
       "<div>\n",
       "<style scoped>\n",
       "    .dataframe tbody tr th:only-of-type {\n",
       "        vertical-align: middle;\n",
       "    }\n",
       "\n",
       "    .dataframe tbody tr th {\n",
       "        vertical-align: top;\n",
       "    }\n",
       "\n",
       "    .dataframe thead th {\n",
       "        text-align: right;\n",
       "    }\n",
       "</style>\n",
       "<table border=\"1\" class=\"dataframe\">\n",
       "  <thead>\n",
       "    <tr style=\"text-align: right;\">\n",
       "      <th></th>\n",
       "      <th>longitude</th>\n",
       "      <th>latitude</th>\n",
       "      <th>housing_median_age</th>\n",
       "      <th>total_rooms</th>\n",
       "      <th>total_bedrooms</th>\n",
       "      <th>population</th>\n",
       "      <th>households</th>\n",
       "      <th>median_income</th>\n",
       "      <th>median_house_value</th>\n",
       "      <th>random</th>\n",
       "    </tr>\n",
       "  </thead>\n",
       "  <tbody>\n",
       "    <tr>\n",
       "      <th>0</th>\n",
       "      <td>-122</td>\n",
       "      <td>37</td>\n",
       "      <td>27</td>\n",
       "      <td>3885</td>\n",
       "      <td>661</td>\n",
       "      <td>1537</td>\n",
       "      <td>606</td>\n",
       "      <td>7</td>\n",
       "      <td>344700</td>\n",
       "      <td>0</td>\n",
       "    </tr>\n",
       "    <tr>\n",
       "      <th>1</th>\n",
       "      <td>-118</td>\n",
       "      <td>34</td>\n",
       "      <td>43</td>\n",
       "      <td>1510</td>\n",
       "      <td>200</td>\n",
       "      <td>809</td>\n",
       "      <td>277</td>\n",
       "      <td>4</td>\n",
       "      <td>176500</td>\n",
       "      <td>0</td>\n",
       "    </tr>\n",
       "    <tr>\n",
       "      <th>2</th>\n",
       "      <td>-118</td>\n",
       "      <td>34</td>\n",
       "      <td>27</td>\n",
       "      <td>3589</td>\n",
       "      <td>507</td>\n",
       "      <td>1484</td>\n",
       "      <td>495</td>\n",
       "      <td>6</td>\n",
       "      <td>270500</td>\n",
       "      <td>0</td>\n",
       "    </tr>\n",
       "    <tr>\n",
       "      <th>3</th>\n",
       "      <td>-118</td>\n",
       "      <td>34</td>\n",
       "      <td>28</td>\n",
       "      <td>67</td>\n",
       "      <td>15</td>\n",
       "      <td>49</td>\n",
       "      <td>11</td>\n",
       "      <td>6</td>\n",
       "      <td>330000</td>\n",
       "      <td>2</td>\n",
       "    </tr>\n",
       "    <tr>\n",
       "      <th>4</th>\n",
       "      <td>-120</td>\n",
       "      <td>36</td>\n",
       "      <td>19</td>\n",
       "      <td>1241</td>\n",
       "      <td>244</td>\n",
       "      <td>850</td>\n",
       "      <td>237</td>\n",
       "      <td>3</td>\n",
       "      <td>81700</td>\n",
       "      <td>3</td>\n",
       "    </tr>\n",
       "    <tr>\n",
       "      <th>...</th>\n",
       "      <td>...</td>\n",
       "      <td>...</td>\n",
       "      <td>...</td>\n",
       "      <td>...</td>\n",
       "      <td>...</td>\n",
       "      <td>...</td>\n",
       "      <td>...</td>\n",
       "      <td>...</td>\n",
       "      <td>...</td>\n",
       "      <td>...</td>\n",
       "    </tr>\n",
       "    <tr>\n",
       "      <th>2995</th>\n",
       "      <td>-120</td>\n",
       "      <td>34</td>\n",
       "      <td>23</td>\n",
       "      <td>1450</td>\n",
       "      <td>642</td>\n",
       "      <td>1258</td>\n",
       "      <td>607</td>\n",
       "      <td>1</td>\n",
       "      <td>225000</td>\n",
       "      <td>1</td>\n",
       "    </tr>\n",
       "    <tr>\n",
       "      <th>2996</th>\n",
       "      <td>-118</td>\n",
       "      <td>34</td>\n",
       "      <td>27</td>\n",
       "      <td>5257</td>\n",
       "      <td>1082</td>\n",
       "      <td>3496</td>\n",
       "      <td>1036</td>\n",
       "      <td>3</td>\n",
       "      <td>237200</td>\n",
       "      <td>0</td>\n",
       "    </tr>\n",
       "    <tr>\n",
       "      <th>2997</th>\n",
       "      <td>-120</td>\n",
       "      <td>36</td>\n",
       "      <td>10</td>\n",
       "      <td>956</td>\n",
       "      <td>201</td>\n",
       "      <td>693</td>\n",
       "      <td>220</td>\n",
       "      <td>2</td>\n",
       "      <td>62000</td>\n",
       "      <td>0</td>\n",
       "    </tr>\n",
       "    <tr>\n",
       "      <th>2998</th>\n",
       "      <td>-117</td>\n",
       "      <td>34</td>\n",
       "      <td>40</td>\n",
       "      <td>96</td>\n",
       "      <td>14</td>\n",
       "      <td>46</td>\n",
       "      <td>14</td>\n",
       "      <td>3</td>\n",
       "      <td>162500</td>\n",
       "      <td>-1</td>\n",
       "    </tr>\n",
       "    <tr>\n",
       "      <th>2999</th>\n",
       "      <td>-120</td>\n",
       "      <td>34</td>\n",
       "      <td>42</td>\n",
       "      <td>1765</td>\n",
       "      <td>263</td>\n",
       "      <td>753</td>\n",
       "      <td>260</td>\n",
       "      <td>9</td>\n",
       "      <td>500001</td>\n",
       "      <td>-1</td>\n",
       "    </tr>\n",
       "  </tbody>\n",
       "</table>\n",
       "<p>3000 rows × 10 columns</p>\n",
       "</div>"
      ],
      "text/plain": [
       "      longitude  latitude  housing_median_age  total_rooms  total_bedrooms  \\\n",
       "0          -122        37                  27         3885             661   \n",
       "1          -118        34                  43         1510             200   \n",
       "2          -118        34                  27         3589             507   \n",
       "3          -118        34                  28           67              15   \n",
       "4          -120        36                  19         1241             244   \n",
       "...         ...       ...                 ...          ...             ...   \n",
       "2995       -120        34                  23         1450             642   \n",
       "2996       -118        34                  27         5257            1082   \n",
       "2997       -120        36                  10          956             201   \n",
       "2998       -117        34                  40           96              14   \n",
       "2999       -120        34                  42         1765             263   \n",
       "\n",
       "      population  households  median_income  median_house_value  random  \n",
       "0           1537         606              7              344700       0  \n",
       "1            809         277              4              176500       0  \n",
       "2           1484         495              6              270500       0  \n",
       "3             49          11              6              330000       2  \n",
       "4            850         237              3               81700       3  \n",
       "...          ...         ...            ...                 ...     ...  \n",
       "2995        1258         607              1              225000       1  \n",
       "2996        3496        1036              3              237200       0  \n",
       "2997         693         220              2               62000       0  \n",
       "2998          46          14              3              162500      -1  \n",
       "2999         753         260              9              500001      -1  \n",
       "\n",
       "[3000 rows x 10 columns]"
      ]
     },
     "execution_count": 107,
     "metadata": {},
     "output_type": "execute_result"
    }
   ],
   "source": [
    "f = lambda x: round(x)\n",
    "\n",
    "#aplica la funcion a todos los elementos\n",
    "cali_housing.applymap(f)"
   ]
  },
  {
   "cell_type": "markdown",
   "metadata": {
    "colab_type": "text",
    "id": "rH43oj20UmsY"
   },
   "source": [
    "# Operaciones en columnas\n",
    "\n",
    "Puedes realizar operaciones directamente en las columnas de un DataFrame para obtener resultados como una Serie o para crear nuevas columnas.  Por ejemplo:\n",
    "\n",
    "* Relizar operaciones binarias entre columnas. (suma, resta, multiplicación, etc.).\n",
    "* Aplicar métodos estadísticos en las columnas. (sum(), mean(), var(), etc.).\n",
    "* Una mezcla de operaciones binarias y métodos."
   ]
  },
  {
   "cell_type": "code",
   "execution_count": 108,
   "metadata": {
    "colab": {},
    "colab_type": "code",
    "id": "O3KKVANJUrDx"
   },
   "outputs": [
    {
     "data": {
      "text/html": [
       "<div>\n",
       "<style scoped>\n",
       "    .dataframe tbody tr th:only-of-type {\n",
       "        vertical-align: middle;\n",
       "    }\n",
       "\n",
       "    .dataframe tbody tr th {\n",
       "        vertical-align: top;\n",
       "    }\n",
       "\n",
       "    .dataframe thead th {\n",
       "        text-align: right;\n",
       "    }\n",
       "</style>\n",
       "<table border=\"1\" class=\"dataframe\">\n",
       "  <thead>\n",
       "    <tr style=\"text-align: right;\">\n",
       "      <th></th>\n",
       "      <th>A</th>\n",
       "      <th>B</th>\n",
       "    </tr>\n",
       "  </thead>\n",
       "  <tbody>\n",
       "    <tr>\n",
       "      <th>0</th>\n",
       "      <td>1</td>\n",
       "      <td>2</td>\n",
       "    </tr>\n",
       "    <tr>\n",
       "      <th>1</th>\n",
       "      <td>2</td>\n",
       "      <td>2</td>\n",
       "    </tr>\n",
       "    <tr>\n",
       "      <th>2</th>\n",
       "      <td>3</td>\n",
       "      <td>2</td>\n",
       "    </tr>\n",
       "  </tbody>\n",
       "</table>\n",
       "</div>"
      ],
      "text/plain": [
       "   A  B\n",
       "0  1  2\n",
       "1  2  2\n",
       "2  3  2"
      ]
     },
     "execution_count": 108,
     "metadata": {},
     "output_type": "execute_result"
    }
   ],
   "source": [
    "#creando un dataframe\n",
    "df = pd.DataFrame({\"A\":[1, 2, 3], \"B\":[2, 2, 2]})\n",
    "df"
   ]
  },
  {
   "cell_type": "code",
   "execution_count": 109,
   "metadata": {
    "colab": {},
    "colab_type": "code",
    "id": "s5NCuK2LbE8y"
   },
   "outputs": [
    {
     "data": {
      "text/plain": [
       "0    2\n",
       "1    4\n",
       "2    6\n",
       "dtype: int64"
      ]
     },
     "execution_count": 109,
     "metadata": {},
     "output_type": "execute_result"
    }
   ],
   "source": [
    "#operaciones entre columna regresan una serie\n",
    "df[\"A\"] * df[\"B\"]"
   ]
  },
  {
   "cell_type": "code",
   "execution_count": 110,
   "metadata": {
    "colab": {},
    "colab_type": "code",
    "id": "LcpfXx-mb2-f"
   },
   "outputs": [
    {
     "data": {
      "text/html": [
       "<div>\n",
       "<style scoped>\n",
       "    .dataframe tbody tr th:only-of-type {\n",
       "        vertical-align: middle;\n",
       "    }\n",
       "\n",
       "    .dataframe tbody tr th {\n",
       "        vertical-align: top;\n",
       "    }\n",
       "\n",
       "    .dataframe thead th {\n",
       "        text-align: right;\n",
       "    }\n",
       "</style>\n",
       "<table border=\"1\" class=\"dataframe\">\n",
       "  <thead>\n",
       "    <tr style=\"text-align: right;\">\n",
       "      <th></th>\n",
       "      <th>A</th>\n",
       "      <th>B</th>\n",
       "      <th>A^B</th>\n",
       "    </tr>\n",
       "  </thead>\n",
       "  <tbody>\n",
       "    <tr>\n",
       "      <th>0</th>\n",
       "      <td>1</td>\n",
       "      <td>2</td>\n",
       "      <td>1</td>\n",
       "    </tr>\n",
       "    <tr>\n",
       "      <th>1</th>\n",
       "      <td>2</td>\n",
       "      <td>2</td>\n",
       "      <td>4</td>\n",
       "    </tr>\n",
       "    <tr>\n",
       "      <th>2</th>\n",
       "      <td>3</td>\n",
       "      <td>2</td>\n",
       "      <td>9</td>\n",
       "    </tr>\n",
       "  </tbody>\n",
       "</table>\n",
       "</div>"
      ],
      "text/plain": [
       "   A  B  A^B\n",
       "0  1  2    1\n",
       "1  2  2    4\n",
       "2  3  2    9"
      ]
     },
     "execution_count": 110,
     "metadata": {},
     "output_type": "execute_result"
    }
   ],
   "source": [
    "#generar una nueva columna desde una operacion\n",
    "df[\"A^B\"] = df[\"A\"].pow(df[\"B\"])\n",
    "df "
   ]
  },
  {
   "cell_type": "code",
   "execution_count": 111,
   "metadata": {
    "colab": {},
    "colab_type": "code",
    "id": "NR78G-lZcPEb"
   },
   "outputs": [
    {
     "data": {
      "text/plain": [
       "6"
      ]
     },
     "execution_count": 111,
     "metadata": {},
     "output_type": "execute_result"
    }
   ],
   "source": [
    "#aplicar un metodo estadistico a una columna genera un valor\n",
    "df[\"A\"].sum()"
   ]
  },
  {
   "cell_type": "code",
   "execution_count": 112,
   "metadata": {
    "colab": {},
    "colab_type": "code",
    "id": "I7L1MVTIcl99"
   },
   "outputs": [
    {
     "data": {
      "text/html": [
       "<div>\n",
       "<style scoped>\n",
       "    .dataframe tbody tr th:only-of-type {\n",
       "        vertical-align: middle;\n",
       "    }\n",
       "\n",
       "    .dataframe tbody tr th {\n",
       "        vertical-align: top;\n",
       "    }\n",
       "\n",
       "    .dataframe thead th {\n",
       "        text-align: right;\n",
       "    }\n",
       "</style>\n",
       "<table border=\"1\" class=\"dataframe\">\n",
       "  <thead>\n",
       "    <tr style=\"text-align: right;\">\n",
       "      <th></th>\n",
       "      <th>A</th>\n",
       "      <th>B</th>\n",
       "      <th>A^B</th>\n",
       "      <th>suma</th>\n",
       "    </tr>\n",
       "  </thead>\n",
       "  <tbody>\n",
       "    <tr>\n",
       "      <th>0</th>\n",
       "      <td>1</td>\n",
       "      <td>2</td>\n",
       "      <td>1</td>\n",
       "      <td>4</td>\n",
       "    </tr>\n",
       "    <tr>\n",
       "      <th>1</th>\n",
       "      <td>2</td>\n",
       "      <td>2</td>\n",
       "      <td>4</td>\n",
       "      <td>8</td>\n",
       "    </tr>\n",
       "    <tr>\n",
       "      <th>2</th>\n",
       "      <td>3</td>\n",
       "      <td>2</td>\n",
       "      <td>9</td>\n",
       "      <td>14</td>\n",
       "    </tr>\n",
       "  </tbody>\n",
       "</table>\n",
       "</div>"
      ],
      "text/plain": [
       "   A  B  A^B  suma\n",
       "0  1  2    1     4\n",
       "1  2  2    4     8\n",
       "2  3  2    9    14"
      ]
     },
     "execution_count": 112,
     "metadata": {},
     "output_type": "execute_result"
    }
   ],
   "source": [
    "#generando una nueva columna con la suma de las filas\n",
    "df[\"suma\"] = df.sum(axis=1)\n",
    "df"
   ]
  },
  {
   "cell_type": "markdown",
   "metadata": {
    "colab_type": "text",
    "id": "kQX4ek7hVAuu"
   },
   "source": [
    "# Funciones por grupos y agregación"
   ]
  },
  {
   "cell_type": "markdown",
   "metadata": {
    "colab_type": "text",
    "id": "3kP0btfyqbvP"
   },
   "source": [
    "## aggregate()/agg()\n",
    "\n",
    "La agregación de datos es una transformación que produce un valor escalar a partir de un arreglo, por ejemplo, las funciones/métodos \"sum\" y \"mean\". Los métodos aggregate() y su alias agg() permiten aplicar una o más funciones de agregación a los objetos de Pandas. \n",
    "\n",
    "Los parámetros principales son:\n",
    "\n",
    "\n",
    "\n",
    "```\n",
    "func : funcion, str, list o dict\n",
    "  La funcion o funciones utilizada spara la agregacion de los datos.\n",
    "\n",
    "  Las combinaciones aceptadas:\n",
    "\n",
    "  funcion\n",
    "  cadena con el nombre de la funcion\n",
    "  lista de funciones y/o nombre de las funciones (ej, [np.sum, 'mean'])\n",
    "  diccionario de etiquetas del axis que mapean a:\n",
    "  - las funciones.\n",
    "  - nombre de funciones.\n",
    "  - lista de funciones.\n",
    "\n",
    "axis : {0 or ‘index’, 1 or ‘columns’}, por defecto 0\n",
    "  Si axis=0 o ‘index’: aplica la funcion a cada columna.\n",
    "  Si axis=1 o ‘columns’: aplica la funcion a cada fila.\n",
    "```\n",
    "\n"
   ]
  },
  {
   "cell_type": "code",
   "execution_count": 119,
   "metadata": {
    "colab": {},
    "colab_type": "code",
    "id": "n7WDkeCDh9Ne"
   },
   "outputs": [
    {
     "data": {
      "text/html": [
       "<div>\n",
       "<style scoped>\n",
       "    .dataframe tbody tr th:only-of-type {\n",
       "        vertical-align: middle;\n",
       "    }\n",
       "\n",
       "    .dataframe tbody tr th {\n",
       "        vertical-align: top;\n",
       "    }\n",
       "\n",
       "    .dataframe thead th {\n",
       "        text-align: right;\n",
       "    }\n",
       "</style>\n",
       "<table border=\"1\" class=\"dataframe\">\n",
       "  <thead>\n",
       "    <tr style=\"text-align: right;\">\n",
       "      <th></th>\n",
       "      <th>A</th>\n",
       "      <th>B</th>\n",
       "      <th>C</th>\n",
       "    </tr>\n",
       "  </thead>\n",
       "  <tbody>\n",
       "    <tr>\n",
       "      <th>0</th>\n",
       "      <td>1</td>\n",
       "      <td>2</td>\n",
       "      <td>3</td>\n",
       "    </tr>\n",
       "    <tr>\n",
       "      <th>1</th>\n",
       "      <td>4</td>\n",
       "      <td>5</td>\n",
       "      <td>6</td>\n",
       "    </tr>\n",
       "    <tr>\n",
       "      <th>2</th>\n",
       "      <td>7</td>\n",
       "      <td>8</td>\n",
       "      <td>9</td>\n",
       "    </tr>\n",
       "  </tbody>\n",
       "</table>\n",
       "</div>"
      ],
      "text/plain": [
       "   A  B  C\n",
       "0  1  2  3\n",
       "1  4  5  6\n",
       "2  7  8  9"
      ]
     },
     "execution_count": 119,
     "metadata": {},
     "output_type": "execute_result"
    }
   ],
   "source": [
    "df = pd.DataFrame([[1, 2, 3],\n",
    "                   [4, 5, 6],\n",
    "                   [7, 8, 9]],\n",
    "                  columns=['A', 'B', 'C'])\n",
    "df"
   ]
  },
  {
   "cell_type": "markdown",
   "metadata": {
    "colab_type": "text",
    "id": "UAmPy6H_kEV1"
   },
   "source": [
    "Por columna (por defecto axis=0):"
   ]
  },
  {
   "cell_type": "code",
   "execution_count": 115,
   "metadata": {
    "colab": {},
    "colab_type": "code",
    "id": "F4qbT9ESeVG-"
   },
   "outputs": [
    {
     "data": {
      "text/html": [
       "<div>\n",
       "<style scoped>\n",
       "    .dataframe tbody tr th:only-of-type {\n",
       "        vertical-align: middle;\n",
       "    }\n",
       "\n",
       "    .dataframe tbody tr th {\n",
       "        vertical-align: top;\n",
       "    }\n",
       "\n",
       "    .dataframe thead th {\n",
       "        text-align: right;\n",
       "    }\n",
       "</style>\n",
       "<table border=\"1\" class=\"dataframe\">\n",
       "  <thead>\n",
       "    <tr style=\"text-align: right;\">\n",
       "      <th></th>\n",
       "      <th>A</th>\n",
       "      <th>B</th>\n",
       "      <th>C</th>\n",
       "    </tr>\n",
       "  </thead>\n",
       "  <tbody>\n",
       "    <tr>\n",
       "      <th>min</th>\n",
       "      <td>1</td>\n",
       "      <td>2</td>\n",
       "      <td>3</td>\n",
       "    </tr>\n",
       "    <tr>\n",
       "      <th>max</th>\n",
       "      <td>7</td>\n",
       "      <td>8</td>\n",
       "      <td>9</td>\n",
       "    </tr>\n",
       "  </tbody>\n",
       "</table>\n",
       "</div>"
      ],
      "text/plain": [
       "     A  B  C\n",
       "min  1  2  3\n",
       "max  7  8  9"
      ]
     },
     "execution_count": 115,
     "metadata": {},
     "output_type": "execute_result"
    }
   ],
   "source": [
    "#funcion de agregacion para calcular varios estadisticos a las columnas\n",
    "df.agg([\"min\", \"max\"])"
   ]
  },
  {
   "cell_type": "markdown",
   "metadata": {
    "colab_type": "text",
    "id": "0h2JljwtkIYQ"
   },
   "source": [
    "Por filas (axis=1):"
   ]
  },
  {
   "cell_type": "code",
   "execution_count": 116,
   "metadata": {
    "colab": {},
    "colab_type": "code",
    "id": "uTuA399VkIcC"
   },
   "outputs": [
    {
     "data": {
      "text/html": [
       "<div>\n",
       "<style scoped>\n",
       "    .dataframe tbody tr th:only-of-type {\n",
       "        vertical-align: middle;\n",
       "    }\n",
       "\n",
       "    .dataframe tbody tr th {\n",
       "        vertical-align: top;\n",
       "    }\n",
       "\n",
       "    .dataframe thead th {\n",
       "        text-align: right;\n",
       "    }\n",
       "</style>\n",
       "<table border=\"1\" class=\"dataframe\">\n",
       "  <thead>\n",
       "    <tr style=\"text-align: right;\">\n",
       "      <th></th>\n",
       "      <th>min</th>\n",
       "      <th>max</th>\n",
       "    </tr>\n",
       "  </thead>\n",
       "  <tbody>\n",
       "    <tr>\n",
       "      <th>0</th>\n",
       "      <td>1</td>\n",
       "      <td>3</td>\n",
       "    </tr>\n",
       "    <tr>\n",
       "      <th>1</th>\n",
       "      <td>4</td>\n",
       "      <td>6</td>\n",
       "    </tr>\n",
       "    <tr>\n",
       "      <th>2</th>\n",
       "      <td>7</td>\n",
       "      <td>9</td>\n",
       "    </tr>\n",
       "  </tbody>\n",
       "</table>\n",
       "</div>"
      ],
      "text/plain": [
       "   min  max\n",
       "0    1    3\n",
       "1    4    6\n",
       "2    7    9"
      ]
     },
     "execution_count": 116,
     "metadata": {},
     "output_type": "execute_result"
    }
   ],
   "source": [
    "#funcion de agregacion para calcular varios estadisticos a las filas\n",
    "df.agg([\"min\", \"max\"], axis=1)"
   ]
  },
  {
   "cell_type": "markdown",
   "metadata": {
    "colab_type": "text",
    "id": "3yyCfud-kTdn"
   },
   "source": [
    "Usando un diccionario como parámetro:"
   ]
  },
  {
   "cell_type": "code",
   "execution_count": 120,
   "metadata": {
    "colab": {},
    "colab_type": "code",
    "id": "8qrOoj_7kUQs"
   },
   "outputs": [
    {
     "data": {
      "text/html": [
       "<div>\n",
       "<style scoped>\n",
       "    .dataframe tbody tr th:only-of-type {\n",
       "        vertical-align: middle;\n",
       "    }\n",
       "\n",
       "    .dataframe tbody tr th {\n",
       "        vertical-align: top;\n",
       "    }\n",
       "\n",
       "    .dataframe thead th {\n",
       "        text-align: right;\n",
       "    }\n",
       "</style>\n",
       "<table border=\"1\" class=\"dataframe\">\n",
       "  <thead>\n",
       "    <tr style=\"text-align: right;\">\n",
       "      <th></th>\n",
       "      <th>A</th>\n",
       "      <th>B</th>\n",
       "      <th>C</th>\n",
       "    </tr>\n",
       "  </thead>\n",
       "  <tbody>\n",
       "    <tr>\n",
       "      <th>amax</th>\n",
       "      <td>NaN</td>\n",
       "      <td>8.0</td>\n",
       "      <td>NaN</td>\n",
       "    </tr>\n",
       "    <tr>\n",
       "      <th>amin</th>\n",
       "      <td>1.0</td>\n",
       "      <td>NaN</td>\n",
       "      <td>NaN</td>\n",
       "    </tr>\n",
       "    <tr>\n",
       "      <th>mean</th>\n",
       "      <td>NaN</td>\n",
       "      <td>NaN</td>\n",
       "      <td>6.0</td>\n",
       "    </tr>\n",
       "    <tr>\n",
       "      <th>std</th>\n",
       "      <td>NaN</td>\n",
       "      <td>NaN</td>\n",
       "      <td>3.0</td>\n",
       "    </tr>\n",
       "  </tbody>\n",
       "</table>\n",
       "</div>"
      ],
      "text/plain": [
       "        A    B    C\n",
       "amax  NaN  8.0  NaN\n",
       "amin  1.0  NaN  NaN\n",
       "mean  NaN  NaN  6.0\n",
       "std   NaN  NaN  3.0"
      ]
     },
     "execution_count": 120,
     "metadata": {},
     "output_type": "execute_result"
    }
   ],
   "source": [
    "df.agg({\"A\": np.min, \"B\": np.max, \"C\": [np.mean, np.std]})"
   ]
  },
  {
   "cell_type": "markdown",
   "metadata": {
    "colab_type": "text",
    "id": "C7R7riKcVDt6"
   },
   "source": [
    "## groupby()\n",
    "\n",
    "El método groupby() permite generar grupos de datos usando una o más columnas para aplicar funciones de transformación o de agregación. \n",
    "\n",
    "Groupby es útil para contestar preguntas tipo: ¿cuál es la media de altura en hombres y mujeres? o ¿cúal es estado con menor población para cada país?"
   ]
  },
  {
   "cell_type": "code",
   "execution_count": 185,
   "metadata": {
    "colab": {},
    "colab_type": "code",
    "id": "Ba0EwO9GVCsO"
   },
   "outputs": [
    {
     "data": {
      "text/html": [
       "<div>\n",
       "<style scoped>\n",
       "    .dataframe tbody tr th:only-of-type {\n",
       "        vertical-align: middle;\n",
       "    }\n",
       "\n",
       "    .dataframe tbody tr th {\n",
       "        vertical-align: top;\n",
       "    }\n",
       "\n",
       "    .dataframe thead th {\n",
       "        text-align: right;\n",
       "    }\n",
       "</style>\n",
       "<table border=\"1\" class=\"dataframe\">\n",
       "  <thead>\n",
       "    <tr style=\"text-align: right;\">\n",
       "      <th></th>\n",
       "      <th>Sexo</th>\n",
       "      <th>Altura</th>\n",
       "      <th>Peso</th>\n",
       "    </tr>\n",
       "  </thead>\n",
       "  <tbody>\n",
       "    <tr>\n",
       "      <th>0</th>\n",
       "      <td>M</td>\n",
       "      <td>1.68</td>\n",
       "      <td>70</td>\n",
       "    </tr>\n",
       "    <tr>\n",
       "      <th>1</th>\n",
       "      <td>F</td>\n",
       "      <td>1.55</td>\n",
       "      <td>50</td>\n",
       "    </tr>\n",
       "    <tr>\n",
       "      <th>2</th>\n",
       "      <td>F</td>\n",
       "      <td>1.75</td>\n",
       "      <td>68</td>\n",
       "    </tr>\n",
       "    <tr>\n",
       "      <th>3</th>\n",
       "      <td>M</td>\n",
       "      <td>1.82</td>\n",
       "      <td>72</td>\n",
       "    </tr>\n",
       "  </tbody>\n",
       "</table>\n",
       "</div>"
      ],
      "text/plain": [
       "  Sexo  Altura  Peso\n",
       "0    M    1.68    70\n",
       "1    F    1.55    50\n",
       "2    F    1.75    68\n",
       "3    M    1.82    72"
      ]
     },
     "execution_count": 185,
     "metadata": {},
     "output_type": "execute_result"
    }
   ],
   "source": [
    "df = pd.DataFrame({\"Sexo\": [\"M\", \"F\", \"F\", \"M\"], \"Altura\": [1.68, 1.55, 1.75, 1.82], \"Peso\": [70, 50, 68, 72]})\n",
    "df"
   ]
  },
  {
   "cell_type": "code",
   "execution_count": 187,
   "metadata": {
    "colab": {},
    "colab_type": "code",
    "id": "4SjCIZ6Cm2RN"
   },
   "outputs": [
    {
     "data": {
      "text/html": [
       "<div>\n",
       "<style scoped>\n",
       "    .dataframe tbody tr th:only-of-type {\n",
       "        vertical-align: middle;\n",
       "    }\n",
       "\n",
       "    .dataframe tbody tr th {\n",
       "        vertical-align: top;\n",
       "    }\n",
       "\n",
       "    .dataframe thead th {\n",
       "        text-align: right;\n",
       "    }\n",
       "</style>\n",
       "<table border=\"1\" class=\"dataframe\">\n",
       "  <thead>\n",
       "    <tr style=\"text-align: right;\">\n",
       "      <th></th>\n",
       "      <th>Altura</th>\n",
       "      <th>Peso</th>\n",
       "    </tr>\n",
       "    <tr>\n",
       "      <th>Sexo</th>\n",
       "      <th></th>\n",
       "      <th></th>\n",
       "    </tr>\n",
       "  </thead>\n",
       "  <tbody>\n",
       "    <tr>\n",
       "      <th>F</th>\n",
       "      <td>2</td>\n",
       "      <td>2</td>\n",
       "    </tr>\n",
       "    <tr>\n",
       "      <th>M</th>\n",
       "      <td>2</td>\n",
       "      <td>2</td>\n",
       "    </tr>\n",
       "  </tbody>\n",
       "</table>\n",
       "</div>"
      ],
      "text/plain": [
       "      Altura  Peso\n",
       "Sexo              \n",
       "F          2     2\n",
       "M          2     2"
      ]
     },
     "execution_count": 187,
     "metadata": {},
     "output_type": "execute_result"
    }
   ],
   "source": [
    "#generar un dataframe argupado por una columna\n",
    "df.groupby(\"Sexo\").count()"
   ]
  },
  {
   "cell_type": "markdown",
   "metadata": {
    "colab_type": "text",
    "id": "Qkxna7JlnIbD"
   },
   "source": [
    "groupby() por si solo no resulta en la salida esperada.\n",
    "\n",
    "Hay que aplicar una función:"
   ]
  },
  {
   "cell_type": "code",
   "execution_count": 188,
   "metadata": {
    "colab": {},
    "colab_type": "code",
    "id": "uw0pANH5nans"
   },
   "outputs": [
    {
     "data": {
      "text/html": [
       "<div>\n",
       "<style scoped>\n",
       "    .dataframe tbody tr th:only-of-type {\n",
       "        vertical-align: middle;\n",
       "    }\n",
       "\n",
       "    .dataframe tbody tr th {\n",
       "        vertical-align: top;\n",
       "    }\n",
       "\n",
       "    .dataframe thead th {\n",
       "        text-align: right;\n",
       "    }\n",
       "</style>\n",
       "<table border=\"1\" class=\"dataframe\">\n",
       "  <thead>\n",
       "    <tr style=\"text-align: right;\">\n",
       "      <th></th>\n",
       "      <th>Altura</th>\n",
       "      <th>Peso</th>\n",
       "    </tr>\n",
       "    <tr>\n",
       "      <th>Sexo</th>\n",
       "      <th></th>\n",
       "      <th></th>\n",
       "    </tr>\n",
       "  </thead>\n",
       "  <tbody>\n",
       "    <tr>\n",
       "      <th>F</th>\n",
       "      <td>1.65</td>\n",
       "      <td>59</td>\n",
       "    </tr>\n",
       "    <tr>\n",
       "      <th>M</th>\n",
       "      <td>1.75</td>\n",
       "      <td>71</td>\n",
       "    </tr>\n",
       "  </tbody>\n",
       "</table>\n",
       "</div>"
      ],
      "text/plain": [
       "      Altura  Peso\n",
       "Sexo              \n",
       "F       1.65    59\n",
       "M       1.75    71"
      ]
     },
     "execution_count": 188,
     "metadata": {},
     "output_type": "execute_result"
    }
   ],
   "source": [
    "#la media de las columnas\n",
    "df.groupby(\"Sexo\").mean()"
   ]
  },
  {
   "cell_type": "code",
   "execution_count": 124,
   "metadata": {
    "colab": {},
    "colab_type": "code",
    "id": "jlBYy_eWnrm9"
   },
   "outputs": [
    {
     "data": {
      "text/plain": [
       "Sexo\n",
       "F    1.65\n",
       "M    1.75\n",
       "Name: Altura, dtype: float64"
      ]
     },
     "execution_count": 124,
     "metadata": {},
     "output_type": "execute_result"
    }
   ],
   "source": [
    "#seleccionando una sola columna para la agregacion\n",
    "df.groupby(\"Sexo\")[\"Altura\"].mean()"
   ]
  },
  {
   "cell_type": "markdown",
   "metadata": {
    "colab_type": "text",
    "id": "j7H3MQN3hrSB"
   },
   "source": [
    "**groupby() y agg()**\n",
    "\n",
    "Puedes mezclar groupby() con agg() para aplicar más de una función. "
   ]
  },
  {
   "cell_type": "code",
   "execution_count": 125,
   "metadata": {
    "colab": {},
    "colab_type": "code",
    "id": "9l3IAtYBhrv8"
   },
   "outputs": [
    {
     "data": {
      "text/html": [
       "<div>\n",
       "<style scoped>\n",
       "    .dataframe tbody tr th:only-of-type {\n",
       "        vertical-align: middle;\n",
       "    }\n",
       "\n",
       "    .dataframe tbody tr th {\n",
       "        vertical-align: top;\n",
       "    }\n",
       "\n",
       "    .dataframe thead tr th {\n",
       "        text-align: left;\n",
       "    }\n",
       "\n",
       "    .dataframe thead tr:last-of-type th {\n",
       "        text-align: right;\n",
       "    }\n",
       "</style>\n",
       "<table border=\"1\" class=\"dataframe\">\n",
       "  <thead>\n",
       "    <tr>\n",
       "      <th></th>\n",
       "      <th colspan=\"2\" halign=\"left\">Altura</th>\n",
       "      <th colspan=\"2\" halign=\"left\">Peso</th>\n",
       "    </tr>\n",
       "    <tr>\n",
       "      <th></th>\n",
       "      <th>mean</th>\n",
       "      <th>std</th>\n",
       "      <th>mean</th>\n",
       "      <th>std</th>\n",
       "    </tr>\n",
       "    <tr>\n",
       "      <th>Sexo</th>\n",
       "      <th></th>\n",
       "      <th></th>\n",
       "      <th></th>\n",
       "      <th></th>\n",
       "    </tr>\n",
       "  </thead>\n",
       "  <tbody>\n",
       "    <tr>\n",
       "      <th>F</th>\n",
       "      <td>1.65</td>\n",
       "      <td>0.141421</td>\n",
       "      <td>59</td>\n",
       "      <td>12.727922</td>\n",
       "    </tr>\n",
       "    <tr>\n",
       "      <th>M</th>\n",
       "      <td>1.75</td>\n",
       "      <td>0.098995</td>\n",
       "      <td>71</td>\n",
       "      <td>1.414214</td>\n",
       "    </tr>\n",
       "  </tbody>\n",
       "</table>\n",
       "</div>"
      ],
      "text/plain": [
       "     Altura           Peso           \n",
       "       mean       std mean        std\n",
       "Sexo                                 \n",
       "F      1.65  0.141421   59  12.727922\n",
       "M      1.75  0.098995   71   1.414214"
      ]
     },
     "execution_count": 125,
     "metadata": {},
     "output_type": "execute_result"
    }
   ],
   "source": [
    "df.groupby(\"Sexo\").agg([\"mean\", \"std\"])"
   ]
  },
  {
   "cell_type": "markdown",
   "metadata": {
    "colab_type": "text",
    "id": "WNskBq1do9g5"
   },
   "source": [
    "**Agrupando con más de una columna**"
   ]
  },
  {
   "cell_type": "code",
   "execution_count": 126,
   "metadata": {
    "colab": {},
    "colab_type": "code",
    "id": "aqA4S2dPo97J"
   },
   "outputs": [
    {
     "data": {
      "text/html": [
       "<div>\n",
       "<style scoped>\n",
       "    .dataframe tbody tr th:only-of-type {\n",
       "        vertical-align: middle;\n",
       "    }\n",
       "\n",
       "    .dataframe tbody tr th {\n",
       "        vertical-align: top;\n",
       "    }\n",
       "\n",
       "    .dataframe thead th {\n",
       "        text-align: right;\n",
       "    }\n",
       "</style>\n",
       "<table border=\"1\" class=\"dataframe\">\n",
       "  <thead>\n",
       "    <tr style=\"text-align: right;\">\n",
       "      <th></th>\n",
       "      <th>Sexo</th>\n",
       "      <th>Altura</th>\n",
       "      <th>Peso</th>\n",
       "      <th>Estado</th>\n",
       "    </tr>\n",
       "  </thead>\n",
       "  <tbody>\n",
       "    <tr>\n",
       "      <th>0</th>\n",
       "      <td>M</td>\n",
       "      <td>1.68</td>\n",
       "      <td>70</td>\n",
       "      <td>Morelos</td>\n",
       "    </tr>\n",
       "    <tr>\n",
       "      <th>1</th>\n",
       "      <td>F</td>\n",
       "      <td>1.55</td>\n",
       "      <td>50</td>\n",
       "      <td>DF</td>\n",
       "    </tr>\n",
       "    <tr>\n",
       "      <th>2</th>\n",
       "      <td>F</td>\n",
       "      <td>1.75</td>\n",
       "      <td>68</td>\n",
       "      <td>DF</td>\n",
       "    </tr>\n",
       "    <tr>\n",
       "      <th>3</th>\n",
       "      <td>M</td>\n",
       "      <td>1.82</td>\n",
       "      <td>72</td>\n",
       "      <td>DF</td>\n",
       "    </tr>\n",
       "  </tbody>\n",
       "</table>\n",
       "</div>"
      ],
      "text/plain": [
       "  Sexo  Altura  Peso   Estado\n",
       "0    M    1.68    70  Morelos\n",
       "1    F    1.55    50       DF\n",
       "2    F    1.75    68       DF\n",
       "3    M    1.82    72       DF"
      ]
     },
     "execution_count": 126,
     "metadata": {},
     "output_type": "execute_result"
    }
   ],
   "source": [
    "#agregar una nueva columna al df\n",
    "df[\"Estado\"] = [\"Morelos\", \"DF\", \"DF\", \"DF\"]\n",
    "df"
   ]
  },
  {
   "cell_type": "code",
   "execution_count": 127,
   "metadata": {
    "colab": {},
    "colab_type": "code",
    "id": "bA7HP3yLpY9N"
   },
   "outputs": [
    {
     "data": {
      "text/html": [
       "<div>\n",
       "<style scoped>\n",
       "    .dataframe tbody tr th:only-of-type {\n",
       "        vertical-align: middle;\n",
       "    }\n",
       "\n",
       "    .dataframe tbody tr th {\n",
       "        vertical-align: top;\n",
       "    }\n",
       "\n",
       "    .dataframe thead th {\n",
       "        text-align: right;\n",
       "    }\n",
       "</style>\n",
       "<table border=\"1\" class=\"dataframe\">\n",
       "  <thead>\n",
       "    <tr style=\"text-align: right;\">\n",
       "      <th></th>\n",
       "      <th></th>\n",
       "      <th>Altura</th>\n",
       "      <th>Peso</th>\n",
       "    </tr>\n",
       "    <tr>\n",
       "      <th>Sexo</th>\n",
       "      <th>Estado</th>\n",
       "      <th></th>\n",
       "      <th></th>\n",
       "    </tr>\n",
       "  </thead>\n",
       "  <tbody>\n",
       "    <tr>\n",
       "      <th>F</th>\n",
       "      <th>DF</th>\n",
       "      <td>1.65</td>\n",
       "      <td>59</td>\n",
       "    </tr>\n",
       "    <tr>\n",
       "      <th rowspan=\"2\" valign=\"top\">M</th>\n",
       "      <th>DF</th>\n",
       "      <td>1.82</td>\n",
       "      <td>72</td>\n",
       "    </tr>\n",
       "    <tr>\n",
       "      <th>Morelos</th>\n",
       "      <td>1.68</td>\n",
       "      <td>70</td>\n",
       "    </tr>\n",
       "  </tbody>\n",
       "</table>\n",
       "</div>"
      ],
      "text/plain": [
       "              Altura  Peso\n",
       "Sexo Estado               \n",
       "F    DF         1.65    59\n",
       "M    DF         1.82    72\n",
       "     Morelos    1.68    70"
      ]
     },
     "execution_count": 127,
     "metadata": {},
     "output_type": "execute_result"
    }
   ],
   "source": [
    "#usando mas de una clave para la agrupacion\n",
    "df.groupby([\"Sexo\", \"Estado\"]).agg(\"mean\")"
   ]
  },
  {
   "cell_type": "markdown",
   "metadata": {
    "colab_type": "text",
    "id": "tn76gw-kVIX5"
   },
   "source": [
    "# Combinar Dataframes"
   ]
  },
  {
   "cell_type": "markdown",
   "metadata": {
    "colab_type": "text",
    "id": "QTjnCTA0oKOZ"
   },
   "source": [
    "## append()\n",
    "\n",
    "Concatena las filas de un DataFrame a otro usando las columnas que coinciden. Columnas que no coinciden son agregadas al DataFrame resultante."
   ]
  },
  {
   "cell_type": "code",
   "execution_count": 133,
   "metadata": {
    "colab": {},
    "colab_type": "code",
    "id": "H3iFTLk7VKbK"
   },
   "outputs": [
    {
     "data": {
      "text/html": [
       "<div>\n",
       "<style scoped>\n",
       "    .dataframe tbody tr th:only-of-type {\n",
       "        vertical-align: middle;\n",
       "    }\n",
       "\n",
       "    .dataframe tbody tr th {\n",
       "        vertical-align: top;\n",
       "    }\n",
       "\n",
       "    .dataframe thead th {\n",
       "        text-align: right;\n",
       "    }\n",
       "</style>\n",
       "<table border=\"1\" class=\"dataframe\">\n",
       "  <thead>\n",
       "    <tr style=\"text-align: right;\">\n",
       "      <th></th>\n",
       "      <th>A</th>\n",
       "      <th>B</th>\n",
       "    </tr>\n",
       "  </thead>\n",
       "  <tbody>\n",
       "    <tr>\n",
       "      <th>0</th>\n",
       "      <td>1</td>\n",
       "      <td>2</td>\n",
       "    </tr>\n",
       "    <tr>\n",
       "      <th>1</th>\n",
       "      <td>3</td>\n",
       "      <td>4</td>\n",
       "    </tr>\n",
       "  </tbody>\n",
       "</table>\n",
       "</div>"
      ],
      "text/plain": [
       "   A  B\n",
       "0  1  2\n",
       "1  3  4"
      ]
     },
     "execution_count": 133,
     "metadata": {},
     "output_type": "execute_result"
    }
   ],
   "source": [
    "df = pd.DataFrame([[1, 2], [3, 4]], columns=[\"A\", \"B\"])\n",
    "df"
   ]
  },
  {
   "cell_type": "code",
   "execution_count": 134,
   "metadata": {
    "colab": {},
    "colab_type": "code",
    "id": "l6w99m9aqLaO"
   },
   "outputs": [
    {
     "data": {
      "text/html": [
       "<div>\n",
       "<style scoped>\n",
       "    .dataframe tbody tr th:only-of-type {\n",
       "        vertical-align: middle;\n",
       "    }\n",
       "\n",
       "    .dataframe tbody tr th {\n",
       "        vertical-align: top;\n",
       "    }\n",
       "\n",
       "    .dataframe thead th {\n",
       "        text-align: right;\n",
       "    }\n",
       "</style>\n",
       "<table border=\"1\" class=\"dataframe\">\n",
       "  <thead>\n",
       "    <tr style=\"text-align: right;\">\n",
       "      <th></th>\n",
       "      <th>A</th>\n",
       "      <th>B</th>\n",
       "    </tr>\n",
       "  </thead>\n",
       "  <tbody>\n",
       "    <tr>\n",
       "      <th>0</th>\n",
       "      <td>5</td>\n",
       "      <td>6</td>\n",
       "    </tr>\n",
       "    <tr>\n",
       "      <th>1</th>\n",
       "      <td>7</td>\n",
       "      <td>8</td>\n",
       "    </tr>\n",
       "  </tbody>\n",
       "</table>\n",
       "</div>"
      ],
      "text/plain": [
       "   A  B\n",
       "0  5  6\n",
       "1  7  8"
      ]
     },
     "execution_count": 134,
     "metadata": {},
     "output_type": "execute_result"
    }
   ],
   "source": [
    "df2 = df2 = pd.DataFrame([[5, 6], [7, 8]], columns=[\"A\", \"B\"])\n",
    "df2"
   ]
  },
  {
   "cell_type": "code",
   "execution_count": 135,
   "metadata": {
    "colab": {},
    "colab_type": "code",
    "id": "37SLtmNhrfPi"
   },
   "outputs": [
    {
     "data": {
      "text/html": [
       "<div>\n",
       "<style scoped>\n",
       "    .dataframe tbody tr th:only-of-type {\n",
       "        vertical-align: middle;\n",
       "    }\n",
       "\n",
       "    .dataframe tbody tr th {\n",
       "        vertical-align: top;\n",
       "    }\n",
       "\n",
       "    .dataframe thead th {\n",
       "        text-align: right;\n",
       "    }\n",
       "</style>\n",
       "<table border=\"1\" class=\"dataframe\">\n",
       "  <thead>\n",
       "    <tr style=\"text-align: right;\">\n",
       "      <th></th>\n",
       "      <th>A</th>\n",
       "      <th>B</th>\n",
       "    </tr>\n",
       "  </thead>\n",
       "  <tbody>\n",
       "    <tr>\n",
       "      <th>0</th>\n",
       "      <td>1</td>\n",
       "      <td>2</td>\n",
       "    </tr>\n",
       "    <tr>\n",
       "      <th>1</th>\n",
       "      <td>3</td>\n",
       "      <td>4</td>\n",
       "    </tr>\n",
       "    <tr>\n",
       "      <th>0</th>\n",
       "      <td>5</td>\n",
       "      <td>6</td>\n",
       "    </tr>\n",
       "    <tr>\n",
       "      <th>1</th>\n",
       "      <td>7</td>\n",
       "      <td>8</td>\n",
       "    </tr>\n",
       "  </tbody>\n",
       "</table>\n",
       "</div>"
      ],
      "text/plain": [
       "   A  B\n",
       "0  1  2\n",
       "1  3  4\n",
       "0  5  6\n",
       "1  7  8"
      ]
     },
     "execution_count": 135,
     "metadata": {},
     "output_type": "execute_result"
    }
   ],
   "source": [
    "df.append(df2)"
   ]
  },
  {
   "cell_type": "markdown",
   "metadata": {
    "colab_type": "text",
    "id": "9exwc3KToKoF"
   },
   "source": [
    "## merge() y join()\n",
    "\n",
    "Joins al estilo SQL.\n",
    "\n",
    "Si no conoces SQL visita este sitio para darte una idea de los tipos de joins disponibles: https://www.w3schools.com/sql/sql_join.asp\n",
    "\n",
    "![dofactory.com](https://www.dofactory.com/Images/sql-joins.png)"
   ]
  },
  {
   "cell_type": "markdown",
   "metadata": {
    "colab_type": "text",
    "id": "p7okKBKWtsea"
   },
   "source": [
    "**merge()**\n",
    "\n",
    "Parámetros principales:\n",
    "\n",
    "\n",
    "```\n",
    "right : DataFrame o  Series\n",
    "  Objeto con el que realizar merge()\n",
    "\n",
    "how:{‘left’, ‘right’, ‘outer’, ‘inner’}, Por defecto ‘inner’\n",
    "  Type of merge to be performed.\n",
    "\n",
    "  left: similar a un left outer join de SQL.\n",
    "  right: similar a un  right outer join SQL.\n",
    "  outer:  similar a un full outer join SQL.\n",
    "  inner: similar a un inner join de SQL.\n",
    "\n",
    "on : etiqueta o lista de etiquetas\n",
    "  Columnas o indices para unir. Deben estar en ambos DataFrames.\n",
    "\n",
    "left_on : etiqueta, lista de etiquetas\n",
    "  Columnas o indices para unir del DataFrame de la izquierda.\n",
    "\n",
    "right_on : etiqueta, lista de etiquetas\n",
    "  Columnas o indices para unir del DataFrame de la derecha.\n",
    "```\n"
   ]
  },
  {
   "cell_type": "code",
   "execution_count": 136,
   "metadata": {
    "colab": {},
    "colab_type": "code",
    "id": "2Du2Y5qHqOOK"
   },
   "outputs": [
    {
     "data": {
      "text/html": [
       "<div>\n",
       "<style scoped>\n",
       "    .dataframe tbody tr th:only-of-type {\n",
       "        vertical-align: middle;\n",
       "    }\n",
       "\n",
       "    .dataframe tbody tr th {\n",
       "        vertical-align: top;\n",
       "    }\n",
       "\n",
       "    .dataframe thead th {\n",
       "        text-align: right;\n",
       "    }\n",
       "</style>\n",
       "<table border=\"1\" class=\"dataframe\">\n",
       "  <thead>\n",
       "    <tr style=\"text-align: right;\">\n",
       "      <th></th>\n",
       "      <th>key</th>\n",
       "      <th>value</th>\n",
       "    </tr>\n",
       "  </thead>\n",
       "  <tbody>\n",
       "    <tr>\n",
       "      <th>0</th>\n",
       "      <td>a</td>\n",
       "      <td>1</td>\n",
       "    </tr>\n",
       "    <tr>\n",
       "      <th>1</th>\n",
       "      <td>b</td>\n",
       "      <td>2</td>\n",
       "    </tr>\n",
       "    <tr>\n",
       "      <th>2</th>\n",
       "      <td>u1</td>\n",
       "      <td>3</td>\n",
       "    </tr>\n",
       "    <tr>\n",
       "      <th>3</th>\n",
       "      <td>a</td>\n",
       "      <td>5</td>\n",
       "    </tr>\n",
       "  </tbody>\n",
       "</table>\n",
       "</div>"
      ],
      "text/plain": [
       "  key  value\n",
       "0   a      1\n",
       "1   b      2\n",
       "2  u1      3\n",
       "3   a      5"
      ]
     },
     "execution_count": 136,
     "metadata": {},
     "output_type": "execute_result"
    }
   ],
   "source": [
    "# df1 tiene un elemento unico u1 que df2 no tiene\n",
    "df1 = pd.DataFrame({'key': ['a', 'b', 'u1', 'a'], 'value': [1, 2, 3, 5]})\n",
    "df1"
   ]
  },
  {
   "cell_type": "code",
   "execution_count": 137,
   "metadata": {
    "colab": {},
    "colab_type": "code",
    "id": "Cj-XgVtqtYA7"
   },
   "outputs": [
    {
     "data": {
      "text/html": [
       "<div>\n",
       "<style scoped>\n",
       "    .dataframe tbody tr th:only-of-type {\n",
       "        vertical-align: middle;\n",
       "    }\n",
       "\n",
       "    .dataframe tbody tr th {\n",
       "        vertical-align: top;\n",
       "    }\n",
       "\n",
       "    .dataframe thead th {\n",
       "        text-align: right;\n",
       "    }\n",
       "</style>\n",
       "<table border=\"1\" class=\"dataframe\">\n",
       "  <thead>\n",
       "    <tr style=\"text-align: right;\">\n",
       "      <th></th>\n",
       "      <th>key</th>\n",
       "      <th>value</th>\n",
       "    </tr>\n",
       "  </thead>\n",
       "  <tbody>\n",
       "    <tr>\n",
       "      <th>0</th>\n",
       "      <td>a</td>\n",
       "      <td>5</td>\n",
       "    </tr>\n",
       "    <tr>\n",
       "      <th>1</th>\n",
       "      <td>b</td>\n",
       "      <td>6</td>\n",
       "    </tr>\n",
       "    <tr>\n",
       "      <th>2</th>\n",
       "      <td>u2</td>\n",
       "      <td>7</td>\n",
       "    </tr>\n",
       "    <tr>\n",
       "      <th>3</th>\n",
       "      <td>a</td>\n",
       "      <td>8</td>\n",
       "    </tr>\n",
       "  </tbody>\n",
       "</table>\n",
       "</div>"
      ],
      "text/plain": [
       "  key  value\n",
       "0   a      5\n",
       "1   b      6\n",
       "2  u2      7\n",
       "3   a      8"
      ]
     },
     "execution_count": 137,
     "metadata": {},
     "output_type": "execute_result"
    }
   ],
   "source": [
    "# df2 tiene un elemento unico u2 que no df1 no tiene\n",
    "df2 = pd.DataFrame({'key': ['a', 'b', 'u2', 'a'], 'value': [5, 6, 7, 8]})\n",
    "df2"
   ]
  },
  {
   "cell_type": "markdown",
   "metadata": {
    "colab_type": "text",
    "id": "GCpWIW2A1iEV"
   },
   "source": [
    "Inner\n",
    "\n",
    "Mantiene las llaves ```key``` que coinciden en ambos dataframes.\n",
    "\n",
    "\n",
    "| df1   || coincide en ```key``` de df2|\n",
    "|---||----|\n",
    "| (a, 1) || (a, 5) y (a, 8) |\n",
    "| (a, 5) || (a, 5) y (a, 8) |\n",
    "| (b, 2) || (b, 6) |"
   ]
  },
  {
   "cell_type": "code",
   "execution_count": 138,
   "metadata": {
    "colab": {},
    "colab_type": "code",
    "id": "nC1dlsPztc-I"
   },
   "outputs": [
    {
     "data": {
      "text/html": [
       "<div>\n",
       "<style scoped>\n",
       "    .dataframe tbody tr th:only-of-type {\n",
       "        vertical-align: middle;\n",
       "    }\n",
       "\n",
       "    .dataframe tbody tr th {\n",
       "        vertical-align: top;\n",
       "    }\n",
       "\n",
       "    .dataframe thead th {\n",
       "        text-align: right;\n",
       "    }\n",
       "</style>\n",
       "<table border=\"1\" class=\"dataframe\">\n",
       "  <thead>\n",
       "    <tr style=\"text-align: right;\">\n",
       "      <th></th>\n",
       "      <th>key</th>\n",
       "      <th>value_x</th>\n",
       "      <th>value_y</th>\n",
       "    </tr>\n",
       "  </thead>\n",
       "  <tbody>\n",
       "    <tr>\n",
       "      <th>0</th>\n",
       "      <td>a</td>\n",
       "      <td>1</td>\n",
       "      <td>5</td>\n",
       "    </tr>\n",
       "    <tr>\n",
       "      <th>1</th>\n",
       "      <td>a</td>\n",
       "      <td>1</td>\n",
       "      <td>8</td>\n",
       "    </tr>\n",
       "    <tr>\n",
       "      <th>2</th>\n",
       "      <td>a</td>\n",
       "      <td>5</td>\n",
       "      <td>5</td>\n",
       "    </tr>\n",
       "    <tr>\n",
       "      <th>3</th>\n",
       "      <td>a</td>\n",
       "      <td>5</td>\n",
       "      <td>8</td>\n",
       "    </tr>\n",
       "    <tr>\n",
       "      <th>4</th>\n",
       "      <td>b</td>\n",
       "      <td>2</td>\n",
       "      <td>6</td>\n",
       "    </tr>\n",
       "  </tbody>\n",
       "</table>\n",
       "</div>"
      ],
      "text/plain": [
       "  key  value_x  value_y\n",
       "0   a        1        5\n",
       "1   a        1        8\n",
       "2   a        5        5\n",
       "3   a        5        8\n",
       "4   b        2        6"
      ]
     },
     "execution_count": 138,
     "metadata": {},
     "output_type": "execute_result"
    }
   ],
   "source": [
    "df1.merge(df2, how=\"inner\", on=\"key\")"
   ]
  },
  {
   "cell_type": "markdown",
   "metadata": {
    "colab_type": "text",
    "id": "5dJcT9MD1jVL"
   },
   "source": [
    "Outer\n",
    "\n",
    "Mantiene las filas de ambos Dataframes, sin importar si existe o no existe un mapeo entre las llaves ```key```.\n",
    "\n",
    "| df1   || df2|\n",
    "|---||----|\n",
    "| (a, 1) || (a, 5) y (a, 8) |\n",
    "| (a, 5) || (a, 5) y (a, 8) |\n",
    "| (b, 2) || (b, 6) |\n",
    "| (u1, 3)|| NaN |\n",
    "| NaN || (u2, 7)|"
   ]
  },
  {
   "cell_type": "code",
   "execution_count": 139,
   "metadata": {
    "colab": {},
    "colab_type": "code",
    "id": "a4KVmbhp1lNu"
   },
   "outputs": [
    {
     "data": {
      "text/html": [
       "<div>\n",
       "<style scoped>\n",
       "    .dataframe tbody tr th:only-of-type {\n",
       "        vertical-align: middle;\n",
       "    }\n",
       "\n",
       "    .dataframe tbody tr th {\n",
       "        vertical-align: top;\n",
       "    }\n",
       "\n",
       "    .dataframe thead th {\n",
       "        text-align: right;\n",
       "    }\n",
       "</style>\n",
       "<table border=\"1\" class=\"dataframe\">\n",
       "  <thead>\n",
       "    <tr style=\"text-align: right;\">\n",
       "      <th></th>\n",
       "      <th>key</th>\n",
       "      <th>value_x</th>\n",
       "      <th>value_y</th>\n",
       "    </tr>\n",
       "  </thead>\n",
       "  <tbody>\n",
       "    <tr>\n",
       "      <th>0</th>\n",
       "      <td>a</td>\n",
       "      <td>1.0</td>\n",
       "      <td>5.0</td>\n",
       "    </tr>\n",
       "    <tr>\n",
       "      <th>1</th>\n",
       "      <td>a</td>\n",
       "      <td>1.0</td>\n",
       "      <td>8.0</td>\n",
       "    </tr>\n",
       "    <tr>\n",
       "      <th>2</th>\n",
       "      <td>a</td>\n",
       "      <td>5.0</td>\n",
       "      <td>5.0</td>\n",
       "    </tr>\n",
       "    <tr>\n",
       "      <th>3</th>\n",
       "      <td>a</td>\n",
       "      <td>5.0</td>\n",
       "      <td>8.0</td>\n",
       "    </tr>\n",
       "    <tr>\n",
       "      <th>4</th>\n",
       "      <td>b</td>\n",
       "      <td>2.0</td>\n",
       "      <td>6.0</td>\n",
       "    </tr>\n",
       "    <tr>\n",
       "      <th>5</th>\n",
       "      <td>u1</td>\n",
       "      <td>3.0</td>\n",
       "      <td>NaN</td>\n",
       "    </tr>\n",
       "    <tr>\n",
       "      <th>6</th>\n",
       "      <td>u2</td>\n",
       "      <td>NaN</td>\n",
       "      <td>7.0</td>\n",
       "    </tr>\n",
       "  </tbody>\n",
       "</table>\n",
       "</div>"
      ],
      "text/plain": [
       "  key  value_x  value_y\n",
       "0   a      1.0      5.0\n",
       "1   a      1.0      8.0\n",
       "2   a      5.0      5.0\n",
       "3   a      5.0      8.0\n",
       "4   b      2.0      6.0\n",
       "5  u1      3.0      NaN\n",
       "6  u2      NaN      7.0"
      ]
     },
     "execution_count": 139,
     "metadata": {},
     "output_type": "execute_result"
    }
   ],
   "source": [
    "df1.merge(df2, how=\"outer\", on=\"key\")"
   ]
  },
  {
   "cell_type": "markdown",
   "metadata": {
    "colab_type": "text",
    "id": "UfMmCgEn1lfT"
   },
   "source": [
    "Left\n",
    "\n",
    "Mantiene todas las filas del Dataframe de la izquierda y en las que existe un match en ```key``` en el Dataframe de la derecha.\n",
    "\n",
    "| df1 (left)   || df2 (right)|\n",
    "|---||----|\n",
    "| (a, 1) || (a, 5) y (a, 8) |\n",
    "| (a, 5) || (a, 5) y (a, 8) |\n",
    "| (b, 2) || (b, 6) |\n",
    "| (u1, 3)|| NaN |"
   ]
  },
  {
   "cell_type": "code",
   "execution_count": 140,
   "metadata": {
    "colab": {},
    "colab_type": "code",
    "id": "8yl-C27B1lzo"
   },
   "outputs": [
    {
     "data": {
      "text/html": [
       "<div>\n",
       "<style scoped>\n",
       "    .dataframe tbody tr th:only-of-type {\n",
       "        vertical-align: middle;\n",
       "    }\n",
       "\n",
       "    .dataframe tbody tr th {\n",
       "        vertical-align: top;\n",
       "    }\n",
       "\n",
       "    .dataframe thead th {\n",
       "        text-align: right;\n",
       "    }\n",
       "</style>\n",
       "<table border=\"1\" class=\"dataframe\">\n",
       "  <thead>\n",
       "    <tr style=\"text-align: right;\">\n",
       "      <th></th>\n",
       "      <th>key</th>\n",
       "      <th>value_x</th>\n",
       "      <th>value_y</th>\n",
       "    </tr>\n",
       "  </thead>\n",
       "  <tbody>\n",
       "    <tr>\n",
       "      <th>0</th>\n",
       "      <td>a</td>\n",
       "      <td>1</td>\n",
       "      <td>5.0</td>\n",
       "    </tr>\n",
       "    <tr>\n",
       "      <th>1</th>\n",
       "      <td>a</td>\n",
       "      <td>1</td>\n",
       "      <td>8.0</td>\n",
       "    </tr>\n",
       "    <tr>\n",
       "      <th>2</th>\n",
       "      <td>b</td>\n",
       "      <td>2</td>\n",
       "      <td>6.0</td>\n",
       "    </tr>\n",
       "    <tr>\n",
       "      <th>3</th>\n",
       "      <td>u1</td>\n",
       "      <td>3</td>\n",
       "      <td>NaN</td>\n",
       "    </tr>\n",
       "    <tr>\n",
       "      <th>4</th>\n",
       "      <td>a</td>\n",
       "      <td>5</td>\n",
       "      <td>5.0</td>\n",
       "    </tr>\n",
       "    <tr>\n",
       "      <th>5</th>\n",
       "      <td>a</td>\n",
       "      <td>5</td>\n",
       "      <td>8.0</td>\n",
       "    </tr>\n",
       "  </tbody>\n",
       "</table>\n",
       "</div>"
      ],
      "text/plain": [
       "  key  value_x  value_y\n",
       "0   a        1      5.0\n",
       "1   a        1      8.0\n",
       "2   b        2      6.0\n",
       "3  u1        3      NaN\n",
       "4   a        5      5.0\n",
       "5   a        5      8.0"
      ]
     },
     "execution_count": 140,
     "metadata": {},
     "output_type": "execute_result"
    }
   ],
   "source": [
    "df1.merge(df2, how=\"left\", on=\"key\")"
   ]
  },
  {
   "cell_type": "markdown",
   "metadata": {
    "colab_type": "text",
    "id": "pWfriTKA1mJG"
   },
   "source": [
    "Right\n",
    "\n",
    "Mantiene todas las filas del Dataframe de la derecha y en las que existe un match en ```key``` en el Dataframe de la izquierda.\n",
    "\n",
    "| df1 (left)   || df2 (right)|\n",
    "|---||----|\n",
    "| (a, 1) || (a, 5) y (a, 8) |\n",
    "| (a, 5) || (a, 5) y (a, 8) |\n",
    "| (b, 2) || (b, 6) |\n",
    "| NaN || (u2, 7) |"
   ]
  },
  {
   "cell_type": "code",
   "execution_count": 141,
   "metadata": {
    "colab": {},
    "colab_type": "code",
    "id": "I1bNQtDH1mgL"
   },
   "outputs": [
    {
     "data": {
      "text/html": [
       "<div>\n",
       "<style scoped>\n",
       "    .dataframe tbody tr th:only-of-type {\n",
       "        vertical-align: middle;\n",
       "    }\n",
       "\n",
       "    .dataframe tbody tr th {\n",
       "        vertical-align: top;\n",
       "    }\n",
       "\n",
       "    .dataframe thead th {\n",
       "        text-align: right;\n",
       "    }\n",
       "</style>\n",
       "<table border=\"1\" class=\"dataframe\">\n",
       "  <thead>\n",
       "    <tr style=\"text-align: right;\">\n",
       "      <th></th>\n",
       "      <th>key</th>\n",
       "      <th>value_x</th>\n",
       "      <th>value_y</th>\n",
       "    </tr>\n",
       "  </thead>\n",
       "  <tbody>\n",
       "    <tr>\n",
       "      <th>0</th>\n",
       "      <td>a</td>\n",
       "      <td>1.0</td>\n",
       "      <td>5</td>\n",
       "    </tr>\n",
       "    <tr>\n",
       "      <th>1</th>\n",
       "      <td>a</td>\n",
       "      <td>5.0</td>\n",
       "      <td>5</td>\n",
       "    </tr>\n",
       "    <tr>\n",
       "      <th>2</th>\n",
       "      <td>a</td>\n",
       "      <td>1.0</td>\n",
       "      <td>8</td>\n",
       "    </tr>\n",
       "    <tr>\n",
       "      <th>3</th>\n",
       "      <td>a</td>\n",
       "      <td>5.0</td>\n",
       "      <td>8</td>\n",
       "    </tr>\n",
       "    <tr>\n",
       "      <th>4</th>\n",
       "      <td>b</td>\n",
       "      <td>2.0</td>\n",
       "      <td>6</td>\n",
       "    </tr>\n",
       "    <tr>\n",
       "      <th>5</th>\n",
       "      <td>u2</td>\n",
       "      <td>NaN</td>\n",
       "      <td>7</td>\n",
       "    </tr>\n",
       "  </tbody>\n",
       "</table>\n",
       "</div>"
      ],
      "text/plain": [
       "  key  value_x  value_y\n",
       "0   a      1.0        5\n",
       "1   a      5.0        5\n",
       "2   a      1.0        8\n",
       "3   a      5.0        8\n",
       "4   b      2.0        6\n",
       "5  u2      NaN        7"
      ]
     },
     "execution_count": 141,
     "metadata": {},
     "output_type": "execute_result"
    }
   ],
   "source": [
    "df1.merge(df2, how=\"right\", on=\"key\")"
   ]
  },
  {
   "cell_type": "markdown",
   "metadata": {
    "colab_type": "text",
    "id": "RcwPQghivj8S"
   },
   "source": [
    "**join()**\n",
    "\n",
    "Permite unir las columnas de uno o más objetos usando su índice o usando una columna como clave.\n",
    "\n",
    "\n",
    "Parámetros:\n",
    "```\n",
    "other : DataFrame, Series, o lista de DataFrames\n",
    "\n",
    "on : str o lista de str, opcional (por defecto usa los indices)\n",
    "\n",
    "how:{‘left’, ‘right’, ‘outer’, ‘inner’}, Por defecto ‘inner’\n",
    "  Type of merge to be performed.\n",
    "\n",
    "  left: usar el indice del DataFrame que llama al metodo.\n",
    "  right: usar el indice de other.\n",
    "  outer:  union de los indices.\n",
    "  inner: interseccion de los indices.\n",
    "\n",
    "lsuffix : str, por defecto ‘’\n",
    "  sufijo a utilizar del dataframe izq para la columnas sobrelapadas.\n",
    "\n",
    "rsuffix : str, default ‘’\n",
    "  sufijo a utilizar del dataframe der para la columnas sobrelapadas.\n",
    "```\n",
    "\n"
   ]
  },
  {
   "cell_type": "code",
   "execution_count": 142,
   "metadata": {
    "colab": {},
    "colab_type": "code",
    "id": "OPJ0nnz0w_Sk"
   },
   "outputs": [
    {
     "data": {
      "text/html": [
       "<div>\n",
       "<style scoped>\n",
       "    .dataframe tbody tr th:only-of-type {\n",
       "        vertical-align: middle;\n",
       "    }\n",
       "\n",
       "    .dataframe tbody tr th {\n",
       "        vertical-align: top;\n",
       "    }\n",
       "\n",
       "    .dataframe thead th {\n",
       "        text-align: right;\n",
       "    }\n",
       "</style>\n",
       "<table border=\"1\" class=\"dataframe\">\n",
       "  <thead>\n",
       "    <tr style=\"text-align: right;\">\n",
       "      <th></th>\n",
       "      <th>value</th>\n",
       "    </tr>\n",
       "    <tr>\n",
       "      <th>key</th>\n",
       "      <th></th>\n",
       "    </tr>\n",
       "  </thead>\n",
       "  <tbody>\n",
       "    <tr>\n",
       "      <th>foo</th>\n",
       "      <td>1</td>\n",
       "    </tr>\n",
       "    <tr>\n",
       "      <th>bar</th>\n",
       "      <td>2</td>\n",
       "    </tr>\n",
       "    <tr>\n",
       "      <th>baz</th>\n",
       "      <td>3</td>\n",
       "    </tr>\n",
       "    <tr>\n",
       "      <th>foo</th>\n",
       "      <td>5</td>\n",
       "    </tr>\n",
       "  </tbody>\n",
       "</table>\n",
       "</div>"
      ],
      "text/plain": [
       "     value\n",
       "key       \n",
       "foo      1\n",
       "bar      2\n",
       "baz      3\n",
       "foo      5"
      ]
     },
     "execution_count": 142,
     "metadata": {},
     "output_type": "execute_result"
    }
   ],
   "source": [
    "df1 = pd.DataFrame({'key': ['foo', 'bar', 'baz', 'foo'], 'value': [1, 2, 3, 5]}).set_index(\"key\")\n",
    "df1"
   ]
  },
  {
   "cell_type": "code",
   "execution_count": 143,
   "metadata": {
    "colab": {},
    "colab_type": "code",
    "id": "s1NKoBucw_b2"
   },
   "outputs": [
    {
     "data": {
      "text/html": [
       "<div>\n",
       "<style scoped>\n",
       "    .dataframe tbody tr th:only-of-type {\n",
       "        vertical-align: middle;\n",
       "    }\n",
       "\n",
       "    .dataframe tbody tr th {\n",
       "        vertical-align: top;\n",
       "    }\n",
       "\n",
       "    .dataframe thead th {\n",
       "        text-align: right;\n",
       "    }\n",
       "</style>\n",
       "<table border=\"1\" class=\"dataframe\">\n",
       "  <thead>\n",
       "    <tr style=\"text-align: right;\">\n",
       "      <th></th>\n",
       "      <th>value</th>\n",
       "    </tr>\n",
       "    <tr>\n",
       "      <th>key</th>\n",
       "      <th></th>\n",
       "    </tr>\n",
       "  </thead>\n",
       "  <tbody>\n",
       "    <tr>\n",
       "      <th>foo</th>\n",
       "      <td>5</td>\n",
       "    </tr>\n",
       "    <tr>\n",
       "      <th>bar</th>\n",
       "      <td>6</td>\n",
       "    </tr>\n",
       "    <tr>\n",
       "      <th>baz</th>\n",
       "      <td>7</td>\n",
       "    </tr>\n",
       "    <tr>\n",
       "      <th>foo</th>\n",
       "      <td>8</td>\n",
       "    </tr>\n",
       "  </tbody>\n",
       "</table>\n",
       "</div>"
      ],
      "text/plain": [
       "     value\n",
       "key       \n",
       "foo      5\n",
       "bar      6\n",
       "baz      7\n",
       "foo      8"
      ]
     },
     "execution_count": 143,
     "metadata": {},
     "output_type": "execute_result"
    }
   ],
   "source": [
    "df2 = pd.DataFrame({'key': ['foo', 'bar', 'baz', 'foo'], 'value': [5, 6, 7, 8]}).set_index(\"key\")\n",
    "df2"
   ]
  },
  {
   "cell_type": "code",
   "execution_count": 144,
   "metadata": {
    "colab": {},
    "colab_type": "code",
    "id": "XxGont_ExMFH"
   },
   "outputs": [
    {
     "data": {
      "text/html": [
       "<div>\n",
       "<style scoped>\n",
       "    .dataframe tbody tr th:only-of-type {\n",
       "        vertical-align: middle;\n",
       "    }\n",
       "\n",
       "    .dataframe tbody tr th {\n",
       "        vertical-align: top;\n",
       "    }\n",
       "\n",
       "    .dataframe thead th {\n",
       "        text-align: right;\n",
       "    }\n",
       "</style>\n",
       "<table border=\"1\" class=\"dataframe\">\n",
       "  <thead>\n",
       "    <tr style=\"text-align: right;\">\n",
       "      <th></th>\n",
       "      <th>value_l</th>\n",
       "      <th>value_r</th>\n",
       "    </tr>\n",
       "    <tr>\n",
       "      <th>key</th>\n",
       "      <th></th>\n",
       "      <th></th>\n",
       "    </tr>\n",
       "  </thead>\n",
       "  <tbody>\n",
       "    <tr>\n",
       "      <th>bar</th>\n",
       "      <td>2</td>\n",
       "      <td>6</td>\n",
       "    </tr>\n",
       "    <tr>\n",
       "      <th>baz</th>\n",
       "      <td>3</td>\n",
       "      <td>7</td>\n",
       "    </tr>\n",
       "    <tr>\n",
       "      <th>foo</th>\n",
       "      <td>1</td>\n",
       "      <td>5</td>\n",
       "    </tr>\n",
       "    <tr>\n",
       "      <th>foo</th>\n",
       "      <td>1</td>\n",
       "      <td>8</td>\n",
       "    </tr>\n",
       "    <tr>\n",
       "      <th>foo</th>\n",
       "      <td>5</td>\n",
       "      <td>5</td>\n",
       "    </tr>\n",
       "    <tr>\n",
       "      <th>foo</th>\n",
       "      <td>5</td>\n",
       "      <td>8</td>\n",
       "    </tr>\n",
       "  </tbody>\n",
       "</table>\n",
       "</div>"
      ],
      "text/plain": [
       "     value_l  value_r\n",
       "key                  \n",
       "bar        2        6\n",
       "baz        3        7\n",
       "foo        1        5\n",
       "foo        1        8\n",
       "foo        5        5\n",
       "foo        5        8"
      ]
     },
     "execution_count": 144,
     "metadata": {},
     "output_type": "execute_result"
    }
   ],
   "source": [
    "df1.join(df2, lsuffix=\"_l\", rsuffix=\"_r\")"
   ]
  },
  {
   "cell_type": "markdown",
   "metadata": {
    "colab_type": "text",
    "id": "_L-No5v8Vm2a"
   },
   "source": [
    "# Cadenas\n",
    "\n",
    "Muchas de los métodos/funciones de Python para variables string, tienen un método equivalente en los objetos Series y DataFrames de Pandas.\n",
    "\n",
    "Métodos principales para cadenas:\n",
    "\n",
    "* str.cat(other, sep), concatenta sep y other a cada str en el objeto.\n",
    "* str.split(str), divide la cadena usando el separador especificado.\n",
    "* str.replace(patt, repl), reemplaza en la cadena patt por repl.\n",
    "* str.lower() y str.upper(), para convertir cadenas a minúsculas o mayúsculas.\n",
    "* str.len(), calcula la longitud de la cadena.\n",
    "* str.count(str), cuenta el número de apariciones de str en la cadena.\n",
    "* str.strip(str), elimina str al inicio y final de la cadena.\n",
    "\n",
    "Visita la documentación para la lista completa de [métodos para cadenas de texto de Pandas](https://pandas.pydata.org/pandas-docs/stable/user_guide/text.html#method-summary).\n"
   ]
  },
  {
   "cell_type": "code",
   "execution_count": 145,
   "metadata": {
    "colab": {},
    "colab_type": "code",
    "id": "x6OD5UjjVRgL"
   },
   "outputs": [
    {
     "data": {
      "text/plain": [
       "0    A\n",
       "1    B\n",
       "2    C\n",
       "dtype: object"
      ]
     },
     "execution_count": 145,
     "metadata": {},
     "output_type": "execute_result"
    }
   ],
   "source": [
    "s1 = pd.Series([\"A\", \"B\", \"C\"])\n",
    "s1"
   ]
  },
  {
   "cell_type": "code",
   "execution_count": 146,
   "metadata": {
    "colab": {},
    "colab_type": "code",
    "id": "MxstMIglhypx"
   },
   "outputs": [
    {
     "data": {
      "text/plain": [
       "0    1\n",
       "1    2\n",
       "2    3\n",
       "dtype: object"
      ]
     },
     "execution_count": 146,
     "metadata": {},
     "output_type": "execute_result"
    }
   ],
   "source": [
    "s2 = pd.Series([\"1\", \"2\", \"3\"])\n",
    "s2"
   ]
  },
  {
   "cell_type": "code",
   "execution_count": 147,
   "metadata": {
    "colab": {},
    "colab_type": "code",
    "id": "x9F2lAoyg765"
   },
   "outputs": [
    {
     "data": {
      "text/plain": [
       "0    A-1\n",
       "1    B-2\n",
       "2    C-3\n",
       "dtype: object"
      ]
     },
     "execution_count": 147,
     "metadata": {},
     "output_type": "execute_result"
    }
   ],
   "source": [
    "#concatenando s1 y s2 generando s3\n",
    "s3 = s1.str.cat(s2, sep=\"-\")\n",
    "s3"
   ]
  },
  {
   "cell_type": "code",
   "execution_count": 150,
   "metadata": {
    "colab": {},
    "colab_type": "code",
    "id": "BHPmiTLFiG4a"
   },
   "outputs": [
    {
     "data": {
      "text/plain": [
       "0    [A, 1]\n",
       "1    [B, 2]\n",
       "2    [C, 3]\n",
       "dtype: object"
      ]
     },
     "execution_count": 150,
     "metadata": {},
     "output_type": "execute_result"
    }
   ],
   "source": [
    "#str split\n",
    "s3.str.split(\"-\")"
   ]
  },
  {
   "cell_type": "code",
   "execution_count": 151,
   "metadata": {
    "colab": {},
    "colab_type": "code",
    "id": "p5UZmIieiOYh"
   },
   "outputs": [
    {
     "data": {
      "text/plain": [
       "0    A_1\n",
       "1    B_2\n",
       "2    C_3\n",
       "dtype: object"
      ]
     },
     "execution_count": 151,
     "metadata": {},
     "output_type": "execute_result"
    }
   ],
   "source": [
    "#str.replace\n",
    "s3.str.replace(pat=\"-\", repl=\"_\")"
   ]
  },
  {
   "cell_type": "code",
   "execution_count": 153,
   "metadata": {
    "colab": {},
    "colab_type": "code",
    "id": "EA3DyWgOiAen"
   },
   "outputs": [],
   "source": [
    "#un nuevo df\n",
    "s = pd.Series([\"gato\", \"perro\", \"elefante\"])"
   ]
  },
  {
   "cell_type": "code",
   "execution_count": 154,
   "metadata": {
    "colab": {},
    "colab_type": "code",
    "id": "DwtQJJwriluM"
   },
   "outputs": [
    {
     "data": {
      "text/plain": [
       "0        GATO\n",
       "1       PERRO\n",
       "2    ELEFANTE\n",
       "dtype: object"
      ]
     },
     "execution_count": 154,
     "metadata": {},
     "output_type": "execute_result"
    }
   ],
   "source": [
    "#upper\n",
    "s.str.upper()"
   ]
  },
  {
   "cell_type": "code",
   "execution_count": 155,
   "metadata": {
    "colab": {},
    "colab_type": "code",
    "id": "ISoIjll3ir8W"
   },
   "outputs": [
    {
     "data": {
      "text/plain": [
       "0    4\n",
       "1    5\n",
       "2    8\n",
       "dtype: int64"
      ]
     },
     "execution_count": 155,
     "metadata": {},
     "output_type": "execute_result"
    }
   ],
   "source": [
    "#len\n",
    "s.str.len()"
   ]
  },
  {
   "cell_type": "code",
   "execution_count": 156,
   "metadata": {
    "colab": {},
    "colab_type": "code",
    "id": "1axpUP6vivRY"
   },
   "outputs": [
    {
     "data": {
      "text/plain": [
       "0    1\n",
       "1    1\n",
       "2    0\n",
       "dtype: int64"
      ]
     },
     "execution_count": 156,
     "metadata": {},
     "output_type": "execute_result"
    }
   ],
   "source": [
    "#count\n",
    "s.str.count(\"o\")"
   ]
  },
  {
   "cell_type": "code",
   "execution_count": 157,
   "metadata": {
    "colab": {},
    "colab_type": "code",
    "id": "4AfZk9Pyi42j"
   },
   "outputs": [
    {
     "data": {
      "text/plain": [
       "0    _A_\n",
       "1    _B_\n",
       "2    _C_\n",
       "3    _D_\n",
       "dtype: object"
      ]
     },
     "execution_count": 157,
     "metadata": {},
     "output_type": "execute_result"
    }
   ],
   "source": [
    "#un nuevo df\n",
    "s4 = pd.Series([\"_A_\", \"_B_\", \"_C_\", \"_D_\"])\n",
    "s4"
   ]
  },
  {
   "cell_type": "code",
   "execution_count": 158,
   "metadata": {
    "colab": {},
    "colab_type": "code",
    "id": "xGUWuWAkjJGM"
   },
   "outputs": [
    {
     "data": {
      "text/plain": [
       "0    A\n",
       "1    B\n",
       "2    C\n",
       "3    D\n",
       "dtype: object"
      ]
     },
     "execution_count": 158,
     "metadata": {},
     "output_type": "execute_result"
    }
   ],
   "source": [
    "s4.str.strip(\"_\")"
   ]
  },
  {
   "cell_type": "markdown",
   "metadata": {
    "colab_type": "text",
    "id": "k3f__tkwckYx"
   },
   "source": [
    "# Series de tiempo\n",
    "\n",
    "Pandas utiliza el tipo de dato \"Timestamp\" para el manejo de fechas y tiempo."
   ]
  },
  {
   "cell_type": "markdown",
   "metadata": {
    "colab_type": "text",
    "id": "f8dQbtFPg0RI"
   },
   "source": [
    "## String a Timestamp"
   ]
  },
  {
   "cell_type": "code",
   "execution_count": 159,
   "metadata": {
    "colab": {},
    "colab_type": "code",
    "id": "00MB65mOckiQ"
   },
   "outputs": [
    {
     "data": {
      "text/plain": [
       "DatetimeIndex(['2006-10-09', '2006-11-09', '2006-12-09'], dtype='datetime64[ns]', freq=None)"
      ]
     },
     "execution_count": 159,
     "metadata": {},
     "output_type": "execute_result"
    }
   ],
   "source": [
    "ts_index = pd.to_datetime([\"10/09/2006\", \"11/09/2006\", \"12/09/2006\"])\n",
    "ts_index"
   ]
  },
  {
   "cell_type": "markdown",
   "metadata": {
    "colab_type": "text",
    "id": "OAwU2ETlg7Aq"
   },
   "source": [
    "Creando una serie de tiempo desde objetos:"
   ]
  },
  {
   "cell_type": "code",
   "execution_count": 162,
   "metadata": {
    "colab": {},
    "colab_type": "code",
    "id": "oXrkDmylg7KB"
   },
   "outputs": [
    {
     "data": {
      "text/plain": [
       "2006-10-09     5\n",
       "2006-11-09    10\n",
       "2006-12-09    15\n",
       "dtype: object"
      ]
     },
     "execution_count": 162,
     "metadata": {},
     "output_type": "execute_result"
    }
   ],
   "source": [
    "ts = pd.Series([\"5\", \"10\", \"15\"], index=ts_index)\n",
    "ts"
   ]
  },
  {
   "cell_type": "markdown",
   "metadata": {
    "colab_type": "text",
    "id": "tc8pIQAMmods"
   },
   "source": [
    "Creando una serie de tiempo usando aleatoriamente usando Numpy y date_range de Pandas:"
   ]
  },
  {
   "cell_type": "code",
   "execution_count": 177,
   "metadata": {
    "colab": {},
    "colab_type": "code",
    "id": "I-g0NLy4moi6"
   },
   "outputs": [
    {
     "data": {
      "text/plain": [
       "2006-01-01   -0.903529\n",
       "2006-01-02    1.471736\n",
       "2006-01-03    0.480684\n",
       "2006-01-04   -0.441281\n",
       "2006-01-05   -0.020255\n",
       "2006-01-06   -0.586584\n",
       "2006-01-07   -1.063360\n",
       "2006-01-08   -0.232860\n",
       "2006-01-09    2.229338\n",
       "2006-01-10    0.614914\n",
       "Freq: D, dtype: float64"
      ]
     },
     "execution_count": 177,
     "metadata": {},
     "output_type": "execute_result"
    }
   ],
   "source": [
    "ts = pd.Series(np.random.normal(0, 1, 100), index=pd.date_range(start=\"2006-01-01\", periods=100, freq=\"D\"))\n",
    "ts.head(10)\n"
   ]
  },
  {
   "cell_type": "markdown",
   "metadata": {
    "colab_type": "text",
    "id": "oRuwhTMRmdNM"
   },
   "source": [
    "## Indexing\n",
    "\n",
    "Puedes utilizar fechas para indexar una serie de tiempo:"
   ]
  },
  {
   "cell_type": "code",
   "execution_count": 178,
   "metadata": {
    "colab": {},
    "colab_type": "code",
    "id": "wGH6izcRl4q_"
   },
   "outputs": [
    {
     "data": {
      "text/plain": [
       "2006-02-01    1.044891\n",
       "2006-02-02    0.192900\n",
       "2006-02-03    0.310328\n",
       "2006-02-04    0.583681\n",
       "2006-02-05    0.345964\n",
       "2006-02-06   -0.512503\n",
       "2006-02-07    1.008725\n",
       "2006-02-08    0.420260\n",
       "2006-02-09   -0.244516\n",
       "2006-02-10   -0.992292\n",
       "2006-02-11   -0.166305\n",
       "2006-02-12    1.768241\n",
       "2006-02-13   -1.620716\n",
       "2006-02-14    0.874516\n",
       "2006-02-15    1.787520\n",
       "2006-02-16    2.138683\n",
       "2006-02-17    0.596150\n",
       "2006-02-18    0.551249\n",
       "2006-02-19   -0.077222\n",
       "2006-02-20   -1.554139\n",
       "2006-02-21    1.019381\n",
       "2006-02-22    0.018991\n",
       "2006-02-23    0.386357\n",
       "2006-02-24    0.533844\n",
       "2006-02-25   -0.086135\n",
       "2006-02-26    0.982042\n",
       "2006-02-27   -1.250097\n",
       "2006-02-28   -0.338926\n",
       "Freq: D, dtype: float64"
      ]
     },
     "execution_count": 178,
     "metadata": {},
     "output_type": "execute_result"
    }
   ],
   "source": [
    "#usando el anio y mes como indice\n",
    "ts[\"2006-02\"]"
   ]
  },
  {
   "cell_type": "code",
   "execution_count": 179,
   "metadata": {
    "colab": {},
    "colab_type": "code",
    "id": "3Ap7AU9bunh_"
   },
   "outputs": [
    {
     "data": {
      "text/plain": [
       "2006-02-20   -1.554139\n",
       "2006-02-21    1.019381\n",
       "2006-02-22    0.018991\n",
       "2006-02-23    0.386357\n",
       "2006-02-24    0.533844\n",
       "2006-02-25   -0.086135\n",
       "2006-02-26    0.982042\n",
       "2006-02-27   -1.250097\n",
       "2006-02-28   -0.338926\n",
       "2006-03-01    0.053141\n",
       "2006-03-02    0.092423\n",
       "2006-03-03   -2.409738\n",
       "2006-03-04   -0.268947\n",
       "2006-03-05   -1.309117\n",
       "2006-03-06    1.063697\n",
       "2006-03-07    0.966191\n",
       "2006-03-08    0.079858\n",
       "2006-03-09   -1.824630\n",
       "2006-03-10   -1.061125\n",
       "Freq: D, dtype: float64"
      ]
     },
     "execution_count": 179,
     "metadata": {},
     "output_type": "execute_result"
    }
   ],
   "source": [
    "#una rebanada entre fechas\n",
    "ts[\"2006-02-20\": \"2006-03-10\"]"
   ]
  },
  {
   "cell_type": "markdown",
   "metadata": {
    "colab_type": "text",
    "id": "OhcR1uS6n2py"
   },
   "source": [
    "## Resampling / agregación\n",
    "\n",
    "Permite obtener desde una serie de tiempo una nueva serie de tiempo a una frecuencia de tiempo menor al agregar los datos."
   ]
  },
  {
   "cell_type": "code",
   "execution_count": 180,
   "metadata": {
    "colab": {},
    "colab_type": "code",
    "id": "jwU6jpz0n41e"
   },
   "outputs": [
    {
     "data": {
      "text/plain": [
       "2006-01-01   -0.903529\n",
       "2006-01-08   -0.055989\n",
       "2006-01-15    0.627412\n",
       "2006-01-22   -0.767692\n",
       "2006-01-29   -0.391669\n",
       "2006-02-05    0.122025\n",
       "2006-02-12    0.183087\n",
       "2006-02-19    0.607168\n",
       "2006-02-26    0.185763\n",
       "2006-03-05   -0.775894\n",
       "2006-03-12   -0.067470\n",
       "2006-03-19    0.850091\n",
       "2006-03-26   -0.266462\n",
       "2006-04-02   -0.404002\n",
       "2006-04-09    0.151556\n",
       "2006-04-16   -1.173214\n",
       "Freq: W-SUN, dtype: float64"
      ]
     },
     "execution_count": 180,
     "metadata": {},
     "output_type": "execute_result"
    }
   ],
   "source": [
    "#De frecuencia por dias a semanas\n",
    "ts.resample(\"W\").mean()"
   ]
  },
  {
   "cell_type": "markdown",
   "metadata": {
    "colab_type": "text",
    "id": "-xUm9dhkn5RX"
   },
   "source": [
    "## Ventanas\n",
    "\n",
    "Puedes aplicar ventanas deslizantes a series de tiempo para calcular distintos estadísticos."
   ]
  },
  {
   "cell_type": "code",
   "execution_count": 181,
   "metadata": {
    "colab": {},
    "colab_type": "code",
    "id": "DCVmpAFTn5e6"
   },
   "outputs": [
    {
     "data": {
      "text/plain": [
       "2006-01-01         NaN\n",
       "2006-01-02         NaN\n",
       "2006-01-03         NaN\n",
       "2006-01-04         NaN\n",
       "2006-01-05         NaN\n",
       "2006-01-06         NaN\n",
       "2006-01-07   -0.151798\n",
       "2006-01-08   -0.055989\n",
       "2006-01-09    0.052240\n",
       "2006-01-10    0.071416\n",
       "2006-01-11    0.147476\n",
       "2006-01-12    0.168709\n",
       "2006-01-13    0.307709\n",
       "2006-01-14    0.603872\n",
       "Freq: D, dtype: float64"
      ]
     },
     "execution_count": 181,
     "metadata": {},
     "output_type": "execute_result"
    }
   ],
   "source": [
    "ts.rolling(window=7).mean().head(14)"
   ]
  },
  {
   "cell_type": "code",
   "execution_count": null,
   "metadata": {},
   "outputs": [],
   "source": []
  }
 ],
 "metadata": {
  "colab": {
   "collapsed_sections": [],
   "include_colab_link": true,
   "name": "Pandas.ipynb",
   "provenance": []
  },
  "kernelspec": {
   "display_name": "Python 3",
   "language": "python",
   "name": "python3"
  },
  "language_info": {
   "codemirror_mode": {
    "name": "ipython",
    "version": 3
   },
   "file_extension": ".py",
   "mimetype": "text/x-python",
   "name": "python",
   "nbconvert_exporter": "python",
   "pygments_lexer": "ipython3",
   "version": "3.8.5"
  }
 },
 "nbformat": 4,
 "nbformat_minor": 1
}
