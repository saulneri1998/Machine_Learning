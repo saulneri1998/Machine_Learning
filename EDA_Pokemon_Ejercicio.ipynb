{
  "nbformat": 4,
  "nbformat_minor": 0,
  "metadata": {
    "colab": {
      "name": "EDA_Pokemon-Ejercicio.ipynb",
      "provenance": [],
      "collapsed_sections": []
    },
    "kernelspec": {
      "display_name": "Python 3",
      "language": "python",
      "name": "python3"
    },
    "language_info": {
      "codemirror_mode": {
        "name": "ipython",
        "version": 3
      },
      "file_extension": ".py",
      "mimetype": "text/x-python",
      "name": "python",
      "nbconvert_exporter": "python",
      "pygments_lexer": "ipython3",
      "version": "3.7.6"
    }
  },
  "cells": [
    {
      "cell_type": "markdown",
      "metadata": {
        "id": "CCMg7X3ZpZvR"
      },
      "source": [
        "In Joong Kim A01336967: [![Open In Colab](https://colab.research.google.com/assets/colab-badge.svg)](https://colab.research.google.com/github/InJoong/Aprendizaje_Maquina/blob/master/modulo_6/EDA_Pokemon-Ejercicio.ipynb)\n",
        "\n",
        "Saul Neri Ortiz A01652526: [![Open In Colab](https://colab.research.google.com/assets/colab-badge.svg)](https://colab.research.google.com/github/saulneri1998/Machine_Learning/blob/master/EDA_Pokemon.ipynb)\n",
        "\n",
        "Sergio Ugalde A01336435[![Open In Colab](https://colab.research.google.com/assets/colab-badge.svg)](https://colab.research.google.com/gist/serch037/db531ad6d9cce2e07ef674046844f21b/eda_pokemon.ipynb?authuser=1)\n",
        "\n",
        "Fernando Rios A01020706 [![Open In Colab](https://colab.research.google.com/assets/colab-badge.svg)](https://colab.research.google.com/github/feriosch/Aprendizaje_Maquina/blob/master/modulo4/EDA_Pokemon.ipynb)\n",
        "\n",
        "Victor Eduardo Lopez Perez A01336434: "
      ]
    },
    {
      "cell_type": "markdown",
      "metadata": {
        "id": "aPqLfztIKFmO"
      },
      "source": [
        "<img src= \"https://cdn.bulbagarden.net/upload/8/88/Mission_Guides.png\"/>"
      ]
    },
    {
      "cell_type": "code",
      "metadata": {
        "id": "aLgNWdWtpMaI"
      },
      "source": [
        "import os\n",
        "import seaborn as sns\n",
        "import matplotlib.pyplot as plt\n",
        "import numpy as np\n",
        "import pandas as pd\n",
        "from pandas.plotting import scatter_matrix\n",
        "\n",
        "import plotly.express as px\n",
        "import plotly.graph_objects as go\n",
        "\n",
        "from sklearn.preprocessing import StandardScaler\n",
        "from sklearn.model_selection import train_test_split\n",
        "from sklearn.ensemble import RandomForestRegressor\n",
        "from sklearn.pipeline import make_pipeline\n",
        "from sklearn.metrics import mean_absolute_error\n",
        "from sklearn.linear_model import LogisticRegression\n",
        "from sklearn.ensemble import RandomForestClassifier\n",
        "from sklearn.tree import DecisionTreeClassifier\n",
        "from sklearn.svm import SVC\n",
        "from sklearn.metrics import accuracy_score"
      ],
      "execution_count": null,
      "outputs": []
    },
    {
      "cell_type": "code",
      "metadata": {
        "id": "f3L4IsPCpMaL"
      },
      "source": [
        "pokedex = pd.read_csv('./sample_data/pokedex_(Update_05.20).csv').drop('Unnamed: 0', axis = 1)\n",
        "\n",
        "columns_to_drop = ['german_name', 'japanese_name']\n",
        "pokedex = pokedex.drop(columns_to_drop, axis = 1)"
      ],
      "execution_count": null,
      "outputs": []
    },
    {
      "cell_type": "code",
      "metadata": {
        "id": "Om_77Mg0pMaP",
        "outputId": "bc32e1ae-6935-42ec-86f4-1deff551f8fa"
      },
      "source": [
        "pokedex[['name', 'status', 'total_points', 'hp', 'attack', 'defense', 'sp_attack', 'sp_defense', 'speed']]"
      ],
      "execution_count": null,
      "outputs": [
        {
          "output_type": "execute_result",
          "data": {
            "text/html": [
              "<div>\n",
              "<style scoped>\n",
              "    .dataframe tbody tr th:only-of-type {\n",
              "        vertical-align: middle;\n",
              "    }\n",
              "\n",
              "    .dataframe tbody tr th {\n",
              "        vertical-align: top;\n",
              "    }\n",
              "\n",
              "    .dataframe thead th {\n",
              "        text-align: right;\n",
              "    }\n",
              "</style>\n",
              "<table border=\"1\" class=\"dataframe\">\n",
              "  <thead>\n",
              "    <tr style=\"text-align: right;\">\n",
              "      <th></th>\n",
              "      <th>name</th>\n",
              "      <th>status</th>\n",
              "      <th>total_points</th>\n",
              "      <th>hp</th>\n",
              "      <th>attack</th>\n",
              "      <th>defense</th>\n",
              "      <th>sp_attack</th>\n",
              "      <th>sp_defense</th>\n",
              "      <th>speed</th>\n",
              "    </tr>\n",
              "  </thead>\n",
              "  <tbody>\n",
              "    <tr>\n",
              "      <th>0</th>\n",
              "      <td>Bulbasaur</td>\n",
              "      <td>Normal</td>\n",
              "      <td>318.0</td>\n",
              "      <td>45.0</td>\n",
              "      <td>49.0</td>\n",
              "      <td>49.0</td>\n",
              "      <td>65.0</td>\n",
              "      <td>65.0</td>\n",
              "      <td>45.0</td>\n",
              "    </tr>\n",
              "    <tr>\n",
              "      <th>1</th>\n",
              "      <td>Ivysaur</td>\n",
              "      <td>Normal</td>\n",
              "      <td>405.0</td>\n",
              "      <td>60.0</td>\n",
              "      <td>62.0</td>\n",
              "      <td>63.0</td>\n",
              "      <td>80.0</td>\n",
              "      <td>80.0</td>\n",
              "      <td>60.0</td>\n",
              "    </tr>\n",
              "    <tr>\n",
              "      <th>2</th>\n",
              "      <td>Venusaur</td>\n",
              "      <td>Normal</td>\n",
              "      <td>525.0</td>\n",
              "      <td>80.0</td>\n",
              "      <td>82.0</td>\n",
              "      <td>83.0</td>\n",
              "      <td>100.0</td>\n",
              "      <td>100.0</td>\n",
              "      <td>80.0</td>\n",
              "    </tr>\n",
              "    <tr>\n",
              "      <th>3</th>\n",
              "      <td>Mega Venusaur</td>\n",
              "      <td>Normal</td>\n",
              "      <td>625.0</td>\n",
              "      <td>80.0</td>\n",
              "      <td>100.0</td>\n",
              "      <td>123.0</td>\n",
              "      <td>122.0</td>\n",
              "      <td>120.0</td>\n",
              "      <td>80.0</td>\n",
              "    </tr>\n",
              "    <tr>\n",
              "      <th>4</th>\n",
              "      <td>Charmander</td>\n",
              "      <td>Normal</td>\n",
              "      <td>309.0</td>\n",
              "      <td>39.0</td>\n",
              "      <td>52.0</td>\n",
              "      <td>43.0</td>\n",
              "      <td>60.0</td>\n",
              "      <td>50.0</td>\n",
              "      <td>65.0</td>\n",
              "    </tr>\n",
              "    <tr>\n",
              "      <th>...</th>\n",
              "      <td>...</td>\n",
              "      <td>...</td>\n",
              "      <td>...</td>\n",
              "      <td>...</td>\n",
              "      <td>...</td>\n",
              "      <td>...</td>\n",
              "      <td>...</td>\n",
              "      <td>...</td>\n",
              "      <td>...</td>\n",
              "    </tr>\n",
              "    <tr>\n",
              "      <th>1023</th>\n",
              "      <td>Zacian Hero of Many Battles</td>\n",
              "      <td>Legendary</td>\n",
              "      <td>670.0</td>\n",
              "      <td>92.0</td>\n",
              "      <td>130.0</td>\n",
              "      <td>115.0</td>\n",
              "      <td>80.0</td>\n",
              "      <td>115.0</td>\n",
              "      <td>138.0</td>\n",
              "    </tr>\n",
              "    <tr>\n",
              "      <th>1024</th>\n",
              "      <td>Zamazenta Crowned Shield</td>\n",
              "      <td>Legendary</td>\n",
              "      <td>720.0</td>\n",
              "      <td>92.0</td>\n",
              "      <td>130.0</td>\n",
              "      <td>145.0</td>\n",
              "      <td>80.0</td>\n",
              "      <td>145.0</td>\n",
              "      <td>128.0</td>\n",
              "    </tr>\n",
              "    <tr>\n",
              "      <th>1025</th>\n",
              "      <td>Zamazenta Hero of Many Battles</td>\n",
              "      <td>Legendary</td>\n",
              "      <td>670.0</td>\n",
              "      <td>92.0</td>\n",
              "      <td>130.0</td>\n",
              "      <td>115.0</td>\n",
              "      <td>80.0</td>\n",
              "      <td>115.0</td>\n",
              "      <td>138.0</td>\n",
              "    </tr>\n",
              "    <tr>\n",
              "      <th>1026</th>\n",
              "      <td>Eternatus</td>\n",
              "      <td>Legendary</td>\n",
              "      <td>690.0</td>\n",
              "      <td>140.0</td>\n",
              "      <td>85.0</td>\n",
              "      <td>95.0</td>\n",
              "      <td>145.0</td>\n",
              "      <td>95.0</td>\n",
              "      <td>130.0</td>\n",
              "    </tr>\n",
              "    <tr>\n",
              "      <th>1027</th>\n",
              "      <td>Eternatus Eternamax</td>\n",
              "      <td>Legendary</td>\n",
              "      <td>1125.0</td>\n",
              "      <td>255.0</td>\n",
              "      <td>115.0</td>\n",
              "      <td>250.0</td>\n",
              "      <td>125.0</td>\n",
              "      <td>250.0</td>\n",
              "      <td>130.0</td>\n",
              "    </tr>\n",
              "  </tbody>\n",
              "</table>\n",
              "<p>1028 rows × 9 columns</p>\n",
              "</div>"
            ],
            "text/plain": [
              "                                name     status  total_points     hp  attack  \\\n",
              "0                          Bulbasaur     Normal         318.0   45.0    49.0   \n",
              "1                            Ivysaur     Normal         405.0   60.0    62.0   \n",
              "2                           Venusaur     Normal         525.0   80.0    82.0   \n",
              "3                      Mega Venusaur     Normal         625.0   80.0   100.0   \n",
              "4                         Charmander     Normal         309.0   39.0    52.0   \n",
              "...                              ...        ...           ...    ...     ...   \n",
              "1023     Zacian Hero of Many Battles  Legendary         670.0   92.0   130.0   \n",
              "1024        Zamazenta Crowned Shield  Legendary         720.0   92.0   130.0   \n",
              "1025  Zamazenta Hero of Many Battles  Legendary         670.0   92.0   130.0   \n",
              "1026                       Eternatus  Legendary         690.0  140.0    85.0   \n",
              "1027             Eternatus Eternamax  Legendary        1125.0  255.0   115.0   \n",
              "\n",
              "      defense  sp_attack  sp_defense  speed  \n",
              "0        49.0       65.0        65.0   45.0  \n",
              "1        63.0       80.0        80.0   60.0  \n",
              "2        83.0      100.0       100.0   80.0  \n",
              "3       123.0      122.0       120.0   80.0  \n",
              "4        43.0       60.0        50.0   65.0  \n",
              "...       ...        ...         ...    ...  \n",
              "1023    115.0       80.0       115.0  138.0  \n",
              "1024    145.0       80.0       145.0  128.0  \n",
              "1025    115.0       80.0       115.0  138.0  \n",
              "1026     95.0      145.0        95.0  130.0  \n",
              "1027    250.0      125.0       250.0  130.0  \n",
              "\n",
              "[1028 rows x 9 columns]"
            ]
          },
          "metadata": {
            "tags": []
          },
          "execution_count": 47
        }
      ]
    },
    {
      "cell_type": "markdown",
      "metadata": {
        "id": "m8XdU7WRpMaU"
      },
      "source": [
        "# Probemos los modelos..."
      ]
    },
    {
      "cell_type": "markdown",
      "metadata": {
        "id": "TB5EE77EpMaU"
      },
      "source": [
        "![img](https://img.pokemondb.net/artwork/melmetal.jpg)"
      ]
    },
    {
      "cell_type": "code",
      "metadata": {
        "id": "0fBIID5upMaV"
      },
      "source": [
        "test = np.array([[580.0,90.0,85.0,100.0,95.0,125.0,85.0]])"
      ],
      "execution_count": null,
      "outputs": []
    },
    {
      "cell_type": "markdown",
      "metadata": {
        "id": "FQ6n7NrxpMaX"
      },
      "source": [
        "<img src=\"https://images.gameinfo.io/pokemon/256/493-11.png\" weidth=\"400\"/>"
      ]
    },
    {
      "cell_type": "code",
      "metadata": {
        "id": "oriGtmoNpMaY"
      },
      "source": [
        "test2 = np.array([[720.0,120.0,120.0,120.0,120.0,120.0,120.0]])"
      ],
      "execution_count": null,
      "outputs": []
    },
    {
      "cell_type": "markdown",
      "metadata": {
        "id": "rDZLYdLUpMaa"
      },
      "source": [
        "## ¿Será legendario Melmetal.... y qué tal Arceus?"
      ]
    },
    {
      "cell_type": "code",
      "metadata": {
        "id": "wDs1ykFwpMab"
      },
      "source": [
        ""
      ],
      "execution_count": null,
      "outputs": []
    },
    {
      "cell_type": "markdown",
      "metadata": {
        "id": "yQ_kOD6CpMae"
      },
      "source": [
        "## ¿Será?"
      ]
    },
    {
      "cell_type": "markdown",
      "metadata": {
        "id": "967UJqTLpMaf"
      },
      "source": [
        "# Ejercicio"
      ]
    },
    {
      "cell_type": "markdown",
      "metadata": {
        "id": "BX6Bi9C-pMaf"
      },
      "source": [
        "En esta sección deberán realizar un nuevo dataframe, pero considerando las siguientes características (ojo!, ya no son sólo de tipo normal y legendario...)"
      ]
    },
    {
      "cell_type": "code",
      "metadata": {
        "id": "X2JVYyvQpMag",
        "outputId": "08fd0678-1a87-4318-9d5e-20f5c215026d"
      },
      "source": [
        "pokedex.status.unique()"
      ],
      "execution_count": null,
      "outputs": [
        {
          "output_type": "execute_result",
          "data": {
            "text/plain": [
              "array(['Normal', 'Sub Legendary', 'Legendary', 'Mythical'], dtype=object)"
            ]
          },
          "metadata": {
            "tags": []
          },
          "execution_count": 212
        }
      ]
    },
    {
      "cell_type": "markdown",
      "metadata": {
        "id": "JuoW-SKnpMaj"
      },
      "source": [
        "El objetivo ahora será realizar intercambio de la variable categórica \"Status\" por una nueva que le asigne un número en lugar de texto"
      ]
    },
    {
      "cell_type": "code",
      "metadata": {
        "id": "QJmMugl7pMaj"
      },
      "source": [
        "from sklearn.preprocessing import LabelEncoder\n",
        "lb_make = LabelEncoder()\n",
        "\n",
        "lb_make.fit(pokedex['status'])\n",
        "pokedex['labeled_status'] = lb_make.transform(pokedex['status'])"
      ],
      "execution_count": null,
      "outputs": []
    },
    {
      "cell_type": "markdown",
      "metadata": {
        "id": "MZ2tKVlypMam"
      },
      "source": [
        "Posteriormente, deberán hacer el procedimiento \"normal\" para los siguientes algoritmos\n",
        "* Regresion Logística\n",
        "* SVM (con kernel rbf - Gaussiano o radial)\n",
        "* Decision Tree\n",
        "* Random Forest"
      ]
    },
    {
      "cell_type": "code",
      "metadata": {
        "id": "gBLZLDFUpMam"
      },
      "source": [
        "column_filter = ['total_points', 'hp', 'attack', 'defense', 'sp_attack', 'sp_defense', 'speed']\n",
        "scaler = StandardScaler()\n",
        "\n",
        "X = pokedex[column_filter]\n",
        "y = pokedex['labeled_status']\n",
        "\n",
        "(trainX, testX, trainY, testY) = train_test_split(X, y, random_state=3, test_size=0.25)"
      ],
      "execution_count": null,
      "outputs": []
    },
    {
      "cell_type": "code",
      "metadata": {
        "id": "co4qVBxXpMao",
        "outputId": "1c7a2006-d37c-4807-cf71-6a2effdd073d"
      },
      "source": [
        "regression_model = make_pipeline(scaler, LogisticRegression())\n",
        "\n",
        "regression_model.fit(trainX, trainY)"
      ],
      "execution_count": null,
      "outputs": [
        {
          "output_type": "execute_result",
          "data": {
            "text/plain": [
              "Pipeline(memory=None,\n",
              "         steps=[('standardscaler',\n",
              "                 StandardScaler(copy=True, with_mean=True, with_std=True)),\n",
              "                ('logisticregression',\n",
              "                 LogisticRegression(C=1.0, class_weight=None, dual=False,\n",
              "                                    fit_intercept=True, intercept_scaling=1,\n",
              "                                    l1_ratio=None, max_iter=100,\n",
              "                                    multi_class='auto', n_jobs=None,\n",
              "                                    penalty='l2', random_state=None,\n",
              "                                    solver='lbfgs', tol=0.0001, verbose=0,\n",
              "                                    warm_start=False))],\n",
              "         verbose=False)"
            ]
          },
          "metadata": {
            "tags": []
          },
          "execution_count": 49
        }
      ]
    },
    {
      "cell_type": "code",
      "metadata": {
        "id": "_n5wnfN6pMar",
        "outputId": "21e00941-fe9a-4885-9259-1a1aaf8a88cd"
      },
      "source": [
        "forest_model = make_pipeline(scaler, RandomForestClassifier(max_depth=10))\n",
        "\n",
        "forest_model.fit(trainX, trainY)"
      ],
      "execution_count": null,
      "outputs": [
        {
          "output_type": "execute_result",
          "data": {
            "text/plain": [
              "Pipeline(memory=None,\n",
              "         steps=[('standardscaler',\n",
              "                 StandardScaler(copy=True, with_mean=True, with_std=True)),\n",
              "                ('randomforestclassifier',\n",
              "                 RandomForestClassifier(bootstrap=True, ccp_alpha=0.0,\n",
              "                                        class_weight=None, criterion='gini',\n",
              "                                        max_depth=10, max_features='auto',\n",
              "                                        max_leaf_nodes=None, max_samples=None,\n",
              "                                        min_impurity_decrease=0.0,\n",
              "                                        min_impurity_split=None,\n",
              "                                        min_samples_leaf=1, min_samples_split=2,\n",
              "                                        min_weight_fraction_leaf=0.0,\n",
              "                                        n_estimators=100, n_jobs=None,\n",
              "                                        oob_score=False, random_state=None,\n",
              "                                        verbose=0, warm_start=False))],\n",
              "         verbose=False)"
            ]
          },
          "metadata": {
            "tags": []
          },
          "execution_count": 74
        }
      ]
    },
    {
      "cell_type": "code",
      "metadata": {
        "id": "vcFYaihSpMau",
        "outputId": "870cc0ba-0fef-4ad2-ec11-f193b021f945"
      },
      "source": [
        "tree_model = make_pipeline(scaler, DecisionTreeClassifier())\n",
        "\n",
        "tree_model.fit(trainX, trainY)"
      ],
      "execution_count": null,
      "outputs": [
        {
          "output_type": "execute_result",
          "data": {
            "text/plain": [
              "Pipeline(memory=None,\n",
              "         steps=[('standardscaler',\n",
              "                 StandardScaler(copy=True, with_mean=True, with_std=True)),\n",
              "                ('decisiontreeclassifier',\n",
              "                 DecisionTreeClassifier(ccp_alpha=0.0, class_weight=None,\n",
              "                                        criterion='gini', max_depth=None,\n",
              "                                        max_features=None, max_leaf_nodes=None,\n",
              "                                        min_impurity_decrease=0.0,\n",
              "                                        min_impurity_split=None,\n",
              "                                        min_samples_leaf=1, min_samples_split=2,\n",
              "                                        min_weight_fraction_leaf=0.0,\n",
              "                                        presort='deprecated', random_state=None,\n",
              "                                        splitter='best'))],\n",
              "         verbose=False)"
            ]
          },
          "metadata": {
            "tags": []
          },
          "execution_count": 51
        }
      ]
    },
    {
      "cell_type": "code",
      "metadata": {
        "id": "9FJnAwvApMax",
        "outputId": "146b18e0-c615-4ea8-846a-1763e0856637"
      },
      "source": [
        "svc_model = make_pipeline(scaler, SVC(kernel='linear'))\n",
        "\n",
        "svc_model.fit(trainX, trainY)"
      ],
      "execution_count": null,
      "outputs": [
        {
          "output_type": "execute_result",
          "data": {
            "text/plain": [
              "Pipeline(memory=None,\n",
              "         steps=[('standardscaler',\n",
              "                 StandardScaler(copy=True, with_mean=True, with_std=True)),\n",
              "                ('svc',\n",
              "                 SVC(C=1.0, break_ties=False, cache_size=200, class_weight=None,\n",
              "                     coef0=0.0, decision_function_shape='ovr', degree=3,\n",
              "                     gamma='scale', kernel='linear', max_iter=-1,\n",
              "                     probability=False, random_state=None, shrinking=True,\n",
              "                     tol=0.001, verbose=False))],\n",
              "         verbose=False)"
            ]
          },
          "metadata": {
            "tags": []
          },
          "execution_count": 52
        }
      ]
    },
    {
      "cell_type": "markdown",
      "metadata": {
        "id": "XTllbAbEpMa0"
      },
      "source": [
        "## ¿Cuál de los algoritmos podrá decir cual es el tipo correcto de los dos pokemon?"
      ]
    },
    {
      "cell_type": "markdown",
      "metadata": {
        "id": "xQFIGX-TpMa1"
      },
      "source": [
        "### Impriman los Accuracy de la siguiente manera para cada modelo"
      ]
    },
    {
      "cell_type": "code",
      "metadata": {
        "id": "UUlZgGuxpMa1",
        "outputId": "5869dac0-e75d-47e5-893f-e8cef80e033d"
      },
      "source": [
        "pd.DataFrame({\"Modelo\":[\"LogisticRegression\", \"RandomForest\", \"DecisionTree\", \"SVC\"], \n",
        "              \"Accurancy on Train\":[regression_model.score(trainX, trainY), forest_model.score(trainX, trainY), tree_model.score(trainX, trainY), svc_model.score(trainX, trainY)],\n",
        "              \"Accurancy on Test\":[regression_model.score(testX, testY), forest_model.score(testX, testY), tree_model.score(testX, testY), svc_model.score(testX, testY)]})"
      ],
      "execution_count": null,
      "outputs": [
        {
          "output_type": "execute_result",
          "data": {
            "text/html": [
              "<div>\n",
              "<style scoped>\n",
              "    .dataframe tbody tr th:only-of-type {\n",
              "        vertical-align: middle;\n",
              "    }\n",
              "\n",
              "    .dataframe tbody tr th {\n",
              "        vertical-align: top;\n",
              "    }\n",
              "\n",
              "    .dataframe thead th {\n",
              "        text-align: right;\n",
              "    }\n",
              "</style>\n",
              "<table border=\"1\" class=\"dataframe\">\n",
              "  <thead>\n",
              "    <tr style=\"text-align: right;\">\n",
              "      <th></th>\n",
              "      <th>Modelo</th>\n",
              "      <th>Accurancy on Train</th>\n",
              "      <th>Accurancy on Test</th>\n",
              "    </tr>\n",
              "  </thead>\n",
              "  <tbody>\n",
              "    <tr>\n",
              "      <th>0</th>\n",
              "      <td>LogisticRegression</td>\n",
              "      <td>0.914397</td>\n",
              "      <td>0.926070</td>\n",
              "    </tr>\n",
              "    <tr>\n",
              "      <th>1</th>\n",
              "      <td>RandomForest</td>\n",
              "      <td>0.974060</td>\n",
              "      <td>0.941634</td>\n",
              "    </tr>\n",
              "    <tr>\n",
              "      <th>2</th>\n",
              "      <td>DecisionTree</td>\n",
              "      <td>1.000000</td>\n",
              "      <td>0.953307</td>\n",
              "    </tr>\n",
              "    <tr>\n",
              "      <th>3</th>\n",
              "      <td>SVC</td>\n",
              "      <td>0.915694</td>\n",
              "      <td>0.922179</td>\n",
              "    </tr>\n",
              "  </tbody>\n",
              "</table>\n",
              "</div>"
            ],
            "text/plain": [
              "               Modelo  Accurancy on Train  Accurancy on Test\n",
              "0  LogisticRegression            0.914397           0.926070\n",
              "1        RandomForest            0.974060           0.941634\n",
              "2        DecisionTree            1.000000           0.953307\n",
              "3                 SVC            0.915694           0.922179"
            ]
          },
          "metadata": {
            "tags": []
          },
          "execution_count": 63
        }
      ]
    },
    {
      "cell_type": "markdown",
      "metadata": {
        "id": "x5LwLIm_pMa4"
      },
      "source": [
        "### Probemos ahora los modelos!"
      ]
    },
    {
      "cell_type": "code",
      "metadata": {
        "id": "_8kaDGAOpMa4",
        "outputId": "c372b96b-efe3-47de-e367-ee30c9579323"
      },
      "source": [
        "concated_test = np.vstack((test, test2))\n",
        "concated_test"
      ],
      "execution_count": null,
      "outputs": [
        {
          "output_type": "execute_result",
          "data": {
            "text/plain": [
              "array([[580.,  90.,  85., 100.,  95., 125.,  85.],\n",
              "       [720., 120., 120., 120., 120., 120., 120.]])"
            ]
          },
          "metadata": {
            "tags": []
          },
          "execution_count": 64
        }
      ]
    },
    {
      "cell_type": "code",
      "metadata": {
        "id": "nNAMnWclpMa7"
      },
      "source": [
        "reg_y = regression_model.predict(concated_test)\n",
        "forest_y = forest_model.predict(concated_test)\n",
        "tree_y = tree_model.predict(concated_test)\n",
        "svc_y = svc_model.predict(concated_test)"
      ],
      "execution_count": null,
      "outputs": []
    },
    {
      "cell_type": "code",
      "metadata": {
        "id": "aAmu-GVspMa9",
        "outputId": "642b6344-25c9-49c2-b74b-ccd4db124a61"
      },
      "source": [
        "pokedex['status'].unique()"
      ],
      "execution_count": null,
      "outputs": [
        {
          "output_type": "execute_result",
          "data": {
            "text/plain": [
              "array(['Normal', 'Sub Legendary', 'Legendary', 'Mythical'], dtype=object)"
            ]
          },
          "metadata": {
            "tags": []
          },
          "execution_count": 59
        }
      ]
    },
    {
      "cell_type": "code",
      "metadata": {
        "id": "H75PubzLpMa_",
        "outputId": "120407bd-2ed3-468c-d14c-519917bc93db"
      },
      "source": [
        "pokedex['labeled_status'].unique()"
      ],
      "execution_count": null,
      "outputs": [
        {
          "output_type": "execute_result",
          "data": {
            "text/plain": [
              "array([2, 3, 0, 1])"
            ]
          },
          "metadata": {
            "tags": []
          },
          "execution_count": 80
        }
      ]
    },
    {
      "cell_type": "code",
      "metadata": {
        "id": "SGgM4VjZpMbB",
        "outputId": "bb5646ac-aa24-48a2-bec5-9d062bd67f4e"
      },
      "source": [
        "pd.DataFrame({\"Modelo\":[\"LogisticRegression\", \"RandomForest\", \"DecisionTree\", \"SVC\"], \n",
        "              \"Melmetal\":[reg_y[0], forest_y[0], tree_y[0], svc_y[0]],\n",
        "              \"Arceus\":[reg_y[1], forest_y[1], tree_y[1], svc_y[1]]})"
      ],
      "execution_count": null,
      "outputs": [
        {
          "output_type": "execute_result",
          "data": {
            "text/html": [
              "<div>\n",
              "<style scoped>\n",
              "    .dataframe tbody tr th:only-of-type {\n",
              "        vertical-align: middle;\n",
              "    }\n",
              "\n",
              "    .dataframe tbody tr th {\n",
              "        vertical-align: top;\n",
              "    }\n",
              "\n",
              "    .dataframe thead th {\n",
              "        text-align: right;\n",
              "    }\n",
              "</style>\n",
              "<table border=\"1\" class=\"dataframe\">\n",
              "  <thead>\n",
              "    <tr style=\"text-align: right;\">\n",
              "      <th></th>\n",
              "      <th>Modelo</th>\n",
              "      <th>Melmetal</th>\n",
              "      <th>Arceus</th>\n",
              "    </tr>\n",
              "  </thead>\n",
              "  <tbody>\n",
              "    <tr>\n",
              "      <th>0</th>\n",
              "      <td>LogisticRegression</td>\n",
              "      <td>2</td>\n",
              "      <td>0</td>\n",
              "    </tr>\n",
              "    <tr>\n",
              "      <th>1</th>\n",
              "      <td>RandomForest</td>\n",
              "      <td>3</td>\n",
              "      <td>1</td>\n",
              "    </tr>\n",
              "    <tr>\n",
              "      <th>2</th>\n",
              "      <td>DecisionTree</td>\n",
              "      <td>3</td>\n",
              "      <td>1</td>\n",
              "    </tr>\n",
              "    <tr>\n",
              "      <th>3</th>\n",
              "      <td>SVC</td>\n",
              "      <td>2</td>\n",
              "      <td>0</td>\n",
              "    </tr>\n",
              "  </tbody>\n",
              "</table>\n",
              "</div>"
            ],
            "text/plain": [
              "               Modelo  Melmetal  Arceus\n",
              "0  LogisticRegression         2       0\n",
              "1        RandomForest         3       1\n",
              "2        DecisionTree         3       1\n",
              "3                 SVC         2       0"
            ]
          },
          "metadata": {
            "tags": []
          },
          "execution_count": 76
        }
      ]
    },
    {
      "cell_type": "markdown",
      "metadata": {
        "id": "LeBxT9M7pMbG"
      },
      "source": [
        "### ¿Alguno mejora si aplicamos CV?"
      ]
    },
    {
      "cell_type": "markdown",
      "metadata": {
        "id": "JfOYdf75pMbH"
      },
      "source": [
        "Si, los conjuntos de datos de pokemones miticos, legendarios y sublegendarios tienen pocos datos y el cross validation le da una capa extra de validacion."
      ]
    },
    {
      "cell_type": "code",
      "metadata": {
        "id": "73f3kQkRpMbI"
      },
      "source": [
        "column_filter = ['labeled_status', 'total_points', 'hp', 'attack', 'defense', 'sp_attack', 'sp_defense', 'speed']\n",
        "features = ['total_points', 'hp', 'attack', 'defense', 'sp_attack', 'sp_defense', 'speed']\n",
        "filtered_pokedex = pokedex[column_filter]"
      ],
      "execution_count": null,
      "outputs": []
    },
    {
      "cell_type": "code",
      "metadata": {
        "id": "3Zb7EozZpMbL",
        "outputId": "2f7aac7b-b2ef-48f2-cd6e-dfc613cd6c3d"
      },
      "source": [
        "from sklearn.model_selection import KFold\n",
        "kf = KFold(n_splits=5, shuffle=True, random_state=123)\n",
        "i = 1\n",
        "for train_index, test_index in kf.split(filtered_pokedex):\n",
        "    X_train = filtered_pokedex.iloc[train_index].loc[:, features]\n",
        "    X_test = filtered_pokedex.iloc[test_index][features]\n",
        "    y_train = filtered_pokedex.iloc[train_index].loc[:,'labeled_status']\n",
        "    y_test = filtered_pokedex.loc[test_index]['labeled_status']\n",
        "        \n",
        "    #Train the model\n",
        "    regression_model.fit(X_train, y_train) #Training the model\n",
        "    forest_model.fit(X_train, y_train)\n",
        "    tree_model.fit(X_train, y_train)\n",
        "    svc_model.fit(X_train, y_train)\n",
        "    print(f\"Regression Accuracy for the fold no. {i} on the test set: {accuracy_score(y_test, regression_model.predict(X_test))}\")\n",
        "    print(f\"Forest Accuracy for the fold no. {i} on the test set: {accuracy_score(y_test, forest_model.predict(X_test))}\")\n",
        "    print(f\"Tree Accuracy for the fold no. {i} on the test set: {accuracy_score(y_test, tree_model.predict(X_test))}\")\n",
        "    print(f\"SVC Accuracy for the fold no. {i} on the test set: {accuracy_score(y_test, svc_model.predict(X_test))}\")\n",
        "    i += 1"
      ],
      "execution_count": null,
      "outputs": [
        {
          "output_type": "stream",
          "text": [
            "Regression Accuracy for the fold no. 1 on the test set: 0.9077669902912622\n",
            "Forest Accuracy for the fold no. 1 on the test set: 0.9368932038834952\n",
            "Tree Accuracy for the fold no. 1 on the test set: 0.9466019417475728\n",
            "SVC Accuracy for the fold no. 1 on the test set: 0.9077669902912622\n",
            "Regression Accuracy for the fold no. 2 on the test set: 0.8883495145631068\n",
            "Forest Accuracy for the fold no. 2 on the test set: 0.912621359223301\n",
            "Tree Accuracy for the fold no. 2 on the test set: 0.9029126213592233\n",
            "SVC Accuracy for the fold no. 2 on the test set: 0.883495145631068\n",
            "Regression Accuracy for the fold no. 3 on the test set: 0.9174757281553398\n",
            "Forest Accuracy for the fold no. 3 on the test set: 0.9660194174757282\n",
            "Tree Accuracy for the fold no. 3 on the test set: 0.9368932038834952\n",
            "SVC Accuracy for the fold no. 3 on the test set: 0.9271844660194175\n",
            "Regression Accuracy for the fold no. 4 on the test set: 0.9219512195121952\n",
            "Forest Accuracy for the fold no. 4 on the test set: 0.9463414634146341\n",
            "Tree Accuracy for the fold no. 4 on the test set: 0.926829268292683\n",
            "SVC Accuracy for the fold no. 4 on the test set: 0.926829268292683\n",
            "Regression Accuracy for the fold no. 5 on the test set: 0.9365853658536586\n",
            "Forest Accuracy for the fold no. 5 on the test set: 0.9658536585365853\n",
            "Tree Accuracy for the fold no. 5 on the test set: 0.9317073170731708\n",
            "SVC Accuracy for the fold no. 5 on the test set: 0.9365853658536586\n"
          ],
          "name": "stdout"
        }
      ]
    },
    {
      "cell_type": "code",
      "metadata": {
        "id": "nHxk_ukxpMbP"
      },
      "source": [
        "cv_reg_y = regression_model.predict(concated_test)\n",
        "cv_forest_y = forest_model.predict(concated_test)\n",
        "cv_tree_y = tree_model.predict(concated_test)\n",
        "cv_svc_y = svc_model.predict(concated_test)"
      ],
      "execution_count": null,
      "outputs": []
    },
    {
      "cell_type": "code",
      "metadata": {
        "id": "sA3xvQ9ApMbS",
        "outputId": "c47ad5bd-564d-403a-c1d2-7d8116df1270"
      },
      "source": [
        "pd.DataFrame({\"Modelo\":[\"LogisticRegression\", \"RandomForest\", \"DecisionTree\", \"SVC\"], \n",
        "              \"Melmetal\":[cv_reg_y[0], cv_forest_y[0], cv_tree_y[0], cv_svc_y[0]],\n",
        "              \"Arceus\":[cv_reg_y[1], cv_forest_y[1], cv_tree_y[1], cv_svc_y[1]]})"
      ],
      "execution_count": null,
      "outputs": [
        {
          "output_type": "execute_result",
          "data": {
            "text/html": [
              "<div>\n",
              "<style scoped>\n",
              "    .dataframe tbody tr th:only-of-type {\n",
              "        vertical-align: middle;\n",
              "    }\n",
              "\n",
              "    .dataframe tbody tr th {\n",
              "        vertical-align: top;\n",
              "    }\n",
              "\n",
              "    .dataframe thead th {\n",
              "        text-align: right;\n",
              "    }\n",
              "</style>\n",
              "<table border=\"1\" class=\"dataframe\">\n",
              "  <thead>\n",
              "    <tr style=\"text-align: right;\">\n",
              "      <th></th>\n",
              "      <th>Modelo</th>\n",
              "      <th>Melmetal</th>\n",
              "      <th>Arceus</th>\n",
              "    </tr>\n",
              "  </thead>\n",
              "  <tbody>\n",
              "    <tr>\n",
              "      <th>0</th>\n",
              "      <td>LogisticRegression</td>\n",
              "      <td>2</td>\n",
              "      <td>0</td>\n",
              "    </tr>\n",
              "    <tr>\n",
              "      <th>1</th>\n",
              "      <td>RandomForest</td>\n",
              "      <td>3</td>\n",
              "      <td>1</td>\n",
              "    </tr>\n",
              "    <tr>\n",
              "      <th>2</th>\n",
              "      <td>DecisionTree</td>\n",
              "      <td>3</td>\n",
              "      <td>1</td>\n",
              "    </tr>\n",
              "    <tr>\n",
              "      <th>3</th>\n",
              "      <td>SVC</td>\n",
              "      <td>2</td>\n",
              "      <td>0</td>\n",
              "    </tr>\n",
              "  </tbody>\n",
              "</table>\n",
              "</div>"
            ],
            "text/plain": [
              "               Modelo  Melmetal  Arceus\n",
              "0  LogisticRegression         2       0\n",
              "1        RandomForest         3       1\n",
              "2        DecisionTree         3       1\n",
              "3                 SVC         2       0"
            ]
          },
          "metadata": {
            "tags": []
          },
          "execution_count": 97
        }
      ]
    },
    {
      "cell_type": "markdown",
      "metadata": {
        "id": "f-PU7ZoBpMbW"
      },
      "source": [
        "# Recordemos que estamos ante un problema de desbalance de clases muy intenso!"
      ]
    },
    {
      "cell_type": "code",
      "metadata": {
        "id": "MoHY_3e8pMbX",
        "outputId": "f42e20d1-1f32-4918-bafe-be00cdb2bec6"
      },
      "source": [
        ""
      ],
      "execution_count": null,
      "outputs": [
        {
          "output_type": "execute_result",
          "data": {
            "text/html": [
              "<div>\n",
              "<style scoped>\n",
              "    .dataframe tbody tr th:only-of-type {\n",
              "        vertical-align: middle;\n",
              "    }\n",
              "\n",
              "    .dataframe tbody tr th {\n",
              "        vertical-align: top;\n",
              "    }\n",
              "\n",
              "    .dataframe thead th {\n",
              "        text-align: right;\n",
              "    }\n",
              "</style>\n",
              "<table border=\"1\" class=\"dataframe\">\n",
              "  <thead>\n",
              "    <tr style=\"text-align: right;\">\n",
              "      <th></th>\n",
              "      <th>count</th>\n",
              "      <th>mean</th>\n",
              "      <th>std</th>\n",
              "      <th>min</th>\n",
              "      <th>25%</th>\n",
              "      <th>50%</th>\n",
              "      <th>75%</th>\n",
              "      <th>max</th>\n",
              "    </tr>\n",
              "    <tr>\n",
              "      <th>status</th>\n",
              "      <th></th>\n",
              "      <th></th>\n",
              "      <th></th>\n",
              "      <th></th>\n",
              "      <th></th>\n",
              "      <th></th>\n",
              "      <th></th>\n",
              "      <th></th>\n",
              "    </tr>\n",
              "  </thead>\n",
              "  <tbody>\n",
              "    <tr>\n",
              "      <th>Legendary</th>\n",
              "      <td>39.0</td>\n",
              "      <td>5.128205</td>\n",
              "      <td>2.202624</td>\n",
              "      <td>1.0</td>\n",
              "      <td>3.0</td>\n",
              "      <td>5.0</td>\n",
              "      <td>7.0</td>\n",
              "      <td>8.0</td>\n",
              "    </tr>\n",
              "    <tr>\n",
              "      <th>Mythical</th>\n",
              "      <td>29.0</td>\n",
              "      <td>4.724138</td>\n",
              "      <td>1.623412</td>\n",
              "      <td>1.0</td>\n",
              "      <td>4.0</td>\n",
              "      <td>5.0</td>\n",
              "      <td>6.0</td>\n",
              "      <td>7.0</td>\n",
              "    </tr>\n",
              "    <tr>\n",
              "      <th>Normal</th>\n",
              "      <td>915.0</td>\n",
              "      <td>3.925683</td>\n",
              "      <td>2.242163</td>\n",
              "      <td>1.0</td>\n",
              "      <td>2.0</td>\n",
              "      <td>4.0</td>\n",
              "      <td>5.0</td>\n",
              "      <td>8.0</td>\n",
              "    </tr>\n",
              "    <tr>\n",
              "      <th>Sub Legendary</th>\n",
              "      <td>45.0</td>\n",
              "      <td>4.844444</td>\n",
              "      <td>1.999495</td>\n",
              "      <td>1.0</td>\n",
              "      <td>3.0</td>\n",
              "      <td>5.0</td>\n",
              "      <td>7.0</td>\n",
              "      <td>7.0</td>\n",
              "    </tr>\n",
              "  </tbody>\n",
              "</table>\n",
              "</div>"
            ],
            "text/plain": [
              "               count      mean       std  min  25%  50%  75%  max\n",
              "status                                                           \n",
              "Legendary       39.0  5.128205  2.202624  1.0  3.0  5.0  7.0  8.0\n",
              "Mythical        29.0  4.724138  1.623412  1.0  4.0  5.0  6.0  7.0\n",
              "Normal         915.0  3.925683  2.242163  1.0  2.0  4.0  5.0  8.0\n",
              "Sub Legendary   45.0  4.844444  1.999495  1.0  3.0  5.0  7.0  7.0"
            ]
          },
          "metadata": {
            "tags": []
          },
          "execution_count": 249
        }
      ]
    },
    {
      "cell_type": "code",
      "metadata": {
        "id": "ad7vcjfapMbZ",
        "outputId": "1a3ac7dc-2759-4366-928a-3da74f7fd9b0"
      },
      "source": [
        "pivoted_table = pokedex.pivot_table(index=['status'])\n",
        "pivoted_table"
      ],
      "execution_count": null,
      "outputs": [
        {
          "output_type": "execute_result",
          "data": {
            "text/html": [
              "<div>\n",
              "<style scoped>\n",
              "    .dataframe tbody tr th:only-of-type {\n",
              "        vertical-align: middle;\n",
              "    }\n",
              "\n",
              "    .dataframe tbody tr th {\n",
              "        vertical-align: top;\n",
              "    }\n",
              "\n",
              "    .dataframe thead th {\n",
              "        text-align: right;\n",
              "    }\n",
              "</style>\n",
              "<table border=\"1\" class=\"dataframe\">\n",
              "  <thead>\n",
              "    <tr style=\"text-align: right;\">\n",
              "      <th></th>\n",
              "      <th>abilities_number</th>\n",
              "      <th>against_bug</th>\n",
              "      <th>against_dark</th>\n",
              "      <th>against_dragon</th>\n",
              "      <th>against_electric</th>\n",
              "      <th>against_fairy</th>\n",
              "      <th>against_fight</th>\n",
              "      <th>against_fire</th>\n",
              "      <th>against_flying</th>\n",
              "      <th>against_ghost</th>\n",
              "      <th>...</th>\n",
              "      <th>labeled_status</th>\n",
              "      <th>labeles_status</th>\n",
              "      <th>percentage_male</th>\n",
              "      <th>pokedex_number</th>\n",
              "      <th>sp_attack</th>\n",
              "      <th>sp_defense</th>\n",
              "      <th>speed</th>\n",
              "      <th>total_points</th>\n",
              "      <th>type_number</th>\n",
              "      <th>weight_kg</th>\n",
              "    </tr>\n",
              "    <tr>\n",
              "      <th>status</th>\n",
              "      <th></th>\n",
              "      <th></th>\n",
              "      <th></th>\n",
              "      <th></th>\n",
              "      <th></th>\n",
              "      <th></th>\n",
              "      <th></th>\n",
              "      <th></th>\n",
              "      <th></th>\n",
              "      <th></th>\n",
              "      <th></th>\n",
              "      <th></th>\n",
              "      <th></th>\n",
              "      <th></th>\n",
              "      <th></th>\n",
              "      <th></th>\n",
              "      <th></th>\n",
              "      <th></th>\n",
              "      <th></th>\n",
              "      <th></th>\n",
              "      <th></th>\n",
              "    </tr>\n",
              "  </thead>\n",
              "  <tbody>\n",
              "    <tr>\n",
              "      <th>Legendary</th>\n",
              "      <td>1.179487</td>\n",
              "      <td>0.929487</td>\n",
              "      <td>1.307692</td>\n",
              "      <td>1.294872</td>\n",
              "      <td>0.839744</td>\n",
              "      <td>1.346154</td>\n",
              "      <td>0.826923</td>\n",
              "      <td>0.846154</td>\n",
              "      <td>0.987179</td>\n",
              "      <td>1.397436</td>\n",
              "      <td>...</td>\n",
              "      <td>0</td>\n",
              "      <td>0</td>\n",
              "      <td>NaN</td>\n",
              "      <td>607.589744</td>\n",
              "      <td>122.538462</td>\n",
              "      <td>110.615385</td>\n",
              "      <td>101.025641</td>\n",
              "      <td>679.564103</td>\n",
              "      <td>1.717949</td>\n",
              "      <td>381.386842</td>\n",
              "    </tr>\n",
              "    <tr>\n",
              "      <th>Mythical</th>\n",
              "      <td>1.000000</td>\n",
              "      <td>1.275862</td>\n",
              "      <td>1.293103</td>\n",
              "      <td>0.827586</td>\n",
              "      <td>1.103448</td>\n",
              "      <td>1.086207</td>\n",
              "      <td>0.965517</td>\n",
              "      <td>1.198276</td>\n",
              "      <td>1.120690</td>\n",
              "      <td>1.293103</td>\n",
              "      <td>...</td>\n",
              "      <td>1</td>\n",
              "      <td>1</td>\n",
              "      <td>NaN</td>\n",
              "      <td>573.689655</td>\n",
              "      <td>113.793103</td>\n",
              "      <td>95.172414</td>\n",
              "      <td>101.241379</td>\n",
              "      <td>594.482759</td>\n",
              "      <td>1.551724</td>\n",
              "      <td>86.824138</td>\n",
              "    </tr>\n",
              "    <tr>\n",
              "      <th>Normal</th>\n",
              "      <td>2.416393</td>\n",
              "      <td>0.990437</td>\n",
              "      <td>1.046448</td>\n",
              "      <td>0.966667</td>\n",
              "      <td>1.044262</td>\n",
              "      <td>1.071585</td>\n",
              "      <td>1.096175</td>\n",
              "      <td>1.136885</td>\n",
              "      <td>1.179508</td>\n",
              "      <td>0.978689</td>\n",
              "      <td>...</td>\n",
              "      <td>2</td>\n",
              "      <td>2</td>\n",
              "      <td>54.759615</td>\n",
              "      <td>419.295082</td>\n",
              "      <td>67.722404</td>\n",
              "      <td>68.518033</td>\n",
              "      <td>64.937705</td>\n",
              "      <td>415.209836</td>\n",
              "      <td>1.513661</td>\n",
              "      <td>51.715082</td>\n",
              "    </tr>\n",
              "    <tr>\n",
              "      <th>Sub Legendary</th>\n",
              "      <td>1.377778</td>\n",
              "      <td>0.905556</td>\n",
              "      <td>1.100000</td>\n",
              "      <td>0.977778</td>\n",
              "      <td>0.955556</td>\n",
              "      <td>1.127778</td>\n",
              "      <td>1.016667</td>\n",
              "      <td>1.088889</td>\n",
              "      <td>1.083333</td>\n",
              "      <td>1.144444</td>\n",
              "      <td>...</td>\n",
              "      <td>3</td>\n",
              "      <td>3</td>\n",
              "      <td>70.833333</td>\n",
              "      <td>577.311111</td>\n",
              "      <td>104.977778</td>\n",
              "      <td>97.422222</td>\n",
              "      <td>92.422222</td>\n",
              "      <td>581.422222</td>\n",
              "      <td>1.622222</td>\n",
              "      <td>162.382222</td>\n",
              "    </tr>\n",
              "  </tbody>\n",
              "</table>\n",
              "<p>4 rows × 39 columns</p>\n",
              "</div>"
            ],
            "text/plain": [
              "               abilities_number  against_bug  against_dark  against_dragon  \\\n",
              "status                                                                       \n",
              "Legendary              1.179487     0.929487      1.307692        1.294872   \n",
              "Mythical               1.000000     1.275862      1.293103        0.827586   \n",
              "Normal                 2.416393     0.990437      1.046448        0.966667   \n",
              "Sub Legendary          1.377778     0.905556      1.100000        0.977778   \n",
              "\n",
              "               against_electric  against_fairy  against_fight  against_fire  \\\n",
              "status                                                                        \n",
              "Legendary              0.839744       1.346154       0.826923      0.846154   \n",
              "Mythical               1.103448       1.086207       0.965517      1.198276   \n",
              "Normal                 1.044262       1.071585       1.096175      1.136885   \n",
              "Sub Legendary          0.955556       1.127778       1.016667      1.088889   \n",
              "\n",
              "               against_flying  against_ghost  ...  labeled_status  \\\n",
              "status                                        ...                   \n",
              "Legendary            0.987179       1.397436  ...               0   \n",
              "Mythical             1.120690       1.293103  ...               1   \n",
              "Normal               1.179508       0.978689  ...               2   \n",
              "Sub Legendary        1.083333       1.144444  ...               3   \n",
              "\n",
              "               labeles_status  percentage_male  pokedex_number   sp_attack  \\\n",
              "status                                                                       \n",
              "Legendary                   0              NaN      607.589744  122.538462   \n",
              "Mythical                    1              NaN      573.689655  113.793103   \n",
              "Normal                      2        54.759615      419.295082   67.722404   \n",
              "Sub Legendary               3        70.833333      577.311111  104.977778   \n",
              "\n",
              "               sp_defense       speed  total_points  type_number   weight_kg  \n",
              "status                                                                        \n",
              "Legendary      110.615385  101.025641    679.564103     1.717949  381.386842  \n",
              "Mythical        95.172414  101.241379    594.482759     1.551724   86.824138  \n",
              "Normal          68.518033   64.937705    415.209836     1.513661   51.715082  \n",
              "Sub Legendary   97.422222   92.422222    581.422222     1.622222  162.382222  \n",
              "\n",
              "[4 rows x 39 columns]"
            ]
          },
          "metadata": {
            "tags": []
          },
          "execution_count": 105
        }
      ]
    },
    {
      "cell_type": "code",
      "metadata": {
        "id": "aS_niYuYpMbb"
      },
      "source": [
        ""
      ],
      "execution_count": null,
      "outputs": []
    }
  ]
}